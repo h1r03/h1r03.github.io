{
 "cells": [
  {
   "cell_type": "markdown",
   "metadata": {},
   "source": [
    "# Goal\n",
    "This post aims to break down the module [`dtreeviz`](https://github.com/parrt/dtreeviz) module step by step to fully understand what is implemented. After fully understanding this, I would like to contribute to this module and submit a pull request. \n",
    "\n",
    "I really like this module and would like to see this works for other tree-based modules like XGBoost or Lightgbm. I found [the exact same issue (issues 15)](https://github.com/parrt/dtreeviz/issues/15) in github so I hope I could contribute to this issue.\n",
    "\n",
    "This post is the 2nd part of the process of breaking down `ShadowDecTree`. \n",
    "\n",
    "**Reference**\n",
    "* [Github dtreeviz](https://github.com/parrt/dtreeviz)\n",
    "* [Step by Step Data Science - Split-Up: dtreeviz (Part 1)](https://h1ros.github.io/posts/split-up-dtreeviz-part-1/)\n",
    "* [Scikit-Learn - Tree](https://scikit-learn.org/stable/modules/tree.html)\n",
    " "
   ]
  },
  {
   "cell_type": "markdown",
   "metadata": {},
   "source": [
    "# `ShadowDecTree` class"
   ]
  },
  {
   "cell_type": "markdown",
   "metadata": {},
   "source": [
    "## Source [github](https://github.com/parrt/dtreeviz/blob/master/dtreeviz/shadow.py)\n",
    "\n"
   ]
  },
  {
   "cell_type": "code",
   "execution_count": 109,
   "metadata": {
    "ExecuteTime": {
     "end_time": "2019-07-18T15:21:49.389641Z",
     "start_time": "2019-07-18T15:21:49.344579Z"
    }
   },
   "outputs": [],
   "source": [
    "import numpy as np\n",
    "import pandas as pd\n",
    "from collections import defaultdict, Sequence\n",
    "from typing import Mapping, List, Tuple\n",
    "from numbers import Number\n",
    "from sklearn.utils import compute_class_weight\n",
    "from dtreeviz.shadow import ShadowDecTreeNode \n",
    "\n",
    "\n",
    "class ShadowDecTree:\n",
    "    \"\"\"\n",
    "    The decision trees for classifiers and regressors from scikit-learn\n",
    "    are built for efficiency, not ease of tree walking. This class\n",
    "    is intended as a way to wrap all of that information in an easy to use\n",
    "    package.\n",
    "    This tree shadows a decision tree as constructed by scikit-learn's\n",
    "    DecisionTree(Regressor|Classifier).  As part of build process, the\n",
    "    samples considered at each decision node or at each leaf node are\n",
    "    saved as a big dictionary for use by the nodes.\n",
    "    Field leaves is list of shadow leaf nodes. Field internal is list of\n",
    "    shadow non-leaf nodes.\n",
    "    Field root is the shadow tree root.\n",
    "    Parameters\n",
    "    ----------\n",
    "    class_names : (List[str],Mapping[int,str]). A mapping from target value\n",
    "                  to target class name. If you pass in a list of strings,\n",
    "                  target value i must be associated with class name[i]. You\n",
    "                  can also pass in a dict that maps value to name.\n",
    "    \"\"\"\n",
    "    def __init__(self, tree_model,\n",
    "                 X_train,\n",
    "                 y_train,\n",
    "                 feature_names : List[str],\n",
    "                 class_names : (List[str],Mapping[int,str])=None):\n",
    "        self.tree_model = tree_model\n",
    "        self.feature_names = feature_names\n",
    "        self.class_names = class_names\n",
    "        self.class_weight = tree_model.class_weight\n",
    "\n",
    "        if getattr(tree_model, 'tree_') is None: # make sure model is fit\n",
    "            tree_model.fit(X_train, y_train)\n",
    "\n",
    "        if tree_model.tree_.n_classes > 1:\n",
    "            if isinstance(self.class_names, dict):\n",
    "                self.class_names = self.class_names\n",
    "            elif isinstance(self.class_names, Sequence):\n",
    "                self.class_names = {i:n for i, n in enumerate(self.class_names)}\n",
    "            else:\n",
    "                raise Exception(f\"class_names must be dict or sequence, not {self.class_names.__class__.__name__}\")\n",
    "\n",
    "        if isinstance(X_train, pd.DataFrame):\n",
    "            X_train = X_train.values\n",
    "        self.X_train = X_train\n",
    "        if isinstance(y_train, pd.Series):\n",
    "            y_train = y_train.values\n",
    "        self.y_train = y_train\n",
    "        self.node_to_samples = ShadowDecTree.node_samples(tree_model, X_train)\n",
    "        if self.isclassifier():\n",
    "            self.unique_target_values = np.unique(y_train)\n",
    "            self.class_weights = compute_class_weight(tree_model.class_weight, self.unique_target_values, self.y_train)\n",
    "\n",
    "        tree = tree_model.tree_\n",
    "        children_left = tree.children_left\n",
    "        children_right = tree.children_right\n",
    "\n",
    "        # use locals not args to walk() for recursion speed in python\n",
    "        leaves = []\n",
    "        internal = [] # non-leaf nodes\n",
    "\n",
    "        def walk(node_id):\n",
    "            if (children_left[node_id] == -1 and children_right[node_id] == -1):  # leaf\n",
    "                t = ShadowDecTreeNode(self, node_id)\n",
    "                leaves.append(t)\n",
    "                return t\n",
    "            else:  # decision node\n",
    "                left = walk(children_left[node_id])\n",
    "                right = walk(children_right[node_id])\n",
    "                t = ShadowDecTreeNode(self, node_id, left, right)\n",
    "                internal.append(t)\n",
    "                return t\n",
    "\n",
    "        root_node_id = 0\n",
    "        # record root to actual shadow nodes\n",
    "        self.root = walk(root_node_id)\n",
    "        self.leaves = leaves\n",
    "        self.internal = internal\n",
    "\n",
    "    def nclasses(self):\n",
    "        return self.tree_model.tree_.n_classes[0]\n",
    "\n",
    "    def nnodes(self) -> int:\n",
    "        \"Return total nodes in the tree\"\n",
    "        return self.tree_model.tree_.node_count\n",
    "\n",
    "    def leaf_sample_counts(self) -> List[int]:\n",
    "        return [self.tree_model.tree_.n_node_samples[leaf.id] for leaf in self.leaves]\n",
    "\n",
    "    def isclassifier(self):\n",
    "        return self.tree_model.tree_.n_classes > 1\n",
    "\n",
    "    def get_split_node_heights(self, X_train, y_train, nbins) -> Mapping[int,int]:\n",
    "        class_values = self.unique_target_values\n",
    "        node_heights = {}\n",
    "        # print(f\"Goal {nbins} bins\")\n",
    "        for node in self.internal:\n",
    "            # print(node.feature_name(), node.id)\n",
    "            X_feature = X_train[:, node.feature()]\n",
    "            overall_feature_range = (np.min(X_feature), np.max(X_feature))\n",
    "            # print(f\"range {overall_feature_range}\")\n",
    "            r = overall_feature_range[1] - overall_feature_range[0]\n",
    "\n",
    "            bins = np.linspace(overall_feature_range[0],\n",
    "                               overall_feature_range[1], nbins+1)\n",
    "            # bins = np.arange(overall_feature_range[0],\n",
    "            #                  overall_feature_range[1] + binwidth, binwidth)\n",
    "            # print(f\"\\tlen(bins)={len(bins):2d} bins={bins}\")\n",
    "            X, y = X_feature[node.samples()], y_train[node.samples()]\n",
    "            X_hist = [X[y == cl] for cl in class_values]\n",
    "            height_of_bins = np.zeros(nbins)\n",
    "            for cl in class_values:\n",
    "                hist, foo = np.histogram(X_hist[cl], bins=bins, range=overall_feature_range)\n",
    "                # print(f\"class {cl}: goal_n={len(bins):2d} n={len(hist):2d} {hist}\")\n",
    "                height_of_bins += hist\n",
    "            node_heights[node.id] = np.max(height_of_bins)\n",
    "\n",
    "            # print(f\"\\tmax={np.max(height_of_bins):2.0f}, heights={list(height_of_bins)}, {len(height_of_bins)} bins\")\n",
    "        return node_heights\n",
    "\n",
    "    def predict(self, x : np.ndarray) -> Tuple[Number,List]:\n",
    "        \"\"\"\n",
    "        Given an x-vector of features, return predicted class or value based upon\n",
    "        this tree. Also return path from root to leaf as 2nd value in return tuple.\n",
    "        Recursively walk down tree from root to appropriate leaf by\n",
    "        comparing feature in x to node's split value. Also return\n",
    "        :param x: Feature vector to run down the tree to a leaf.\n",
    "        :type x: np.ndarray\n",
    "        :return: Predicted class or value based\n",
    "        :rtype: Number\n",
    "        \"\"\"\n",
    "        def walk(t, x, path):\n",
    "            if t is None:\n",
    "                return None\n",
    "            path.append(t)\n",
    "            if t.isleaf():\n",
    "                return t\n",
    "            if x[t.feature()] < t.split():\n",
    "                return walk(t.left, x, path)\n",
    "            return walk(t.right, x, path)\n",
    "\n",
    "        path = []\n",
    "        leaf = walk(self.root, x, path)\n",
    "        return leaf.prediction(), path\n",
    "\n",
    "    def tesselation(self):\n",
    "        \"\"\"\n",
    "        Walk tree and return list of tuples containing a leaf node and bounding box\n",
    "        list of (x1,y1,x2,y2) coordinates\n",
    "        :return:\n",
    "        :rtype:\n",
    "        \"\"\"\n",
    "        bboxes = []\n",
    "\n",
    "        def walk(t, bbox):\n",
    "            if t is None:\n",
    "                return None\n",
    "            # print(f\"Node {t.id} bbox {bbox} {'   LEAF' if t.isleaf() else ''}\")\n",
    "            if t.isleaf():\n",
    "                bboxes.append((t, bbox))\n",
    "                return t\n",
    "            # shrink bbox for left, right and recurse\n",
    "            s = t.split()\n",
    "            if t.feature()==0:\n",
    "                walk(t.left,  (bbox[0],bbox[1],s,bbox[3]))\n",
    "                walk(t.right, (s,bbox[1],bbox[2],bbox[3]))\n",
    "            else:\n",
    "                walk(t.left,  (bbox[0],bbox[1],bbox[2],s))\n",
    "                walk(t.right, (bbox[0],s,bbox[2],bbox[3]))\n",
    "\n",
    "        # create bounding box in feature space (not zeroed)\n",
    "        f1_values = self.X_train[:, 0]\n",
    "        f2_values = self.X_train[:, 1]\n",
    "        overall_bbox = (np.min(f1_values), np.min(f2_values), # x,y of lower left edge\n",
    "                        np.max(f1_values), np.max(f2_values)) # x,y of upper right edge\n",
    "        walk(self.root, overall_bbox)\n",
    "\n",
    "        return bboxes\n",
    "\n",
    "    @staticmethod\n",
    "    def node_samples(tree_model, data) -> Mapping[int, list]:\n",
    "        \"\"\"\n",
    "        Return dictionary mapping node id to list of sample indexes considered by\n",
    "        the feature/split decision.\n",
    "        \"\"\"\n",
    "        # Doc say: \"Return a node indicator matrix where non zero elements\n",
    "        #           indicates that the samples goes through the nodes.\"\n",
    "        dec_paths = tree_model.decision_path(data)\n",
    "\n",
    "        # each sample has path taken down tree\n",
    "        node_to_samples = defaultdict(list)\n",
    "        for sample_i, dec in enumerate(dec_paths):\n",
    "            _, nz_nodes = dec.nonzero()\n",
    "            for node_id in nz_nodes:\n",
    "                node_to_samples[node_id].append(sample_i)\n",
    "\n",
    "        return node_to_samples\n",
    "\n",
    "    def __str__(self):\n",
    "        return str(self.root)\n"
   ]
  },
  {
   "cell_type": "markdown",
   "metadata": {},
   "source": [
    "## Instantiate class objects"
   ]
  },
  {
   "cell_type": "markdown",
   "metadata": {},
   "source": [
    "### Create a tree model by scikit learn"
   ]
  },
  {
   "cell_type": "code",
   "execution_count": 93,
   "metadata": {
    "ExecuteTime": {
     "end_time": "2019-07-17T15:14:05.301282Z",
     "start_time": "2019-07-17T15:14:05.273907Z"
    }
   },
   "outputs": [
    {
     "data": {
      "image/svg+xml": [
       "<?xml version=\"1.0\" encoding=\"UTF-8\" standalone=\"no\"?>\n",
       "<!DOCTYPE svg PUBLIC \"-//W3C//DTD SVG 1.1//EN\"\n",
       " \"http://www.w3.org/Graphics/SVG/1.1/DTD/svg11.dtd\">\n",
       "<!-- Generated by graphviz version 2.40.1 (20161225.0304)\n",
       " -->\n",
       "<!-- Title: Tree Pages: 1 -->\n",
       "<svg width=\"220pt\" height=\"211pt\"\n",
       " viewBox=\"0.00 0.00 219.54 211.20\" xmlns=\"http://www.w3.org/2000/svg\" xmlns:xlink=\"http://www.w3.org/1999/xlink\">\n",
       "<g id=\"graph0\" class=\"graph\" transform=\"scale(1 1) rotate(0) translate(4 207.2)\">\n",
       "<title>Tree</title>\n",
       "<polygon fill=\"#ffffff\" stroke=\"transparent\" points=\"-4,4 -4,-207.2 215.5378,-207.2 215.5378,4 -4,4\"/>\n",
       "<!-- 0 -->\n",
       "<g id=\"node1\" class=\"node\">\n",
       "<title>0</title>\n",
       "<path fill=\"transparent\" stroke=\"#000000\" d=\"M141.3078,-203.2C141.3078,-203.2 69.23,-203.2 69.23,-203.2 63.23,-203.2 57.23,-197.2 57.23,-191.2 57.23,-191.2 57.23,-123.2 57.23,-123.2 57.23,-117.2 63.23,-111.2 69.23,-111.2 69.23,-111.2 141.3078,-111.2 141.3078,-111.2 147.3078,-111.2 153.3078,-117.2 153.3078,-123.2 153.3078,-123.2 153.3078,-191.2 153.3078,-191.2 153.3078,-197.2 147.3078,-203.2 141.3078,-203.2\"/>\n",
       "<text text-anchor=\"start\" x=\"82.7002\" y=\"-186.6\" font-family=\"Helvetica,sans-Serif\" font-size=\"14.00\" fill=\"#000000\">1 ≤ 0.5</text>\n",
       "<text text-anchor=\"start\" x=\"76.6739\" y=\"-169.8\" font-family=\"Helvetica,sans-Serif\" font-size=\"14.00\" fill=\"#000000\">gini = 0.5</text>\n",
       "<text text-anchor=\"start\" x=\"67.3422\" y=\"-153\" font-family=\"Helvetica,sans-Serif\" font-size=\"14.00\" fill=\"#000000\">samples = 2</text>\n",
       "<text text-anchor=\"start\" x=\"65\" y=\"-136.2\" font-family=\"Helvetica,sans-Serif\" font-size=\"14.00\" fill=\"#000000\">value = [1, 1]</text>\n",
       "<text text-anchor=\"start\" x=\"77.4551\" y=\"-119.4\" font-family=\"Helvetica,sans-Serif\" font-size=\"14.00\" fill=\"#000000\">class = 0</text>\n",
       "</g>\n",
       "<!-- 1 -->\n",
       "<g id=\"node2\" class=\"node\">\n",
       "<title>1</title>\n",
       "<path fill=\"#e58139\" stroke=\"#000000\" d=\"M84.3078,-75.3003C84.3078,-75.3003 12.23,-75.3003 12.23,-75.3003 6.23,-75.3003 .23,-69.3003 .23,-63.3003 .23,-63.3003 .23,-11.8997 .23,-11.8997 .23,-5.8997 6.23,.1003 12.23,.1003 12.23,.1003 84.3078,.1003 84.3078,.1003 90.3078,.1003 96.3078,-5.8997 96.3078,-11.8997 96.3078,-11.8997 96.3078,-63.3003 96.3078,-63.3003 96.3078,-69.3003 90.3078,-75.3003 84.3078,-75.3003\"/>\n",
       "<text text-anchor=\"start\" x=\"19.6739\" y=\"-58.6\" font-family=\"Helvetica,sans-Serif\" font-size=\"14.00\" fill=\"#000000\">gini = 0.0</text>\n",
       "<text text-anchor=\"start\" x=\"10.3422\" y=\"-41.8\" font-family=\"Helvetica,sans-Serif\" font-size=\"14.00\" fill=\"#000000\">samples = 1</text>\n",
       "<text text-anchor=\"start\" x=\"8\" y=\"-25\" font-family=\"Helvetica,sans-Serif\" font-size=\"14.00\" fill=\"#000000\">value = [1, 0]</text>\n",
       "<text text-anchor=\"start\" x=\"20.4551\" y=\"-8.2\" font-family=\"Helvetica,sans-Serif\" font-size=\"14.00\" fill=\"#000000\">class = 0</text>\n",
       "</g>\n",
       "<!-- 0&#45;&gt;1 -->\n",
       "<g id=\"edge1\" class=\"edge\">\n",
       "<title>0&#45;&gt;1</title>\n",
       "<path fill=\"none\" stroke=\"#000000\" d=\"M83.2312,-110.9595C79.0901,-102.2704 74.7568,-93.1781 70.6066,-84.47\"/>\n",
       "<polygon fill=\"#000000\" stroke=\"#000000\" points=\"73.6547,-82.7302 66.1928,-75.2088 67.3356,-85.7419 73.6547,-82.7302\"/>\n",
       "<text text-anchor=\"middle\" x=\"57.8402\" y=\"-94.5722\" font-family=\"Helvetica,sans-Serif\" font-size=\"14.00\" fill=\"#000000\">True</text>\n",
       "</g>\n",
       "<!-- 2 -->\n",
       "<g id=\"node3\" class=\"node\">\n",
       "<title>2</title>\n",
       "<path fill=\"#399de5\" stroke=\"#000000\" d=\"M199.3078,-75.3003C199.3078,-75.3003 127.23,-75.3003 127.23,-75.3003 121.23,-75.3003 115.23,-69.3003 115.23,-63.3003 115.23,-63.3003 115.23,-11.8997 115.23,-11.8997 115.23,-5.8997 121.23,.1003 127.23,.1003 127.23,.1003 199.3078,.1003 199.3078,.1003 205.3078,.1003 211.3078,-5.8997 211.3078,-11.8997 211.3078,-11.8997 211.3078,-63.3003 211.3078,-63.3003 211.3078,-69.3003 205.3078,-75.3003 199.3078,-75.3003\"/>\n",
       "<text text-anchor=\"start\" x=\"134.6739\" y=\"-58.6\" font-family=\"Helvetica,sans-Serif\" font-size=\"14.00\" fill=\"#000000\">gini = 0.0</text>\n",
       "<text text-anchor=\"start\" x=\"125.3422\" y=\"-41.8\" font-family=\"Helvetica,sans-Serif\" font-size=\"14.00\" fill=\"#000000\">samples = 1</text>\n",
       "<text text-anchor=\"start\" x=\"123\" y=\"-25\" font-family=\"Helvetica,sans-Serif\" font-size=\"14.00\" fill=\"#000000\">value = [0, 1]</text>\n",
       "<text text-anchor=\"start\" x=\"135.4551\" y=\"-8.2\" font-family=\"Helvetica,sans-Serif\" font-size=\"14.00\" fill=\"#000000\">class = 1</text>\n",
       "</g>\n",
       "<!-- 0&#45;&gt;2 -->\n",
       "<g id=\"edge2\" class=\"edge\">\n",
       "<title>0&#45;&gt;2</title>\n",
       "<path fill=\"none\" stroke=\"#000000\" d=\"M127.6932,-110.9595C131.907,-102.2704 136.3163,-93.1781 140.5393,-84.47\"/>\n",
       "<polygon fill=\"#000000\" stroke=\"#000000\" points=\"143.8162,-85.7339 145.0305,-75.2088 137.5178,-82.6794 143.8162,-85.7339\"/>\n",
       "<text text-anchor=\"middle\" x=\"153.2229\" y=\"-94.6284\" font-family=\"Helvetica,sans-Serif\" font-size=\"14.00\" fill=\"#000000\">False</text>\n",
       "</g>\n",
       "</g>\n",
       "</svg>\n"
      ],
      "text/plain": [
       "<graphviz.files.Source at 0x121698320>"
      ]
     },
     "execution_count": 93,
     "metadata": {},
     "output_type": "execute_result"
    }
   ],
   "source": [
    "import numpy as np\n",
    "import graphviz \n",
    "from sklearn import tree\n",
    "\n",
    "X = np.array([[0, 0], [1, 1]])\n",
    "Y = np.array([0, 1])\n",
    "# Y = [0, 1]\n",
    "clf = tree.DecisionTreeClassifier()\n",
    "clf = clf.fit(X, Y)\n",
    "dot_data = tree.export_graphviz(clf, out_file=None, \n",
    "                     feature_names=[0, 1],  \n",
    "                     class_names=['0', '1'],  \n",
    "                     filled=True, rounded=True,  \n",
    "                     special_characters=True)  \n",
    "graph = graphviz.Source(dot_data)  \n",
    "graph \n"
   ]
  },
  {
   "cell_type": "markdown",
   "metadata": {
    "ExecuteTime": {
     "end_time": "2019-07-17T13:19:24.298254Z",
     "start_time": "2019-07-17T13:19:24.294775Z"
    }
   },
   "source": [
    "## Create a `ShadowDecTree`\n",
    "\n",
    "**ShadowDecTree** `__init__`\n",
    "- L33-41: define `__initi__` with 5 input arguments.\n",
    "- L38-41: store the input arguments as a class member\n",
    "- L43-44: check if the trained model exists in `tree_model`, and if not, it enforces to train the tree model.\n",
    "\n",
    "- L46-52: treatment for multi label classification\n",
    "\n",
    "- L54-59: treatment for `pandas` if `pandas.DataFrame` is used for `X_train` and `y_train`. Convert them into `np.array`\n",
    "\n",
    "- L60: a static method `node_samples` in `ShadowDecTree` to create a map from node id in tree_model to list of sample indices. \n",
    "\n",
    "- L61-63: treatment for target values and class weights if tree_model is for classification \n",
    "\n",
    "- L65-71: preparation for re-organizing tree object into the one for dtreeviz \n",
    "\n",
    "- L73-83: define the recursive function to walk through nodes by post order traversal through Depth-First Search (DFS) algorithm. \n",
    "\n",
    "- L85-89: execute `walk` method from the root node. Store a list of end nodes as `leaves` and a list of intermediate nodes as `internal`.\n",
    "\n",
    "\n",
    "\n"
   ]
  },
  {
   "cell_type": "code",
   "execution_count": 94,
   "metadata": {
    "ExecuteTime": {
     "end_time": "2019-07-17T15:14:07.158590Z",
     "start_time": "2019-07-17T15:14:07.151464Z"
    }
   },
   "outputs": [],
   "source": [
    "# instantiate ShadowDecTree\n",
    "shadow_tree = ShadowDecTree(tree_model=clf, X_train=X, y_train=Y, feature_names=[0, 1], class_names=[0, 1])"
   ]
  },
  {
   "cell_type": "code",
   "execution_count": 95,
   "metadata": {
    "ExecuteTime": {
     "end_time": "2019-07-17T15:14:07.290748Z",
     "start_time": "2019-07-17T15:14:07.285892Z"
    }
   },
   "outputs": [
    {
     "data": {
      "text/plain": [
       "<__main__.ShadowDecTreeNode at 0x1216dd4a8>"
      ]
     },
     "execution_count": 95,
     "metadata": {},
     "output_type": "execute_result"
    }
   ],
   "source": [
    "# A root node\n",
    "shadow_tree.root"
   ]
  },
  {
   "cell_type": "code",
   "execution_count": 96,
   "metadata": {
    "ExecuteTime": {
     "end_time": "2019-07-17T15:14:07.443239Z",
     "start_time": "2019-07-17T15:14:07.437143Z"
    }
   },
   "outputs": [
    {
     "data": {
      "text/plain": [
       "[<__main__.ShadowDecTreeNode at 0x121696470>,\n",
       " <__main__.ShadowDecTreeNode at 0x1216dd940>]"
      ]
     },
     "execution_count": 96,
     "metadata": {},
     "output_type": "execute_result"
    }
   ],
   "source": [
    "# A list of end nodes \n",
    "shadow_tree.leaves"
   ]
  },
  {
   "cell_type": "code",
   "execution_count": 97,
   "metadata": {
    "ExecuteTime": {
     "end_time": "2019-07-17T15:14:07.596749Z",
     "start_time": "2019-07-17T15:14:07.591283Z"
    }
   },
   "outputs": [
    {
     "data": {
      "text/plain": [
       "[<__main__.ShadowDecTreeNode at 0x1216dd4a8>]"
      ]
     },
     "execution_count": 97,
     "metadata": {},
     "output_type": "execute_result"
    }
   ],
   "source": [
    "# A list of internal nodes\n",
    "shadow_tree.internal"
   ]
  },
  {
   "cell_type": "code",
   "execution_count": 98,
   "metadata": {
    "ExecuteTime": {
     "end_time": "2019-07-17T15:14:07.748934Z",
     "start_time": "2019-07-17T15:14:07.743372Z"
    }
   },
   "outputs": [
    {
     "data": {
      "text/plain": [
       "defaultdict(list, {0: [0, 1], 1: [0], 2: [1]})"
      ]
     },
     "execution_count": 98,
     "metadata": {},
     "output_type": "execute_result"
    }
   ],
   "source": [
    "# A mapping from node id to sample id\n",
    "shadow_tree.node_to_samples"
   ]
  },
  {
   "cell_type": "markdown",
   "metadata": {
    "ExecuteTime": {
     "end_time": "2019-07-17T14:47:55.437342Z",
     "start_time": "2019-07-17T14:47:55.434009Z"
    }
   },
   "source": [
    "## Other methods for `ShadowDecTree`"
   ]
  },
  {
   "cell_type": "code",
   "execution_count": 99,
   "metadata": {
    "ExecuteTime": {
     "end_time": "2019-07-17T15:14:08.056329Z",
     "start_time": "2019-07-17T15:14:08.051758Z"
    }
   },
   "outputs": [
    {
     "data": {
      "text/plain": [
       "2"
      ]
     },
     "execution_count": 99,
     "metadata": {},
     "output_type": "execute_result"
    }
   ],
   "source": [
    "# L91 nclasses\n",
    "shadow_tree.nclasses()"
   ]
  },
  {
   "cell_type": "code",
   "execution_count": 100,
   "metadata": {
    "ExecuteTime": {
     "end_time": "2019-07-17T15:14:08.187165Z",
     "start_time": "2019-07-17T15:14:08.181940Z"
    }
   },
   "outputs": [
    {
     "data": {
      "text/plain": [
       "3"
      ]
     },
     "execution_count": 100,
     "metadata": {},
     "output_type": "execute_result"
    }
   ],
   "source": [
    "# L94 nnodes\n",
    "shadow_tree.nnodes()"
   ]
  },
  {
   "cell_type": "code",
   "execution_count": 101,
   "metadata": {
    "ExecuteTime": {
     "end_time": "2019-07-17T15:14:08.337663Z",
     "start_time": "2019-07-17T15:14:08.332571Z"
    }
   },
   "outputs": [
    {
     "data": {
      "text/plain": [
       "[1, 1]"
      ]
     },
     "execution_count": 101,
     "metadata": {},
     "output_type": "execute_result"
    }
   ],
   "source": [
    "# L98 leaf_sample_counts\n",
    "shadow_tree.leaf_sample_counts()"
   ]
  },
  {
   "cell_type": "code",
   "execution_count": 102,
   "metadata": {
    "ExecuteTime": {
     "end_time": "2019-07-17T15:14:08.492773Z",
     "start_time": "2019-07-17T15:14:08.487533Z"
    }
   },
   "outputs": [
    {
     "data": {
      "text/plain": [
       "array([ True])"
      ]
     },
     "execution_count": 102,
     "metadata": {},
     "output_type": "execute_result"
    }
   ],
   "source": [
    "# L101 isclassifier\n",
    "shadow_tree.isclassifier()"
   ]
  },
  {
   "cell_type": "code",
   "execution_count": 103,
   "metadata": {
    "ExecuteTime": {
     "end_time": "2019-07-17T15:14:08.664465Z",
     "start_time": "2019-07-17T15:14:08.654480Z"
    }
   },
   "outputs": [
    {
     "data": {
      "text/plain": [
       "{0: 1.0}"
      ]
     },
     "execution_count": 103,
     "metadata": {},
     "output_type": "execute_result"
    }
   ],
   "source": [
    "# L104 get_split_node_heights\n",
    "nbins = 2\n",
    "shadow_tree.get_split_node_heights(X_train=X, y_train=Y, nbins=nbins)"
   ]
  },
  {
   "cell_type": "code",
   "execution_count": 104,
   "metadata": {
    "ExecuteTime": {
     "end_time": "2019-07-17T15:14:08.818610Z",
     "start_time": "2019-07-17T15:14:08.808369Z"
    }
   },
   "outputs": [
    {
     "name": "stdout",
     "output_type": "stream",
     "text": [
      "shadow_tree.internal[0].feature(): 1\n"
     ]
    },
    {
     "data": {
      "text/plain": [
       "array([0, 1])"
      ]
     },
     "execution_count": 104,
     "metadata": {},
     "output_type": "execute_result"
    }
   ],
   "source": [
    "print(f\"shadow_tree.internal[0].feature(): {shadow_tree.internal[0].feature()}\")\n",
    "X[:, shadow_tree.internal[0].feature()]"
   ]
  },
  {
   "cell_type": "code",
   "execution_count": 105,
   "metadata": {
    "ExecuteTime": {
     "end_time": "2019-07-17T15:14:08.993048Z",
     "start_time": "2019-07-17T15:14:08.987793Z"
    }
   },
   "outputs": [
    {
     "data": {
      "text/plain": [
       "(1,\n",
       " [<__main__.ShadowDecTreeNode at 0x1216dd4a8>,\n",
       "  <__main__.ShadowDecTreeNode at 0x1216dd940>])"
      ]
     },
     "execution_count": 105,
     "metadata": {},
     "output_type": "execute_result"
    }
   ],
   "source": [
    "# L132 predict\n",
    "shadow_tree.predict(np.array([0, 0.5]))"
   ]
  },
  {
   "cell_type": "code",
   "execution_count": 106,
   "metadata": {
    "ExecuteTime": {
     "end_time": "2019-07-17T15:14:09.542015Z",
     "start_time": "2019-07-17T15:14:09.536688Z"
    },
    "scrolled": true
   },
   "outputs": [
    {
     "data": {
      "text/plain": [
       "[(<__main__.ShadowDecTreeNode at 0x121696470>, (0, 0, 1, 0.5)),\n",
       " (<__main__.ShadowDecTreeNode at 0x1216dd940>, (0, 0.5, 1, 1))]"
      ]
     },
     "execution_count": 106,
     "metadata": {},
     "output_type": "execute_result"
    }
   ],
   "source": [
    "# L158 tesselation\n",
    "shadow_tree.tesselation()"
   ]
  },
  {
   "cell_type": "markdown",
   "metadata": {},
   "source": [
    "## Opportunity to contribute\n",
    "Through line-by-line execution, I found the following opportunities I could potentially contribute to. \n",
    "* Add documentation for each methods\n",
    "* Add validation if it is `np.array` or not for `X_train` and `y_train` since when I pass the list as `X_train` and `y_train`, I got the error for `get_split_node_heights` and `tesselation` like below:\n",
    "![image](https://user-images.githubusercontent.com/8764683/61387320-e5a62880-a8f0-11e9-874b-7228527abd0a.png)\n"
   ]
  }
 ],
 "metadata": {
  "kernelspec": {
   "display_name": "Python (py367)",
   "language": "python",
   "name": "py367"
  },
  "language_info": {
   "codemirror_mode": {
    "name": "ipython",
    "version": 3
   },
   "file_extension": ".py",
   "mimetype": "text/x-python",
   "name": "python",
   "nbconvert_exporter": "python",
   "pygments_lexer": "ipython3",
   "version": "3.6.7"
  },
  "nikola": {
   "category": "Machine Learning",
   "date": "2019-07-17 05:51:04 UTC-07:00",
   "description": "break down dtreevis module step by step (Part 2)",
   "link": "",
   "slug": "split-up-dtreevis-part-2",
   "tags": "Visualization, dtreevis, Ensemble, Decision Tree",
   "title": "Split Up: dtreevis (Part 2)",
   "type": "text"
  },
  "toc": {
   "base_numbering": 1,
   "nav_menu": {},
   "number_sections": true,
   "sideBar": true,
   "skip_h1_title": false,
   "title_cell": "Table of Contents",
   "title_sidebar": "Contents",
   "toc_cell": false,
   "toc_position": {},
   "toc_section_display": true,
   "toc_window_display": true
  }
 },
 "nbformat": 4,
 "nbformat_minor": 2
}
