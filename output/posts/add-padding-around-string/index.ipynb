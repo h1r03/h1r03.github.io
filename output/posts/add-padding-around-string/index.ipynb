{
 "cells": [
  {
   "cell_type": "markdown",
   "metadata": {},
   "source": [
    "# Goal\n",
    "This post aims to introduce how to add padding around string.\n",
    "\n",
    "\n",
    "Reference:\n",
    "* [How can I fill out a Python string with spaces?\n",
    "](https://stackoverflow.com/questions/5676646/how-can-i-fill-out-a-python-string-with-spaces)\n",
    "\n",
    "* [Nicest way to pad zeroes to a string](https://stackoverflow.com/questions/339007/nicest-way-to-pad-zeroes-to-a-string/24386708)"
   ]
  },
  {
   "cell_type": "markdown",
   "metadata": {},
   "source": [
    "# Create a string and number"
   ]
  },
  {
   "cell_type": "code",
   "execution_count": 6,
   "metadata": {
    "ExecuteTime": {
     "end_time": "2019-05-09T06:49:39.106610Z",
     "start_time": "2019-05-09T06:49:39.103751Z"
    }
   },
   "outputs": [],
   "source": [
    "string = 'abc_def'\n",
    "num = 10"
   ]
  },
  {
   "cell_type": "markdown",
   "metadata": {},
   "source": [
    "# Add padding by \" \"(space) or other character \n",
    "There is a method for string, called `ljust`\n",
    "\n",
    "```\n",
    "S.ljust(width[, fillchar]) -> str\n",
    "```"
   ]
  },
  {
   "cell_type": "code",
   "execution_count": 3,
   "metadata": {
    "ExecuteTime": {
     "end_time": "2019-05-09T06:47:16.981622Z",
     "start_time": "2019-05-09T06:47:16.968604Z"
    }
   },
   "outputs": [
    {
     "data": {
      "text/plain": [
       "'abc_def   '"
      ]
     },
     "execution_count": 3,
     "metadata": {},
     "output_type": "execute_result"
    }
   ],
   "source": [
    "string.ljust(10)"
   ]
  },
  {
   "cell_type": "code",
   "execution_count": 5,
   "metadata": {
    "ExecuteTime": {
     "end_time": "2019-05-09T06:48:05.309188Z",
     "start_time": "2019-05-09T06:48:05.304398Z"
    }
   },
   "outputs": [
    {
     "data": {
      "text/plain": [
       "'abc_defaaa'"
      ]
     },
     "execution_count": 5,
     "metadata": {},
     "output_type": "execute_result"
    }
   ],
   "source": [
    "string.ljust(10, 'a')"
   ]
  },
  {
   "cell_type": "markdown",
   "metadata": {},
   "source": [
    "# Add zero padding to numbers "
   ]
  },
  {
   "cell_type": "code",
   "execution_count": 10,
   "metadata": {
    "ExecuteTime": {
     "end_time": "2019-05-09T06:50:20.171091Z",
     "start_time": "2019-05-09T06:50:20.166399Z"
    }
   },
   "outputs": [
    {
     "data": {
      "text/plain": [
       "'0000000010'"
      ]
     },
     "execution_count": 10,
     "metadata": {},
     "output_type": "execute_result"
    }
   ],
   "source": [
    "# the chaaracter after \":\" is the one used for padding\n",
    "'{:010}'.format(num)\n"
   ]
  },
  {
   "cell_type": "code",
   "execution_count": 13,
   "metadata": {
    "ExecuteTime": {
     "end_time": "2019-05-09T06:52:10.232597Z",
     "start_time": "2019-05-09T06:52:10.227805Z"
    }
   },
   "outputs": [
    {
     "data": {
      "text/plain": [
       "'0000000010'"
      ]
     },
     "execution_count": 13,
     "metadata": {},
     "output_type": "execute_result"
    }
   ],
   "source": [
    "# python >= 3.6 \n",
    "# the character after \":\" is the one used for padding\n",
    "f'{num:010}'\n"
   ]
  }
 ],
 "metadata": {
  "kernelspec": {
   "display_name": "Python (py367)",
   "language": "python",
   "name": "py367"
  },
  "language_info": {
   "codemirror_mode": {
    "name": "ipython",
    "version": 3
   },
   "file_extension": ".py",
   "mimetype": "text/x-python",
   "name": "python",
   "nbconvert_exporter": "python",
   "pygments_lexer": "ipython3",
   "version": "3.6.7"
  },
  "nikola": {
   "category": "",
   "date": "2019-05-08 23:43:55 UTC-07:00",
   "description": "",
   "link": "",
   "slug": "add-padding-around-string",
   "tags": "",
   "title": "Add Padding Around String",
   "type": "text"
  },
  "toc": {
   "base_numbering": 1,
   "nav_menu": {},
   "number_sections": true,
   "sideBar": true,
   "skip_h1_title": false,
   "title_cell": "Table of Contents",
   "title_sidebar": "Contents",
   "toc_cell": false,
   "toc_position": {},
   "toc_section_display": true,
   "toc_window_display": false
  }
 },
 "nbformat": 4,
 "nbformat_minor": 2
}
