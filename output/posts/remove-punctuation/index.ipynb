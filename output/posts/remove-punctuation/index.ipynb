{
 "cells": [
  {
   "cell_type": "markdown",
   "metadata": {},
   "source": [
    "# Goal\n",
    "This post aims to introduce how to remove punctuation using `string`.\n",
    "\n",
    "**Reference**\n",
    "* [Machine Learning Mastery - How to Clean Text for Machine Learning with Python\n",
    "](https://machinelearningmastery.com/clean-text-machine-learning-python/)\n"
   ]
  },
  {
   "cell_type": "markdown",
   "metadata": {},
   "source": [
    "# Libraries"
   ]
  },
  {
   "cell_type": "code",
   "execution_count": 9,
   "metadata": {
    "ExecuteTime": {
     "end_time": "2019-05-28T07:22:08.975548Z",
     "start_time": "2019-05-28T07:22:08.972473Z"
    }
   },
   "outputs": [],
   "source": [
    "import string"
   ]
  },
  {
   "cell_type": "markdown",
   "metadata": {},
   "source": [
    "# Create a document"
   ]
  },
  {
   "cell_type": "code",
   "execution_count": 10,
   "metadata": {
    "ExecuteTime": {
     "end_time": "2019-05-28T07:22:09.007647Z",
     "start_time": "2019-05-28T07:22:09.001706Z"
    }
   },
   "outputs": [
    {
     "data": {
      "text/plain": [
       "[\"this isn't a sample.\",\n",
       " 'this is another example.',\n",
       " 'this\" also appears in the second example.Is this an example?']"
      ]
     },
     "execution_count": 10,
     "metadata": {},
     "output_type": "execute_result"
    }
   ],
   "source": [
    "documents = [\"this isn't a sample.\", \n",
    "            'this is another example.' ,\n",
    "            'this\" also appears in the second example.'\n",
    "            'Is this an example?']\n",
    "\n",
    "documents"
   ]
  },
  {
   "cell_type": "markdown",
   "metadata": {},
   "source": [
    "# Remove Punctuation"
   ]
  },
  {
   "cell_type": "code",
   "execution_count": 11,
   "metadata": {
    "ExecuteTime": {
     "end_time": "2019-05-28T07:22:09.040881Z",
     "start_time": "2019-05-28T07:22:09.034119Z"
    }
   },
   "outputs": [
    {
     "data": {
      "text/plain": [
       "['this isnt a sample',\n",
       " 'this is another example',\n",
       " 'this also appears in the second exampleIs this an example']"
      ]
     },
     "execution_count": 11,
     "metadata": {},
     "output_type": "execute_result"
    }
   ],
   "source": [
    "table = str.maketrans('', '', string.punctuation)\n",
    "doc_removed_punctuation = [w.translate(table) for w in documents]\n",
    "doc_removed_punctuation"
   ]
  }
 ],
 "metadata": {
  "kernelspec": {
   "display_name": "Python (py367)",
   "language": "python",
   "name": "py367"
  },
  "language_info": {
   "codemirror_mode": {
    "name": "ipython",
    "version": 3
   },
   "file_extension": ".py",
   "mimetype": "text/x-python",
   "name": "python",
   "nbconvert_exporter": "python",
   "pygments_lexer": "ipython3",
   "version": "3.6.7"
  },
  "nikola": {
   "category": "Machin Learning",
   "date": "2019-05-29 00:15:44 UTC-07:00",
   "description": "introduce how to remove punctuation",
   "link": "",
   "slug": "remove-punctuation",
   "tags": "Text Processing, Punctuation",
   "title": "Remove Punctuation",
   "type": "text"
  },
  "toc": {
   "base_numbering": 1,
   "nav_menu": {},
   "number_sections": true,
   "sideBar": true,
   "skip_h1_title": false,
   "title_cell": "Table of Contents",
   "title_sidebar": "Contents",
   "toc_cell": false,
   "toc_position": {},
   "toc_section_display": true,
   "toc_window_display": false
  }
 },
 "nbformat": 4,
 "nbformat_minor": 2
}
