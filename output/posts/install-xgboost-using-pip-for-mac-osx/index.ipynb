{
 "cells": [
  {
   "cell_type": "markdown",
   "metadata": {},
   "source": [
    "# Goal\n",
    "This post aims to introduce how to install `xgboost` using `pip` for Mac OSX.\n",
    "\n",
    "**Reference**\n",
    "* [xgboost - Installation Guide](https://xgboost.readthedocs.io/en/latest/build.html#building-on-macos)"
   ]
  },
  {
   "cell_type": "markdown",
   "metadata": {},
   "source": [
    "# Installation Steps\n",
    "1. Install `gcc5` \n",
    "2. Setup environment variable `CC` and `CXX`\n",
    "```bash\n",
    "brew install gcc5\n",
    "export CC=gcc-５\n",
    "export CXX=g++-5\n",
    "pip install xgboost\n",
    "```"
   ]
  }
 ],
 "metadata": {
  "kernelspec": {
   "display_name": "Python (py367)",
   "language": "python",
   "name": "py367"
  },
  "language_info": {
   "codemirror_mode": {
    "name": "ipython",
    "version": 3
   },
   "file_extension": ".py",
   "mimetype": "text/x-python",
   "name": "python",
   "nbconvert_exporter": "python",
   "pygments_lexer": "ipython3",
   "version": "3.6.7"
  },
  "nikola": {
   "category": "Preparation",
   "date": "2019-07-12 06:55:46 UTC-07:00",
   "description": "introduce how to install xgboost using pip for Mac OSX",
   "link": "",
   "slug": "install-xgboost-using-pip-for-mac-osx",
   "tags": "OSX, Mac, xgbosst, installation",
   "title": "Install xgboost using pip for Mac OSX",
   "type": "text"
  },
  "toc": {
   "base_numbering": 1,
   "nav_menu": {},
   "number_sections": true,
   "sideBar": true,
   "skip_h1_title": false,
   "title_cell": "Table of Contents",
   "title_sidebar": "Contents",
   "toc_cell": false,
   "toc_position": {},
   "toc_section_display": true,
   "toc_window_display": false
  }
 },
 "nbformat": 4,
 "nbformat_minor": 2
}
