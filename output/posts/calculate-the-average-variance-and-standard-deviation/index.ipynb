{
 "cells": [
  {
   "cell_type": "markdown",
   "metadata": {},
   "source": [
    "# Goal\n",
    "This post aims to introduce how to calculate the average, variance and standard deviation of matrix using `pandas`.\n",
    "\n",
    "\n"
   ]
  },
  {
   "cell_type": "markdown",
   "metadata": {},
   "source": [
    "# Libraries"
   ]
  },
  {
   "cell_type": "code",
   "execution_count": 2,
   "metadata": {
    "ExecuteTime": {
     "end_time": "2019-06-18T14:42:49.894918Z",
     "start_time": "2019-06-18T14:42:49.892149Z"
    }
   },
   "outputs": [],
   "source": [
    "import pandas as pd\n",
    "import numpy as np"
   ]
  },
  {
   "cell_type": "markdown",
   "metadata": {},
   "source": [
    "# Create a matrix"
   ]
  },
  {
   "cell_type": "code",
   "execution_count": 13,
   "metadata": {
    "ExecuteTime": {
     "end_time": "2019-06-18T14:47:56.297760Z",
     "start_time": "2019-06-18T14:47:56.278920Z"
    }
   },
   "outputs": [
    {
     "data": {
      "text/html": [
       "<div>\n",
       "<style scoped>\n",
       "    .dataframe tbody tr th:only-of-type {\n",
       "        vertical-align: middle;\n",
       "    }\n",
       "\n",
       "    .dataframe tbody tr th {\n",
       "        vertical-align: top;\n",
       "    }\n",
       "\n",
       "    .dataframe thead th {\n",
       "        text-align: right;\n",
       "    }\n",
       "</style>\n",
       "<table border=\"1\" class=\"dataframe\">\n",
       "  <thead>\n",
       "    <tr style=\"text-align: right;\">\n",
       "      <th></th>\n",
       "      <th>rand</th>\n",
       "      <th>randint</th>\n",
       "      <th>randn</th>\n",
       "      <th>random_sample</th>\n",
       "      <th>binomial</th>\n",
       "      <th>beta</th>\n",
       "    </tr>\n",
       "  </thead>\n",
       "  <tbody>\n",
       "    <tr>\n",
       "      <th>0</th>\n",
       "      <td>0.689690</td>\n",
       "      <td>59</td>\n",
       "      <td>0.416245</td>\n",
       "      <td>0.607567</td>\n",
       "      <td>1</td>\n",
       "      <td>0.532052</td>\n",
       "    </tr>\n",
       "    <tr>\n",
       "      <th>1</th>\n",
       "      <td>0.288356</td>\n",
       "      <td>2</td>\n",
       "      <td>0.092351</td>\n",
       "      <td>0.311634</td>\n",
       "      <td>0</td>\n",
       "      <td>0.192651</td>\n",
       "    </tr>\n",
       "    <tr>\n",
       "      <th>2</th>\n",
       "      <td>0.173002</td>\n",
       "      <td>50</td>\n",
       "      <td>-0.626691</td>\n",
       "      <td>0.920702</td>\n",
       "      <td>0</td>\n",
       "      <td>0.342812</td>\n",
       "    </tr>\n",
       "    <tr>\n",
       "      <th>3</th>\n",
       "      <td>0.953088</td>\n",
       "      <td>17</td>\n",
       "      <td>-0.149677</td>\n",
       "      <td>0.316060</td>\n",
       "      <td>1</td>\n",
       "      <td>0.792191</td>\n",
       "    </tr>\n",
       "    <tr>\n",
       "      <th>4</th>\n",
       "      <td>0.693120</td>\n",
       "      <td>94</td>\n",
       "      <td>0.264678</td>\n",
       "      <td>0.060313</td>\n",
       "      <td>1</td>\n",
       "      <td>0.059370</td>\n",
       "    </tr>\n",
       "  </tbody>\n",
       "</table>\n",
       "</div>"
      ],
      "text/plain": [
       "       rand  randint     randn  random_sample  binomial      beta\n",
       "0  0.689690       59  0.416245       0.607567         1  0.532052\n",
       "1  0.288356        2  0.092351       0.311634         0  0.192651\n",
       "2  0.173002       50 -0.626691       0.920702         0  0.342812\n",
       "3  0.953088       17 -0.149677       0.316060         1  0.792191\n",
       "4  0.693120       94  0.264678       0.060313         1  0.059370"
      ]
     },
     "execution_count": 13,
     "metadata": {},
     "output_type": "execute_result"
    }
   ],
   "source": [
    "n = 1000\n",
    "df = pd.DataFrame({'rand': np.random.rand(n),\n",
    "                   'randint': np.random.randint(low=0, high=100, size=n),\n",
    "                   'randn': np.random.randn(n),\n",
    "                   'random_sample': np.random.random_sample(size=n),\n",
    "                   'binomial': np.random.binomial(n=1, p=.5, size=n),\n",
    "                   'beta': np.random.beta(a=1, b=1, size=n),\n",
    "                   })\n",
    "df.head()"
   ]
  },
  {
   "cell_type": "markdown",
   "metadata": {},
   "source": [
    "# Calculate average, variance, and standard deviation"
   ]
  },
  {
   "cell_type": "markdown",
   "metadata": {},
   "source": [
    "## Calculate by each function"
   ]
  },
  {
   "cell_type": "code",
   "execution_count": 16,
   "metadata": {
    "ExecuteTime": {
     "end_time": "2019-06-18T14:48:53.335216Z",
     "start_time": "2019-06-18T14:48:53.328410Z"
    }
   },
   "outputs": [
    {
     "data": {
      "text/plain": [
       "rand              0.497015\n",
       "randint          49.224000\n",
       "randn            -0.054651\n",
       "random_sample     0.504412\n",
       "binomial          0.490000\n",
       "beta              0.508469\n",
       "dtype: float64"
      ]
     },
     "execution_count": 16,
     "metadata": {},
     "output_type": "execute_result"
    }
   ],
   "source": [
    "df.mean()"
   ]
  },
  {
   "cell_type": "code",
   "execution_count": 15,
   "metadata": {
    "ExecuteTime": {
     "end_time": "2019-06-18T14:48:44.417314Z",
     "start_time": "2019-06-18T14:48:44.408529Z"
    }
   },
   "outputs": [
    {
     "data": {
      "text/plain": [
       "rand               0.083301\n",
       "randint          791.485309\n",
       "randn              1.033378\n",
       "random_sample      0.081552\n",
       "binomial           0.250150\n",
       "beta               0.083489\n",
       "dtype: float64"
      ]
     },
     "execution_count": 15,
     "metadata": {},
     "output_type": "execute_result"
    }
   ],
   "source": [
    "df.var()"
   ]
  },
  {
   "cell_type": "code",
   "execution_count": 17,
   "metadata": {
    "ExecuteTime": {
     "end_time": "2019-06-18T14:49:02.183239Z",
     "start_time": "2019-06-18T14:49:02.176411Z"
    }
   },
   "outputs": [
    {
     "data": {
      "text/plain": [
       "rand              0.288619\n",
       "randint          28.133349\n",
       "randn             1.016552\n",
       "random_sample     0.285573\n",
       "binomial          0.500150\n",
       "beta              0.288944\n",
       "dtype: float64"
      ]
     },
     "execution_count": 17,
     "metadata": {},
     "output_type": "execute_result"
    }
   ],
   "source": [
    "df.std()"
   ]
  },
  {
   "cell_type": "markdown",
   "metadata": {},
   "source": [
    "## Calculate using `describe`"
   ]
  },
  {
   "cell_type": "code",
   "execution_count": 18,
   "metadata": {
    "ExecuteTime": {
     "end_time": "2019-06-18T14:49:37.324400Z",
     "start_time": "2019-06-18T14:49:37.288576Z"
    }
   },
   "outputs": [
    {
     "data": {
      "text/html": [
       "<div>\n",
       "<style scoped>\n",
       "    .dataframe tbody tr th:only-of-type {\n",
       "        vertical-align: middle;\n",
       "    }\n",
       "\n",
       "    .dataframe tbody tr th {\n",
       "        vertical-align: top;\n",
       "    }\n",
       "\n",
       "    .dataframe thead th {\n",
       "        text-align: right;\n",
       "    }\n",
       "</style>\n",
       "<table border=\"1\" class=\"dataframe\">\n",
       "  <thead>\n",
       "    <tr style=\"text-align: right;\">\n",
       "      <th></th>\n",
       "      <th>rand</th>\n",
       "      <th>randint</th>\n",
       "      <th>randn</th>\n",
       "      <th>random_sample</th>\n",
       "      <th>binomial</th>\n",
       "      <th>beta</th>\n",
       "    </tr>\n",
       "  </thead>\n",
       "  <tbody>\n",
       "    <tr>\n",
       "      <th>count</th>\n",
       "      <td>1000.000000</td>\n",
       "      <td>1000.000000</td>\n",
       "      <td>1000.000000</td>\n",
       "      <td>1000.000000</td>\n",
       "      <td>1000.00000</td>\n",
       "      <td>1000.000000</td>\n",
       "    </tr>\n",
       "    <tr>\n",
       "      <th>mean</th>\n",
       "      <td>0.497015</td>\n",
       "      <td>49.224000</td>\n",
       "      <td>-0.054651</td>\n",
       "      <td>0.504412</td>\n",
       "      <td>0.49000</td>\n",
       "      <td>0.508469</td>\n",
       "    </tr>\n",
       "    <tr>\n",
       "      <th>std</th>\n",
       "      <td>0.288619</td>\n",
       "      <td>28.133349</td>\n",
       "      <td>1.016552</td>\n",
       "      <td>0.285573</td>\n",
       "      <td>0.50015</td>\n",
       "      <td>0.288944</td>\n",
       "    </tr>\n",
       "    <tr>\n",
       "      <th>min</th>\n",
       "      <td>0.000525</td>\n",
       "      <td>0.000000</td>\n",
       "      <td>-3.405606</td>\n",
       "      <td>0.001359</td>\n",
       "      <td>0.00000</td>\n",
       "      <td>0.000373</td>\n",
       "    </tr>\n",
       "    <tr>\n",
       "      <th>25%</th>\n",
       "      <td>0.241000</td>\n",
       "      <td>25.000000</td>\n",
       "      <td>-0.741640</td>\n",
       "      <td>0.264121</td>\n",
       "      <td>0.00000</td>\n",
       "      <td>0.256070</td>\n",
       "    </tr>\n",
       "    <tr>\n",
       "      <th>50%</th>\n",
       "      <td>0.497571</td>\n",
       "      <td>48.000000</td>\n",
       "      <td>-0.074852</td>\n",
       "      <td>0.505738</td>\n",
       "      <td>0.00000</td>\n",
       "      <td>0.523674</td>\n",
       "    </tr>\n",
       "    <tr>\n",
       "      <th>75%</th>\n",
       "      <td>0.742702</td>\n",
       "      <td>73.000000</td>\n",
       "      <td>0.602928</td>\n",
       "      <td>0.743445</td>\n",
       "      <td>1.00000</td>\n",
       "      <td>0.758901</td>\n",
       "    </tr>\n",
       "    <tr>\n",
       "      <th>max</th>\n",
       "      <td>0.999275</td>\n",
       "      <td>99.000000</td>\n",
       "      <td>3.861652</td>\n",
       "      <td>0.995010</td>\n",
       "      <td>1.00000</td>\n",
       "      <td>0.999007</td>\n",
       "    </tr>\n",
       "  </tbody>\n",
       "</table>\n",
       "</div>"
      ],
      "text/plain": [
       "              rand      randint        randn  random_sample    binomial  \\\n",
       "count  1000.000000  1000.000000  1000.000000    1000.000000  1000.00000   \n",
       "mean      0.497015    49.224000    -0.054651       0.504412     0.49000   \n",
       "std       0.288619    28.133349     1.016552       0.285573     0.50015   \n",
       "min       0.000525     0.000000    -3.405606       0.001359     0.00000   \n",
       "25%       0.241000    25.000000    -0.741640       0.264121     0.00000   \n",
       "50%       0.497571    48.000000    -0.074852       0.505738     0.00000   \n",
       "75%       0.742702    73.000000     0.602928       0.743445     1.00000   \n",
       "max       0.999275    99.000000     3.861652       0.995010     1.00000   \n",
       "\n",
       "              beta  \n",
       "count  1000.000000  \n",
       "mean      0.508469  \n",
       "std       0.288944  \n",
       "min       0.000373  \n",
       "25%       0.256070  \n",
       "50%       0.523674  \n",
       "75%       0.758901  \n",
       "max       0.999007  "
      ]
     },
     "execution_count": 18,
     "metadata": {},
     "output_type": "execute_result"
    }
   ],
   "source": [
    "df.describe()"
   ]
  }
 ],
 "metadata": {
  "kernelspec": {
   "display_name": "Python (py367)",
   "language": "python",
   "name": "py367"
  },
  "language_info": {
   "codemirror_mode": {
    "name": "ipython",
    "version": 3
   },
   "file_extension": ".py",
   "mimetype": "text/x-python",
   "name": "python",
   "nbconvert_exporter": "python",
   "pygments_lexer": "ipython3",
   "version": "3.6.7"
  },
  "nikola": {
   "category": "Machine Learning",
   "date": "2019-06-18 07:19:45 UTC-07:00",
   "description": "introduce how to calclate the avrage, variance, and standard deviation using pandas",
   "link": "",
   "slug": "calculate-the-average-variance-and-standard-deviation",
   "tags": "pandas, Basic",
   "title": "Calculate The Average, Variance, And Standard Deviation",
   "type": "text"
  },
  "toc": {
   "base_numbering": 1,
   "nav_menu": {},
   "number_sections": true,
   "sideBar": true,
   "skip_h1_title": false,
   "title_cell": "Table of Contents",
   "title_sidebar": "Contents",
   "toc_cell": false,
   "toc_position": {},
   "toc_section_display": true,
   "toc_window_display": false
  }
 },
 "nbformat": 4,
 "nbformat_minor": 2
}
