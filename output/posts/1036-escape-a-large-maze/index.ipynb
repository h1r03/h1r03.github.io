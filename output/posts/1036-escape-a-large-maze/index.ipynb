{
 "cells": [
  {
   "cell_type": "markdown",
   "metadata": {},
   "source": [
    "# Problem Setting\n",
    "In a 1 million by 1 million grid, the coordinates of each grid square are `(x, y)` with `0 <= x, y < 10^6`.\n",
    "\n",
    "We start at the `source` square and want to reach the `target` square.  Each move, we can walk to a 4-directionally adjacent square in the grid that isn't in the given list of `blocked` squares.\n",
    "\n",
    "Return `true` if and only if it is possible to reach the target square through a sequence of moves\n",
    "\n",
    "Link for Problem: [leetcode](https://leetcode.com/contest/weekly-contest-134/problems/escape-a-large-maze/)\n",
    "\n",
    "## Example 1:\n",
    "Input: blocked = [[0,1],[1,0]], source = [0,0], target = [0,2]\n",
    "\n",
    "Output: false\n",
    "\n",
    "Explanation: \n",
    "The target square is inaccessible starting from the source square, because we can't walk outside the grid.\n",
    "\n",
    "\n",
    "## Example 2:\n",
    "Input: blocked = [], source = [0,0], target = [999999,999999]\n",
    "\n",
    "Output: true\n",
    "\n",
    "Explanation: \n",
    "\n",
    "Because there are no blocked cells, it's possible to reach the target square.\n"
   ]
  },
  {
   "cell_type": "markdown",
   "metadata": {},
   "source": [
    "<!-- TEASER_END -->"
   ]
  },
  {
   "cell_type": "markdown",
   "metadata": {},
   "source": [
    "# Solution from [badgergo](https://leetcode.com/badgergo/)\n"
   ]
  },
  {
   "cell_type": "code",
   "execution_count": 5,
   "metadata": {
    "ExecuteTime": {
     "end_time": "2019-05-02T05:59:44.655337Z",
     "start_time": "2019-05-02T05:59:44.643561Z"
    }
   },
   "outputs": [],
   "source": [
    "import collections\n",
    "from typing import List, Set, Dict, Tuple, Optional\n",
    "class Solution:\n",
    "    def isEscapePossible(self, blocked: List[List[int]], source: List[int], target: List[int]) -> bool:\n",
    "        blocked = {(x, y) for x, y in blocked}\n",
    "        source = tuple(source)\n",
    "        target = tuple(target)\n",
    "        def bfs(s, e):\n",
    "            visited = {s}\n",
    "            frontier = collections.deque([s])\n",
    "            while frontier:\n",
    "                sz = len(frontier)\n",
    "                if sz > len(blocked) * 4:\n",
    "                    return 1\n",
    "                for i in range(sz):\n",
    "                    r, c = frontier.popleft()\n",
    "                    if (r, c) == e:\n",
    "                        return 2\n",
    "                    for newr, newc in (r - 1, c), (r + 1, c), (r, c - 1), (r, c + 1):\n",
    "                        if 0 <= newr < 1000000 and 0 <= newc < 1000000 and (newr, newc) not in blocked and (newr, newc) not in visited:\n",
    "                            visited.add((newr, newc))\n",
    "                            frontier.append((newr, newc))\n",
    "            return 0\n",
    "        return bfs(source, target) + bfs(target, source) > 1"
   ]
  },
  {
   "cell_type": "code",
   "execution_count": 10,
   "metadata": {
    "ExecuteTime": {
     "end_time": "2019-05-02T06:04:27.451098Z",
     "start_time": "2019-05-02T06:04:27.445190Z"
    }
   },
   "outputs": [
    {
     "data": {
      "text/plain": [
       "False"
      ]
     },
     "execution_count": 10,
     "metadata": {},
     "output_type": "execute_result"
    }
   ],
   "source": [
    "# Example 1\n",
    "blocked = [[0,1],[1,0]]; source = [0,0]; target = [0,2]\n",
    "s = Solution()\n",
    "s.isEscapePossible(blocked, source, target)"
   ]
  },
  {
   "cell_type": "markdown",
   "metadata": {},
   "source": [
    "## Step-by-step understanding\n",
    "This problem can be solved by using dynamic programming. Overall flow is as blew:\n",
    "\n",
    "1. Initial setting\n",
    "2. Define recursive function `bfs` for dynamic programming\n",
    "3. Execute the recursive function from the starting point i.e., `source` to the end point i.e. `target` as well as the other way around i.e., from `target` to `source`\n",
    "\n",
    "\n"
   ]
  },
  {
   "cell_type": "markdown",
   "metadata": {
    "ExecuteTime": {
     "end_time": "2019-05-02T06:02:25.716030Z",
     "start_time": "2019-05-02T06:02:25.712634Z"
    }
   },
   "source": [
    "### Initial setting\n",
    "L5-7 convert input arguments into tuple format."
   ]
  },
  {
   "cell_type": "code",
   "execution_count": 11,
   "metadata": {
    "ExecuteTime": {
     "end_time": "2019-05-02T06:04:29.981880Z",
     "start_time": "2019-05-02T06:04:29.974728Z"
    }
   },
   "outputs": [
    {
     "name": "stdout",
     "output_type": "stream",
     "text": [
      "Before:  [[0, 1], [1, 0]] [0, 0] [0, 2]\n",
      "After:  {(0, 1), (1, 0)} (0, 0) (0, 2)\n"
     ]
    }
   ],
   "source": [
    "print('Before: ', blocked, source, target)\n",
    "blocked = {(x, y) for x, y in blocked}\n",
    "source = tuple(source)\n",
    "target = tuple(target)\n",
    "print('After: ', blocked, source, target)"
   ]
  },
  {
   "cell_type": "markdown",
   "metadata": {
    "ExecuteTime": {
     "end_time": "2019-05-02T06:04:40.432987Z",
     "start_time": "2019-05-02T06:04:40.429726Z"
    }
   },
   "source": [
    "### Define `dfs`\n",
    "This recursive function explore the 1 million by 1 million grid using **DFS (Depth First Search)**, in which a recursive function goes deeper search areas first until it reaches a sort of the end. "
   ]
  },
  {
   "cell_type": "code",
   "execution_count": 13,
   "metadata": {
    "ExecuteTime": {
     "end_time": "2019-05-02T06:07:20.978767Z",
     "start_time": "2019-05-02T06:07:20.970916Z"
    }
   },
   "outputs": [],
   "source": [
    "def bfs(s, e):\n",
    "    visited = {s}\n",
    "    frontier = collections.deque([s])\n",
    "    while frontier:\n",
    "        sz = len(frontier)\n",
    "        if sz > len(blocked) * 4:\n",
    "            return 1\n",
    "        for i in range(sz):\n",
    "            r, c = frontier.popleft()\n",
    "            if (r, c) == e:\n",
    "                return 2\n",
    "            for newr, newc in (r - 1, c), (r + 1, c), (r, c - 1), (r, c + 1):\n",
    "                if 0 <= newr < 1000000 and 0 <= newc < 1000000 and (newr, newc) not in blocked and (newr, newc) not in visited:\n",
    "                    visited.add((newr, newc))\n",
    "                    frontier.append((newr, newc))\n",
    "    return 0"
   ]
  },
  {
   "cell_type": "markdown",
   "metadata": {},
   "source": [
    "* `visited` keeps tracking where it is already searched. \n",
    "* `frontier` keeps tracking the grid coordinates it needs to check.  "
   ]
  },
  {
   "cell_type": "code",
   "execution_count": 16,
   "metadata": {
    "ExecuteTime": {
     "end_time": "2019-05-02T06:11:11.431484Z",
     "start_time": "2019-05-02T06:11:11.422547Z"
    }
   },
   "outputs": [],
   "source": [
    "s = source; e = target\n",
    "\n",
    "visited = {s}\n",
    "frontier = collections.deque([s])\n",
    "while frontier:\n",
    "    sz = len(frontier)\n",
    "    if sz > len(blocked) * 4:\n",
    "        pass\n",
    "#         return 1\n",
    "    for i in range(sz):\n",
    "        r, c = frontier.popleft()\n",
    "        if (r, c) == e:\n",
    "            pass\n",
    "#             return 2\n",
    "        for newr, newc in (r - 1, c), (r + 1, c), (r, c - 1), (r, c + 1):\n",
    "            if 0 <= newr < 1000000 and 0 <= newc < 1000000 and (newr, newc) not in blocked and (newr, newc) not in visited:\n",
    "                visited.add((newr, newc))\n",
    "                frontier.append((newr, newc))\n",
    "    break"
   ]
  },
  {
   "cell_type": "code",
   "execution_count": 22,
   "metadata": {
    "ExecuteTime": {
     "end_time": "2019-05-02T06:12:27.202880Z",
     "start_time": "2019-05-02T06:12:27.197981Z"
    }
   },
   "outputs": [
    {
     "name": "stdout",
     "output_type": "stream",
     "text": [
      "{(0, 0)} deque([]) 1 2\n"
     ]
    }
   ],
   "source": [
    "print(visited, frontier, sz, len(blocked))"
   ]
  },
  {
   "cell_type": "markdown",
   "metadata": {},
   "source": [
    "### Check a 4-directionally adjacent square\n",
    "There are 4 different direction that we can move. The `if` statement checks the followings:\n",
    "* the next point is within the grid (make sure that it is not out of indexes.)\n",
    "* the next point is not in the `blocked` list\n",
    "* the next point is not in the `visited` list\n",
    "\n",
    "If all three conditions are met, it adds the next points `(newr, newc)` to `visited`. \n",
    "Also, it appends the next points are `frontier`\n",
    "```python\n",
    "for newr, newc in (r - 1, c), (r + 1, c), (r, c - 1), (r, c + 1):\n",
    "    if 0 <= newr < 1000000 and 0 <= newc < 1000000 and\n",
    "    (newr, newc) not in blocked and\n",
    "    (newr, newc) not in visited:\n",
    "\n",
    "        visited.add((newr, newc))\n",
    "        frontier.append((newr, newc))\n",
    "```\n"
   ]
  },
  {
   "cell_type": "markdown",
   "metadata": {},
   "source": [
    "### Check if one of the frontiers reaches the end `e`\n",
    "In the for loop, it takes one coordinate `(r, c)` from `frontier` and check if it matches with `e`, the end destination.\n",
    "```python\n",
    "for i in range(sz):\n",
    "    r, c = frontier.popleft()\n",
    "    if (r, c) == e:\n",
    "        return 2\n",
    "\n",
    "```"
   ]
  },
  {
   "cell_type": "markdown",
   "metadata": {},
   "source": [
    "## Execute `dfs` from both `source` and `target`\n",
    "By executing the `dfs` from both `source` and `target`, if it meets on the same coordinate, it means it is solved. \n",
    "\n",
    "```python\n",
    "return bfs(source, target) + bfs(target, source) > 1\n",
    "```"
   ]
  }
 ],
 "metadata": {
  "kernelspec": {
   "display_name": "Python (py367)",
   "language": "python",
   "name": "py367"
  },
  "language_info": {
   "codemirror_mode": {
    "name": "ipython",
    "version": 3
   },
   "file_extension": ".py",
   "mimetype": "text/x-python",
   "name": "python",
   "nbconvert_exporter": "python",
   "pygments_lexer": "ipython3",
   "version": "3.6.7"
  },
  "nikola": {
   "category": "Coding",
   "date": "2019-05-01 23:01:08 UTC-07:00",
   "description": "",
   "link": "",
   "slug": "1036-escape-a-large-maze",
   "status": "published",
   "tags": "Dynamic Programming",
   "title": "1036. Escape a Large Maze",
   "type": "text"
  },
  "toc": {
   "base_numbering": 1,
   "nav_menu": {},
   "number_sections": true,
   "sideBar": true,
   "skip_h1_title": false,
   "title_cell": "Table of Contents",
   "title_sidebar": "Contents",
   "toc_cell": false,
   "toc_position": {},
   "toc_section_display": true,
   "toc_window_display": false
  }
 },
 "nbformat": 4,
 "nbformat_minor": 2
}
