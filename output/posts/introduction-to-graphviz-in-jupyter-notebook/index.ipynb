{
 "cells": [
  {
   "cell_type": "markdown",
   "metadata": {},
   "source": [
    "# Introduction to graphviz in Jupyter Noboteook\n",
    "The goal in this post is to introduce `graphviz` to draw the graph when we explain graph-related algorithm e.g., tree, binary search etc. It would be nicer to have such a visualization to quickly digest problems and solutions. \n",
    "\n",
    "Since we work with `TreeNode` and trees in a list-expresion e.g., [1, 2, null, 3] in LeetCode, the goal of this post is to easily convert the given tree in a list-expression into the visualization like below.\n"
   ]
  },
  {
   "cell_type": "code",
   "execution_count": 1,
   "metadata": {
    "ExecuteTime": {
     "end_time": "2019-02-27T07:01:28.543503Z",
     "start_time": "2019-02-27T07:01:28.524329Z"
    }
   },
   "outputs": [
    {
     "data": {
      "image/svg+xml": [
       "<svg height=\"188pt\" viewBox=\"0.00 0.00 206.00 188.00\" width=\"206pt\" xmlns=\"http://www.w3.org/2000/svg\" xmlns:xlink=\"http://www.w3.org/1999/xlink\">\n",
       "<g class=\"graph\" id=\"graph0\" transform=\"scale(1 1) rotate(0) translate(4 184)\">\n",
       "<title>%3</title>\n",
       "<polygon fill=\"#ffffff\" points=\"-4,4 -4,-184 202,-184 202,4 -4,4\" stroke=\"transparent\"/>\n",
       "<!-- __main__.TreeNode object at 0x10be5a390 -->\n",
       "<g class=\"node\" id=\"node1\">\n",
       "<title>__main__.TreeNode object at 0x10be5a390</title>\n",
       "<ellipse cx=\"135\" cy=\"-162\" fill=\"none\" rx=\"27\" ry=\"18\" stroke=\"#000000\"/>\n",
       "<text fill=\"#000000\" font-family=\"Times,serif\" font-size=\"14.00\" text-anchor=\"middle\" x=\"135\" y=\"-157.8\">3</text>\n",
       "</g>\n",
       "<!-- __main__.TreeNode object at 0x10be5a438 -->\n",
       "<g class=\"node\" id=\"node2\">\n",
       "<title>__main__.TreeNode object at 0x10be5a438</title>\n",
       "<ellipse cx=\"99\" cy=\"-90\" fill=\"none\" rx=\"27\" ry=\"18\" stroke=\"#000000\"/>\n",
       "<text fill=\"#000000\" font-family=\"Times,serif\" font-size=\"14.00\" text-anchor=\"middle\" x=\"99\" y=\"-85.8\">4</text>\n",
       "</g>\n",
       "<!-- __main__.TreeNode object at 0x10be5a390&#45;&gt;__main__.TreeNode object at 0x10be5a438 -->\n",
       "<g class=\"edge\" id=\"edge1\">\n",
       "<title>__main__.TreeNode object at 0x10be5a390-&gt;__main__.TreeNode object at 0x10be5a438</title>\n",
       "<path d=\"M126.2854,-144.5708C122.0403,-136.0807 116.8464,-125.6929 112.1337,-116.2674\" fill=\"none\" stroke=\"#000000\"/>\n",
       "<polygon fill=\"#000000\" points=\"115.237,-114.6477 107.6343,-107.2687 108.976,-117.7782 115.237,-114.6477\" stroke=\"#000000\"/>\n",
       "</g>\n",
       "<!-- __main__.TreeNode object at 0x10be5a400 -->\n",
       "<g class=\"node\" id=\"node5\">\n",
       "<title>__main__.TreeNode object at 0x10be5a400</title>\n",
       "<ellipse cx=\"171\" cy=\"-90\" fill=\"none\" rx=\"27\" ry=\"18\" stroke=\"#000000\"/>\n",
       "<text fill=\"#000000\" font-family=\"Times,serif\" font-size=\"14.00\" text-anchor=\"middle\" x=\"171\" y=\"-85.8\">5</text>\n",
       "</g>\n",
       "<!-- __main__.TreeNode object at 0x10be5a390&#45;&gt;__main__.TreeNode object at 0x10be5a400 -->\n",
       "<g class=\"edge\" id=\"edge4\">\n",
       "<title>__main__.TreeNode object at 0x10be5a390-&gt;__main__.TreeNode object at 0x10be5a400</title>\n",
       "<path d=\"M143.7146,-144.5708C147.9597,-136.0807 153.1536,-125.6929 157.8663,-116.2674\" fill=\"none\" stroke=\"#000000\"/>\n",
       "<polygon fill=\"#000000\" points=\"161.024,-117.7782 162.3657,-107.2687 154.763,-114.6477 161.024,-117.7782\" stroke=\"#000000\"/>\n",
       "</g>\n",
       "<!-- __main__.TreeNode object at 0x10be5a208 -->\n",
       "<g class=\"node\" id=\"node3\">\n",
       "<title>__main__.TreeNode object at 0x10be5a208</title>\n",
       "<ellipse cx=\"27\" cy=\"-18\" fill=\"none\" rx=\"27\" ry=\"18\" stroke=\"#000000\"/>\n",
       "<text fill=\"#000000\" font-family=\"Times,serif\" font-size=\"14.00\" text-anchor=\"middle\" x=\"27\" y=\"-13.8\">5</text>\n",
       "</g>\n",
       "<!-- __main__.TreeNode object at 0x10be5a438&#45;&gt;__main__.TreeNode object at 0x10be5a208 -->\n",
       "<g class=\"edge\" id=\"edge2\">\n",
       "<title>__main__.TreeNode object at 0x10be5a438-&gt;__main__.TreeNode object at 0x10be5a208</title>\n",
       "<path d=\"M83.7307,-74.7307C73.803,-64.803 60.6847,-51.6847 49.5637,-40.5637\" fill=\"none\" stroke=\"#000000\"/>\n",
       "<polygon fill=\"#000000\" points=\"51.7933,-37.8436 42.2473,-33.2473 46.8436,-42.7933 51.7933,-37.8436\" stroke=\"#000000\"/>\n",
       "</g>\n",
       "<!-- __main__.TreeNode object at 0x10be5a3c8 -->\n",
       "<g class=\"node\" id=\"node4\">\n",
       "<title>__main__.TreeNode object at 0x10be5a3c8</title>\n",
       "<ellipse cx=\"99\" cy=\"-18\" fill=\"none\" rx=\"27\" ry=\"18\" stroke=\"#000000\"/>\n",
       "<text fill=\"#000000\" font-family=\"Times,serif\" font-size=\"14.00\" text-anchor=\"middle\" x=\"99\" y=\"-13.8\">4</text>\n",
       "</g>\n",
       "<!-- __main__.TreeNode object at 0x10be5a438&#45;&gt;__main__.TreeNode object at 0x10be5a3c8 -->\n",
       "<g class=\"edge\" id=\"edge3\">\n",
       "<title>__main__.TreeNode object at 0x10be5a438-&gt;__main__.TreeNode object at 0x10be5a3c8</title>\n",
       "<path d=\"M99,-71.8314C99,-64.131 99,-54.9743 99,-46.4166\" fill=\"none\" stroke=\"#000000\"/>\n",
       "<polygon fill=\"#000000\" points=\"102.5001,-46.4132 99,-36.4133 95.5001,-46.4133 102.5001,-46.4132\" stroke=\"#000000\"/>\n",
       "</g>\n",
       "<!-- __main__.TreeNode object at 0x10be5af28 -->\n",
       "<g class=\"node\" id=\"node6\">\n",
       "<title>__main__.TreeNode object at 0x10be5af28</title>\n",
       "<ellipse cx=\"171\" cy=\"-18\" fill=\"none\" rx=\"27\" ry=\"18\" stroke=\"#000000\"/>\n",
       "<text fill=\"#000000\" font-family=\"Times,serif\" font-size=\"14.00\" text-anchor=\"middle\" x=\"171\" y=\"-13.8\">7</text>\n",
       "</g>\n",
       "<!-- __main__.TreeNode object at 0x10be5a400&#45;&gt;__main__.TreeNode object at 0x10be5af28 -->\n",
       "<g class=\"edge\" id=\"edge5\">\n",
       "<title>__main__.TreeNode object at 0x10be5a400-&gt;__main__.TreeNode object at 0x10be5af28</title>\n",
       "<path d=\"M171,-71.8314C171,-64.131 171,-54.9743 171,-46.4166\" fill=\"none\" stroke=\"#000000\"/>\n",
       "<polygon fill=\"#000000\" points=\"174.5001,-46.4132 171,-36.4133 167.5001,-46.4133 174.5001,-46.4132\" stroke=\"#000000\"/>\n",
       "</g>\n",
       "</g>\n",
       "</svg>"
      ],
      "text/plain": [
       "<IPython.core.display.SVG object>"
      ]
     },
     "execution_count": 1,
     "metadata": {},
     "output_type": "execute_result"
    }
   ],
   "source": [
    "from IPython.core.display import SVG\n",
    "SVG(filename='digraph.svg.svg')"
   ]
  },
  {
   "cell_type": "markdown",
   "metadata": {},
   "source": [
    "# Basic Usage\n",
    "First of all, let's plot simplest two nodes and the edge between them. "
   ]
  },
  {
   "cell_type": "code",
   "execution_count": 2,
   "metadata": {
    "ExecuteTime": {
     "end_time": "2019-02-27T07:01:28.583035Z",
     "start_time": "2019-02-27T07:01:28.570888Z"
    }
   },
   "outputs": [],
   "source": [
    "from graphviz import Digraph\n",
    "# Create Digraph object\n",
    "dot = Digraph()"
   ]
  },
  {
   "cell_type": "code",
   "execution_count": 3,
   "metadata": {
    "ExecuteTime": {
     "end_time": "2019-02-27T07:01:28.589363Z",
     "start_time": "2019-02-27T07:01:28.585534Z"
    }
   },
   "outputs": [],
   "source": [
    "# Add nodes 1 and 2\n",
    "dot.node('1')\n",
    "dot.node('2')\n",
    "\n",
    "# Add edge between 1 and 2\n",
    "dot.edges(['12'])"
   ]
  },
  {
   "cell_type": "code",
   "execution_count": 4,
   "metadata": {
    "ExecuteTime": {
     "end_time": "2019-02-27T07:01:28.665645Z",
     "start_time": "2019-02-27T07:01:28.591651Z"
    }
   },
   "outputs": [
    {
     "data": {
      "image/svg+xml": [
       "<?xml version=\"1.0\" encoding=\"UTF-8\" standalone=\"no\"?>\n",
       "<!DOCTYPE svg PUBLIC \"-//W3C//DTD SVG 1.1//EN\"\n",
       " \"http://www.w3.org/Graphics/SVG/1.1/DTD/svg11.dtd\">\n",
       "<!-- Generated by graphviz version 2.40.1 (20161225.0304)\n",
       " -->\n",
       "<!-- Title: %3 Pages: 1 -->\n",
       "<svg width=\"62pt\" height=\"116pt\"\n",
       " viewBox=\"0.00 0.00 62.00 116.00\" xmlns=\"http://www.w3.org/2000/svg\" xmlns:xlink=\"http://www.w3.org/1999/xlink\">\n",
       "<g id=\"graph0\" class=\"graph\" transform=\"scale(1 1) rotate(0) translate(4 112)\">\n",
       "<title>%3</title>\n",
       "<polygon fill=\"#ffffff\" stroke=\"transparent\" points=\"-4,4 -4,-112 58,-112 58,4 -4,4\"/>\n",
       "<!-- 1 -->\n",
       "<g id=\"node1\" class=\"node\">\n",
       "<title>1</title>\n",
       "<ellipse fill=\"none\" stroke=\"#000000\" cx=\"27\" cy=\"-90\" rx=\"27\" ry=\"18\"/>\n",
       "<text text-anchor=\"middle\" x=\"27\" y=\"-85.8\" font-family=\"Times,serif\" font-size=\"14.00\" fill=\"#000000\">1</text>\n",
       "</g>\n",
       "<!-- 2 -->\n",
       "<g id=\"node2\" class=\"node\">\n",
       "<title>2</title>\n",
       "<ellipse fill=\"none\" stroke=\"#000000\" cx=\"27\" cy=\"-18\" rx=\"27\" ry=\"18\"/>\n",
       "<text text-anchor=\"middle\" x=\"27\" y=\"-13.8\" font-family=\"Times,serif\" font-size=\"14.00\" fill=\"#000000\">2</text>\n",
       "</g>\n",
       "<!-- 1&#45;&gt;2 -->\n",
       "<g id=\"edge1\" class=\"edge\">\n",
       "<title>1&#45;&gt;2</title>\n",
       "<path fill=\"none\" stroke=\"#000000\" d=\"M27,-71.8314C27,-64.131 27,-54.9743 27,-46.4166\"/>\n",
       "<polygon fill=\"#000000\" stroke=\"#000000\" points=\"30.5001,-46.4132 27,-36.4133 23.5001,-46.4133 30.5001,-46.4132\"/>\n",
       "</g>\n",
       "</g>\n",
       "</svg>\n"
      ],
      "text/plain": [
       "<graphviz.dot.Digraph at 0x105934dd8>"
      ]
     },
     "execution_count": 4,
     "metadata": {},
     "output_type": "execute_result"
    }
   ],
   "source": [
    "# Visualize the graph\n",
    "dot"
   ]
  },
  {
   "cell_type": "markdown",
   "metadata": {},
   "source": [
    "# Input Tree Nodes\n",
    "Now we look at an example of input tree nodes like below. We wrote the function to merge two trees in [617. Merge Two Binary Trees](https://h1ros.github.io/posts/617-merge-two-binary-trees/) "
   ]
  },
  {
   "cell_type": "code",
   "execution_count": 5,
   "metadata": {
    "ExecuteTime": {
     "end_time": "2019-02-27T07:01:28.676127Z",
     "start_time": "2019-02-27T07:01:28.669244Z"
    }
   },
   "outputs": [],
   "source": [
    "# Definition for a binary tree node.\n",
    "class TreeNode(object):\n",
    "    def __init__(self, x):\n",
    "        self.val = x\n",
    "        self.left = None\n",
    "        self.right = None\n",
    "        \n",
    "\n",
    "class Solution(object):\n",
    "    def mergeTrees(self, t1, t2):\n",
    "        \"\"\"\n",
    "        :type t1: TreeNode\n",
    "        :type t2: TreeNode\n",
    "        :rtype: TreeNode\n",
    "        \"\"\"\n",
    "        \n",
    "        if t1 and t2:\n",
    "            # Merge the values from two trees\n",
    "            node = TreeNode(t1.val + t2.val)\n",
    "            \n",
    "            # Merge the left trees using the function recursively\n",
    "            node.left = self.mergeTrees(t1.left, t2.left)\n",
    "            \n",
    "            # Merge the right trees using the function recursively\n",
    "            node.right = self.mergeTrees(t1.right, t2.right)\n",
    "            \n",
    "            return node\n",
    "            \n",
    "        else:\n",
    "            return t1 or t2\n",
    "        "
   ]
  },
  {
   "cell_type": "code",
   "execution_count": 6,
   "metadata": {
    "ExecuteTime": {
     "end_time": "2019-02-27T07:01:28.684779Z",
     "start_time": "2019-02-27T07:01:28.678841Z"
    }
   },
   "outputs": [],
   "source": [
    "# Example 1\n",
    "\n",
    "# Left tree\n",
    "t1 = TreeNode(1)\n",
    "t1.left = TreeNode(3)\n",
    "t1.left.left = TreeNode(5)\n",
    "t1.right = TreeNode(2)\n",
    "\n",
    "# Right tree\n",
    "t2 = TreeNode(2)\n",
    "t2.left = TreeNode(1)\n",
    "t2.left.right = TreeNode(4)\n",
    "t2.right = TreeNode(3)\n",
    "t2.right.right = TreeNode(7)"
   ]
  },
  {
   "cell_type": "code",
   "execution_count": 7,
   "metadata": {
    "ExecuteTime": {
     "end_time": "2019-02-27T07:01:28.690736Z",
     "start_time": "2019-02-27T07:01:28.687484Z"
    }
   },
   "outputs": [],
   "source": [
    "s = Solution()\n",
    "merged_tree = s.mergeTrees(t1, t2)"
   ]
  },
  {
   "cell_type": "markdown",
   "metadata": {
    "ExecuteTime": {
     "end_time": "2019-02-27T06:13:56.967560Z",
     "start_time": "2019-02-27T06:13:56.965242Z"
    }
   },
   "source": [
    "## Visualize One Tree `t1`"
   ]
  },
  {
   "cell_type": "markdown",
   "metadata": {},
   "source": [
    "### Manual creation"
   ]
  },
  {
   "cell_type": "code",
   "execution_count": 8,
   "metadata": {
    "ExecuteTime": {
     "end_time": "2019-02-27T07:01:28.808037Z",
     "start_time": "2019-02-27T07:01:28.743665Z"
    }
   },
   "outputs": [
    {
     "data": {
      "image/svg+xml": [
       "<?xml version=\"1.0\" encoding=\"UTF-8\" standalone=\"no\"?>\n",
       "<!DOCTYPE svg PUBLIC \"-//W3C//DTD SVG 1.1//EN\"\n",
       " \"http://www.w3.org/Graphics/SVG/1.1/DTD/svg11.dtd\">\n",
       "<!-- Generated by graphviz version 2.40.1 (20161225.0304)\n",
       " -->\n",
       "<!-- Title: %3 Pages: 1 -->\n",
       "<svg width=\"134pt\" height=\"188pt\"\n",
       " viewBox=\"0.00 0.00 134.00 188.00\" xmlns=\"http://www.w3.org/2000/svg\" xmlns:xlink=\"http://www.w3.org/1999/xlink\">\n",
       "<g id=\"graph0\" class=\"graph\" transform=\"scale(1 1) rotate(0) translate(4 184)\">\n",
       "<title>%3</title>\n",
       "<polygon fill=\"#ffffff\" stroke=\"transparent\" points=\"-4,4 -4,-184 130,-184 130,4 -4,4\"/>\n",
       "<!-- 1 -->\n",
       "<g id=\"node1\" class=\"node\">\n",
       "<title>1</title>\n",
       "<ellipse fill=\"none\" stroke=\"#000000\" cx=\"63\" cy=\"-162\" rx=\"27\" ry=\"18\"/>\n",
       "<text text-anchor=\"middle\" x=\"63\" y=\"-157.8\" font-family=\"Times,serif\" font-size=\"14.00\" fill=\"#000000\">1</text>\n",
       "</g>\n",
       "<!-- 3 -->\n",
       "<g id=\"node2\" class=\"node\">\n",
       "<title>3</title>\n",
       "<ellipse fill=\"none\" stroke=\"#000000\" cx=\"27\" cy=\"-90\" rx=\"27\" ry=\"18\"/>\n",
       "<text text-anchor=\"middle\" x=\"27\" y=\"-85.8\" font-family=\"Times,serif\" font-size=\"14.00\" fill=\"#000000\">3</text>\n",
       "</g>\n",
       "<!-- 1&#45;&gt;3 -->\n",
       "<g id=\"edge2\" class=\"edge\">\n",
       "<title>1&#45;&gt;3</title>\n",
       "<path fill=\"none\" stroke=\"#000000\" d=\"M54.2854,-144.5708C50.0403,-136.0807 44.8464,-125.6929 40.1337,-116.2674\"/>\n",
       "<polygon fill=\"#000000\" stroke=\"#000000\" points=\"43.237,-114.6477 35.6343,-107.2687 36.976,-117.7782 43.237,-114.6477\"/>\n",
       "</g>\n",
       "<!-- 2 -->\n",
       "<g id=\"node3\" class=\"node\">\n",
       "<title>2</title>\n",
       "<ellipse fill=\"none\" stroke=\"#000000\" cx=\"99\" cy=\"-90\" rx=\"27\" ry=\"18\"/>\n",
       "<text text-anchor=\"middle\" x=\"99\" y=\"-85.8\" font-family=\"Times,serif\" font-size=\"14.00\" fill=\"#000000\">2</text>\n",
       "</g>\n",
       "<!-- 1&#45;&gt;2 -->\n",
       "<g id=\"edge1\" class=\"edge\">\n",
       "<title>1&#45;&gt;2</title>\n",
       "<path fill=\"none\" stroke=\"#000000\" d=\"M71.7146,-144.5708C75.9597,-136.0807 81.1536,-125.6929 85.8663,-116.2674\"/>\n",
       "<polygon fill=\"#000000\" stroke=\"#000000\" points=\"89.024,-117.7782 90.3657,-107.2687 82.763,-114.6477 89.024,-117.7782\"/>\n",
       "</g>\n",
       "<!-- 5 -->\n",
       "<g id=\"node4\" class=\"node\">\n",
       "<title>5</title>\n",
       "<ellipse fill=\"none\" stroke=\"#000000\" cx=\"27\" cy=\"-18\" rx=\"27\" ry=\"18\"/>\n",
       "<text text-anchor=\"middle\" x=\"27\" y=\"-13.8\" font-family=\"Times,serif\" font-size=\"14.00\" fill=\"#000000\">5</text>\n",
       "</g>\n",
       "<!-- 3&#45;&gt;5 -->\n",
       "<g id=\"edge3\" class=\"edge\">\n",
       "<title>3&#45;&gt;5</title>\n",
       "<path fill=\"none\" stroke=\"#000000\" d=\"M27,-71.8314C27,-64.131 27,-54.9743 27,-46.4166\"/>\n",
       "<polygon fill=\"#000000\" stroke=\"#000000\" points=\"30.5001,-46.4132 27,-36.4133 23.5001,-46.4133 30.5001,-46.4132\"/>\n",
       "</g>\n",
       "</g>\n",
       "</svg>\n"
      ],
      "text/plain": [
       "<graphviz.dot.Digraph at 0x105959ba8>"
      ]
     },
     "execution_count": 8,
     "metadata": {},
     "output_type": "execute_result"
    }
   ],
   "source": [
    "# Create Digraph object\n",
    "dot = Digraph()\n",
    "\n",
    "# Add nodes\n",
    "dot.node('1')\n",
    "dot.node('3')\n",
    "dot.node('2')\n",
    "dot.node('5')\n",
    "\n",
    "# Add edges\n",
    "dot.edges(['12', '13', '35'])\n",
    "\n",
    "# Visualize the graph\n",
    "dot"
   ]
  },
  {
   "cell_type": "markdown",
   "metadata": {},
   "source": [
    "### Programatic Creation"
   ]
  },
  {
   "cell_type": "code",
   "execution_count": 9,
   "metadata": {
    "ExecuteTime": {
     "end_time": "2019-02-27T07:01:28.821681Z",
     "start_time": "2019-02-27T07:01:28.812238Z"
    }
   },
   "outputs": [],
   "source": [
    "def visualize_tree(tree):\n",
    "    def add_nodes_edges(tree, dot=None):\n",
    "        # Create Digraph object\n",
    "        if dot is None:\n",
    "            dot = Digraph()\n",
    "            dot.node(name=str(tree), label=str(tree.val))\n",
    "\n",
    "        # Add nodes\n",
    "        if tree.left:\n",
    "            dot.node(name=str(tree.left) ,label=str(tree.left.val))\n",
    "            dot.edge(str(tree), str(tree.left))\n",
    "            dot = add_nodes_edges(tree.left, dot=dot)\n",
    "            \n",
    "        if tree.right:\n",
    "            dot.node(name=str(tree.right) ,label=str(tree.right.val))\n",
    "            dot.edge(str(tree), str(tree.right))\n",
    "            dot = add_nodes_edges(tree.right, dot=dot)\n",
    "\n",
    "        return dot\n",
    "    \n",
    "    # Add nodes recursively and create a list of edges\n",
    "    dot = add_nodes_edges(tree)\n",
    "\n",
    "    # Visualize the graph\n",
    "    display(dot)\n",
    "    \n",
    "    return dot\n",
    "    "
   ]
  },
  {
   "cell_type": "code",
   "execution_count": 10,
   "metadata": {
    "ExecuteTime": {
     "end_time": "2019-02-27T07:01:28.883045Z",
     "start_time": "2019-02-27T07:01:28.824219Z"
    }
   },
   "outputs": [
    {
     "data": {
      "image/svg+xml": [
       "<?xml version=\"1.0\" encoding=\"UTF-8\" standalone=\"no\"?>\n",
       "<!DOCTYPE svg PUBLIC \"-//W3C//DTD SVG 1.1//EN\"\n",
       " \"http://www.w3.org/Graphics/SVG/1.1/DTD/svg11.dtd\">\n",
       "<!-- Generated by graphviz version 2.40.1 (20161225.0304)\n",
       " -->\n",
       "<!-- Title: %3 Pages: 1 -->\n",
       "<svg width=\"134pt\" height=\"188pt\"\n",
       " viewBox=\"0.00 0.00 134.00 188.00\" xmlns=\"http://www.w3.org/2000/svg\" xmlns:xlink=\"http://www.w3.org/1999/xlink\">\n",
       "<g id=\"graph0\" class=\"graph\" transform=\"scale(1 1) rotate(0) translate(4 184)\">\n",
       "<title>%3</title>\n",
       "<polygon fill=\"#ffffff\" stroke=\"transparent\" points=\"-4,4 -4,-184 130,-184 130,4 -4,4\"/>\n",
       "<!-- __main__.TreeNode object at 0x1059596a0 -->\n",
       "<g id=\"node1\" class=\"node\">\n",
       "<title>__main__.TreeNode object at 0x1059596a0</title>\n",
       "<ellipse fill=\"none\" stroke=\"#000000\" cx=\"63\" cy=\"-162\" rx=\"27\" ry=\"18\"/>\n",
       "<text text-anchor=\"middle\" x=\"63\" y=\"-157.8\" font-family=\"Times,serif\" font-size=\"14.00\" fill=\"#000000\">1</text>\n",
       "</g>\n",
       "<!-- __main__.TreeNode object at 0x105959358 -->\n",
       "<g id=\"node2\" class=\"node\">\n",
       "<title>__main__.TreeNode object at 0x105959358</title>\n",
       "<ellipse fill=\"none\" stroke=\"#000000\" cx=\"27\" cy=\"-90\" rx=\"27\" ry=\"18\"/>\n",
       "<text text-anchor=\"middle\" x=\"27\" y=\"-85.8\" font-family=\"Times,serif\" font-size=\"14.00\" fill=\"#000000\">3</text>\n",
       "</g>\n",
       "<!-- __main__.TreeNode object at 0x1059596a0&#45;&gt;__main__.TreeNode object at 0x105959358 -->\n",
       "<g id=\"edge1\" class=\"edge\">\n",
       "<title>__main__.TreeNode object at 0x1059596a0&#45;&gt;__main__.TreeNode object at 0x105959358</title>\n",
       "<path fill=\"none\" stroke=\"#000000\" d=\"M54.2854,-144.5708C50.0403,-136.0807 44.8464,-125.6929 40.1337,-116.2674\"/>\n",
       "<polygon fill=\"#000000\" stroke=\"#000000\" points=\"43.237,-114.6477 35.6343,-107.2687 36.976,-117.7782 43.237,-114.6477\"/>\n",
       "</g>\n",
       "<!-- __main__.TreeNode object at 0x105959518 -->\n",
       "<g id=\"node4\" class=\"node\">\n",
       "<title>__main__.TreeNode object at 0x105959518</title>\n",
       "<ellipse fill=\"none\" stroke=\"#000000\" cx=\"99\" cy=\"-90\" rx=\"27\" ry=\"18\"/>\n",
       "<text text-anchor=\"middle\" x=\"99\" y=\"-85.8\" font-family=\"Times,serif\" font-size=\"14.00\" fill=\"#000000\">2</text>\n",
       "</g>\n",
       "<!-- __main__.TreeNode object at 0x1059596a0&#45;&gt;__main__.TreeNode object at 0x105959518 -->\n",
       "<g id=\"edge3\" class=\"edge\">\n",
       "<title>__main__.TreeNode object at 0x1059596a0&#45;&gt;__main__.TreeNode object at 0x105959518</title>\n",
       "<path fill=\"none\" stroke=\"#000000\" d=\"M71.7146,-144.5708C75.9597,-136.0807 81.1536,-125.6929 85.8663,-116.2674\"/>\n",
       "<polygon fill=\"#000000\" stroke=\"#000000\" points=\"89.024,-117.7782 90.3657,-107.2687 82.763,-114.6477 89.024,-117.7782\"/>\n",
       "</g>\n",
       "<!-- __main__.TreeNode object at 0x1059592b0 -->\n",
       "<g id=\"node3\" class=\"node\">\n",
       "<title>__main__.TreeNode object at 0x1059592b0</title>\n",
       "<ellipse fill=\"none\" stroke=\"#000000\" cx=\"27\" cy=\"-18\" rx=\"27\" ry=\"18\"/>\n",
       "<text text-anchor=\"middle\" x=\"27\" y=\"-13.8\" font-family=\"Times,serif\" font-size=\"14.00\" fill=\"#000000\">5</text>\n",
       "</g>\n",
       "<!-- __main__.TreeNode object at 0x105959358&#45;&gt;__main__.TreeNode object at 0x1059592b0 -->\n",
       "<g id=\"edge2\" class=\"edge\">\n",
       "<title>__main__.TreeNode object at 0x105959358&#45;&gt;__main__.TreeNode object at 0x1059592b0</title>\n",
       "<path fill=\"none\" stroke=\"#000000\" d=\"M27,-71.8314C27,-64.131 27,-54.9743 27,-46.4166\"/>\n",
       "<polygon fill=\"#000000\" stroke=\"#000000\" points=\"30.5001,-46.4132 27,-36.4133 23.5001,-46.4133 30.5001,-46.4132\"/>\n",
       "</g>\n",
       "</g>\n",
       "</svg>\n"
      ],
      "text/plain": [
       "<graphviz.dot.Digraph at 0x105959940>"
      ]
     },
     "metadata": {},
     "output_type": "display_data"
    }
   ],
   "source": [
    "dot = visualize_tree(t1)"
   ]
  },
  {
   "cell_type": "code",
   "execution_count": 11,
   "metadata": {
    "ExecuteTime": {
     "end_time": "2019-02-27T07:01:28.948207Z",
     "start_time": "2019-02-27T07:01:28.887432Z"
    }
   },
   "outputs": [
    {
     "data": {
      "image/svg+xml": [
       "<?xml version=\"1.0\" encoding=\"UTF-8\" standalone=\"no\"?>\n",
       "<!DOCTYPE svg PUBLIC \"-//W3C//DTD SVG 1.1//EN\"\n",
       " \"http://www.w3.org/Graphics/SVG/1.1/DTD/svg11.dtd\">\n",
       "<!-- Generated by graphviz version 2.40.1 (20161225.0304)\n",
       " -->\n",
       "<!-- Title: %3 Pages: 1 -->\n",
       "<svg width=\"134pt\" height=\"188pt\"\n",
       " viewBox=\"0.00 0.00 134.00 188.00\" xmlns=\"http://www.w3.org/2000/svg\" xmlns:xlink=\"http://www.w3.org/1999/xlink\">\n",
       "<g id=\"graph0\" class=\"graph\" transform=\"scale(1 1) rotate(0) translate(4 184)\">\n",
       "<title>%3</title>\n",
       "<polygon fill=\"#ffffff\" stroke=\"transparent\" points=\"-4,4 -4,-184 130,-184 130,4 -4,4\"/>\n",
       "<!-- __main__.TreeNode object at 0x1059595f8 -->\n",
       "<g id=\"node1\" class=\"node\">\n",
       "<title>__main__.TreeNode object at 0x1059595f8</title>\n",
       "<ellipse fill=\"none\" stroke=\"#000000\" cx=\"63\" cy=\"-162\" rx=\"27\" ry=\"18\"/>\n",
       "<text text-anchor=\"middle\" x=\"63\" y=\"-157.8\" font-family=\"Times,serif\" font-size=\"14.00\" fill=\"#000000\">2</text>\n",
       "</g>\n",
       "<!-- __main__.TreeNode object at 0x105959668 -->\n",
       "<g id=\"node2\" class=\"node\">\n",
       "<title>__main__.TreeNode object at 0x105959668</title>\n",
       "<ellipse fill=\"none\" stroke=\"#000000\" cx=\"27\" cy=\"-90\" rx=\"27\" ry=\"18\"/>\n",
       "<text text-anchor=\"middle\" x=\"27\" y=\"-85.8\" font-family=\"Times,serif\" font-size=\"14.00\" fill=\"#000000\">1</text>\n",
       "</g>\n",
       "<!-- __main__.TreeNode object at 0x1059595f8&#45;&gt;__main__.TreeNode object at 0x105959668 -->\n",
       "<g id=\"edge1\" class=\"edge\">\n",
       "<title>__main__.TreeNode object at 0x1059595f8&#45;&gt;__main__.TreeNode object at 0x105959668</title>\n",
       "<path fill=\"none\" stroke=\"#000000\" d=\"M54.2854,-144.5708C50.0403,-136.0807 44.8464,-125.6929 40.1337,-116.2674\"/>\n",
       "<polygon fill=\"#000000\" stroke=\"#000000\" points=\"43.237,-114.6477 35.6343,-107.2687 36.976,-117.7782 43.237,-114.6477\"/>\n",
       "</g>\n",
       "<!-- __main__.TreeNode object at 0x105959eb8 -->\n",
       "<g id=\"node4\" class=\"node\">\n",
       "<title>__main__.TreeNode object at 0x105959eb8</title>\n",
       "<ellipse fill=\"none\" stroke=\"#000000\" cx=\"99\" cy=\"-90\" rx=\"27\" ry=\"18\"/>\n",
       "<text text-anchor=\"middle\" x=\"99\" y=\"-85.8\" font-family=\"Times,serif\" font-size=\"14.00\" fill=\"#000000\">3</text>\n",
       "</g>\n",
       "<!-- __main__.TreeNode object at 0x1059595f8&#45;&gt;__main__.TreeNode object at 0x105959eb8 -->\n",
       "<g id=\"edge3\" class=\"edge\">\n",
       "<title>__main__.TreeNode object at 0x1059595f8&#45;&gt;__main__.TreeNode object at 0x105959eb8</title>\n",
       "<path fill=\"none\" stroke=\"#000000\" d=\"M71.7146,-144.5708C75.9597,-136.0807 81.1536,-125.6929 85.8663,-116.2674\"/>\n",
       "<polygon fill=\"#000000\" stroke=\"#000000\" points=\"89.024,-117.7782 90.3657,-107.2687 82.763,-114.6477 89.024,-117.7782\"/>\n",
       "</g>\n",
       "<!-- __main__.TreeNode object at 0x1059594a8 -->\n",
       "<g id=\"node3\" class=\"node\">\n",
       "<title>__main__.TreeNode object at 0x1059594a8</title>\n",
       "<ellipse fill=\"none\" stroke=\"#000000\" cx=\"27\" cy=\"-18\" rx=\"27\" ry=\"18\"/>\n",
       "<text text-anchor=\"middle\" x=\"27\" y=\"-13.8\" font-family=\"Times,serif\" font-size=\"14.00\" fill=\"#000000\">4</text>\n",
       "</g>\n",
       "<!-- __main__.TreeNode object at 0x105959668&#45;&gt;__main__.TreeNode object at 0x1059594a8 -->\n",
       "<g id=\"edge2\" class=\"edge\">\n",
       "<title>__main__.TreeNode object at 0x105959668&#45;&gt;__main__.TreeNode object at 0x1059594a8</title>\n",
       "<path fill=\"none\" stroke=\"#000000\" d=\"M27,-71.8314C27,-64.131 27,-54.9743 27,-46.4166\"/>\n",
       "<polygon fill=\"#000000\" stroke=\"#000000\" points=\"30.5001,-46.4132 27,-36.4133 23.5001,-46.4133 30.5001,-46.4132\"/>\n",
       "</g>\n",
       "<!-- __main__.TreeNode object at 0x105959fd0 -->\n",
       "<g id=\"node5\" class=\"node\">\n",
       "<title>__main__.TreeNode object at 0x105959fd0</title>\n",
       "<ellipse fill=\"none\" stroke=\"#000000\" cx=\"99\" cy=\"-18\" rx=\"27\" ry=\"18\"/>\n",
       "<text text-anchor=\"middle\" x=\"99\" y=\"-13.8\" font-family=\"Times,serif\" font-size=\"14.00\" fill=\"#000000\">7</text>\n",
       "</g>\n",
       "<!-- __main__.TreeNode object at 0x105959eb8&#45;&gt;__main__.TreeNode object at 0x105959fd0 -->\n",
       "<g id=\"edge4\" class=\"edge\">\n",
       "<title>__main__.TreeNode object at 0x105959eb8&#45;&gt;__main__.TreeNode object at 0x105959fd0</title>\n",
       "<path fill=\"none\" stroke=\"#000000\" d=\"M99,-71.8314C99,-64.131 99,-54.9743 99,-46.4166\"/>\n",
       "<polygon fill=\"#000000\" stroke=\"#000000\" points=\"102.5001,-46.4132 99,-36.4133 95.5001,-46.4133 102.5001,-46.4132\"/>\n",
       "</g>\n",
       "</g>\n",
       "</svg>\n"
      ],
      "text/plain": [
       "<graphviz.dot.Digraph at 0x105959d30>"
      ]
     },
     "metadata": {},
     "output_type": "display_data"
    }
   ],
   "source": [
    "dot = visualize_tree(t2)"
   ]
  },
  {
   "cell_type": "code",
   "execution_count": 12,
   "metadata": {
    "ExecuteTime": {
     "end_time": "2019-02-27T07:01:29.020878Z",
     "start_time": "2019-02-27T07:01:28.952047Z"
    }
   },
   "outputs": [
    {
     "data": {
      "image/svg+xml": [
       "<?xml version=\"1.0\" encoding=\"UTF-8\" standalone=\"no\"?>\n",
       "<!DOCTYPE svg PUBLIC \"-//W3C//DTD SVG 1.1//EN\"\n",
       " \"http://www.w3.org/Graphics/SVG/1.1/DTD/svg11.dtd\">\n",
       "<!-- Generated by graphviz version 2.40.1 (20161225.0304)\n",
       " -->\n",
       "<!-- Title: %3 Pages: 1 -->\n",
       "<svg width=\"206pt\" height=\"188pt\"\n",
       " viewBox=\"0.00 0.00 206.00 188.00\" xmlns=\"http://www.w3.org/2000/svg\" xmlns:xlink=\"http://www.w3.org/1999/xlink\">\n",
       "<g id=\"graph0\" class=\"graph\" transform=\"scale(1 1) rotate(0) translate(4 184)\">\n",
       "<title>%3</title>\n",
       "<polygon fill=\"#ffffff\" stroke=\"transparent\" points=\"-4,4 -4,-184 202,-184 202,4 -4,4\"/>\n",
       "<!-- __main__.TreeNode object at 0x1059590f0 -->\n",
       "<g id=\"node1\" class=\"node\">\n",
       "<title>__main__.TreeNode object at 0x1059590f0</title>\n",
       "<ellipse fill=\"none\" stroke=\"#000000\" cx=\"135\" cy=\"-162\" rx=\"27\" ry=\"18\"/>\n",
       "<text text-anchor=\"middle\" x=\"135\" y=\"-157.8\" font-family=\"Times,serif\" font-size=\"14.00\" fill=\"#000000\">3</text>\n",
       "</g>\n",
       "<!-- __main__.TreeNode object at 0x105959dd8 -->\n",
       "<g id=\"node2\" class=\"node\">\n",
       "<title>__main__.TreeNode object at 0x105959dd8</title>\n",
       "<ellipse fill=\"none\" stroke=\"#000000\" cx=\"99\" cy=\"-90\" rx=\"27\" ry=\"18\"/>\n",
       "<text text-anchor=\"middle\" x=\"99\" y=\"-85.8\" font-family=\"Times,serif\" font-size=\"14.00\" fill=\"#000000\">4</text>\n",
       "</g>\n",
       "<!-- __main__.TreeNode object at 0x1059590f0&#45;&gt;__main__.TreeNode object at 0x105959dd8 -->\n",
       "<g id=\"edge1\" class=\"edge\">\n",
       "<title>__main__.TreeNode object at 0x1059590f0&#45;&gt;__main__.TreeNode object at 0x105959dd8</title>\n",
       "<path fill=\"none\" stroke=\"#000000\" d=\"M126.2854,-144.5708C122.0403,-136.0807 116.8464,-125.6929 112.1337,-116.2674\"/>\n",
       "<polygon fill=\"#000000\" stroke=\"#000000\" points=\"115.237,-114.6477 107.6343,-107.2687 108.976,-117.7782 115.237,-114.6477\"/>\n",
       "</g>\n",
       "<!-- __main__.TreeNode object at 0x105959e48 -->\n",
       "<g id=\"node5\" class=\"node\">\n",
       "<title>__main__.TreeNode object at 0x105959e48</title>\n",
       "<ellipse fill=\"none\" stroke=\"#000000\" cx=\"171\" cy=\"-90\" rx=\"27\" ry=\"18\"/>\n",
       "<text text-anchor=\"middle\" x=\"171\" y=\"-85.8\" font-family=\"Times,serif\" font-size=\"14.00\" fill=\"#000000\">5</text>\n",
       "</g>\n",
       "<!-- __main__.TreeNode object at 0x1059590f0&#45;&gt;__main__.TreeNode object at 0x105959e48 -->\n",
       "<g id=\"edge4\" class=\"edge\">\n",
       "<title>__main__.TreeNode object at 0x1059590f0&#45;&gt;__main__.TreeNode object at 0x105959e48</title>\n",
       "<path fill=\"none\" stroke=\"#000000\" d=\"M143.7146,-144.5708C147.9597,-136.0807 153.1536,-125.6929 157.8663,-116.2674\"/>\n",
       "<polygon fill=\"#000000\" stroke=\"#000000\" points=\"161.024,-117.7782 162.3657,-107.2687 154.763,-114.6477 161.024,-117.7782\"/>\n",
       "</g>\n",
       "<!-- __main__.TreeNode object at 0x1059592b0 -->\n",
       "<g id=\"node3\" class=\"node\">\n",
       "<title>__main__.TreeNode object at 0x1059592b0</title>\n",
       "<ellipse fill=\"none\" stroke=\"#000000\" cx=\"27\" cy=\"-18\" rx=\"27\" ry=\"18\"/>\n",
       "<text text-anchor=\"middle\" x=\"27\" y=\"-13.8\" font-family=\"Times,serif\" font-size=\"14.00\" fill=\"#000000\">5</text>\n",
       "</g>\n",
       "<!-- __main__.TreeNode object at 0x105959dd8&#45;&gt;__main__.TreeNode object at 0x1059592b0 -->\n",
       "<g id=\"edge2\" class=\"edge\">\n",
       "<title>__main__.TreeNode object at 0x105959dd8&#45;&gt;__main__.TreeNode object at 0x1059592b0</title>\n",
       "<path fill=\"none\" stroke=\"#000000\" d=\"M83.7307,-74.7307C73.803,-64.803 60.6847,-51.6847 49.5637,-40.5637\"/>\n",
       "<polygon fill=\"#000000\" stroke=\"#000000\" points=\"51.7933,-37.8436 42.2473,-33.2473 46.8436,-42.7933 51.7933,-37.8436\"/>\n",
       "</g>\n",
       "<!-- __main__.TreeNode object at 0x1059594a8 -->\n",
       "<g id=\"node4\" class=\"node\">\n",
       "<title>__main__.TreeNode object at 0x1059594a8</title>\n",
       "<ellipse fill=\"none\" stroke=\"#000000\" cx=\"99\" cy=\"-18\" rx=\"27\" ry=\"18\"/>\n",
       "<text text-anchor=\"middle\" x=\"99\" y=\"-13.8\" font-family=\"Times,serif\" font-size=\"14.00\" fill=\"#000000\">4</text>\n",
       "</g>\n",
       "<!-- __main__.TreeNode object at 0x105959dd8&#45;&gt;__main__.TreeNode object at 0x1059594a8 -->\n",
       "<g id=\"edge3\" class=\"edge\">\n",
       "<title>__main__.TreeNode object at 0x105959dd8&#45;&gt;__main__.TreeNode object at 0x1059594a8</title>\n",
       "<path fill=\"none\" stroke=\"#000000\" d=\"M99,-71.8314C99,-64.131 99,-54.9743 99,-46.4166\"/>\n",
       "<polygon fill=\"#000000\" stroke=\"#000000\" points=\"102.5001,-46.4132 99,-36.4133 95.5001,-46.4133 102.5001,-46.4132\"/>\n",
       "</g>\n",
       "<!-- __main__.TreeNode object at 0x105959fd0 -->\n",
       "<g id=\"node6\" class=\"node\">\n",
       "<title>__main__.TreeNode object at 0x105959fd0</title>\n",
       "<ellipse fill=\"none\" stroke=\"#000000\" cx=\"171\" cy=\"-18\" rx=\"27\" ry=\"18\"/>\n",
       "<text text-anchor=\"middle\" x=\"171\" y=\"-13.8\" font-family=\"Times,serif\" font-size=\"14.00\" fill=\"#000000\">7</text>\n",
       "</g>\n",
       "<!-- __main__.TreeNode object at 0x105959e48&#45;&gt;__main__.TreeNode object at 0x105959fd0 -->\n",
       "<g id=\"edge5\" class=\"edge\">\n",
       "<title>__main__.TreeNode object at 0x105959e48&#45;&gt;__main__.TreeNode object at 0x105959fd0</title>\n",
       "<path fill=\"none\" stroke=\"#000000\" d=\"M171,-71.8314C171,-64.131 171,-54.9743 171,-46.4166\"/>\n",
       "<polygon fill=\"#000000\" stroke=\"#000000\" points=\"174.5001,-46.4132 171,-36.4133 167.5001,-46.4133 174.5001,-46.4132\"/>\n",
       "</g>\n",
       "</g>\n",
       "</svg>\n"
      ],
      "text/plain": [
       "<graphviz.dot.Digraph at 0x1059599b0>"
      ]
     },
     "metadata": {},
     "output_type": "display_data"
    }
   ],
   "source": [
    "dot = visualize_tree(merged_tree)"
   ]
  },
  {
   "cell_type": "code",
   "execution_count": 13,
   "metadata": {
    "ExecuteTime": {
     "end_time": "2019-02-27T07:01:29.089120Z",
     "start_time": "2019-02-27T07:01:29.024049Z"
    }
   },
   "outputs": [
    {
     "data": {
      "text/plain": [
       "'./digraph.svg.svg'"
      ]
     },
     "execution_count": 13,
     "metadata": {},
     "output_type": "execute_result"
    }
   ],
   "source": [
    "# Save as svg file\n",
    "dot.format = 'svg'\n",
    "dot.view(filename='digraph.svg', directory='./')"
   ]
  },
  {
   "cell_type": "markdown",
   "metadata": {},
   "source": [
    "# Reference\n",
    "\n",
    "We need `graphviz` package. You can also refer to [`graphviz` documentation](https://graphviz.readthedocs.io/en/stable/manual.html)\n"
   ]
  },
  {
   "cell_type": "code",
   "execution_count": 14,
   "metadata": {
    "ExecuteTime": {
     "end_time": "2019-02-27T07:01:31.501038Z",
     "start_time": "2019-02-27T07:01:29.093213Z"
    }
   },
   "outputs": [
    {
     "name": "stdout",
     "output_type": "stream",
     "text": [
      "Requirement already satisfied: graphviz in /Users/212339410/anaconda3/envs/py367/lib/python3.6/site-packages (0.10.1)\r\n"
     ]
    }
   ],
   "source": [
    "!pip install graphviz"
   ]
  }
 ],
 "metadata": {
  "celltoolbar": "Edit Metadata",
  "kernelspec": {
   "display_name": "Python (py367)",
   "language": "python",
   "name": "py367"
  },
  "language_info": {
   "codemirror_mode": {
    "name": "ipython",
    "version": 3
   },
   "file_extension": ".py",
   "mimetype": "text/x-python",
   "name": "python",
   "nbconvert_exporter": "python",
   "pygments_lexer": "ipython3",
   "version": "3.6.7"
  },
  "nikola": {
   "category": "Visualization",
   "date": "2019-02-26 21:43:34 UTC-08:00",
   "description": "",
   "link": "",
   "slug": "introduction-to-graphviz-in-jupyter-notebook",
   "tags": "",
   "title": "Introduction to Graphviz in Jupyter Notebook",
   "type": "text"
  },
  "toc": {
   "base_numbering": 1,
   "nav_menu": {},
   "number_sections": true,
   "sideBar": true,
   "skip_h1_title": false,
   "title_cell": "Table of Contents",
   "title_sidebar": "Contents",
   "toc_cell": false,
   "toc_position": {},
   "toc_section_display": true,
   "toc_window_display": false
  },
  "varInspector": {
   "cols": {
    "lenName": 16,
    "lenType": 16,
    "lenVar": 40
   },
   "kernels_config": {
    "python": {
     "delete_cmd_postfix": "",
     "delete_cmd_prefix": "del ",
     "library": "var_list.py",
     "varRefreshCmd": "print(var_dic_list())"
    },
    "r": {
     "delete_cmd_postfix": ") ",
     "delete_cmd_prefix": "rm(",
     "library": "var_list.r",
     "varRefreshCmd": "cat(var_dic_list()) "
    }
   },
   "types_to_exclude": [
    "module",
    "function",
    "builtin_function_or_method",
    "instance",
    "_Feature"
   ],
   "window_display": false
  }
 },
 "nbformat": 4,
 "nbformat_minor": 2
}
