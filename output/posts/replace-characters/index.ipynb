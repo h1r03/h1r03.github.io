{
 "cells": [
  {
   "cell_type": "markdown",
   "metadata": {},
   "source": [
    "# Goal \n",
    "This post aims to introduce how to replace the characters in python.\n",
    "\n",
    "\n"
   ]
  },
  {
   "cell_type": "markdown",
   "metadata": {},
   "source": [
    "# Create strings"
   ]
  },
  {
   "cell_type": "code",
   "execution_count": 2,
   "metadata": {
    "ExecuteTime": {
     "end_time": "2019-05-10T06:03:26.987828Z",
     "start_time": "2019-05-10T06:03:26.975714Z"
    }
   },
   "outputs": [
    {
     "data": {
      "text/plain": [
       "'String (structure), a long flexible structure made from threads twisted together, which is used to tie, bind, or hang other objects'"
      ]
     },
     "execution_count": 2,
     "metadata": {},
     "output_type": "execute_result"
    }
   ],
   "source": [
    "# Create strings\n",
    "strings = 'String (structure), a long flexible structure made from threads twisted together, which is used to tie, bind, or hang other objects'\n",
    "strings"
   ]
  },
  {
   "cell_type": "markdown",
   "metadata": {},
   "source": [
    "# Replace characters "
   ]
  },
  {
   "cell_type": "markdown",
   "metadata": {},
   "source": [
    "## .replace('{before}', '{after}')"
   ]
  },
  {
   "cell_type": "code",
   "execution_count": 3,
   "metadata": {
    "ExecuteTime": {
     "end_time": "2019-05-10T06:04:01.820966Z",
     "start_time": "2019-05-10T06:04:01.816343Z"
    }
   },
   "outputs": [
    {
     "data": {
      "text/plain": [
       "'atring (structure), a long flexible structure made from threads twisted together, which is used to tie, bind, or hang other objects'"
      ]
     },
     "execution_count": 3,
     "metadata": {},
     "output_type": "execute_result"
    }
   ],
   "source": [
    "# .replace('{before}', '{after}')\n",
    "strings.replace('S', 'a')"
   ]
  },
  {
   "cell_type": "markdown",
   "metadata": {},
   "source": [
    "## .replace can be chained"
   ]
  },
  {
   "cell_type": "code",
   "execution_count": 5,
   "metadata": {
    "ExecuteTime": {
     "end_time": "2019-05-10T06:04:29.378080Z",
     "start_time": "2019-05-10T06:04:29.372870Z"
    }
   },
   "outputs": [
    {
     "data": {
      "text/plain": [
       "'String_structure),_a_long_flexible_structure_made_from_threads_twisted_together,_which_is_used_to_tie,_bind,_or_hang_other_objects'"
      ]
     },
     "execution_count": 5,
     "metadata": {},
     "output_type": "execute_result"
    }
   ],
   "source": [
    "# .replace can be chained\n",
    "strings.replace('(', '').replace(' ', '_')"
   ]
  },
  {
   "cell_type": "markdown",
   "metadata": {},
   "source": [
    "## replace multiple characters using dictionary"
   ]
  },
  {
   "cell_type": "code",
   "execution_count": 15,
   "metadata": {
    "ExecuteTime": {
     "end_time": "2019-05-10T06:10:50.177587Z",
     "start_time": "2019-05-10T06:10:50.169149Z"
    }
   },
   "outputs": [
    {
     "name": "stdout",
     "output_type": "stream",
     "text": [
      "replace ( with  \n",
      "replace ) with  \n",
      "replace   with  \n",
      "replace , with  \n"
     ]
    },
    {
     "data": {
      "text/plain": [
       "'Stringstructurealongflexiblestructuremadefromthreadstwistedtogetherwhichisusedtotiebindorhangotherobjects'"
      ]
     },
     "execution_count": 15,
     "metadata": {},
     "output_type": "execute_result"
    }
   ],
   "source": [
    "d_replace = {'(': '',\n",
    "             ')': '',\n",
    "             ' ': '',\n",
    "             ',': ''}\n",
    "\n",
    "for old, new in d_replace.items():\n",
    "    print(f'replace {old} with {new} ')\n",
    "    strings = strings.replace(old, new)\n",
    "strings"
   ]
  }
 ],
 "metadata": {
  "kernelspec": {
   "display_name": "Python (py367)",
   "language": "python",
   "name": "py367"
  },
  "language_info": {
   "codemirror_mode": {
    "name": "ipython",
    "version": 3
   },
   "file_extension": ".py",
   "mimetype": "text/x-python",
   "name": "python",
   "nbconvert_exporter": "python",
   "pygments_lexer": "ipython3",
   "version": "3.6.7"
  },
  "nikola": {
   "category": "",
   "date": "2019-05-09 23:02:21 UTC-07:00",
   "description": "",
   "link": "",
   "slug": "replace-characters",
   "tags": "",
   "title": "Replace Characters",
   "type": "text"
  },
  "toc": {
   "base_numbering": 1,
   "nav_menu": {},
   "number_sections": true,
   "sideBar": true,
   "skip_h1_title": false,
   "title_cell": "Table of Contents",
   "title_sidebar": "Contents",
   "toc_cell": false,
   "toc_position": {},
   "toc_section_display": true,
   "toc_window_display": false
  }
 },
 "nbformat": 4,
 "nbformat_minor": 2
}
