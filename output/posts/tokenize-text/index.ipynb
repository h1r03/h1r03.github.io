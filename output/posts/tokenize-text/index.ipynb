{
 "cells": [
  {
   "cell_type": "markdown",
   "metadata": {},
   "source": [
    "# Goal\n",
    "\n",
    "This post aims to introduce how to tokenize text using `nltk`. \n",
    "\n",
    "**Reference**\n",
    "* [GeeksforGeeks - Tokenize text using NLTK in python](https://www.geeksforgeeks.org/tokenize-text-using-nltk-python/)\n",
    "* [Text-processing.com - Tokenize Demo](https://text-processing.com/demo/tokenize/)"
   ]
  },
  {
   "cell_type": "markdown",
   "metadata": {},
   "source": [
    "# Libraries"
   ]
  },
  {
   "cell_type": "code",
   "execution_count": 5,
   "metadata": {
    "ExecuteTime": {
     "end_time": "2019-05-30T12:47:26.608033Z",
     "start_time": "2019-05-30T12:47:26.604608Z"
    }
   },
   "outputs": [],
   "source": [
    "from nltk.tokenize import sent_tokenize, word_tokenize"
   ]
  },
  {
   "cell_type": "markdown",
   "metadata": {},
   "source": [
    "# Create a sentences"
   ]
  },
  {
   "cell_type": "code",
   "execution_count": 8,
   "metadata": {
    "ExecuteTime": {
     "end_time": "2019-05-30T12:48:50.927656Z",
     "start_time": "2019-05-30T12:48:50.922197Z"
    }
   },
   "outputs": [
    {
     "data": {
      "text/plain": [
       "\"Python is an interpreted, high-level, general-purpose programming language. Created by Guido van Rossum and first released in 1991, Python's design philosophy emphasizes code readability with its notable use of significant whitespace. Its language constructs and object-oriented approach aims to help programmers write clear, logical code for small and large-scale projects\""
      ]
     },
     "execution_count": 8,
     "metadata": {},
     "output_type": "execute_result"
    }
   ],
   "source": [
    "paragraph = \"Python is an interpreted, high-level, general-purpose programming language. Created by Guido van Rossum and first released in 1991, Python's design philosophy emphasizes code readability with its notable use of significant whitespace. Its language constructs and object-oriented approach aims to help programmers write clear, logical code for small and large-scale projects\"\n",
    "paragraph\n"
   ]
  },
  {
   "cell_type": "markdown",
   "metadata": {},
   "source": [
    "# Tokenize a paragraph into sentences"
   ]
  },
  {
   "cell_type": "code",
   "execution_count": 9,
   "metadata": {
    "ExecuteTime": {
     "end_time": "2019-05-30T12:48:54.120685Z",
     "start_time": "2019-05-30T12:48:54.115644Z"
    }
   },
   "outputs": [
    {
     "data": {
      "text/plain": [
       "['Python is an interpreted, high-level, general-purpose programming language.',\n",
       " \"Created by Guido van Rossum and first released in 1991, Python's design philosophy emphasizes code readability with its notable use of significant whitespace.\",\n",
       " 'Its language constructs and object-oriented approach aims to help programmers write clear, logical code for small and large-scale projects']"
      ]
     },
     "execution_count": 9,
     "metadata": {},
     "output_type": "execute_result"
    }
   ],
   "source": [
    "sent_tokenize(paragraph)"
   ]
  },
  {
   "cell_type": "markdown",
   "metadata": {},
   "source": [
    "# Tokenize a paragraph into words"
   ]
  },
  {
   "cell_type": "code",
   "execution_count": 10,
   "metadata": {
    "ExecuteTime": {
     "end_time": "2019-05-30T12:48:57.032794Z",
     "start_time": "2019-05-30T12:48:57.024996Z"
    }
   },
   "outputs": [
    {
     "data": {
      "text/plain": [
       "['Python',\n",
       " 'is',\n",
       " 'an',\n",
       " 'interpreted',\n",
       " ',',\n",
       " 'high-level',\n",
       " ',',\n",
       " 'general-purpose',\n",
       " 'programming',\n",
       " 'language',\n",
       " '.',\n",
       " 'Created',\n",
       " 'by',\n",
       " 'Guido',\n",
       " 'van',\n",
       " 'Rossum',\n",
       " 'and',\n",
       " 'first',\n",
       " 'released',\n",
       " 'in',\n",
       " '1991',\n",
       " ',',\n",
       " 'Python',\n",
       " \"'s\",\n",
       " 'design',\n",
       " 'philosophy',\n",
       " 'emphasizes',\n",
       " 'code',\n",
       " 'readability',\n",
       " 'with',\n",
       " 'its',\n",
       " 'notable',\n",
       " 'use',\n",
       " 'of',\n",
       " 'significant',\n",
       " 'whitespace',\n",
       " '.',\n",
       " 'Its',\n",
       " 'language',\n",
       " 'constructs',\n",
       " 'and',\n",
       " 'object-oriented',\n",
       " 'approach',\n",
       " 'aims',\n",
       " 'to',\n",
       " 'help',\n",
       " 'programmers',\n",
       " 'write',\n",
       " 'clear',\n",
       " ',',\n",
       " 'logical',\n",
       " 'code',\n",
       " 'for',\n",
       " 'small',\n",
       " 'and',\n",
       " 'large-scale',\n",
       " 'projects']"
      ]
     },
     "execution_count": 10,
     "metadata": {},
     "output_type": "execute_result"
    }
   ],
   "source": [
    "word_tokenize(paragraph)"
   ]
  },
  {
   "cell_type": "code",
   "execution_count": null,
   "metadata": {},
   "outputs": [],
   "source": []
  }
 ],
 "metadata": {
  "kernelspec": {
   "display_name": "Python (py367)",
   "language": "python",
   "name": "py367"
  },
  "language_info": {
   "codemirror_mode": {
    "name": "ipython",
    "version": 3
   },
   "file_extension": ".py",
   "mimetype": "text/x-python",
   "name": "python",
   "nbconvert_exporter": "python",
   "pygments_lexer": "ipython3",
   "version": "3.6.7"
  },
  "nikola": {
   "category": "Machine Learning",
   "date": "2019-05-30 05:40:08 UTC-07:00",
   "description": "Introduce how to tokenize words",
   "link": "",
   "slug": "tokenize-text",
   "tags": "Text Processing, Tokenize",
   "title": "Tokenize Text",
   "type": "text"
  },
  "toc": {
   "base_numbering": 1,
   "nav_menu": {},
   "number_sections": true,
   "sideBar": true,
   "skip_h1_title": false,
   "title_cell": "Table of Contents",
   "title_sidebar": "Contents",
   "toc_cell": false,
   "toc_position": {},
   "toc_section_display": true,
   "toc_window_display": false
  }
 },
 "nbformat": 4,
 "nbformat_minor": 2
}
