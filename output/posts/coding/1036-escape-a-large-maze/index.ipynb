{
 "cells": [
  {
   "cell_type": "markdown",
   "metadata": {},
   "source": [
    "# Problem Setting\n",
    "In a 1 million by 1 million grid, the coordinates of each grid square are `(x, y)` with `0 <= x, y < 10^6`.\n",
    "\n",
    "We start at the `source` square and want to reach the `target` square.  Each move, we can walk to a 4-directionally adjacent square in the grid that isn't in the given list of `blocked` squares.\n",
    "\n",
    "Return `true` if and only if it is possible to reach the target square through a sequence of moves\n",
    "\n",
    "Link for Problem: [leetcode](https://leetcode.com/contest/weekly-contest-134/problems/escape-a-large-maze/)\n",
    "\n",
    "## Example 1:\n",
    "Input: blocked = [[0,1],[1,0]], source = [0,0], target = [0,2]\n",
    "\n",
    "Output: false\n",
    "\n",
    "Explanation: \n",
    "The target square is inaccessible starting from the source square, because we can't walk outside the grid."
   ]
  },
  {
   "cell_type": "code",
   "execution_count": null,
   "metadata": {},
   "outputs": [],
   "source": []
  }
 ],
 "metadata": {
  "kernelspec": {
   "display_name": "Python (py367)",
   "language": "python",
   "name": "py367"
  },
  "language_info": {
   "codemirror_mode": {
    "name": "ipython",
    "version": 3
   },
   "file_extension": ".py",
   "mimetype": "text/x-python",
   "name": "python",
   "nbconvert_exporter": "python",
   "pygments_lexer": "ipython3",
   "version": "3.6.7"
  },
  "nikola": {
   "category": "",
   "date": "2019-04-28 17:01:08 UTC-07:00",
   "description": "",
   "link": "",
   "slug": "1036-escape-a-large-maze",
   "status": "draft",
   "tags": "Dynamic Programming",
   "title": "1036. Escape a Large Maze",
   "type": "text"
  },
  "toc": {
   "base_numbering": 1,
   "nav_menu": {},
   "number_sections": true,
   "sideBar": true,
   "skip_h1_title": false,
   "title_cell": "Table of Contents",
   "title_sidebar": "Contents",
   "toc_cell": false,
   "toc_position": {},
   "toc_section_display": true,
   "toc_window_display": false
  }
 },
 "nbformat": 4,
 "nbformat_minor": 2
}
