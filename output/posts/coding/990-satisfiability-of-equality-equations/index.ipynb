{
 "cells": [
  {
   "cell_type": "markdown",
   "metadata": {},
   "source": [
    "# Problem Setting\n",
    "\n",
    "Given an array equations of strings that represent relationships between variables, each string `equations[i]` has length `4` and takes one of two different forms: `\"a==b\"` or `\"a!=b\"`.  Here, `a` and `b` are lowercase letters (not necessarily different) that represent one-letter variable names.\n",
    "\n",
    "Return `true` if and only if it is possible to assign integers to variable names so as to satisfy all the given equations.\n"
   ]
  },
  {
   "cell_type": "markdown",
   "metadata": {},
   "source": [
    "<!-- TEASER_END -->"
   ]
  },
  {
   "cell_type": "markdown",
   "metadata": {},
   "source": [
    "## Example 1\n",
    "\n",
    "Input: [\"a==b\",\"b!=a\"]\n",
    "\n",
    "Output: false\n",
    "\n",
    "Explanation: If we assign say, a = 1 and b = 1, then the first equation is satisfied, but not the second.  There is no way to assign the variables to satisfy both equations."
   ]
  },
  {
   "cell_type": "markdown",
   "metadata": {},
   "source": [
    "## Example 2\n",
    "Input: [\"b==a\",\"a==b\"]\n",
    "\n",
    "Output: true\n",
    "\n",
    "Explanation: We could assign a = 1 and b = 1 to satisfy both equations."
   ]
  },
  {
   "cell_type": "markdown",
   "metadata": {},
   "source": [
    "# Solution from superluminal\n",
    "* https://leetcode.com/superluminal/"
   ]
  },
  {
   "cell_type": "code",
   "execution_count": 26,
   "metadata": {},
   "outputs": [],
   "source": [
    "# https://leetcode.com/superluminal/\n",
    "class Solution(object):\n",
    "    def equationsPossible(self, equations):\n",
    "        \"\"\"\n",
    "        :type equations: List[str]\n",
    "        :rtype: bool\n",
    "        \"\"\"\n",
    "        uf = {}\n",
    "        def find(x):\n",
    "            if x not in uf: uf[x] = x\n",
    "            s = []\n",
    "            while uf[x] != x:\n",
    "                s.append(x)\n",
    "                x = uf[x]\n",
    "            for y in s: uf[y] = x\n",
    "            return x\n",
    "        for eq in equations:\n",
    "            if '==' not in eq: continue\n",
    "            a, b = find(eq[0]), find(eq[-1])\n",
    "            # should compare rank but whatever\n",
    "            uf[a] = b\n",
    "        for eq in equations:\n",
    "            if '!=' not in eq: continue\n",
    "            a, b = find(eq[0]), find(eq[-1])\n",
    "            if a == b: return False\n",
    "        return True"
   ]
  },
  {
   "cell_type": "markdown",
   "metadata": {},
   "source": [
    "Step 1-1\n",
    "* create function `find`\n",
    "    * determine if `x` exist in a dictionray `uf`\n",
    "    * If it does not exist, it will be stored as the key and the value\n",
    "\n"
   ]
  },
  {
   "cell_type": "code",
   "execution_count": 27,
   "metadata": {},
   "outputs": [],
   "source": [
    "uf = {}\n",
    "def find(x):\n",
    "    if x not in uf: uf[x] = x\n",
    "    print(f'uf: {uf}')\n",
    "\n",
    "    return x\n"
   ]
  },
  {
   "cell_type": "code",
   "execution_count": 28,
   "metadata": {},
   "outputs": [
    {
     "name": "stdout",
     "output_type": "stream",
     "text": [
      "uf: {'a': 'a'}\n"
     ]
    },
    {
     "data": {
      "text/plain": [
       "'a'"
      ]
     },
     "execution_count": 28,
     "metadata": {},
     "output_type": "execute_result"
    }
   ],
   "source": [
    "find('a')"
   ]
  },
  {
   "cell_type": "code",
   "execution_count": 29,
   "metadata": {},
   "outputs": [
    {
     "name": "stdout",
     "output_type": "stream",
     "text": [
      "uf: {'a': 'a', 'b': 'b'}\n"
     ]
    },
    {
     "data": {
      "text/plain": [
       "'b'"
      ]
     },
     "execution_count": 29,
     "metadata": {},
     "output_type": "execute_result"
    }
   ],
   "source": [
    "find('b')"
   ]
  },
  {
   "cell_type": "markdown",
   "metadata": {},
   "source": [
    "Step 1-2\n",
    "* Keep append `x` to list `s` until the value and key is equal"
   ]
  },
  {
   "cell_type": "code",
   "execution_count": 18,
   "metadata": {},
   "outputs": [],
   "source": [
    "uf = {}\n",
    "def find(x):\n",
    "    if x not in uf: uf[x] = x\n",
    "    s = []\n",
    "    print(f'uf: {uf}')\n",
    "    while uf[x] != x:\n",
    "        print(f'uf[x] != x: {x}')\n",
    "        s.append(x)\n",
    "        x = uf[x]\n",
    "    for y in s: uf[y] = x\n",
    "    return x"
   ]
  },
  {
   "cell_type": "code",
   "execution_count": 24,
   "metadata": {},
   "outputs": [
    {
     "name": "stdout",
     "output_type": "stream",
     "text": [
      "uf: {'a': 'a', 'b': 'b', 'c': 'c'}\n",
      "uf: {'a': 'a', 'b': 'b', 'c': 'c'}\n",
      "return value (a, b): ('a', 'b')\n",
      "uf[a] = b: ('a', 'b')\n",
      "uf: {'a': 'b', 'b': 'b', 'c': 'c'}\n"
     ]
    }
   ],
   "source": [
    "eq = \"a==b\"\n",
    "a, b = find(eq[0]), find(eq[-1])\n",
    "print(f'return value (a, b): {a, b}')\n",
    "print(f'uf[a] = b: {uf[a], b}')\n",
    "uf[a] = b\n",
    "print(f'uf: {uf}')\n",
    "\n"
   ]
  },
  {
   "cell_type": "code",
   "execution_count": 25,
   "metadata": {},
   "outputs": [
    {
     "name": "stdout",
     "output_type": "stream",
     "text": [
      "uf: {'a': 'b', 'b': 'b', 'c': 'c'}\n",
      "uf: {'a': 'b', 'b': 'b', 'c': 'c'}\n",
      "uf[a] = b: ('b', 'c')\n",
      "uf: {'a': 'b', 'b': 'c', 'c': 'c'}\n"
     ]
    }
   ],
   "source": [
    "eq = \"b==c\"\n",
    "a, b = find(eq[0]), find(eq[-1])\n",
    "print(f'uf[a] = b: {uf[a], b}')\n",
    "uf[a] = b\n",
    "print(f'uf: {uf}')"
   ]
  },
  {
   "cell_type": "code",
   "execution_count": null,
   "metadata": {},
   "outputs": [],
   "source": [
    "eq = \"b==c\"\n",
    "a, b = find(eq[0]), find(eq[-1])\n",
    "print(a, b)"
   ]
  }
 ],
 "metadata": {
  "kernelspec": {
   "display_name": "Python 3 (base)",
   "language": "python",
   "name": "python3"
  },
  "language_info": {
   "codemirror_mode": {
    "name": "ipython",
    "version": 3
   },
   "file_extension": ".py",
   "mimetype": "text/x-python",
   "name": "python",
   "nbconvert_exporter": "python",
   "pygments_lexer": "ipython3",
   "version": "3.6.6"
  },
  "nikola": {
   "category": "",
   "date": "2019-02-11 22:13:04 UTC-08:00",
   "description": "",
   "link": "",
   "slug": "990-satisfiability-of-equality-equations",
   "tags": "",
   "title": "990 Satisfiability of Equality Equations",
   "type": "text"
  },
  "toc": {
   "base_numbering": 1,
   "nav_menu": {},
   "number_sections": true,
   "sideBar": true,
   "skip_h1_title": false,
   "title_cell": "Table of Contents",
   "title_sidebar": "Contents",
   "toc_cell": false,
   "toc_position": {},
   "toc_section_display": true,
   "toc_window_display": false
  },
  "varInspector": {
   "cols": {
    "lenName": 16,
    "lenType": 16,
    "lenVar": 40
   },
   "kernels_config": {
    "python": {
     "delete_cmd_postfix": "",
     "delete_cmd_prefix": "del ",
     "library": "var_list.py",
     "varRefreshCmd": "print(var_dic_list())"
    },
    "r": {
     "delete_cmd_postfix": ") ",
     "delete_cmd_prefix": "rm(",
     "library": "var_list.r",
     "varRefreshCmd": "cat(var_dic_list()) "
    }
   },
   "types_to_exclude": [
    "module",
    "function",
    "builtin_function_or_method",
    "instance",
    "_Feature"
   ],
   "window_display": false
  }
 },
 "nbformat": 4,
 "nbformat_minor": 2
}
