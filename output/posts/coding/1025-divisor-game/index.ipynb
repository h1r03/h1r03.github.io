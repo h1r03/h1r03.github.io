{
 "cells": [
  {
   "cell_type": "markdown",
   "metadata": {
    "ExecuteTime": {
     "end_time": "2019-04-14T19:55:06.181327Z",
     "start_time": "2019-04-14T19:55:01.791251Z"
    }
   },
   "source": [
    "# Problem Setting"
   ]
  },
  {
   "cell_type": "markdown",
   "metadata": {},
   "source": [
    "Alice and Bob take turns playing a game, with Alice starting first.\n",
    "\n",
    "Initially, there is a number `N` on the chalkboard.  On each player's turn, that player makes a move consisting of:\n",
    "\n",
    "Choosing any `x` with `0 < x < N` and `N % x == 0`.\n",
    "Replacing the number N on the chalkboard with `N - x`.\n",
    "Also, if a player cannot make a move, they lose the game.\n",
    "\n",
    "Return `True` if and only if Alice wins the game, assuming both players play optimally.\n",
    "\n",
    "![image](https://user-images.githubusercontent.com/8764683/56098642-28520200-5eb7-11e9-8741-33362a06c8b7.png)\n"
   ]
  },
  {
   "cell_type": "markdown",
   "metadata": {},
   "source": [
    "<!-- TEASER_END -->"
   ]
  },
  {
   "cell_type": "markdown",
   "metadata": {
    "ExecuteTime": {
     "end_time": "2019-04-14T20:14:35.017791Z",
     "start_time": "2019-04-14T20:14:35.010363Z"
    }
   },
   "source": [
    "## Example 1:\n",
    "Input: 2\n",
    "\n",
    "Output: true\n",
    "\n",
    "Explanation: Alice chooses 1, and Bob has no more moves."
   ]
  },
  {
   "cell_type": "markdown",
   "metadata": {},
   "source": [
    "## Example 2:\n",
    "Input: 3\n",
    "\n",
    "Output: false\n",
    "\n",
    "Explanation: Alice chooses 1, Bob chooses 1, and Alice has no more moves.\n"
   ]
  },
  {
   "cell_type": "markdown",
   "metadata": {},
   "source": [
    "Note:\n",
    "`1 <= N <= 1000`"
   ]
  },
  {
   "cell_type": "markdown",
   "metadata": {
    "ExecuteTime": {
     "end_time": "2019-04-14T20:16:29.857578Z",
     "start_time": "2019-04-14T20:16:29.854228Z"
    }
   },
   "source": [
    "# Solution from [Ho Ngan Hang](https://leetcode.com/nhho/) "
   ]
  },
  {
   "cell_type": "code",
   "execution_count": 1,
   "metadata": {
    "ExecuteTime": {
     "end_time": "2019-04-15T05:26:16.691647Z",
     "start_time": "2019-04-15T05:26:16.684295Z"
    }
   },
   "outputs": [],
   "source": [
    "#include <iostream>\n",
    "using namespace std;\n",
    "\n",
    "class Solution {\n",
    "public:\n",
    "    bool divisorGame(int N) {\n",
    "        vector<bool> v(N + 1);\n",
    "        for (int i = 0; i < N; i++) {\n",
    "            if (!v[i]) {\n",
    "                for (int j = 1; i + j <= N && j < i + j; j++)\n",
    "                    if ((i + j) % j == 0)\n",
    "                        v[i + j] = 1;\n",
    "            }\n",
    "        }\n",
    "        return v[N];\n",
    "    }\n",
    "};\n",
    "\n"
   ]
  },
  {
   "cell_type": "code",
   "execution_count": 2,
   "metadata": {
    "ExecuteTime": {
     "end_time": "2019-04-15T05:26:17.728605Z",
     "start_time": "2019-04-15T05:26:17.258475Z"
    },
    "code_folding": []
   },
   "outputs": [
    {
     "data": {
      "text/plain": [
       "true"
      ]
     },
     "execution_count": 2,
     "metadata": {},
     "output_type": "execute_result"
    }
   ],
   "source": [
    "Solution S;\n",
    "// Example 1\n",
    "S.divisorGame(2)"
   ]
  },
  {
   "cell_type": "code",
   "execution_count": 3,
   "metadata": {
    "ExecuteTime": {
     "end_time": "2019-04-15T05:26:18.996250Z",
     "start_time": "2019-04-15T05:26:17.729062Z"
    }
   },
   "outputs": [
    {
     "data": {
      "text/plain": [
       "false"
      ]
     },
     "execution_count": 3,
     "metadata": {},
     "output_type": "execute_result"
    }
   ],
   "source": [
    "// Example 2\n",
    "S.divisorGame(3)"
   ]
  },
  {
   "cell_type": "markdown",
   "metadata": {},
   "source": [
    "# Step-by-step understanding"
   ]
  },
  {
   "cell_type": "markdown",
   "metadata": {},
   "source": [
    "```cpp\n",
    "// Step. 1 \n",
    "// - Define the function with input integer N\n",
    "// - this returns N's element \n",
    "bool divisorGame(int N) {\n",
    "// ...\n",
    "}\n",
    "return v[N];    \n",
    "\n",
    "// Step. 2\n",
    "// initialize boolean array of N + 1 \n",
    "vector<bool> v(N + 1);\n",
    "```\n",
    "```cpp\n",
    "// Step. 3\n",
    "// - for loop for `i` from 0 to N-1\n",
    "for (int i = 0; i < N; i++) {\n",
    "...\n",
    "}\n",
    "\n",
    "// Step. 4\n",
    "// - if i's element is not null, which means it is not calclated be fore\n",
    "if (!v[i]) {\n",
    "}\n",
    "\n",
    "// Step. 5\n",
    "// - another for loop for `j` from 1 to i+j\n",
    "    for (int j = 1; i + j <= N && j < i + j; j++)\n",
    "\n",
    "// Step. 6\n",
    "// if i + j can be divided by j i.e., j is divisor for i + j \n",
    "        if ((i + j) % j == 0)\n",
    "\n",
    "// Step. 7\n",
    "// Insert 1 at i+j's element in v\n",
    "            v[i + j] = 1;\n",
    "```\n"
   ]
  }
 ],
 "metadata": {
  "kernelspec": {
   "display_name": "C++11 [conda env:xeus-cling] *",
   "language": "C++11",
   "name": "conda-env-xeus-cling-xcpp11"
  },
  "language_info": {
   "codemirror_mode": "text/x-c++src",
   "file_extension": ".cpp",
   "mimetype": "text/x-c++src",
   "name": "c++",
   "version": "-std=c++11"
  },
  "nikola": {
   "category": "Coding",
   "date": "2019-04-14 12:54:24 UTC-07:00",
   "description": "",
   "link": "",
   "slug": "1025-divisor-game",
   "tags": "C++",
   "title": "1025. Divisor Game (C++)",
   "type": "text"
  },
  "toc": {
   "base_numbering": 1,
   "nav_menu": {},
   "number_sections": true,
   "sideBar": true,
   "skip_h1_title": false,
   "title_cell": "Table of Contents",
   "title_sidebar": "Contents",
   "toc_cell": false,
   "toc_position": {},
   "toc_section_display": true,
   "toc_window_display": false
  }
 },
 "nbformat": 4,
 "nbformat_minor": 2
}
