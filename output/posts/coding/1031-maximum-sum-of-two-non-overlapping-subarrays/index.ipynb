{
 "cells": [
  {
   "cell_type": "markdown",
   "metadata": {},
   "source": [
    "# Problem Setting\n",
    "Given an array `A` of non-negative integers, return the maximum sum of elements in two non-overlapping (contiguous) subarrays, which have lengths `L` and `M`.  (For clarification, the `L`-length subarray could occur before or after the `M`-length subarray.)\n",
    "\n",
    "Formally, return the largest `V` for which `V = (A[i] + A[i+1] + ... + A[i+L-1]) + (A[j] + A[j+1] + ... + A[j+M-1])` and either:\n",
    "\n",
    "* `0 <= i < i + L - 1 < j < j + M - 1 < A.length`, or\n",
    "* `0 <= j < j + M - 1 < i < i + L - 1 < A.length`."
   ]
  },
  {
   "cell_type": "markdown",
   "metadata": {},
   "source": [
    "## Example 1:\n",
    "Input: A = [0,6,5,2,2,5,1,9,4], L = 1, M = 2\n",
    "\n",
    "Output: 20\n",
    "\n",
    "Explanation: One choice of subarrays is [9] with length 1, and [6,5] with length 2.\n",
    "\n",
    "![image](https://user-images.githubusercontent.com/8764683/56563539-d0736500-6560-11e9-9cae-a7c2ae2cc2b9.png)\n"
   ]
  },
  {
   "cell_type": "markdown",
   "metadata": {},
   "source": [
    "<!-- TEASER_END -->\n"
   ]
  },
  {
   "cell_type": "markdown",
   "metadata": {},
   "source": [
    "## Example 2:\n",
    "\n",
    "Input: A = [3,8,1,3,2,1,8,9,0], L = 3, M = 2\n",
    "\n",
    "Output: 29\n",
    "\n",
    "Explanation: One choice of subarrays is [3,8,1] with length 3, and [8,9] with length 2.\n",
    "\n",
    "![image](https://user-images.githubusercontent.com/8764683/56563723-4a0b5300-6561-11e9-891a-dcdde39de193.png)\n"
   ]
  },
  {
   "cell_type": "markdown",
   "metadata": {},
   "source": [
    "## Example 3:\n",
    "Input: A = [2,1,5,6,0,9,5,0,3,8], L = 4, M = 3\n",
    "\n",
    "Output: 31\n",
    "\n",
    "Explanation: One choice of subarrays is [5,6,0,9] with length 4, and [3,8] with length 3.\n",
    "\n",
    "![image](https://user-images.githubusercontent.com/8764683/56564687-7b851e00-6563-11e9-9e8a-78518626fda3.png)\n"
   ]
  },
  {
   "cell_type": "markdown",
   "metadata": {},
   "source": [
    "# Solution \n",
    "This problem can be solved by dynamic programming approach where  "
   ]
  },
  {
   "cell_type": "markdown",
   "metadata": {},
   "source": [
    "## Solution from [lee215](https://leetcode.com/lee215/)\n",
    "This solution is $O(N)$ time and $O(1)$ space complexity.\n"
   ]
  },
  {
   "cell_type": "code",
   "execution_count": 18,
   "metadata": {
    "ExecuteTime": {
     "end_time": "2019-04-23T08:32:14.328603Z",
     "start_time": "2019-04-23T08:32:14.320563Z"
    }
   },
   "outputs": [],
   "source": [
    "class Solution(object):\n",
    "    def maxSumTwoNoOverlap(self, A, L, M):\n",
    "        for i in range(1, len(A)): # xrange -> range by Hiro\n",
    "            A[i] += A[i - 1]\n",
    "        res, Lmax, Mmax = A[L + M - 1], A[L - 1], A[M - 1]\n",
    "        for i in range(L + M, len(A)): # xrange -> range by Hiro\n",
    "            Lmax = max(Lmax, A[i - M] - A[i - L - M])\n",
    "            Mmax = max(Mmax, A[i - L] - A[i - L - M])\n",
    "            res = max(res, Lmax + A[i] - A[i - M], Mmax + A[i] - A[i - L])\n",
    "        return res"
   ]
  },
  {
   "cell_type": "markdown",
   "metadata": {},
   "source": [
    "## Execution"
   ]
  },
  {
   "cell_type": "code",
   "execution_count": 23,
   "metadata": {
    "ExecuteTime": {
     "end_time": "2019-04-23T08:37:17.194047Z",
     "start_time": "2019-04-23T08:37:17.187821Z"
    }
   },
   "outputs": [
    {
     "data": {
      "text/plain": [
       "20"
      ]
     },
     "execution_count": 23,
     "metadata": {},
     "output_type": "execute_result"
    }
   ],
   "source": [
    "A = [0,6,5,2,2,5,1,9,4]; L = 1; M = 2\n",
    "s = Solution()\n",
    "s.maxSumTwoNoOverlap(A, L, M)\n"
   ]
  },
  {
   "cell_type": "markdown",
   "metadata": {},
   "source": [
    "## Step-by-step\n",
    "L3-4: the first loop creates cumulative sum of list A. \n",
    "\n",
    "\n",
    "\n",
    "### **Highlight**\n",
    "\n",
    "This list of cumulative sum of elements are used to calculate the contiguous `n` elements by `A[i - n] - A[i]`. \n",
    "\n",
    "\n"
   ]
  },
  {
   "cell_type": "code",
   "execution_count": 24,
   "metadata": {
    "ExecuteTime": {
     "end_time": "2019-04-23T08:37:21.161451Z",
     "start_time": "2019-04-23T08:37:21.155840Z"
    }
   },
   "outputs": [
    {
     "data": {
      "text/plain": [
       "[0, 6, 5, 2, 2, 5, 1, 9, 4]"
      ]
     },
     "execution_count": 24,
     "metadata": {},
     "output_type": "execute_result"
    }
   ],
   "source": [
    "A = [0,6,5,2,2,5,1,9,4]\n",
    "A"
   ]
  },
  {
   "cell_type": "code",
   "execution_count": 25,
   "metadata": {
    "ExecuteTime": {
     "end_time": "2019-04-23T08:37:22.598974Z",
     "start_time": "2019-04-23T08:37:22.593013Z"
    }
   },
   "outputs": [
    {
     "data": {
      "text/plain": [
       "[0, 6, 11, 13, 15, 20, 21, 30, 34]"
      ]
     },
     "execution_count": 25,
     "metadata": {},
     "output_type": "execute_result"
    }
   ],
   "source": [
    "for i in range(1, len(A)): # xrange -> range by Hiro\n",
    "    A[i] += A[i - 1]\n",
    "A"
   ]
  },
  {
   "cell_type": "markdown",
   "metadata": {},
   "source": [
    "L5: \n",
    "* `res`: initialize the variable for result \n",
    "* `Lmax`: `L`s elements of the cumulative list i.e., 0 in the example 1\n",
    "* `Mmax`: `M`'s elements of the cumulative list i.e., 6 in the example 1\n"
   ]
  },
  {
   "cell_type": "code",
   "execution_count": 27,
   "metadata": {
    "ExecuteTime": {
     "end_time": "2019-04-23T08:38:34.086894Z",
     "start_time": "2019-04-23T08:38:34.081283Z"
    }
   },
   "outputs": [
    {
     "data": {
      "text/plain": [
       "(11, 0, 6)"
      ]
     },
     "execution_count": 27,
     "metadata": {},
     "output_type": "execute_result"
    }
   ],
   "source": [
    "res, Lmax, Mmax = A[L + M - 1], A[L - 1], A[M - 1]\n",
    "res, Lmax, Mmax"
   ]
  },
  {
   "cell_type": "markdown",
   "metadata": {},
   "source": [
    "L6: the second loop starts from `L+M` to the end of the list.\n",
    "\n",
    "* `Lmax` is the case when `L` contiguous elements are taken first \n",
    "* `Mmax` is the case when `M` contiguous elements are taken first \n",
    "\n",
    "Finally, it compares 2 cases (`L` elements first taken or `M` elements first taken) including the existing maximum result `res`. "
   ]
  },
  {
   "cell_type": "code",
   "execution_count": 35,
   "metadata": {
    "ExecuteTime": {
     "end_time": "2019-04-23T15:56:25.560087Z",
     "start_time": "2019-04-23T15:56:25.537514Z"
    }
   },
   "outputs": [
    {
     "name": "stdout",
     "output_type": "stream",
     "text": [
      "========================================\n",
      "processing at 3th element\n",
      "[0, 6, 11] [13] [15, 20, 21, 30, 34]\n",
      "Lmax: 6\n",
      "Mmax: 11\n",
      "A[i] - A[i - M]: 7\n",
      "A[i] - A[i - L]: 2\n",
      "Current maximum result: 13\n",
      "========================================\n",
      "processing at 4th element\n",
      "[0, 6, 11, 13] [15] [20, 21, 30, 34]\n",
      "Lmax: 6\n",
      "Mmax: 11\n",
      "A[i] - A[i - M]: 4\n",
      "A[i] - A[i - L]: 2\n",
      "Current maximum result: 13\n",
      "========================================\n",
      "processing at 5th element\n",
      "[0, 6, 11, 13, 15] [20] [21, 30, 34]\n",
      "Lmax: 6\n",
      "Mmax: 11\n",
      "A[i] - A[i - M]: 7\n",
      "A[i] - A[i - L]: 5\n",
      "Current maximum result: 16\n",
      "========================================\n",
      "processing at 6th element\n",
      "[0, 6, 11, 13, 15, 20] [21] [30, 34]\n",
      "Lmax: 6\n",
      "Mmax: 11\n",
      "A[i] - A[i - M]: 6\n",
      "A[i] - A[i - L]: 1\n",
      "Current maximum result: 16\n",
      "========================================\n",
      "processing at 7th element\n",
      "[0, 6, 11, 13, 15, 20, 21] [30] [34]\n",
      "Lmax: 6\n",
      "Mmax: 11\n",
      "A[i] - A[i - M]: 10\n",
      "A[i] - A[i - L]: 9\n",
      "Current maximum result: 20\n",
      "========================================\n",
      "processing at 8th element\n",
      "[0, 6, 11, 13, 15, 20, 21, 30] [34] []\n",
      "Lmax: 6\n",
      "Mmax: 11\n",
      "A[i] - A[i - M]: 13\n",
      "A[i] - A[i - L]: 4\n",
      "Current maximum result: 20\n"
     ]
    }
   ],
   "source": [
    "res = A[L + M - 1]\n",
    "for i in range(L + M, len(A)):\n",
    "    print('='*40)\n",
    "    print('processing at {}th element'.format(i))\n",
    "    print('{} [{}] {}'.format(A[:i], A[i], A[i+1:]) )\n",
    "    Lmax = max(Lmax, A[i - M] - A[i - L - M])\n",
    "    Mmax = max(Mmax, A[i - L] - A[i - L - M])\n",
    "    res = max(res, Lmax + A[i] - A[i - M], Mmax + A[i] - A[i - L])\n",
    "\n",
    "    print('Lmax:', Lmax)\n",
    "    print('Mmax:', Mmax)\n",
    "    print('A[i] - A[i - M]:', A[i] - A[i - M])\n",
    "    print('A[i] - A[i - L]:', A[i] - A[i - L])\n",
    "    \n",
    "    print('Current maximum result:', res)\n",
    "    \n",
    "    "
   ]
  }
 ],
 "metadata": {
  "kernelspec": {
   "display_name": "Python (py367)",
   "language": "python",
   "name": "py367"
  },
  "language_info": {
   "codemirror_mode": {
    "name": "ipython",
    "version": 3
   },
   "file_extension": ".py",
   "mimetype": "text/x-python",
   "name": "python",
   "nbconvert_exporter": "python",
   "pygments_lexer": "ipython3",
   "version": "3.6.7"
  },
  "nikola": {
   "category": "",
   "date": "2019-04-22 20:42:05 UTC-07:00",
   "description": "",
   "link": "",
   "slug": "1031-maximum-sum-of-two-non-overlapping-subarrays",
   "tags": "",
   "title": "1031. Maximum Sum of Two Non-Overlapping Subarrays",
   "type": "text"
  },
  "toc": {
   "base_numbering": 1,
   "nav_menu": {},
   "number_sections": true,
   "sideBar": true,
   "skip_h1_title": false,
   "title_cell": "Table of Contents",
   "title_sidebar": "Contents",
   "toc_cell": false,
   "toc_position": {},
   "toc_section_display": true,
   "toc_window_display": false
  }
 },
 "nbformat": 4,
 "nbformat_minor": 2
}
