{
 "cells": [
  {
   "cell_type": "markdown",
   "metadata": {},
   "source": [
    "# Problem Setting\n",
    "\n",
    "Given `N`, consider a convex N-sided polygon with vertices labelled `A[0], A[i], ..., A[N-1]` in clockwise order.\n",
    "\n",
    "Suppose you triangulate the polygon into `N-2` triangles. For each triangle, the value of that triangle is the product of the labels of the vertices, and the total score of the triangulation is the sum of these values over all `N-2` triangles in the triangulation.\n",
    "\n",
    "Return the smallest possible total score that you can achieve with some triangulation of the polygon.\n",
    "\n",
    "Source: LeetCode [link](https://leetcode.com/contest/weekly-contest-135/problems/minimum-score-triangulation-of-polygon/)\n",
    "\n",
    "![image](https://user-images.githubusercontent.com/8764683/57565247-2de42000-736f-11e9-9111-6fab23625737.png)\n"
   ]
  },
  {
   "cell_type": "markdown",
   "metadata": {
    "ExecuteTime": {
     "end_time": "2019-05-11T04:21:18.336393Z",
     "start_time": "2019-05-11T04:21:18.332202Z"
    }
   },
   "source": [
    "<!-- TEASER_END -->"
   ]
  },
  {
   "cell_type": "markdown",
   "metadata": {},
   "source": [
    "## Example 1\n",
    "Input: [1,2,3]\n",
    "\n",
    "Output: 6\n",
    "\n",
    "Explanation: The polygon is already triangulated, and the score of the only triangle is 6."
   ]
  },
  {
   "cell_type": "markdown",
   "metadata": {},
   "source": [
    "## Example 2\n",
    "\n",
    "Input: [3,7,4,5]\n",
    "\n",
    "Output: 144\n",
    "\n",
    "Explanation: There are two triangulations, with possible scores: 3*7*5 + 4*5*7 = 245, or 3*4*5 + 3*4*7 = 144.  The minimum score is 144."
   ]
  },
  {
   "cell_type": "markdown",
   "metadata": {},
   "source": [
    "## Example 3\n",
    "Input: [1,3,1,4,1,5]\n",
    "\n",
    "Output: 13\n",
    "\n",
    "Explanation: The minimum score triangulation has score 1 * 1 * 3 + 1 * 1 * 4 + 1 * 1 * 5 + 1 * 1 * 1 = 13."
   ]
  },
  {
   "cell_type": "markdown",
   "metadata": {},
   "source": [
    "# Solution from [Laurant](https://leetcode.com/laurant/)"
   ]
  },
  {
   "cell_type": "code",
   "execution_count": 2,
   "metadata": {
    "ExecuteTime": {
     "end_time": "2019-05-11T07:09:05.582801Z",
     "start_time": "2019-05-11T07:09:05.573904Z"
    }
   },
   "outputs": [],
   "source": [
    "from typing import List\n",
    "import math\n",
    "class Solution:\n",
    "    def minScoreTriangulation(self, A: List[int]) -> int:\n",
    "        n = len(A)\n",
    "        a = A + A\n",
    "        f = [[0] * (n + n) for i in range(n + n)]\n",
    "        for i in range(n + n, -1, -1):\n",
    "            for j in range(i + 2, n + n):\n",
    "                f[i][j] = math.inf\n",
    "                for k in range(i + 1, j):\n",
    "                    f[i][j] = min(f[i][j], f[i][k] + f[k][j] + a[i] * a[j] * a[k])\n",
    "        return f[0][n - 1]\n",
    "    "
   ]
  },
  {
   "cell_type": "code",
   "execution_count": 3,
   "metadata": {
    "ExecuteTime": {
     "end_time": "2019-05-11T07:09:05.949405Z",
     "start_time": "2019-05-11T07:09:05.937432Z"
    }
   },
   "outputs": [
    {
     "data": {
      "text/plain": [
       "13"
      ]
     },
     "execution_count": 3,
     "metadata": {},
     "output_type": "execute_result"
    }
   ],
   "source": [
    "# execute\n",
    "A = [1,3,1,4,1,5]\n",
    "s = Solution()\n",
    "s.minScoreTriangulation(A)\n"
   ]
  },
  {
   "cell_type": "markdown",
   "metadata": {},
   "source": [
    "## Step-by-step understanding\n",
    "This problem can be solved by using dynamic programming. Overall flow is as blew:\n",
    "\n",
    "1. Initial setting \n",
    "2. Expand a list `A` to a list `A` + `A`\n",
    "3. Move 2 points `(i, j)` \n",
    "4. Move 3rd pointers `k` which divides the polygon specified by `(i, j)`\n",
    "5. Calculate minimum score of triangle multiplication \n",
    "6. Return the score when `(i, j)=(0, n-1)`, which is the original polygon\n",
    "\n",
    "![image](https://user-images.githubusercontent.com/8764683/57565780-3d1b9b80-7378-11e9-90cd-75d621e74190.png)\n"
   ]
  },
  {
   "cell_type": "markdown",
   "metadata": {},
   "source": [
    "### Initial setting\n",
    "There are three variables created:\n",
    "* `n`: length of a list `A`\n",
    "* `a`: `A` + `A`\n",
    "* `f`: `2n` by `2n` zeros matrix\n"
   ]
  },
  {
   "cell_type": "code",
   "execution_count": 4,
   "metadata": {
    "ExecuteTime": {
     "end_time": "2019-05-11T07:09:08.085896Z",
     "start_time": "2019-05-11T07:09:08.074413Z"
    }
   },
   "outputs": [
    {
     "name": "stdout",
     "output_type": "stream",
     "text": [
      "n: 6\n",
      "a: [1, 3, 1, 4, 1, 5, 1, 3, 1, 4, 1, 5]\n",
      "\n",
      "f: \n"
     ]
    },
    {
     "data": {
      "text/plain": [
       "[[0, 0, 0, 0, 0, 0, 0, 0, 0, 0, 0, 0],\n",
       " [0, 0, 0, 0, 0, 0, 0, 0, 0, 0, 0, 0],\n",
       " [0, 0, 0, 0, 0, 0, 0, 0, 0, 0, 0, 0],\n",
       " [0, 0, 0, 0, 0, 0, 0, 0, 0, 0, 0, 0],\n",
       " [0, 0, 0, 0, 0, 0, 0, 0, 0, 0, 0, 0],\n",
       " [0, 0, 0, 0, 0, 0, 0, 0, 0, 0, 0, 0],\n",
       " [0, 0, 0, 0, 0, 0, 0, 0, 0, 0, 0, 0],\n",
       " [0, 0, 0, 0, 0, 0, 0, 0, 0, 0, 0, 0],\n",
       " [0, 0, 0, 0, 0, 0, 0, 0, 0, 0, 0, 0],\n",
       " [0, 0, 0, 0, 0, 0, 0, 0, 0, 0, 0, 0],\n",
       " [0, 0, 0, 0, 0, 0, 0, 0, 0, 0, 0, 0],\n",
       " [0, 0, 0, 0, 0, 0, 0, 0, 0, 0, 0, 0]]"
      ]
     },
     "execution_count": 4,
     "metadata": {},
     "output_type": "execute_result"
    }
   ],
   "source": [
    "n = len(A)\n",
    "a = A + A\n",
    "f = [[0] * (n + n) for i in range(n + n)]\n",
    "print(f'n: {n}\\na: {a}\\n')\n",
    "print(f'f: ')\n",
    "f"
   ]
  },
  {
   "cell_type": "markdown",
   "metadata": {},
   "source": [
    "### Move 2 points\n",
    "`i` ranges from `2n` to 0 and `j` ranges from `i+2` to `2n`\n",
    "\n",
    "In example 3, `i` moves from 11 to 0 and `j` moves from `i+2` to 11.\n"
   ]
  },
  {
   "cell_type": "code",
   "execution_count": 5,
   "metadata": {
    "ExecuteTime": {
     "end_time": "2019-05-11T07:09:14.985467Z",
     "start_time": "2019-05-11T07:09:13.469156Z"
    }
   },
   "outputs": [],
   "source": [
    "# To visualize `f` \n",
    "import pandas as pd\n",
    "from IPython.display import clear_output, display\n",
    "import seaborn as sns\n",
    "cm = sns.light_palette(\"green\", as_cmap=True)\n",
    "\n",
    "\n",
    "def highlight_one(val):\n",
    "    \"\"\"\n",
    "    Takes a scalar and returns a string with\n",
    "    the css property `'background-color: red'` for 1\n",
    "    , '' otherwise.\n",
    "    reference: https://pandas.pydata.org/pandas-docs/stable/user_guide/style.html\n",
    "    \"\"\"\n",
    "    color = 'red' if val == 1 else ''\n",
    "    return f'background-color: {color}' "
   ]
  },
  {
   "cell_type": "code",
   "execution_count": 8,
   "metadata": {
    "ExecuteTime": {
     "end_time": "2019-05-11T07:10:40.180339Z",
     "start_time": "2019-05-11T07:10:40.125149Z"
    }
   },
   "outputs": [],
   "source": [
    "# Initialize f again \n",
    "f = [[0] * (n + n) for i in range(n + n)]\n",
    "\n",
    "for i in range(n + n, -1, -1):\n",
    "    for j in range(i + 2, n + n):\n",
    "        clear_output(wait=True)\n",
    "        f[i][j] = 1\n",
    "#         display(pd.DataFrame(f).style.applymap(highlight_one))\n"
   ]
  },
  {
   "cell_type": "markdown",
   "metadata": {},
   "source": [
    "![2019-05-11 00-09-26 2019-05-11 00_10_19](https://user-images.githubusercontent.com/8764683/57566433-452c0900-7381-11e9-9dd1-873c38678cfb.gif)\n"
   ]
  },
  {
   "cell_type": "markdown",
   "metadata": {},
   "source": [
    "### Move 3rd pointers `k` which divides the polygon specified by `(i, j)`\n",
    "The 3rd pointer `k` moves from `i+1` to `j`. For example, when `(i, j)==(7, 10)`, `k` moves 8 to 9.\n",
    "\n",
    "```python\n",
    "    for k in range(i + 1, j):  \n",
    "        print(k)\n",
    "```"
   ]
  },
  {
   "cell_type": "code",
   "execution_count": 64,
   "metadata": {
    "ExecuteTime": {
     "end_time": "2019-05-11T05:51:53.851749Z",
     "start_time": "2019-05-11T05:51:53.847842Z"
    }
   },
   "outputs": [
    {
     "name": "stdout",
     "output_type": "stream",
     "text": [
      "8\n",
      "9\n"
     ]
    }
   ],
   "source": [
    "i = 7; j = 10\n",
    "for k in range(i + 1, j):  \n",
    "    print(k)\n"
   ]
  },
  {
   "cell_type": "markdown",
   "metadata": {},
   "source": [
    "### Calculate minimum score of triangle multiplication\n",
    "Basically, for each `(i, j)`, it calculates `f[i][k] + f[k][j] + a[i] * a[j] * a[k]` across `k` and keeps only the minimum values. \n",
    "\n",
    "```python\n",
    "f[i][j] = min(f[i][j], f[i][k] + f[k][j] + a[i] * a[j] * a[k])\n",
    "```\n",
    "\n",
    "Let's see concrete examples when `(i, j)==(7, 10)`, `k` moves 8 to 9 as mentioned above. This is the case for rectangle like example 2. `k` is a diagonal point. \n",
    "* For `k=8`, `f[7][8] + f[8][10] + a[7] * a[10] * a[8]`.\n",
    "* For `k=9`, `f[7][9] + f[9][10] + a[7] * a[10] * a[9]`.\n",
    "\n",
    "When we select `k`, it divides the polygon specified by `(i, j)` into three polygons like below. Then, `f[i][k]`, `f[k][j]` should be calculated already and reuse the results. The last term `a[i] * a[j] * a[k]` is the triangle created by `k`.\n",
    "\n",
    "<img src=\"https://user-images.githubusercontent.com/8764683/57566140-fa5cc200-737d-11e9-8463-7c38f32a4166.png\" alt=\"split_\" width=\"500\" height=\"600\">"
   ]
  },
  {
   "cell_type": "code",
   "execution_count": 92,
   "metadata": {
    "ExecuteTime": {
     "end_time": "2019-05-11T07:00:11.622567Z",
     "start_time": "2019-05-11T07:00:11.518351Z"
    },
    "scrolled": false
   },
   "outputs": [],
   "source": [
    "# Initialize f again \n",
    "f = [[0] * (n + n) for i in range(n + n)]\n",
    "\n",
    "for i in range(n + n, -1, -1):\n",
    "    for j in range(i + 2, n + n):\n",
    "        f[i][j] = math.inf\n",
    "        for k in range(i + 1, j):\n",
    "            clear_output(wait=True)\n",
    "            f[i][j] = min(f[i][j], f[i][k] + f[k][j] + a[i] * a[j] * a[k])\n",
    "#             display(pd.DataFrame(f).style.background_gradient(cmap=cm, low=-0, high=15))\n"
   ]
  },
  {
   "cell_type": "markdown",
   "metadata": {},
   "source": [
    "![2019-05-10_1039_dp_image1](https://user-images.githubusercontent.com/8764683/57566298-b10d7200-737f-11e9-9fcf-564c0260ce29.gif)\n"
   ]
  }
 ],
 "metadata": {
  "kernelspec": {
   "display_name": "Python (py367)",
   "language": "python",
   "name": "py367"
  },
  "language_info": {
   "codemirror_mode": {
    "name": "ipython",
    "version": 3
   },
   "file_extension": ".py",
   "mimetype": "text/x-python",
   "name": "python",
   "nbconvert_exporter": "python",
   "pygments_lexer": "ipython3",
   "version": "3.6.7"
  },
  "nikola": {
   "category": "Coding",
   "date": "2019-05-10 21:20:04 UTC-07:00",
   "description": "",
   "link": "",
   "slug": "1039-minimum-score-triangulation-of-polygon",
   "tags": "Dynamic Programming, Pandas Styling",
   "title": "1039. Minimum Score Triangulation of Polygon",
   "type": "text"
  },
  "toc": {
   "base_numbering": 1,
   "nav_menu": {},
   "number_sections": true,
   "sideBar": true,
   "skip_h1_title": false,
   "title_cell": "Table of Contents",
   "title_sidebar": "Contents",
   "toc_cell": false,
   "toc_position": {},
   "toc_section_display": true,
   "toc_window_display": false
  }
 },
 "nbformat": 4,
 "nbformat_minor": 2
}
