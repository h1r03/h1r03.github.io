{
 "cells": [
  {
   "cell_type": "markdown",
   "metadata": {},
   "source": [
    "# Overview\n",
    "This post aims to simplify **Bar chart** by matpltlib as much as possible based on the philosophy of minimalist \n",
    "\n",
    "![image](https://user-images.githubusercontent.com/8764683/56109936-7bec3c00-5f07-11e9-9916-88c4628c727f.png)\n"
   ]
  },
  {
   "cell_type": "markdown",
   "metadata": {},
   "source": [
    "# Prerequisite"
   ]
  },
  {
   "cell_type": "code",
   "execution_count": 1,
   "metadata": {
    "ExecuteTime": {
     "end_time": "2019-04-15T05:45:36.237218Z",
     "start_time": "2019-04-15T05:45:33.295314Z"
    }
   },
   "outputs": [],
   "source": [
    "import matplotlib.pyplot as plt\n",
    "import numpy as np\n",
    "import pandas as pd\n",
    "%matplotlib inline"
   ]
  },
  {
   "cell_type": "markdown",
   "metadata": {},
   "source": [
    "# Bar plot\n",
    "The key points are as follows:\n",
    "> 1. Clarify the key message\n",
    "2. Use comparison to show the size difference of data\n",
    "3. Think of what is the most effective way to convey the message"
   ]
  },
  {
   "cell_type": "markdown",
   "metadata": {},
   "source": [
    "## Default"
   ]
  },
  {
   "cell_type": "code",
   "execution_count": 4,
   "metadata": {
    "ExecuteTime": {
     "end_time": "2019-04-15T05:45:44.471009Z",
     "start_time": "2019-04-15T05:45:44.320088Z"
    }
   },
   "outputs": [
    {
     "data": {
      "image/png": "[encoded data removed]",
      "text/plain": [
       "<Figure size 432x288 with 1 Axes>"
      ]
     },
     "metadata": {
      "needs_background": "light"
     },
     "output_type": "display_data"
    }
   ],
   "source": [
    "## Default\n",
    "df_bar = pd.DataFrame([100, 200, 6000], \n",
    "                  index=['a', 'b', 'c'],\n",
    "                  columns=['growth'])\n",
    "df_bar.plot(kind='barh');"
   ]
  },
  {
   "cell_type": "markdown",
   "metadata": {},
   "source": [
    "## Simplified Bar chart\n",
    "* Delete legend\n",
    "* Tighten the space between bars\n",
    "* Re-order the y-axis\n",
    "* Delete the square spines\n",
    "* Delete ticks for x and y axis \n",
    "* Delete tick label for x axis\n",
    "* Increase the size of the label for y axis\n",
    "* Display each value next to the bar "
   ]
  },
  {
   "cell_type": "code",
   "execution_count": 5,
   "metadata": {
    "ExecuteTime": {
     "end_time": "2019-04-15T05:46:05.097155Z",
     "start_time": "2019-04-15T05:46:04.976790Z"
    }
   },
   "outputs": [
    {
     "data": {
      "image/png": "[encoded data removed]",
      "text/plain": [
       "<Figure size 432x216 with 1 Axes>"
      ]
     },
     "metadata": {
      "needs_background": "light"
     },
     "output_type": "display_data"
    }
   ],
   "source": [
    "# 1. Delete legend legend=False\n",
    "# 2. Tighten the space between bars width=0.8\n",
    "width = 0.8\n",
    "fig, ax = plt.subplots(figsize=(6, 3))\n",
    "df_bar.plot(kind='barh', legend=False, ax=ax, width=width);\n",
    "# 3. Re-order the y-axis\n",
    "ax.invert_yaxis()\n",
    "\n",
    "# 4. Delete the square spines\n",
    "[spine.set_visible(False) for spine in ax.spines.values()]\n",
    "\n",
    "# 5. Delete ticks for x and y axis\n",
    "# 6. Delete tick label for x axis\n",
    "ax.tick_params(bottom=False, left=False, labelbottom=False)\n",
    "\n",
    "# 7. Increase the size of the label for y axis\n",
    "ax.tick_params(axis='y', labelsize='x-large')\n",
    "\n",
    "# 8. Display each value next to the bar\n",
    "vmax = df_bar['growth'].max()\n",
    "\n",
    "for i, value in enumerate(df_bar['growth']):\n",
    "    ax.text(value+vmax*0.02, i, f'{value:,}', fontsize='x-large', va='center', color='C0')\n"
   ]
  },
  {
   "cell_type": "code",
   "execution_count": 38,
   "metadata": {
    "ExecuteTime": {
     "end_time": "2019-04-15T05:59:42.348620Z",
     "start_time": "2019-04-15T05:59:42.340868Z"
    }
   },
   "outputs": [],
   "source": [
    "## As a Function \n",
    "def minimal_bar(series, ax=None, width=0.8, fisize=(6, 3), \n",
    "               reorder_yaxis=True, splines_off=True, delete_ticks=True, y_label_large=True, display_value=True):\n",
    "\n",
    "    if ax is None:\n",
    "        fig, ax = plt.subplots(figsize=fisize)\n",
    "\n",
    "    # 1. Delete legend legend=False\n",
    "    # 2. Tighten the space between bars width=0.8\n",
    "    series.plot(kind='barh', legend=False, ax=ax, width=width, color='C0');\n",
    "    \n",
    "    # 3. Re-order the y-axis\n",
    "    if reorder_yaxis:\n",
    "        ax.invert_yaxis()\n",
    "\n",
    "    # 4. Delete the square spines\n",
    "    if splines_off:\n",
    "        [spine.set_visible(False) for spine in ax.spines.values()]\n",
    "\n",
    "    # 5. Delete ticks for x and y axis\n",
    "    # 6. Delete tick label for x axis\n",
    "    if delete_ticks:\n",
    "        ax.tick_params(bottom=False, left=False, labelbottom=False)\n",
    "\n",
    "    # 7. Increase the size of the label for y axis\n",
    "    if y_label_large:\n",
    "        ax.tick_params(axis='y', labelsize='x-large')\n",
    "\n",
    "    # 8. Display each value next to the bar\n",
    "    if display_value:\n",
    "        vmax = series.max()\n",
    "        for i, value in enumerate(series):\n",
    "            ax.text(value+vmax*0.02, i, f'{value:,}', fontsize='x-large', va='center', color='C0')\n",
    "\n",
    "\n"
   ]
  },
  {
   "cell_type": "code",
   "execution_count": 39,
   "metadata": {
    "ExecuteTime": {
     "end_time": "2019-04-15T05:59:42.766347Z",
     "start_time": "2019-04-15T05:59:42.659078Z"
    }
   },
   "outputs": [
    {
     "data": {
      "image/png": "[encoded data removed]",
      "text/plain": [
       "<Figure size 432x216 with 1 Axes>"
      ]
     },
     "metadata": {
      "needs_background": "light"
     },
     "output_type": "display_data"
    }
   ],
   "source": [
    "minimal_bar(series=df_bar['growth'])"
   ]
  }
 ],
 "metadata": {
  "kernelspec": {
   "display_name": "Python 3",
   "language": "python",
   "name": "python3"
  },
  "language_info": {
   "codemirror_mode": {
    "name": "ipython",
    "version": 3
   },
   "file_extension": ".py",
   "mimetype": "text/x-python",
   "name": "python",
   "nbconvert_exporter": "python",
   "pygments_lexer": "ipython3",
   "version": "3.7.2"
  },
  "nikola": {
   "category": "",
   "date": "2019-04-07 16:52:15 UTC-07:00",
   "description": "",
   "link": "",
   "slug": "minimalism-visualization-by-matplotlib-bar-chart",
   "tags": "",
   "title": "Minimalism visualization by matplotlib - Bar chart",
   "type": "text"
  },
  "toc": {
   "base_numbering": 1,
   "nav_menu": {},
   "number_sections": true,
   "sideBar": true,
   "skip_h1_title": false,
   "title_cell": "Table of Contents",
   "title_sidebar": "Contents",
   "toc_cell": false,
   "toc_position": {},
   "toc_section_display": true,
   "toc_window_display": false
  }
 },
 "nbformat": 4,
 "nbformat_minor": 2
}
