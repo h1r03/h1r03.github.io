{
 "cells": [
  {
   "cell_type": "markdown",
   "metadata": {},
   "source": [
    "# Problem Setting\n",
    "We write the integers of `A` and `B` (in the order they are given) on two separate horizontal lines.\n",
    "\n",
    "Now, we may draw a straight line connecting two numbers `A[i]` and `B[j]` as long as `A[i] == B[j]`, and the line we draw does not intersect any other connecting (non-horizontal) line.\n",
    "\n",
    "Return the maximum number of connecting lines we can draw in this way.\n",
    "\n",
    "Link for Problem: [leetcode](https://leetcode.com/contest/weekly-contest-134/problems/uncrossed-lines/)\n",
    "\n",
    " ## Example 1:\n",
    " \n",
    " ![image](https://user-images.githubusercontent.com/8764683/56871936-2f5d3200-69d8-11e9-9566-f9caafc555d2.png)\n",
    "\n",
    "\n",
    "Input: A = [1,4,2], B = [1,2,4]\n",
    "\n",
    "Output: 2\n",
    "\n",
    "Explanation: We can draw 2 uncrossed lines as in the diagram.\n",
    "We cannot draw 3 uncrossed lines, because the line from A[1]=4 to B[2]=4 will intersect the line from A[2]=2 to B[1]=2."
   ]
  },
  {
   "cell_type": "markdown",
   "metadata": {},
   "source": [
    "<!-- TEASER_END -->"
   ]
  },
  {
   "cell_type": "markdown",
   "metadata": {},
   "source": [
    "## Example 2:\n",
    "Input: A = [2,5,1,2,5], B = [10,5,2,1,5,2]\n",
    "\n",
    "Output: 3\n",
    "\n",
    "## Example 3:\n",
    "Input: A = [1,3,7,1,7,5], B = [1,9,2,5,1]\n",
    "\n",
    "Output: 2"
   ]
  },
  {
   "cell_type": "markdown",
   "metadata": {},
   "source": [
    "# Solution from [hanshaohey](https://leetcode.com/hanshaohey)\n"
   ]
  },
  {
   "cell_type": "code",
   "execution_count": 1,
   "metadata": {
    "ExecuteTime": {
     "end_time": "2019-04-29T00:10:55.177552Z",
     "start_time": "2019-04-29T00:10:55.167948Z"
    }
   },
   "outputs": [],
   "source": [
    "class Solution(object):\n",
    "    def maxUncrossedLines(self, A, B):\n",
    "        \"\"\"\n",
    "        :type A: List[int]\n",
    "        :type B: List[int]\n",
    "        :rtype: int\n",
    "        \"\"\"\n",
    "        memo={}\n",
    "        la,lb=len(A),len(B)\n",
    "        def helper(i,j):\n",
    "            if i>=la or j>=lb:\n",
    "                return 0\n",
    "            if (i,j) in memo:\n",
    "                return memo[i,j]\n",
    "            if A[i]==B[j]:\n",
    "                ans=1+helper(i+1,j+1)\n",
    "            else:\n",
    "                ans=max(helper(i+1,j),helper(i,j+1))\n",
    "            memo[i,j]=ans\n",
    "            return ans\n",
    "        return helper(0,0)"
   ]
  },
  {
   "cell_type": "markdown",
   "metadata": {},
   "source": [
    "This problem can be solved by \"Recursive function\" and \"Dynamic Programming\" approach to re-use the calculated intermediate result for the final result.\n",
    "\n",
    "In the above example, `helper` is the recursive function to calculate the intermediate/final results at given conditions `(i, j)`. The `memo` variable stores those intermediate results  \n",
    "\n"
   ]
  },
  {
   "cell_type": "markdown",
   "metadata": {},
   "source": [
    "\n",
    "## Tips to use a dictionary for dynamic programming"
   ]
  },
  {
   "cell_type": "code",
   "execution_count": 5,
   "metadata": {
    "ExecuteTime": {
     "end_time": "2019-04-29T00:17:15.767594Z",
     "start_time": "2019-04-29T00:17:15.761889Z"
    }
   },
   "outputs": [
    {
     "data": {
      "text/plain": [
       "{(1, 2): 1, (1, 3): 2, (3, 1): 5}"
      ]
     },
     "execution_count": 5,
     "metadata": {},
     "output_type": "execute_result"
    }
   ],
   "source": [
    "# dictionary can be indexed by 2 dimentions and keys will be tubple\n",
    "d = {}\n",
    "d[1, 2] = 1\n",
    "d[1, 3] = 2\n",
    "d[3, 1] = 5\n",
    "d"
   ]
  },
  {
   "cell_type": "code",
   "execution_count": 6,
   "metadata": {
    "ExecuteTime": {
     "end_time": "2019-04-29T00:17:34.138924Z",
     "start_time": "2019-04-29T00:17:34.132790Z"
    }
   },
   "outputs": [
    {
     "data": {
      "text/plain": [
       "{(1, 2, 3): 1, (1, 3, 5): 2, (3, 1, 's'): 5}"
      ]
     },
     "execution_count": 6,
     "metadata": {},
     "output_type": "execute_result"
    }
   ],
   "source": [
    "# dictionary can be indexed by N dimentions and keys will be tubple\n",
    "d = {}\n",
    "d[1, 2, 3] = 1\n",
    "d[1, 3, 5] = 2\n",
    "d[3, 1, 's'] = 5\n",
    "d"
   ]
  },
  {
   "cell_type": "markdown",
   "metadata": {},
   "source": [
    "## Step-by-step understanding\n",
    "The overall flow is as below:\n",
    "1. Initial setup\n",
    "2. Define the recursive function `helper`\n",
    "3. Execute `helper` with `(i, j) = (0, 0)` as a starting point.\n",
    "\n",
    "\n",
    "### Initial setup\n",
    "This step defines the variables for storing intermediate results as `memo` and gets the length of input lists as `la` and `lb`\n",
    "\n",
    "```python\n",
    "# dictionary to store intermediate results for i, j \n",
    "memo={}\n",
    "\n",
    "# length of the list A and B\n",
    "la,lb=len(A),len(B)\n",
    "```\n"
   ]
  },
  {
   "cell_type": "markdown",
   "metadata": {},
   "source": [
    "### Define the recursive function `helper`\n",
    "What we want to implement for a recursive function are as follows:\n",
    "\n",
    "**Input & Output**\n",
    "\n",
    "* the inputs are two indexes `(i, j)` of pointer on list `A` and `B`\n",
    "* the output is the maximum number of uncrossed lines\n",
    "<br>\n",
    "\n",
    "**Edge Cases**\n",
    "\n",
    "* Given `0` length of `A` and `B`\n",
    "* `(i, j)` already reaches to the end index i.e., `i==len(A)`, `j ==len(B)`\n",
    "\n",
    "\n",
    "**Internal Process** \n",
    "\n",
    "1. We would like to split the lists `A` and `B` when we find the same value in both list. In the example 2, first we will find `5` and draw the line.\n",
    "\n",
    "2. Add `+1` to the non crossed line count \n",
    "\n",
    "3. Re-use the function for $A_2$ and $B_2$ as below.\n",
    "\n",
    "4. On the other hand, if we do not find the same value, we will run two scenarios: move `i` to one index ahead or move `j` to one index ahead.\n",
    "\n",
    "5. Compare the two scenario and take the larger number of non crossed lines. \n",
    "\n",
    "<img src=\"https://user-images.githubusercontent.com/8764683/56872330-bc09ef00-69dc-11e9-916e-88d7e51ce453.png\" alt=\"split lists and use for a recursive function\" style=\"height: 400px;\"/>\n",
    "\n"
   ]
  },
  {
   "cell_type": "markdown",
   "metadata": {},
   "source": [
    "# Similar problems\n",
    "\n",
    "- Longest Increasing Subsequence - https://leetcode.com/problems/longest-increasing-subsequence/\n",
    "- Longest Common Subsequence - https://www.geeksforgeeks.org/longest-common-subsequence-dp-4/\n",
    "\n",
    "\n",
    "\n"
   ]
  }
 ],
 "metadata": {
  "kernelspec": {
   "display_name": "Python (py367)",
   "language": "python",
   "name": "py367"
  },
  "language_info": {
   "codemirror_mode": {
    "name": "ipython",
    "version": 3
   },
   "file_extension": ".py",
   "mimetype": "text/x-python",
   "name": "python",
   "nbconvert_exporter": "python",
   "pygments_lexer": "ipython3",
   "version": "3.6.7"
  },
  "nikola": {
   "category": "",
   "date": "2019-04-28 17:00:44 UTC-07:00",
   "description": "",
   "link": "",
   "slug": "1035-uncrossed-lines",
   "tags": "Dynamic Programming",
   "title": "1035. Uncrossed Lines",
   "type": "text"
  },
  "toc": {
   "base_numbering": 1,
   "nav_menu": {},
   "number_sections": true,
   "sideBar": true,
   "skip_h1_title": false,
   "title_cell": "Table of Contents",
   "title_sidebar": "Contents",
   "toc_cell": false,
   "toc_position": {},
   "toc_section_display": true,
   "toc_window_display": false
  }
 },
 "nbformat": 4,
 "nbformat_minor": 2
}
