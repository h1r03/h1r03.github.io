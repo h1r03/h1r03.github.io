{
 "cells": [
  {
   "cell_type": "markdown",
   "metadata": {},
   "source": [
    "# Goal\n",
    "\n",
    "This post aims to describe the solution for [1105. Filling Bookcase Shelves](https://leetcode.com/contest/weekly-contest-143/problems/filling-bookcase-shelves/) based on the solution by a respectful coder [Hexadecimal](https://leetcode.com/hexadecimal/). This problem could be solved by dynamic programming. \n",
    "\n"
   ]
  },
  {
   "cell_type": "markdown",
   "metadata": {},
   "source": [
    "# Problem"
   ]
  },
  {
   "cell_type": "markdown",
   "metadata": {
    "ExecuteTime": {
     "end_time": "2019-06-30T04:13:36.504469Z",
     "start_time": "2019-06-30T04:13:36.495424Z"
    }
   },
   "source": [
    "We have a sequence of books: the i-th book has thickness `books[i][0]` and height `books[i][1]`.\n",
    "\n",
    "We want to place these books in order onto bookcase shelves that have total width shelf_width.\n",
    "\n",
    "We choose some of the books to place on this shelf (such that the sum of their thickness is `<= shelf_width`), then build another level of shelf of the bookcase so that the total height of the bookcase has increased by the maximum height of the books we just put down.  We repeat this process until there are no more books to place.\n",
    "\n",
    "Note again that at each step of the above process, the order of the books we place is the same order as the given sequence of books.  For example, if we have an ordered list of 5 books, we might place the first and second book onto the first shelf, the third book on the second shelf, and the fourth and fifth book on the last shelf.\n",
    "\n",
    "Return the minimum possible height that the total bookshelf can be after placing shelves in this manner.\n",
    "\n",
    "<img src=https://user-images.githubusercontent.com/8764683/60392273-4e905100-9b3a-11e9-932d-ea7a64bf0dbc.png style=\"height: 300px\"></img>\n"
   ]
  },
  {
   "cell_type": "markdown",
   "metadata": {},
   "source": [
    "## Example 1:\n",
    "\n",
    "**Input:** \n",
    "```python\n",
    "books = [[1,1],[2,3],[2,3],[1,1],[1,1],[1,1],[1,2]], \n",
    "shelf_width = 4\n",
    "```\n",
    "\n",
    "**Output:** 6\n",
    "\n",
    "**Explanation:**\n",
    "The sum of the heights of the 3 shelves are 1 + 3 + 2 = 6.\n",
    "Notice that book number 2 does not have to be on the first shelf.\n"
   ]
  },
  {
   "cell_type": "markdown",
   "metadata": {},
   "source": [
    "# Solution by [Hexadecimal](https://leetcode.com/hexadecimal/)\n",
    "This problem is solved by dynamic programming. Considering the scenarios from 1 book to `n` books by adding one book at a time, we can leverage the result from the previous result. For example, when we know the minimum height of the shelf is `8` and are going to place another book, we only need to try two things:\n",
    "* try to place this book on the same row\n",
    "    * if it is not feasible, we need to place on the next level\n",
    "    * if it is feasible, \n",
    "       * place the book on the same level, \n",
    "       * update the maximum height at the same level, and\n",
    "       * keep the case for achieving the minimum height\n",
    "\n",
    "This way only consider the best case scenario in the previous case, and take that case as the starting point."
   ]
  },
  {
   "cell_type": "markdown",
   "metadata": {},
   "source": [
    "## Original Solution\n",
    "Line by line breakdown are as follows:\n",
    "* Initial setting\n",
    "    * `n`: a number of books\n",
    "    * `dp`: keep and track the minimum height of book shelf when we place a book one by one. This is initialized by `infinity`. The last element `dp[-1]` will be the answer that we look for.\n",
    "* Consider the scenarios by adding one book at a time.\n",
    "    * `i`: the hypothetical number of the books. Given this number of the book, we will calculate the minimum height of the books. Adding the book to consider one by one, we can leverage the result for `i-1` books case for the one for `i` books case.  \n",
    "    * `width`: the total width for the placed book on the same level. When `width` is beyond `w`, the width of the shelf, `width` will be reset to `0`. \n",
    "    * `h`: the maximum height for each level.  \n",
    "    * `j`: the book to place given the `i+1` books. `j` is selected from the end to the start in a reverse order. "
   ]
  },
  {
   "cell_type": "code",
   "execution_count": 3,
   "metadata": {
    "ExecuteTime": {
     "end_time": "2019-06-30T04:28:19.662640Z",
     "start_time": "2019-06-30T04:28:19.653657Z"
    }
   },
   "outputs": [],
   "source": [
    "from typing import List\n",
    "class Solution:\n",
    "    def minHeightShelves(self, b: List[List[int]], w: int) -> int:\n",
    "        n = len(b)\n",
    "        dp = [float('inf')] * (n + 1)\n",
    "        dp[0] = 0\n",
    "        for i in range(n):\n",
    "            j = i\n",
    "            width = 0\n",
    "            h = 0\n",
    "            while j >= 0:\n",
    "                width += b[j][0]\n",
    "                if width > w:\n",
    "                    break\n",
    "                h = max(h, b[j][1])\n",
    "                dp[i + 1] = min(dp[i + 1], dp[j] + h)\n",
    "                j -= 1\n",
    "        return dp[-1]     "
   ]
  },
  {
   "cell_type": "markdown",
   "metadata": {},
   "source": [
    "## Modified Solution with print"
   ]
  },
  {
   "cell_type": "code",
   "execution_count": 45,
   "metadata": {
    "ExecuteTime": {
     "end_time": "2019-06-30T05:23:47.438009Z",
     "start_time": "2019-06-30T05:23:47.426818Z"
    }
   },
   "outputs": [],
   "source": [
    "from typing import List\n",
    "class Solution:\n",
    "    def minHeightShelves(self, b: List[List[int]], w: int) -> int:\n",
    "        print(f'Books: {b}\\nShelf width: {w}')\n",
    "        n = len(b)\n",
    "        dp = [float('inf')] * (n + 1)\n",
    "        dp[0] = 0\n",
    "        print(f'initial dp: {dp}')\n",
    "        for i in range(n):\n",
    "            print()\n",
    "            print('-' * 80)\n",
    "            print(f'[{i+1} books] to consider: {b[:i+1]}')\n",
    "            j = i\n",
    "            width = 0\n",
    "            h = 0\n",
    "            while j >= 0:\n",
    "                print(f'place [{j}]-th book: {b[j]}')\n",
    "                width += b[j][0]\n",
    "                if width > w:\n",
    "                    print('The total width is beyond the shelf')\n",
    "                    break\n",
    "                print(f'The maximum height is updated from [{h}] to [{max(h, b[j][1])}]')\n",
    "                h = max(h, b[j][1])\n",
    "                \n",
    "                print(f'The minimum total height for [{i+1} books] is update from [{dp[i + 1]}] to [{min(dp[i + 1], dp[j] + h)}]')\n",
    "                dp[i + 1] = min(dp[i + 1], dp[j] + h)\n",
    "                j -= 1\n",
    "        return dp[-1]     "
   ]
  },
  {
   "cell_type": "markdown",
   "metadata": {},
   "source": [
    "## Test case 1"
   ]
  },
  {
   "cell_type": "code",
   "execution_count": 46,
   "metadata": {
    "ExecuteTime": {
     "end_time": "2019-06-30T05:23:48.284853Z",
     "start_time": "2019-06-30T05:23:48.263803Z"
    }
   },
   "outputs": [
    {
     "name": "stdout",
     "output_type": "stream",
     "text": [
      "Books: [[1, 1], [2, 3], [2, 3], [1, 1], [1, 1], [1, 1], [1, 2]]\n",
      "Shelf width: 4\n",
      "initial dp: [0, inf, inf, inf, inf, inf, inf, inf]\n",
      "\n",
      "--------------------------------------------------------------------------------\n",
      "[1 books] to consider: [[1, 1]]\n",
      "place [0]-th book: [1, 1]\n",
      "The maximum height is updated from [0] to [1]\n",
      "The minimum total height for [1 books] is update from [inf] to [1]\n",
      "\n",
      "--------------------------------------------------------------------------------\n",
      "[2 books] to consider: [[1, 1], [2, 3]]\n",
      "place [1]-th book: [2, 3]\n",
      "The maximum height is updated from [0] to [3]\n",
      "The minimum total height for [2 books] is update from [inf] to [4]\n",
      "place [0]-th book: [1, 1]\n",
      "The maximum height is updated from [3] to [3]\n",
      "The minimum total height for [2 books] is update from [4] to [3]\n",
      "\n",
      "--------------------------------------------------------------------------------\n",
      "[3 books] to consider: [[1, 1], [2, 3], [2, 3]]\n",
      "place [2]-th book: [2, 3]\n",
      "The maximum height is updated from [0] to [3]\n",
      "The minimum total height for [3 books] is update from [inf] to [6]\n",
      "place [1]-th book: [2, 3]\n",
      "The maximum height is updated from [3] to [3]\n",
      "The minimum total height for [3 books] is update from [6] to [4]\n",
      "place [0]-th book: [1, 1]\n",
      "The total width is beyond the shelf\n",
      "\n",
      "--------------------------------------------------------------------------------\n",
      "[4 books] to consider: [[1, 1], [2, 3], [2, 3], [1, 1]]\n",
      "place [3]-th book: [1, 1]\n",
      "The maximum height is updated from [0] to [1]\n",
      "The minimum total height for [4 books] is update from [inf] to [5]\n",
      "place [2]-th book: [2, 3]\n",
      "The maximum height is updated from [1] to [3]\n",
      "The minimum total height for [4 books] is update from [5] to [5]\n",
      "place [1]-th book: [2, 3]\n",
      "The total width is beyond the shelf\n",
      "\n",
      "--------------------------------------------------------------------------------\n",
      "[5 books] to consider: [[1, 1], [2, 3], [2, 3], [1, 1], [1, 1]]\n",
      "place [4]-th book: [1, 1]\n",
      "The maximum height is updated from [0] to [1]\n",
      "The minimum total height for [5 books] is update from [inf] to [6]\n",
      "place [3]-th book: [1, 1]\n",
      "The maximum height is updated from [1] to [1]\n",
      "The minimum total height for [5 books] is update from [6] to [5]\n",
      "place [2]-th book: [2, 3]\n",
      "The maximum height is updated from [1] to [3]\n",
      "The minimum total height for [5 books] is update from [5] to [5]\n",
      "place [1]-th book: [2, 3]\n",
      "The total width is beyond the shelf\n",
      "\n",
      "--------------------------------------------------------------------------------\n",
      "[6 books] to consider: [[1, 1], [2, 3], [2, 3], [1, 1], [1, 1], [1, 1]]\n",
      "place [5]-th book: [1, 1]\n",
      "The maximum height is updated from [0] to [1]\n",
      "The minimum total height for [6 books] is update from [inf] to [6]\n",
      "place [4]-th book: [1, 1]\n",
      "The maximum height is updated from [1] to [1]\n",
      "The minimum total height for [6 books] is update from [6] to [6]\n",
      "place [3]-th book: [1, 1]\n",
      "The maximum height is updated from [1] to [1]\n",
      "The minimum total height for [6 books] is update from [6] to [5]\n",
      "place [2]-th book: [2, 3]\n",
      "The total width is beyond the shelf\n",
      "\n",
      "--------------------------------------------------------------------------------\n",
      "[7 books] to consider: [[1, 1], [2, 3], [2, 3], [1, 1], [1, 1], [1, 1], [1, 2]]\n",
      "place [6]-th book: [1, 2]\n",
      "The maximum height is updated from [0] to [2]\n",
      "The minimum total height for [7 books] is update from [inf] to [7]\n",
      "place [5]-th book: [1, 1]\n",
      "The maximum height is updated from [2] to [2]\n",
      "The minimum total height for [7 books] is update from [7] to [7]\n",
      "place [4]-th book: [1, 1]\n",
      "The maximum height is updated from [2] to [2]\n",
      "The minimum total height for [7 books] is update from [7] to [7]\n",
      "place [3]-th book: [1, 1]\n",
      "The maximum height is updated from [2] to [2]\n",
      "The minimum total height for [7 books] is update from [7] to [6]\n",
      "place [2]-th book: [2, 3]\n",
      "The total width is beyond the shelf\n"
     ]
    },
    {
     "data": {
      "text/plain": [
       "6"
      ]
     },
     "execution_count": 46,
     "metadata": {},
     "output_type": "execute_result"
    }
   ],
   "source": [
    "books = [[1,1],[2,3],[2,3],[1,1],[1,1],[1,1],[1,2]]; shelf_width = 4\n",
    "s = Solution()\n",
    "s.minHeightShelves(books, shelf_width)"
   ]
  },
  {
   "cell_type": "markdown",
   "metadata": {},
   "source": [
    "## Test case 2"
   ]
  },
  {
   "cell_type": "code",
   "execution_count": 47,
   "metadata": {
    "ExecuteTime": {
     "end_time": "2019-06-30T05:26:26.545641Z",
     "start_time": "2019-06-30T05:26:26.532177Z"
    }
   },
   "outputs": [
    {
     "name": "stdout",
     "output_type": "stream",
     "text": [
      "Books: [[7, 3], [8, 7], [2, 7], [2, 5]]\n",
      "Shelf width: 10\n",
      "initial dp: [0, inf, inf, inf, inf]\n",
      "\n",
      "--------------------------------------------------------------------------------\n",
      "[1 books] to consider: [[7, 3]]\n",
      "place [0]-th book: [7, 3]\n",
      "The maximum height is updated from [0] to [3]\n",
      "The minimum total height for [1 books] is update from [inf] to [3]\n",
      "\n",
      "--------------------------------------------------------------------------------\n",
      "[2 books] to consider: [[7, 3], [8, 7]]\n",
      "place [1]-th book: [8, 7]\n",
      "The maximum height is updated from [0] to [7]\n",
      "The minimum total height for [2 books] is update from [inf] to [10]\n",
      "place [0]-th book: [7, 3]\n",
      "The total width is beyond the shelf\n",
      "\n",
      "--------------------------------------------------------------------------------\n",
      "[3 books] to consider: [[7, 3], [8, 7], [2, 7]]\n",
      "place [2]-th book: [2, 7]\n",
      "The maximum height is updated from [0] to [7]\n",
      "The minimum total height for [3 books] is update from [inf] to [17]\n",
      "place [1]-th book: [8, 7]\n",
      "The maximum height is updated from [7] to [7]\n",
      "The minimum total height for [3 books] is update from [17] to [10]\n",
      "place [0]-th book: [7, 3]\n",
      "The total width is beyond the shelf\n",
      "\n",
      "--------------------------------------------------------------------------------\n",
      "[4 books] to consider: [[7, 3], [8, 7], [2, 7], [2, 5]]\n",
      "place [3]-th book: [2, 5]\n",
      "The maximum height is updated from [0] to [5]\n",
      "The minimum total height for [4 books] is update from [inf] to [15]\n",
      "place [2]-th book: [2, 7]\n",
      "The maximum height is updated from [5] to [7]\n",
      "The minimum total height for [4 books] is update from [15] to [15]\n",
      "place [1]-th book: [8, 7]\n",
      "The total width is beyond the shelf\n"
     ]
    },
    {
     "data": {
      "text/plain": [
       "15"
      ]
     },
     "execution_count": 47,
     "metadata": {},
     "output_type": "execute_result"
    }
   ],
   "source": [
    "books = [[7,3],[8,7],[2,7],[2,5]]; shelf_width = 10\n",
    "s = Solution()\n",
    "s.minHeightShelves(books, shelf_width)\n"
   ]
  }
 ],
 "metadata": {
  "kernelspec": {
   "display_name": "Python (py367)",
   "language": "python",
   "name": "py367"
  },
  "language_info": {
   "codemirror_mode": {
    "name": "ipython",
    "version": 3
   },
   "file_extension": ".py",
   "mimetype": "text/x-python",
   "name": "python",
   "nbconvert_exporter": "python",
   "pygments_lexer": "ipython3",
   "version": "3.6.7"
  },
  "nikola": {
   "category": "Coding",
   "date": "2019-06-29 21:10:48 UTC-07:00",
   "description": "describe the solution step by step for Filling Bookcase Shelves",
   "link": "",
   "slug": "1105-filling-bookcase-shelves-dynamic-programming",
   "tags": "Dynamic Programming",
   "title": "1105. Filling Bookcase Shelves [Dynamic Programming]",
   "type": "text"
  },
  "toc": {
   "base_numbering": 1,
   "nav_menu": {},
   "number_sections": true,
   "sideBar": true,
   "skip_h1_title": false,
   "title_cell": "Table of Contents",
   "title_sidebar": "Contents",
   "toc_cell": false,
   "toc_position": {},
   "toc_section_display": true,
   "toc_window_display": false
  }
 },
 "nbformat": 4,
 "nbformat_minor": 2
}
