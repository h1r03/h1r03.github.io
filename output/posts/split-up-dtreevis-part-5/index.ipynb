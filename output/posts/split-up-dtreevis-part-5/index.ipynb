{
 "cells": [
  {
   "cell_type": "markdown",
   "metadata": {},
   "source": [
    "# Goal\n",
    "This post aims to break down the module [`dtreeviz`](https://github.com/parrt/dtreeviz) module step by step to fully understand what is implemented. After fully understanding this, I would like to contribute to this module and submit a pull request. \n",
    "\n",
    "I really like this module and would like to see this works for other tree-based modules like XGBoost or Lightgbm. I found [the exact same issue (issues 15)](https://github.com/parrt/dtreeviz/issues/15) in github so I hope I could contribute to this issue.\n",
    "\n",
    "This post is the 5th part:\n",
    "* `ctreeviz_univar`\n",
    "\n",
    "**Reference**\n",
    "* [Github dtreeviz](https://github.com/parrt/dtreeviz)\n",
    "* [Scikit-Learn - Tree](https://scikit-learn.org/stable/modules/tree.html)\n",
    "* [Step by Step Data Science - Split-Up: dtreeviz (Part 1)](https://h1ros.github.io/posts/split-up-dtreeviz-part-1/)\n",
    "* [Step by Step Data Science - Split-Up: dtreeviz (Part 2)](https://h1ros.github.io/posts/split-up-dtreeviz-part-2/)\n",
    "* [Step by Step Data Science - Split-Up: dtreeviz (Part 3)](https://h1ros.github.io/posts/split-up-dtreeviz-part-3/)\n",
    "* [Step by Step Data Science - Split-Up: dtreeviz (Part 4)](https://h1ros.github.io/posts/split-up-dtreeviz-part-4/)\n",
    " "
   ]
  },
  {
   "cell_type": "markdown",
   "metadata": {},
   "source": [
    "# `trees.ctreeviz_univar`\n",
    "\n",
    "- L267: the beginning of the definition for `ctreeviz_univar`\n",
    "- L272-275: treatment for pandas input\n",
    "- L277: load color property\n",
    "- L280-288: load decision tree classifier object as shadow_tree and other relevant attributes e.g., # of class, target values.\n",
    "- L290-302: setting labels and spines visibility\n",
    "\n"
   ]
  },
  {
   "cell_type": "code",
   "execution_count": 53,
   "metadata": {
    "ExecuteTime": {
     "end_time": "2019-07-21T22:00:03.140212Z",
     "start_time": "2019-07-21T22:00:03.102343Z"
    }
   },
   "outputs": [],
   "source": [
    "from pathlib import Path\n",
    "from graphviz.backend import run, view\n",
    "import matplotlib.pyplot as plt\n",
    "from dtreeviz.shadow import *\n",
    "from numbers import Number\n",
    "import matplotlib.patches as patches\n",
    "import tempfile\n",
    "import os\n",
    "from sys import platform as PLATFORM\n",
    "from colour import Color, rgb2hex\n",
    "from typing import Mapping, List\n",
    "from dtreeviz.utils import inline_svg_images, myround\n",
    "from dtreeviz.shadow import ShadowDecTree, ShadowDecTreeNode\n",
    "from dtreeviz.colors import adjust_colors\n",
    "from sklearn import tree\n",
    "import graphviz\n",
    "\n",
    "from dtreeviz.trees import *\n",
    "\n",
    "# How many bins should we have based upon number of classes\n",
    "NUM_BINS = [0, 0, 10, 9, 8, 6, 6, 6, 5, 5, 5]\n",
    "          # 0, 1, 2,  3, 4, 5, 6, 7, 8, 9, 10\n",
    "\n",
    "def ctreeviz_univar(ax, x_train, y_train, max_depth, feature_name, class_names,\n",
    "                    target_name,\n",
    "                    fontsize=14, fontname=\"Arial\", nbins=25, gtype='strip',\n",
    "                    show={'title','legend','splits'},\n",
    "                    colors=None):\n",
    "    if isinstance(x_train, pd.Series):\n",
    "        x_train = x_train.values\n",
    "    if isinstance(y_train, pd.Series):\n",
    "        y_train = y_train.values\n",
    "\n",
    "    colors = adjust_colors(colors)\n",
    "\n",
    "    #    ax.set_facecolor('#F9F9F9')\n",
    "    ct = tree.DecisionTreeClassifier(max_depth=max_depth)\n",
    "    ct.fit(x_train.reshape(-1, 1), y_train)\n",
    "\n",
    "    shadow_tree = ShadowDecTree(ct, x_train.reshape(-1, 1), y_train,\n",
    "                                feature_names=[feature_name], class_names=class_names)\n",
    "\n",
    "    n_classes = shadow_tree.nclasses()\n",
    "    overall_feature_range = (np.min(x_train), np.max(x_train))\n",
    "    class_values = shadow_tree.unique_target_values\n",
    "    color_values = colors['classes'][n_classes]\n",
    "    color_map = {v: color_values[i] for i, v in enumerate(class_values)}\n",
    "    X_colors = [color_map[cl] for cl in class_values]\n",
    "\n",
    "    ax.set_xlabel(f\"{feature_name}\", fontsize=fontsize, fontname=fontname,\n",
    "                  color=colors['axis_label'])\n",
    "    ax.spines['top'].set_visible(False)\n",
    "    ax.spines['right'].set_visible(False)\n",
    "    ax.yaxis.set_visible(False)\n",
    "    ax.spines['left'].set_visible(False)\n",
    "    ax.spines['bottom'].set_linewidth(.3)\n",
    "\n",
    "    X_hist = [x_train[y_train == cl] for cl in class_values]\n",
    "\n",
    "    if gtype == 'barstacked':\n",
    "        bins = np.linspace(start=overall_feature_range[0], stop=overall_feature_range[1], num=nbins, endpoint=True)\n",
    "        hist, bins, barcontainers = ax.hist(X_hist,\n",
    "                                            color=X_colors,\n",
    "                                            align='mid',\n",
    "                                            histtype='barstacked',\n",
    "                                            bins=bins,\n",
    "                                            label=class_names)\n",
    "\n",
    "        for patch in barcontainers:\n",
    "            for rect in patch.patches:\n",
    "                rect.set_linewidth(.5)\n",
    "                rect.set_edgecolor(colors['edge'])\n",
    "        ax.set_xlim(*overall_feature_range)\n",
    "        ax.set_xticks(overall_feature_range)\n",
    "        ax.set_yticks([0, max([max(h) for h in hist])])\n",
    "    elif gtype == 'strip':\n",
    "        # user should pass in short and wide fig\n",
    "        sigma = .013\n",
    "        mu = .08\n",
    "        class_step = .08\n",
    "        dot_w = 20\n",
    "        ax.set_ylim(0, mu + n_classes*class_step)\n",
    "        print('X_hist', X_hist)\n",
    "        for i, bucket in enumerate(X_hist):\n",
    "            y_noise = np.random.normal(mu+i*class_step, sigma, size=len(bucket))\n",
    "            ax.scatter(bucket, y_noise, alpha=.7, marker='o', s=dot_w, c=color_map[i],\n",
    "                       edgecolors=colors['scatter_edge'], lw=.3)\n",
    "\n",
    "    ax.tick_params(axis='both', which='major', width=.3, labelcolor=colors['tick_label'],\n",
    "                   labelsize=fontsize)\n",
    "\n",
    "    splits = [node.split() for node in shadow_tree.internal]\n",
    "    splits = sorted(splits)\n",
    "    bins = [ax.get_xlim()[0]] + splits + [ax.get_xlim()[1]]\n",
    "\n",
    "    pred_box_height = .07 * ax.get_ylim()[1]\n",
    "    preds = []\n",
    "    for i in range(len(bins) - 1):\n",
    "        left = bins[i]\n",
    "        right = bins[i + 1]\n",
    "        inrange = y_train[(x_train >= left) & (x_train <= right)]\n",
    "        values, counts = np.unique(inrange, return_counts=True)\n",
    "        pred = values[np.argmax(counts)]\n",
    "        rect = patches.Rectangle((left, 0), (right - left), pred_box_height, linewidth=.3,\n",
    "                                 edgecolor=colors['edge'], facecolor=color_map[pred])\n",
    "        ax.add_patch(rect)\n",
    "        preds.append(pred)\n",
    "\n",
    "    if 'legend' in show:\n",
    "        add_classifier_legend(ax, class_names, class_values, color_map, target_name, colors)\n",
    "\n",
    "    if 'title' in show:\n",
    "        accur = ct.score(x_train.reshape(-1, 1), y_train)\n",
    "        title = f\"Classifier tree depth {max_depth}, training accuracy={accur*100:.2f}%\"\n",
    "        plt.title(title, fontsize=fontsize, color=colors['title'])\n",
    "\n",
    "    if 'splits' in show:\n",
    "        for split in splits:\n",
    "            plt.plot([split, split], [*ax.get_ylim()], '--', color=colors['split_line'], linewidth=1)\n"
   ]
  },
  {
   "cell_type": "markdown",
   "metadata": {},
   "source": [
    "# Create a toy classification example"
   ]
  },
  {
   "cell_type": "code",
   "execution_count": 48,
   "metadata": {
    "ExecuteTime": {
     "end_time": "2019-07-21T21:59:01.331824Z",
     "start_time": "2019-07-21T21:59:01.006819Z"
    }
   },
   "outputs": [
    {
     "data": {
      "image/png": "[encoded data removed]",
      "text/plain": [
       "<Figure size 432x288 with 1 Axes>"
      ]
     },
     "metadata": {
      "needs_background": "light"
     },
     "output_type": "display_data"
    }
   ],
   "source": [
    "import numpy as np\n",
    "import graphviz \n",
    "from sklearn import tree\n",
    "\n",
    "X = np.array([0, 1, 0.5, 10, 11, 12, 20, 21, 22, 30, 30, 32]).reshape(-1, 1)\n",
    "Y = np.array(['a', 'a', 'a', 'b', 'b', 'b', 'c', 'c', 'c', 'd', 'd', 'd']).reshape(-1, 1)\n",
    "clf = tree.DecisionTreeClassifier(max_depth=3)\n",
    "clf = clf.fit(X, Y)\n",
    "\n",
    "df = pd.DataFrame(data={'X':X.ravel(), 'Y': Y.ravel()}, index=range(len(X)))\n",
    "df.plot(kind='bar');\n",
    "plt.title('Sample Data for Univariate Regression');"
   ]
  },
  {
   "cell_type": "markdown",
   "metadata": {},
   "source": [
    "# Visualize classification tree for univariate case"
   ]
  },
  {
   "cell_type": "code",
   "execution_count": 54,
   "metadata": {
    "ExecuteTime": {
     "end_time": "2019-07-21T22:00:06.124324Z",
     "start_time": "2019-07-21T22:00:05.741462Z"
    }
   },
   "outputs": [
    {
     "data": {
      "image/png": "[encoded data removed]",
      "text/plain": [
       "<Figure size 432x288 with 1 Axes>"
      ]
     },
     "metadata": {
      "needs_background": "light"
     },
     "output_type": "display_data"
    }
   ],
   "source": [
    "fig, ax = plt.subplots(1)\n",
    "ctreeviz_univar(ax, pd.Series(X.ravel()), pd.Series(Y.ravel()), \n",
    "                feature_name='X', \n",
    "                target_name='Y',\n",
    "                max_depth=4, \n",
    "                class_names=['a', 'b', 'c', 'd'], \n",
    "                gtype = 'barstacked',\n",
    "                show={'title', 'splits'}\n",
    "               )"
   ]
  },
  {
   "cell_type": "markdown",
   "metadata": {},
   "source": [
    "**Note**\n",
    "When I apply `show={'legend'}`, I obtained the error below and still not figured out yet what was wrong.\n",
    "\n",
    "```python\n",
    "---------------------------------------------------------------------------\n",
    "KeyError                                  Traceback (most recent call last)\n",
    "<ipython-input-42-c31e8b14db34> in <module>\n",
    "      4                 target_name='Y',\n",
    "      5                 max_depth=4,\n",
    "----> 6                 class_names=['a', 'b', 'c', 'd']\n",
    "      7                )\n",
    "\n",
    "<ipython-input-41-b466a69d927c> in ctreeviz_univar(ax, x_train, y_train, max_depth, feature_name, class_names, target_name, fontsize, fontname, nbins, gtype, show, colors)\n",
    "     85         for i, bucket in enumerate(X_hist):\n",
    "     86             y_noise = np.random.normal(mu+i*class_step, sigma, size=len(bucket))\n",
    "---> 87             ax.scatter(bucket, y_noise, alpha=.7, marker='o', s=dot_w, c=color_map[i],\n",
    "     88                        edgecolors=colors['scatter_edge'], lw=.3)\n",
    "     89 \n",
    "\n",
    "KeyError: 0\n",
    "```"
   ]
  }
 ],
 "metadata": {
  "kernelspec": {
   "display_name": "Python (py367)",
   "language": "python",
   "name": "py367"
  },
  "language_info": {
   "codemirror_mode": {
    "name": "ipython",
    "version": 3
   },
   "file_extension": ".py",
   "mimetype": "text/x-python",
   "name": "python",
   "nbconvert_exporter": "python",
   "pygments_lexer": "ipython3",
   "version": "3.6.7"
  },
  "nikola": {
   "category": "Machine Learning",
   "date": "2019-07-21 01:40:22 UTC-07:00",
   "description": "break down dtreevis module step by step (Part 5)",
   "link": "",
   "slug": "split-up-dtreevis-part-5",
   "tags": "Visualization, dtreevis, Ensemble, Decision Tree",
   "title": "Split Up: dtreevis (Part 5)",
   "type": "text"
  },
  "toc": {
   "base_numbering": 1,
   "nav_menu": {},
   "number_sections": true,
   "sideBar": true,
   "skip_h1_title": false,
   "title_cell": "Table of Contents",
   "title_sidebar": "Contents",
   "toc_cell": false,
   "toc_position": {},
   "toc_section_display": true,
   "toc_window_display": false
  }
 },
 "nbformat": 4,
 "nbformat_minor": 2
}
