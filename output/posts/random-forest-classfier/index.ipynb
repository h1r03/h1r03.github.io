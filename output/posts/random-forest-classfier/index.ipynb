{
 "cells": [
  {
   "cell_type": "markdown",
   "metadata": {},
   "source": [
    "# Goal \n",
    "This post aims to introduce how to train random forest classifier, which is one of most popular machine learning model. \n",
    "\n",
    "**Reference**\n",
    "* [Scikit learn - Ensemble methods](https://scikit-learn.org/stable/modules/ensemble.html#forest)"
   ]
  },
  {
   "cell_type": "markdown",
   "metadata": {},
   "source": [
    "# Libraries"
   ]
  },
  {
   "cell_type": "code",
   "execution_count": 12,
   "metadata": {
    "ExecuteTime": {
     "end_time": "2019-05-16T06:50:06.309080Z",
     "start_time": "2019-05-16T06:50:06.028988Z"
    }
   },
   "outputs": [],
   "source": [
    "import pandas as pd\n",
    "import numpy as np\n",
    "from sklearn.datasets import make_blobs\n",
    "from sklearn.model_selection import cross_val_score\n",
    "from sklearn.ensemble import RandomForestClassifier\n",
    "import matplotlib.pyplot as plt\n",
    "%matplotlib inline"
   ]
  },
  {
   "cell_type": "markdown",
   "metadata": {},
   "source": [
    "# Load Data"
   ]
  },
  {
   "cell_type": "code",
   "execution_count": 6,
   "metadata": {
    "ExecuteTime": {
     "end_time": "2019-05-16T06:47:42.829759Z",
     "start_time": "2019-05-16T06:47:42.790928Z"
    }
   },
   "outputs": [
    {
     "data": {
      "text/html": [
       "<div>\n",
       "<style scoped>\n",
       "    .dataframe tbody tr th:only-of-type {\n",
       "        vertical-align: middle;\n",
       "    }\n",
       "\n",
       "    .dataframe tbody tr th {\n",
       "        vertical-align: top;\n",
       "    }\n",
       "\n",
       "    .dataframe thead th {\n",
       "        text-align: right;\n",
       "    }\n",
       "</style>\n",
       "<table border=\"1\" class=\"dataframe\">\n",
       "  <thead>\n",
       "    <tr style=\"text-align: right;\">\n",
       "      <th></th>\n",
       "      <th>0</th>\n",
       "      <th>1</th>\n",
       "      <th>2</th>\n",
       "      <th>3</th>\n",
       "      <th>4</th>\n",
       "      <th>5</th>\n",
       "      <th>6</th>\n",
       "      <th>7</th>\n",
       "      <th>8</th>\n",
       "      <th>9</th>\n",
       "    </tr>\n",
       "  </thead>\n",
       "  <tbody>\n",
       "    <tr>\n",
       "      <th>0</th>\n",
       "      <td>6.469076</td>\n",
       "      <td>4.250703</td>\n",
       "      <td>-8.636944</td>\n",
       "      <td>4.044785</td>\n",
       "      <td>9.017254</td>\n",
       "      <td>4.535872</td>\n",
       "      <td>-4.670276</td>\n",
       "      <td>-0.481728</td>\n",
       "      <td>-6.449961</td>\n",
       "      <td>-2.659850</td>\n",
       "    </tr>\n",
       "    <tr>\n",
       "      <th>1</th>\n",
       "      <td>6.488564</td>\n",
       "      <td>9.379570</td>\n",
       "      <td>10.327917</td>\n",
       "      <td>-1.765055</td>\n",
       "      <td>-2.068842</td>\n",
       "      <td>-9.537790</td>\n",
       "      <td>3.936380</td>\n",
       "      <td>3.375421</td>\n",
       "      <td>7.412737</td>\n",
       "      <td>-9.722844</td>\n",
       "    </tr>\n",
       "    <tr>\n",
       "      <th>2</th>\n",
       "      <td>8.373928</td>\n",
       "      <td>-10.143423</td>\n",
       "      <td>-3.527536</td>\n",
       "      <td>-7.338834</td>\n",
       "      <td>1.385557</td>\n",
       "      <td>6.961417</td>\n",
       "      <td>-4.504456</td>\n",
       "      <td>-7.315360</td>\n",
       "      <td>-2.330709</td>\n",
       "      <td>6.440872</td>\n",
       "    </tr>\n",
       "    <tr>\n",
       "      <th>3</th>\n",
       "      <td>-3.414101</td>\n",
       "      <td>-2.019790</td>\n",
       "      <td>-2.748108</td>\n",
       "      <td>4.168691</td>\n",
       "      <td>-5.788652</td>\n",
       "      <td>-7.468685</td>\n",
       "      <td>-1.719800</td>\n",
       "      <td>-5.302655</td>\n",
       "      <td>4.534099</td>\n",
       "      <td>-4.613695</td>\n",
       "    </tr>\n",
       "    <tr>\n",
       "      <th>4</th>\n",
       "      <td>-1.330023</td>\n",
       "      <td>-3.725465</td>\n",
       "      <td>9.559999</td>\n",
       "      <td>-6.751356</td>\n",
       "      <td>-7.407864</td>\n",
       "      <td>-2.131515</td>\n",
       "      <td>1.766013</td>\n",
       "      <td>2.381506</td>\n",
       "      <td>-1.886568</td>\n",
       "      <td>8.667311</td>\n",
       "    </tr>\n",
       "  </tbody>\n",
       "</table>\n",
       "</div>"
      ],
      "text/plain": [
       "          0          1          2         3         4         5         6  \\\n",
       "0  6.469076   4.250703  -8.636944  4.044785  9.017254  4.535872 -4.670276   \n",
       "1  6.488564   9.379570  10.327917 -1.765055 -2.068842 -9.537790  3.936380   \n",
       "2  8.373928 -10.143423  -3.527536 -7.338834  1.385557  6.961417 -4.504456   \n",
       "3 -3.414101  -2.019790  -2.748108  4.168691 -5.788652 -7.468685 -1.719800   \n",
       "4 -1.330023  -3.725465   9.559999 -6.751356 -7.407864 -2.131515  1.766013   \n",
       "\n",
       "          7         8         9  \n",
       "0 -0.481728 -6.449961 -2.659850  \n",
       "1  3.375421  7.412737 -9.722844  \n",
       "2 -7.315360 -2.330709  6.440872  \n",
       "3 -5.302655  4.534099 -4.613695  \n",
       "4  2.381506 -1.886568  8.667311  "
      ]
     },
     "execution_count": 6,
     "metadata": {},
     "output_type": "execute_result"
    }
   ],
   "source": [
    "X, y = make_blobs(n_samples=10000, n_features=10, centers=100, random_state=0)\n",
    "df_X = pd.DataFrame(X)\n",
    "df_X.head()"
   ]
  },
  {
   "cell_type": "code",
   "execution_count": 8,
   "metadata": {
    "ExecuteTime": {
     "end_time": "2019-05-16T06:48:10.958823Z",
     "start_time": "2019-05-16T06:48:10.949573Z"
    }
   },
   "outputs": [
    {
     "data": {
      "text/html": [
       "<div>\n",
       "<style scoped>\n",
       "    .dataframe tbody tr th:only-of-type {\n",
       "        vertical-align: middle;\n",
       "    }\n",
       "\n",
       "    .dataframe tbody tr th {\n",
       "        vertical-align: top;\n",
       "    }\n",
       "\n",
       "    .dataframe thead th {\n",
       "        text-align: right;\n",
       "    }\n",
       "</style>\n",
       "<table border=\"1\" class=\"dataframe\">\n",
       "  <thead>\n",
       "    <tr style=\"text-align: right;\">\n",
       "      <th></th>\n",
       "      <th>y</th>\n",
       "    </tr>\n",
       "  </thead>\n",
       "  <tbody>\n",
       "    <tr>\n",
       "      <th>0</th>\n",
       "      <td>85</td>\n",
       "    </tr>\n",
       "    <tr>\n",
       "      <th>1</th>\n",
       "      <td>64</td>\n",
       "    </tr>\n",
       "    <tr>\n",
       "      <th>2</th>\n",
       "      <td>93</td>\n",
       "    </tr>\n",
       "    <tr>\n",
       "      <th>3</th>\n",
       "      <td>46</td>\n",
       "    </tr>\n",
       "    <tr>\n",
       "      <th>4</th>\n",
       "      <td>61</td>\n",
       "    </tr>\n",
       "  </tbody>\n",
       "</table>\n",
       "</div>"
      ],
      "text/plain": [
       "    y\n",
       "0  85\n",
       "1  64\n",
       "2  93\n",
       "3  46\n",
       "4  61"
      ]
     },
     "execution_count": 8,
     "metadata": {},
     "output_type": "execute_result"
    }
   ],
   "source": [
    "df_y = pd.DataFrame(y, columns=['y'])\n",
    "df_y.head()"
   ]
  },
  {
   "cell_type": "markdown",
   "metadata": {},
   "source": [
    "# Train a model using Cross Validation"
   ]
  },
  {
   "cell_type": "code",
   "execution_count": 19,
   "metadata": {
    "ExecuteTime": {
     "end_time": "2019-05-16T06:53:50.929118Z",
     "start_time": "2019-05-16T06:53:49.160324Z"
    }
   },
   "outputs": [
    {
     "name": "stderr",
     "output_type": "stream",
     "text": [
      "[Parallel(n_jobs=1)]: Using backend SequentialBackend with 1 concurrent workers.\n",
      "[Parallel(n_jobs=1)]: Done   5 out of   5 | elapsed:    1.8s finished\n"
     ]
    },
    {
     "data": {
      "text/plain": [
       "0.9997"
      ]
     },
     "execution_count": 19,
     "metadata": {},
     "output_type": "execute_result"
    }
   ],
   "source": [
    "clf = RandomForestClassifier(n_estimators=10, max_depth=None, min_samples_split=2, random_state=0)\n",
    "scores = cross_val_score(clf, X, y, cv=5, verbose=1)\n",
    "scores.mean()                               "
   ]
  },
  {
   "cell_type": "code",
   "execution_count": 15,
   "metadata": {
    "ExecuteTime": {
     "end_time": "2019-05-16T06:50:49.934123Z",
     "start_time": "2019-05-16T06:50:49.570746Z"
    }
   },
   "outputs": [
    {
     "data": {
      "image/png": "[encoded data removed]",
      "text/plain": [
       "<Figure size 432x288 with 1 Axes>"
      ]
     },
     "metadata": {
      "needs_background": "light"
     },
     "output_type": "display_data"
    }
   ],
   "source": [
    "pd.DataFrame(scores, columns=['CV Scores']).plot();"
   ]
  }
 ],
 "metadata": {
  "kernelspec": {
   "display_name": "Python (py367)",
   "language": "python",
   "name": "py367"
  },
  "language_info": {
   "codemirror_mode": {
    "name": "ipython",
    "version": 3
   },
   "file_extension": ".py",
   "mimetype": "text/x-python",
   "name": "python",
   "nbconvert_exporter": "python",
   "pygments_lexer": "ipython3",
   "version": "3.6.7"
  },
  "nikola": {
   "category": "Machine Learning",
   "date": "2019-05-15 23:42:05 UTC-07:00",
   "description": "",
   "link": "",
   "slug": "random-forest-classfier",
   "tags": "Boosting, Tree, Basic",
   "title": "Random Forest Classifer",
   "type": "text"
  },
  "toc": {
   "base_numbering": 1,
   "nav_menu": {},
   "number_sections": true,
   "sideBar": true,
   "skip_h1_title": false,
   "title_cell": "Table of Contents",
   "title_sidebar": "Contents",
   "toc_cell": false,
   "toc_position": {},
   "toc_section_display": true,
   "toc_window_display": false
  }
 },
 "nbformat": 4,
 "nbformat_minor": 2
}
