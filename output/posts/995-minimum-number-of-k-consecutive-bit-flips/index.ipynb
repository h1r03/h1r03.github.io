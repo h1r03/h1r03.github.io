{
 "cells": [
  {
   "cell_type": "markdown",
   "metadata": {},
   "source": [
    "# Problem setting\n",
    "This problem \"Minimum Number of K Consecutive Bit Flips\" is one of the `hard` problems in LeetCode weekly contest 124. I was not able to spend the time during the contest. So let me review the solution line by line. \n",
    "\n",
    "\n",
    "Given an array A of non-negative integers, the array is squareful if for every pair of adjacent elements, their sum is a perfect square.\n",
    "\n",
    "Return the number of permutations of A that are squareful.  Two permutations A1 and A2 differ if and only if there is some index i such that A1[i] != A2[i].\n",
    "\n",
    "Note:\n",
    "1 <= A.length <= 30000\n",
    "1 <= K <= A.length\n"
   ]
  },
  {
   "cell_type": "markdown",
   "metadata": {},
   "source": [
    "## Example 1:\n",
    "\n",
    "Input: A = [0,1,0], K = 1\n",
    "\n",
    "Output: 2\n",
    "\n",
    "Explanation: Flip A[0], then flip A[2].\n"
   ]
  },
  {
   "cell_type": "markdown",
   "metadata": {},
   "source": [
    "<!-- TEASER_END -->"
   ]
  },
  {
   "cell_type": "markdown",
   "metadata": {},
   "source": [
    "## Example 2:\n",
    "\n",
    "Input: A = [1,1,0], K = 2\n",
    "\n",
    "Output: -1\n",
    "\n",
    "Explanation: No matter how we flip subarrays of size 2, we can't make the array become [1,1,1].\n"
   ]
  },
  {
   "cell_type": "markdown",
   "metadata": {},
   "source": [
    "## Example 3:\n",
    "\n",
    "Input: A = [0,0,0,1,0,1,1,0], K = 3\n",
    "\n",
    "Output: 3\n",
    "\n",
    "Explanation:\n",
    "\n",
    "Flip A[0],A[1],A[2]: A becomes [1,1,1,1,0,1,1,0]\n",
    "Flip A[4],A[5],A[6]: A becomes [1,1,1,1,1,0,0,0]\n",
    "Flip A[5],A[6],A[7]: A becomes [1,1,1,1,1,1,1,1]\n"
   ]
  },
  {
   "cell_type": "markdown",
   "metadata": {
    "ExecuteTime": {
     "end_time": "2019-02-23T06:15:58.762798Z",
     "start_time": "2019-02-23T06:15:58.754374Z"
    }
   },
   "source": [
    "# Solution from [Huoran Li](https://leetcode.com/lihuoran/)\n"
   ]
  },
  {
   "cell_type": "code",
   "execution_count": 3,
   "metadata": {},
   "outputs": [],
   "source": [
    "import collections\n",
    "\n",
    "class Solution:\n",
    "    def minKBitFlips(self, A: 'List[int]', K: 'int') -> 'int':\n",
    "        a = A\n",
    "        n = len(a)\n",
    "        k = K\n",
    "\n",
    "        ans = 0\n",
    "        cnt = 0\n",
    "        mark = collections.deque()\n",
    "        for i in range(n - k + 1):\n",
    "            while cnt > 0 and i - mark[0] >= k:\n",
    "                cnt -= 1\n",
    "                mark.popleft()\n",
    "\n",
    "            if cnt % 2 == 0:\n",
    "                if a[i] == 0:\n",
    "                    cnt += 1\n",
    "                    ans += 1\n",
    "                    mark.append(i)\n",
    "                    a[i] = 1\n",
    "                else:\n",
    "                    pass\n",
    "            else:\n",
    "                if a[i] == 0:\n",
    "                    a[i] = 1\n",
    "                    pass\n",
    "                else:\n",
    "                    cnt += 1\n",
    "                    ans += 1\n",
    "                    mark.append(i)\n",
    "            # print(i, a, mark)\n",
    "\n",
    "        for i in range(n - k + 1, n):\n",
    "            while cnt > 0 and i - mark[0] >= k:\n",
    "                cnt -= 1\n",
    "                mark.popleft()\n",
    "\n",
    "            if cnt % 2 == 0 and a[i] == 0:\n",
    "                return -1\n",
    "            if cnt % 2 == 1 and a[i] == 1:\n",
    "                return -1\n",
    "        return ans"
   ]
  },
  {
   "cell_type": "markdown",
   "metadata": {},
   "source": [
    "# Step-by-step understanding\n",
    "\n",
    "Overall solution:\n",
    "1. Iterate over the array to find `0`\n",
    "2. Flip a `K` subarray unless Kth element is not beyond the array `A`\n",
    "3. Back to 1 and continue.\n"
   ]
  },
  {
   "cell_type": "markdown",
   "metadata": {},
   "source": [
    "## Deque\n",
    "One of the key data type used in this solution is called `deque` from `collection` module. Let's see the example how to use `deque`.\n",
    "\n",
    "Deque is a list-like object but suitable for fast appends and pops. \n",
    "\n",
    "### Deque vs List Comparison \n",
    "As you can see below, deque and list has quite similar usage. \n",
    "reference: https://pymotw.com/2/collections/deque.html"
   ]
  },
  {
   "cell_type": "code",
   "execution_count": 15,
   "metadata": {
    "ExecuteTime": {
     "end_time": "2019-02-23T06:40:54.741800Z",
     "start_time": "2019-02-23T06:40:54.737420Z"
    }
   },
   "outputs": [
    {
     "name": "stdout",
     "output_type": "stream",
     "text": [
      "=== Deque ===\n",
      "Deque: deque(['a', 'b', 'c', 'd', 'e', 'f', 'g'])\n",
      "Length: 7\n",
      "Left end: a\n",
      "Right end: g\n",
      "remove(c): deque(['a', 'b', 'd', 'e', 'f', 'g'])\n"
     ]
    }
   ],
   "source": [
    "import collections\n",
    "\n",
    "d = collections.deque('abcdefg')\n",
    "\n",
    "print('=== Deque ===')\n",
    "print(f'Deque: {d}')\n",
    "print(f'Length: {len(d)}' )\n",
    "print(f'Left end: {d[0]}') \n",
    "print(f'Right end: {d[-1]}')\n",
    "\n",
    "d.remove('c')\n",
    "print(f'remove(c): {d}')"
   ]
  },
  {
   "cell_type": "code",
   "execution_count": 16,
   "metadata": {
    "ExecuteTime": {
     "end_time": "2019-02-23T06:40:56.798547Z",
     "start_time": "2019-02-23T06:40:56.793556Z"
    }
   },
   "outputs": [
    {
     "name": "stdout",
     "output_type": "stream",
     "text": [
      "=== List ===\n",
      "List: ['a', 'b', 'c', 'd', 'e', 'f', 'g']\n",
      "Length: 7\n",
      "Left end: a\n",
      "Right end: g\n",
      "remove(c): ['a', 'b', 'd', 'e', 'f', 'g']\n"
     ]
    }
   ],
   "source": [
    "print('=== List ===')\n",
    "l = list('abcdefg')\n",
    "\n",
    "print(f'List: {l}')\n",
    "print(f'Length: {len(l)}' )\n",
    "print(f'Left end: {l[0]}') \n",
    "print(f'Right end: {l[-1]}')\n",
    "l.remove('c')\n",
    "print(f'remove(c): {l}')"
   ]
  },
  {
   "cell_type": "markdown",
   "metadata": {
    "ExecuteTime": {
     "end_time": "2019-02-23T07:23:40.545025Z",
     "start_time": "2019-02-23T07:23:40.539741Z"
    }
   },
   "source": [
    "### deque.popleft\n",
    "`deque.popleft` removes and returns the leftmost element. The same function of `pop` but affect from left side, not right."
   ]
  },
  {
   "cell_type": "markdown",
   "metadata": {},
   "source": [
    "## First `for` Loop\n",
    "`n` is the length of an given array `A`, and `k` is the maximum number of the length of a sub array that we can flip. "
   ]
  },
  {
   "cell_type": "code",
   "execution_count": null,
   "metadata": {},
   "outputs": [],
   "source": [
    "for i in range(n - k + 1):\n",
    "    while cnt > 0 and i - mark[0] >= k:\n",
    "        cnt -= 1\n",
    "        mark.popleft()\n",
    "\n",
    "    if cnt % 2 == 0:\n",
    "        if a[i] == 0:\n",
    "            cnt += 1\n",
    "            ans += 1\n",
    "            mark.append(i)\n",
    "            a[i] = 1\n",
    "        else:\n",
    "            pass\n",
    "    else:\n",
    "        if a[i] == 0:\n",
    "            a[i] = 1\n",
    "            pass\n",
    "        else:\n",
    "            cnt += 1\n",
    "            ans += 1\n",
    "            mark.append(i)\n",
    "            # print(i, a, mark)"
   ]
  },
  {
   "cell_type": "markdown",
   "metadata": {},
   "source": [
    "For example 3, "
   ]
  },
  {
   "cell_type": "code",
   "execution_count": 52,
   "metadata": {
    "ExecuteTime": {
     "end_time": "2019-02-23T07:37:25.796373Z",
     "start_time": "2019-02-23T07:37:25.792400Z"
    }
   },
   "outputs": [],
   "source": [
    "A = [0,0,0,1,0,1,1,0]\n",
    "n = len(A)\n",
    "K = 3"
   ]
  },
  {
   "cell_type": "markdown",
   "metadata": {},
   "source": [
    "`i` will be ranged around:"
   ]
  },
  {
   "cell_type": "code",
   "execution_count": 53,
   "metadata": {
    "ExecuteTime": {
     "end_time": "2019-02-23T07:37:26.312356Z",
     "start_time": "2019-02-23T07:37:26.308203Z"
    }
   },
   "outputs": [
    {
     "data": {
      "text/plain": [
       "'[0, 1, 2, 3, 4, 5]'"
      ]
     },
     "execution_count": 53,
     "metadata": {},
     "output_type": "execute_result"
    }
   ],
   "source": [
    "f'{[i for i in range(n - K + 1)]}'"
   ]
  },
  {
   "cell_type": "code",
   "execution_count": 54,
   "metadata": {
    "ExecuteTime": {
     "end_time": "2019-02-23T07:37:26.858152Z",
     "start_time": "2019-02-23T07:37:26.849207Z"
    }
   },
   "outputs": [
    {
     "name": "stdout",
     "output_type": "stream",
     "text": [
      "i: 0\n",
      "cnt: 0\n",
      "ans: 0\n",
      "deque: deque([])\n",
      "A: [0, 0, 0, 1, 0, 1, 1, 0]\n",
      "\n",
      "i: 1\n",
      "cnt: 1\n",
      "ans: 1\n",
      "deque: deque([0])\n",
      "A: [1, 0, 0, 1, 0, 1, 1, 0]\n",
      "\n",
      "i: 2\n",
      "cnt: 1\n",
      "ans: 1\n",
      "deque: deque([0])\n",
      "A: [1, 1, 0, 1, 0, 1, 1, 0]\n",
      "\n",
      "i: 3\n",
      "cnt: 1\n",
      "ans: 1\n",
      "deque: deque([0])\n",
      "A: [1, 1, 1, 1, 0, 1, 1, 0]\n",
      "\n",
      "i: 4\n",
      "cnt: 0\n",
      "ans: 1\n",
      "deque: deque([])\n",
      "A: [1, 1, 1, 1, 0, 1, 1, 0]\n",
      "\n",
      "i: 5\n",
      "cnt: 1\n",
      "ans: 2\n",
      "deque: deque([4])\n",
      "A: [1, 1, 1, 1, 1, 1, 1, 0]\n",
      "\n"
     ]
    }
   ],
   "source": [
    "k = 3\n",
    "a = A\n",
    "cnt = 0\n",
    "ans = 0\n",
    "mark = collections.deque()\n",
    "\n",
    "for i in range(n - k + 1):\n",
    "    print(f'i: {i}\\ncnt: {cnt}\\nans: {ans}')\n",
    "    print(f'deque: {mark}')\n",
    "    print(f'A: {a}')\n",
    "    print()\n",
    "    \n",
    "    while cnt > 0 and i - mark[0] >= k:\n",
    "        cnt -= 1\n",
    "        mark.popleft()\n",
    "\n",
    "    # When counter is even number\n",
    "    if cnt % 2 == 0:\n",
    "        if a[i] == 0:\n",
    "            cnt += 1\n",
    "            ans += 1\n",
    "            mark.append(i)\n",
    "            a[i] = 1\n",
    "        else:\n",
    "            pass\n",
    "    # When counter is odd number\n",
    "    else:\n",
    "        if a[i] == 0:\n",
    "            a[i] = 1\n",
    "            pass\n",
    "        else:\n",
    "            cnt += 1\n",
    "            ans += 1\n",
    "            mark.append(i)"
   ]
  },
  {
   "cell_type": "markdown",
   "metadata": {
    "ExecuteTime": {
     "end_time": "2019-02-23T07:26:44.180501Z",
     "start_time": "2019-02-23T07:26:44.172503Z"
    }
   },
   "source": [
    "## Second `for` loop\n",
    "```python\n",
    "for i in range(n - k + 1, n):\n",
    "    while cnt > 0 and i - mark[0] >= k:\n",
    "        cnt -= 1\n",
    "        mark.popleft()\n",
    "\n",
    "    if cnt % 2 == 0 and a[i] == 0:\n",
    "        return -1\n",
    "    if cnt % 2 == 1 and a[i] == 1:\n",
    "        return -1\n",
    "return ans\n",
    "```"
   ]
  },
  {
   "cell_type": "code",
   "execution_count": 48,
   "metadata": {
    "ExecuteTime": {
     "end_time": "2019-02-23T07:35:06.310452Z",
     "start_time": "2019-02-23T07:35:06.306528Z"
    }
   },
   "outputs": [
    {
     "data": {
      "text/plain": [
       "'[6, 7]'"
      ]
     },
     "execution_count": 48,
     "metadata": {},
     "output_type": "execute_result"
    }
   ],
   "source": [
    "f'{[i for i in range(n - K + 1, n)]}'"
   ]
  },
  {
   "cell_type": "code",
   "execution_count": 55,
   "metadata": {
    "ExecuteTime": {
     "end_time": "2019-02-23T07:37:33.445638Z",
     "start_time": "2019-02-23T07:37:33.439326Z"
    }
   },
   "outputs": [
    {
     "name": "stdout",
     "output_type": "stream",
     "text": [
      "i: 6\n",
      "cnt: 2\n",
      "ans: 3\n",
      "deque: deque([4, 5])\n",
      "A: [1, 1, 1, 1, 1, 1, 1, 0]\n",
      "\n",
      "i: 7\n",
      "cnt: 2\n",
      "ans: 3\n",
      "deque: deque([4, 5])\n",
      "A: [1, 1, 1, 1, 1, 1, 1, 0]\n",
      "\n",
      "return: 3\n"
     ]
    }
   ],
   "source": [
    "# Second For Loop\n",
    "for i in range(n - k + 1, n):\n",
    "    print(f'i: {i}\\ncnt: {cnt}\\nans: {ans}')\n",
    "    print(f'deque: {mark}')\n",
    "    print(f'A: {a}')\n",
    "    print()\n",
    "    \n",
    "    while cnt > 0 and i - mark[0] >= k:\n",
    "        cnt -= 1\n",
    "        mark.popleft()\n",
    "\n",
    "    if cnt % 2 == 0 and a[i] == 0:\n",
    "#         return -1\n",
    "        print('return: -1')\n",
    "    if cnt % 2 == 1 and a[i] == 1:\n",
    "        print('return: -1')\n",
    "#         return -1\n",
    "print(f'return: {ans}')\n",
    "# return ans"
   ]
  }
 ],
 "metadata": {
  "kernelspec": {
   "display_name": "Python 3",
   "language": "python",
   "name": "python3"
  },
  "language_info": {
   "codemirror_mode": {
    "name": "ipython",
    "version": 3
   },
   "file_extension": ".py",
   "mimetype": "text/x-python",
   "name": "python",
   "nbconvert_exporter": "python",
   "pygments_lexer": "ipython3",
   "version": "3.6.7"
  },
  "nikola": {
   "category": "",
   "date": "2019-02-22 22:11:59 UTC-08:00",
   "description": "",
   "link": "",
   "slug": "995-minimum-number-of-k-consecutive-bit-flips",
   "tags": "",
   "title": "995. Minimum Number of K Consecutive Bit Flips",
   "type": "text"
  },
  "toc": {
   "base_numbering": 1,
   "nav_menu": {},
   "number_sections": true,
   "sideBar": true,
   "skip_h1_title": false,
   "title_cell": "Table of Contents",
   "title_sidebar": "Contents",
   "toc_cell": false,
   "toc_position": {},
   "toc_section_display": true,
   "toc_window_display": false
  },
  "varInspector": {
   "cols": {
    "lenName": 16,
    "lenType": 16,
    "lenVar": 40
   },
   "kernels_config": {
    "python": {
     "delete_cmd_postfix": "",
     "delete_cmd_prefix": "del ",
     "library": "var_list.py",
     "varRefreshCmd": "print(var_dic_list())"
    },
    "r": {
     "delete_cmd_postfix": ") ",
     "delete_cmd_prefix": "rm(",
     "library": "var_list.r",
     "varRefreshCmd": "cat(var_dic_list()) "
    }
   },
   "types_to_exclude": [
    "module",
    "function",
    "builtin_function_or_method",
    "instance",
    "_Feature"
   ],
   "window_display": false
  }
 },
 "nbformat": 4,
 "nbformat_minor": 2
}
