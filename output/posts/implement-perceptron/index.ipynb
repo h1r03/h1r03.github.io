{
 "cells": [
  {
   "cell_type": "markdown",
   "metadata": {},
   "source": [
    "# Goal\n",
    "\n",
    "This post aims to introduce how to implement **Perceptron**, which is the foundation of neural network and a simple gate function returning `0` (no signal) or `1` (signal) given a certain input.\n",
    "\n",
    "In this post, the following fate functions are implemented:\n",
    "* AND\n",
    "* NAND\n",
    "* OR\n",
    "\n",
    "$$\n",
    "y = f(\\mathbf{x})=\\begin{cases}\n",
    "0 & (b + \\mathbf{wx} \\le 0)\\\\\n",
    "1 &(b + \\mathbf{wx} \\gt 0)\n",
    "\\end{cases}$$"
   ]
  },
  {
   "cell_type": "markdown",
   "metadata": {},
   "source": [
    "# Implement `AND` gate"
   ]
  },
  {
   "cell_type": "code",
   "execution_count": 10,
   "metadata": {
    "ExecuteTime": {
     "end_time": "2019-07-25T14:23:37.396320Z",
     "start_time": "2019-07-25T14:23:37.392059Z"
    }
   },
   "outputs": [],
   "source": [
    "def AND(x0, x1, w0=0.5, w1=0.5, b=0.6):\n",
    "    return ((x0 * w0 + x1 * w1) > b) * 1.0"
   ]
  },
  {
   "cell_type": "code",
   "execution_count": 11,
   "metadata": {
    "ExecuteTime": {
     "end_time": "2019-07-25T14:23:37.698975Z",
     "start_time": "2019-07-25T14:23:37.693296Z"
    }
   },
   "outputs": [
    {
     "name": "stdout",
     "output_type": "stream",
     "text": [
      "AND(x0=0, x1=0) = 0.0\n",
      "AND(x0=0, x1=1) = 0.0\n",
      "AND(x0=1, x1=0) = 0.0\n",
      "AND(x0=1, x1=1) = 1.0\n"
     ]
    }
   ],
   "source": [
    "for x0, x1 in [(0, 0), (0, 1), (1, 0), (1, 1)]:\n",
    "    print(f\"AND(x0={x0}, x1={x1}) = {AND(x0, x1)}\")"
   ]
  },
  {
   "cell_type": "markdown",
   "metadata": {},
   "source": [
    "# Implement `NAND` gate"
   ]
  },
  {
   "cell_type": "code",
   "execution_count": 24,
   "metadata": {
    "ExecuteTime": {
     "end_time": "2019-07-25T14:28:47.265550Z",
     "start_time": "2019-07-25T14:28:47.261118Z"
    }
   },
   "outputs": [],
   "source": [
    "def NAND(x0, x1, w0=-0.5, w1=-0.5, b=-0.6):\n",
    "    return ((x0 * w0 + x1 * w1) > b) * 1.0"
   ]
  },
  {
   "cell_type": "code",
   "execution_count": 25,
   "metadata": {
    "ExecuteTime": {
     "end_time": "2019-07-25T14:28:47.488274Z",
     "start_time": "2019-07-25T14:28:47.482977Z"
    }
   },
   "outputs": [
    {
     "name": "stdout",
     "output_type": "stream",
     "text": [
      "NAND(x0=0, x1=0) = 1.0\n",
      "NAND(x0=0, x1=1) = 1.0\n",
      "NAND(x0=1, x1=0) = 1.0\n",
      "NAND(x0=1, x1=1) = 0.0\n"
     ]
    }
   ],
   "source": [
    "for x0, x1 in [(0, 0), (0, 1), (1, 0), (1, 1)]:\n",
    "    print(f\"NAND(x0={x0}, x1={x1}) = {NAND(x0, x1)}\")"
   ]
  },
  {
   "cell_type": "markdown",
   "metadata": {},
   "source": [
    "# Implement `OR` gate"
   ]
  },
  {
   "cell_type": "code",
   "execution_count": 34,
   "metadata": {
    "ExecuteTime": {
     "end_time": "2019-07-25T14:30:24.914191Z",
     "start_time": "2019-07-25T14:30:24.910426Z"
    }
   },
   "outputs": [],
   "source": [
    "def OR(x0, x1, w0=0.5, w1=0.5, b=0.2):\n",
    "    return ((x0 * w0 + x1 * w1) > b) * 1.0"
   ]
  },
  {
   "cell_type": "code",
   "execution_count": 35,
   "metadata": {
    "ExecuteTime": {
     "end_time": "2019-07-25T14:30:25.307764Z",
     "start_time": "2019-07-25T14:30:25.302110Z"
    }
   },
   "outputs": [
    {
     "name": "stdout",
     "output_type": "stream",
     "text": [
      "OR(x0=0, x1=0) = 0.0\n",
      "OR(x0=0, x1=1) = 1.0\n",
      "OR(x0=1, x1=0) = 1.0\n",
      "OR(x0=1, x1=1) = 1.0\n"
     ]
    }
   ],
   "source": [
    "for x0, x1 in [(0, 0), (0, 1), (1, 0), (1, 1)]:\n",
    "    print(f\"OR(x0={x0}, x1={x1}) = {OR(x0, x1)}\")"
   ]
  }
 ],
 "metadata": {
  "kernelspec": {
   "display_name": "Python (py367)",
   "language": "python",
   "name": "py367"
  },
  "language_info": {
   "codemirror_mode": {
    "name": "ipython",
    "version": 3
   },
   "file_extension": ".py",
   "mimetype": "text/x-python",
   "name": "python",
   "nbconvert_exporter": "python",
   "pygments_lexer": "ipython3",
   "version": "3.6.7"
  },
  "nikola": {
   "category": "Machine Learning",
   "date": "2019-07-25 06:46:00 UTC-07:00",
   "description": "introduce how to implement perceptron",
   "link": "",
   "slug": "implement-perceptron",
   "tags": "Perceptron, Neural Network, AND gate, NAND gate, OR gate",
   "title": "Implement Perceptron",
   "type": "text"
  },
  "toc": {
   "base_numbering": 1,
   "nav_menu": {},
   "number_sections": true,
   "sideBar": true,
   "skip_h1_title": false,
   "title_cell": "Table of Contents",
   "title_sidebar": "Contents",
   "toc_cell": false,
   "toc_position": {},
   "toc_section_display": true,
   "toc_window_display": true
  }
 },
 "nbformat": 4,
 "nbformat_minor": 2
}
