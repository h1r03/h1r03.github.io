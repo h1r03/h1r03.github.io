{
 "cells": [
  {
   "cell_type": "markdown",
   "metadata": {},
   "source": [
    "# Overview"
   ]
  },
  {
   "cell_type": "markdown",
   "metadata": {},
   "source": [
    "reference \n",
    "* https://qiita.com/skotaro/items/cdb0732ad1ad2a4b6236\n",
    "    "
   ]
  },
  {
   "cell_type": "markdown",
   "metadata": {},
   "source": [
    "# Prerequisite"
   ]
  },
  {
   "cell_type": "code",
   "execution_count": 2,
   "metadata": {},
   "outputs": [],
   "source": [
    "import matplotlib.pyplot as plt\n",
    "import numpy as np\n",
    "import pandas as pd\n",
    "%matplotlib inline"
   ]
  },
  {
   "cell_type": "markdown",
   "metadata": {},
   "source": [
    "# Bar plot\n",
    "The key points are as follows:\n",
    "> 1. Clarify the key message\n",
    "2. Use comparison to show the size difference of data\n",
    "3. Think of what is the most effective way to convey the message"
   ]
  },
  {
   "cell_type": "markdown",
   "metadata": {},
   "source": [
    "## Default"
   ]
  },
  {
   "cell_type": "code",
   "execution_count": 5,
   "metadata": {},
   "outputs": [],
   "source": [
    "## Default\n",
    "df_bar = pd.DataFrame([100, 200, 6000], \n",
    "                  index=['a', 'b', 'c'],\n",
    "                  columns=['growth'])"
   ]
  },
  {
   "cell_type": "code",
   "execution_count": 7,
   "metadata": {},
   "outputs": [
    {
     "data": {
      "image/png": "[encoded data removed]",
      "text/plain": [
       "<Figure size 432x288 with 1 Axes>"
      ]
     },
     "metadata": {
      "needs_background": "light"
     },
     "output_type": "display_data"
    }
   ],
   "source": [
    "df_bar.plot(kind='barh');"
   ]
  },
  {
   "cell_type": "markdown",
   "metadata": {},
   "source": [
    "## Polished\n",
    "* Delete legend\n",
    "* Tighten the space between bars\n",
    "* Re-order the y-axis\n",
    "* Delete the square spines\n",
    "* Delete ticks for x and y axis \n",
    "* Delete tick label for x axis\n",
    "* Increase the size of the label for y axis\n",
    "* Display each value next to the bar \n",
    "\n",
    "\n"
   ]
  },
  {
   "cell_type": "code",
   "execution_count": 14,
   "metadata": {},
   "outputs": [
    {
     "data": {
      "image/png": "[encoded data removed]",
      "text/plain": [
       "<Figure size 432x216 with 1 Axes>"
      ]
     },
     "metadata": {
      "needs_background": "light"
     },
     "output_type": "display_data"
    }
   ],
   "source": [
    "# 1. Delete legend legend=False\n",
    "# 2. Tighten the space between bars width=0.8\n",
    "width = 0.8\n",
    "fig, ax = plt.subplots(figsize=(6, 3))\n",
    "df_bar.plot(kind='barh', legend=False, ax=ax, width=width);\n",
    "# 3. y軸の順番を逆に\n",
    "ax.invert_yaxis()\n",
    "\n",
    "# 4. Delete the square spines\n",
    "[spine.set_visible(False) for spine in ax.spines.values()]\n",
    "\n",
    "\n",
    "# 5. Delete ticks for x and y axis\n",
    "# 6. Delete tick label for x axis\n",
    "ax.tick_params(bottom=False, left=False, labelbottom=False)\n",
    "\n",
    "# 7. Increase the size of the label for y axis\n",
    "ax.tick_params(axis='y', labelsize='x-large')\n",
    "\n",
    "# 8. Display each value next to the bar\n",
    "vmax = df_bar['growth'].max()\n",
    "\n",
    "for i, value in enumerate(df_bar['growth']):\n",
    "    ax.text(value+vmax*0.02, i, f'{value:,}', fontsize='x-large', va='center', color='C0')\n"
   ]
  },
  {
   "cell_type": "code",
   "execution_count": null,
   "metadata": {},
   "outputs": [],
   "source": []
  }
 ],
 "metadata": {
  "kernelspec": {
   "display_name": "Python 3",
   "language": "python",
   "name": "python3"
  },
  "language_info": {
   "codemirror_mode": {
    "name": "ipython",
    "version": 3
   },
   "file_extension": ".py",
   "mimetype": "text/x-python",
   "name": "python",
   "nbconvert_exporter": "python",
   "pygments_lexer": "ipython3",
   "version": "3.6.7"
  },
  "nikola": {
   "category": "",
   "date": "2019-04-07 16:52:15 UTC-07:00",
   "description": "",
   "link": "",
   "slug": "desgin-of-visualization-by-matplotlib",
   "tags": "",
   "title": "Desgin of Visualization by matplotlib",
   "type": "text"
  }
 },
 "nbformat": 4,
 "nbformat_minor": 2
}
