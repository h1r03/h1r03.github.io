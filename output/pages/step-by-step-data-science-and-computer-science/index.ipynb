{
 "cells": [
  {
   "cell_type": "markdown",
   "metadata": {},
   "source": [
    "# Step-by-step data science & computer science\n",
    "\n",
    "This blog aims to share some technical notes and encourage me and audiences to understand more deeply some topics together through discussion.\n",
    "\n",
    "\n"
   ]
  },
  {
   "cell_type": "markdown",
   "metadata": {},
   "source": [
    "# Coding Problem"
   ]
  },
  {
   "cell_type": "code",
   "execution_count": 1,
   "metadata": {
    "ExecuteTime": {
     "end_time": "2019-05-10T16:04:50.287769Z",
     "start_time": "2019-05-10T16:04:50.146583Z"
    }
   },
   "outputs": [
    {
     "name": "stdout",
     "output_type": "stream",
     "text": [
      "1000. Minimum Cost to Merge Stones.ipynb\r\n",
      "1004. Max Consecutive Ones III.ipynb\r\n",
      "1019-next-greater-node-in-linked-list.ipynb\r\n",
      "1025-divisor-game.ipynb\r\n",
      "1026-maximum-difference-between-node-and-ancestor.ipynb\r\n",
      "1031-maximum-sum-of-two-non-overlapping-subarrays.ipynb\r\n",
      "1036-escape-a-large-maze.ipynb\r\n",
      "617. Merge Two Binary Trees.ipynb\r\n",
      "990-satisfiability-of-equality-equations.ipynb\r\n",
      "995-minimum-number-of-k-consecutive-bit-flips.ipynb\r\n",
      "998 Smallest String Starting From Leaf.ipynb\r\n",
      "leetcode-top-100-problem-selection.ipynb\r\n"
     ]
    }
   ],
   "source": [
    "!ls ../posts/coding"
   ]
  },
  {
   "cell_type": "code",
   "execution_count": 5,
   "metadata": {
    "ExecuteTime": {
     "end_time": "2019-05-10T16:16:16.013686Z",
     "start_time": "2019-05-10T16:16:16.003185Z"
    }
   },
   "outputs": [
    {
     "name": "stdout",
     "output_type": "stream",
     "text": [
      "leetcode-top-100-problem-selection\n",
      "1000-minimum-cost-to-merge-stones\n",
      "1004-max-consecutive-ones-iii\n",
      "1019-next-greater-node-in-linked-list\n",
      "1025-divisor-game\n",
      "1026-maximum-difference-between-node-and-ancestor\n",
      "1031-maximum-sum-of-two-non-overlapping-subarrays\n",
      "1036-escape-a-large-maze\n",
      "617-merge-two-binary-trees\n",
      "990-satisfiability-of-equality-equations\n",
      "995-minimum-number-of-k-consecutive-bit-flips\n",
      "998-smallest-string-starting-from-leaf\n",
      "\n"
     ]
    }
   ],
   "source": [
    "from slugify import slugify\n",
    "l = \"\"\"leetcode-top-100-problem-selection.ipynb\n",
    "1000. Minimum Cost to Merge Stones.ipynb\n",
    "1004. Max Consecutive Ones III.ipynb\n",
    "1019-next-greater-node-in-linked-list.ipynb\n",
    "1025-divisor-game.ipynb\n",
    "1026-maximum-difference-between-node-and-ancestor.ipynb\n",
    "1031-maximum-sum-of-two-non-overlapping-subarrays.ipynb\n",
    "1036-escape-a-large-maze.ipynb\n",
    "617. Merge Two Binary Trees.ipynb\n",
    "990-satisfiability-of-equality-equations.ipynb\n",
    "995-minimum-number-of-k-consecutive-bit-flips.ipynb\n",
    "998 Smallest String Starting From Leaf.ipynb\n",
    "\"\"\"\n",
    "l = l.split('\\n')\n",
    "for txt in l:\n",
    "    print(slugify(txt.replace('.ipynb', '')))"
   ]
  },
  {
   "cell_type": "code",
   "execution_count": null,
   "metadata": {},
   "outputs": [],
   "source": []
  }
 ],
 "metadata": {
  "kernelspec": {
   "display_name": "Python (py367)",
   "language": "python",
   "name": "py367"
  },
  "language_info": {
   "codemirror_mode": {
    "name": "ipython",
    "version": 3
   },
   "file_extension": ".py",
   "mimetype": "text/x-python",
   "name": "python",
   "nbconvert_exporter": "python",
   "pygments_lexer": "ipython3",
   "version": "3.6.7"
  },
  "nikola": {
   "category": "",
   "date": "2019-05-10 09:00:22 UTC-07:00",
   "description": "",
   "link": "",
   "slug": "step-by-step-data-science-and-computer-science",
   "tags": "",
   "title": "Step-by-step Data Science and Computer Science",
   "type": "text"
  },
  "toc": {
   "base_numbering": 1,
   "nav_menu": {},
   "number_sections": true,
   "sideBar": true,
   "skip_h1_title": false,
   "title_cell": "Table of Contents",
   "title_sidebar": "Contents",
   "toc_cell": false,
   "toc_position": {},
   "toc_section_display": true,
   "toc_window_display": false
  }
 },
 "nbformat": 4,
 "nbformat_minor": 2
}
