{
 "cells": [
  {
   "cell_type": "code",
   "execution_count": 15,
   "metadata": {},
   "outputs": [
    {
     "data": {
      "text/plain": [
       "array([0., 0., 0., 0., 0., 0.])"
      ]
     },
     "execution_count": 15,
     "metadata": {},
     "output_type": "execute_result"
    }
   ],
   "source": [
    "import numpy as np\n",
    "zero = np.zeros(6)\n",
    "zero"
   ]
  },
  {
   "cell_type": "code",
   "execution_count": 16,
   "metadata": {},
   "outputs": [
    {
     "data": {
      "text/plain": [
       "array([0., 0., 0., 1., 0., 0.])"
      ]
     },
     "execution_count": 16,
     "metadata": {},
     "output_type": "execute_result"
    }
   ],
   "source": [
    "zero[3] = 1\n",
    "zero"
   ]
  },
  {
   "cell_type": "code",
   "execution_count": 53,
   "metadata": {},
   "outputs": [],
   "source": [
    "import numpy as np\n",
    "\n",
    "class Solution(object):\n",
    "    def commonChars(self, A):\n",
    "        \"\"\"\n",
    "        :type A: List[str]\n",
    "        :rtype: List[str]\n",
    "        \"\"\"\n",
    "        ret = []\n",
    "        d_ret = {}\n",
    "        n_word = len(A)\n",
    "        for i, word in enumerate(A):\n",
    "            for j, a in enumerate(word):\n",
    "                if a in d_ret.keys():\n",
    "                    d_ret[a][i] += 1\n",
    "                else:\n",
    "                    zero = np.zeros(n_word)\n",
    "                    zero[i] = 1\n",
    "                    d_ret[a] = zero\n",
    "        self.d_ret = d_ret\n",
    "        \n",
    "        for key, arr in d_ret.items():\n",
    "            if arr.all() :\n",
    "                ret += [key] * int(np.min(arr))\n",
    "        \n",
    "        self.ret = ret\n",
    "        return ret"
   ]
  },
  {
   "cell_type": "code",
   "execution_count": 54,
   "metadata": {},
   "outputs": [
    {
     "data": {
      "text/plain": [
       "['e', 'l', 'l']"
      ]
     },
     "execution_count": 54,
     "metadata": {},
     "output_type": "execute_result"
    }
   ],
   "source": [
    "A = [\"bella\",\"label\",\"roller\"]\n",
    "s = Solution()\n",
    "s.commonChars(A)"
   ]
  },
  {
   "cell_type": "code",
   "execution_count": 43,
   "metadata": {},
   "outputs": [
    {
     "data": {
      "text/plain": [
       "{'b': array([1., 1., 0.]),\n",
       " 'e': array([1., 1., 1.]),\n",
       " 'l': array([2., 2., 2.]),\n",
       " 'a': array([1., 1., 0.]),\n",
       " 'r': array([0., 0., 2.]),\n",
       " 'o': array([0., 0., 1.])}"
      ]
     },
     "execution_count": 43,
     "metadata": {},
     "output_type": "execute_result"
    }
   ],
   "source": [
    "s.d_ret"
   ]
  },
  {
   "cell_type": "code",
   "execution_count": 44,
   "metadata": {},
   "outputs": [
    {
     "data": {
      "text/plain": [
       "True"
      ]
     },
     "execution_count": 44,
     "metadata": {},
     "output_type": "execute_result"
    }
   ],
   "source": [
    "(np.diff(s.d_ret['l']) == 0).all()"
   ]
  },
  {
   "cell_type": "code",
   "execution_count": 45,
   "metadata": {},
   "outputs": [
    {
     "data": {
      "text/plain": [
       "True"
      ]
     },
     "execution_count": 45,
     "metadata": {},
     "output_type": "execute_result"
    }
   ],
   "source": [
    "s.d_ret['l'].all()"
   ]
  },
  {
   "cell_type": "code",
   "execution_count": 46,
   "metadata": {},
   "outputs": [
    {
     "data": {
      "text/plain": [
       "False"
      ]
     },
     "execution_count": 46,
     "metadata": {},
     "output_type": "execute_result"
    }
   ],
   "source": [
    "\n",
    "\n",
    "s.d_ret['r'].all()"
   ]
  },
  {
   "cell_type": "code",
   "execution_count": 47,
   "metadata": {},
   "outputs": [
    {
     "data": {
      "text/plain": [
       "False"
      ]
     },
     "execution_count": 47,
     "metadata": {},
     "output_type": "execute_result"
    }
   ],
   "source": [
    "s.d_ret['a'].all()"
   ]
  },
  {
   "cell_type": "code",
   "execution_count": 39,
   "metadata": {},
   "outputs": [
    {
     "data": {
      "text/plain": [
       "[]"
      ]
     },
     "execution_count": 39,
     "metadata": {},
     "output_type": "execute_result"
    }
   ],
   "source": [
    "A = []\n",
    "s = Solution()\n",
    "s.commonChars(A)"
   ]
  },
  {
   "cell_type": "code",
   "execution_count": 55,
   "metadata": {},
   "outputs": [
    {
     "data": {
      "text/plain": [
       "['a', 'a', 'a']"
      ]
     },
     "execution_count": 55,
     "metadata": {},
     "output_type": "execute_result"
    }
   ],
   "source": [
    "A = ['aaaaa', 'aaabb']\n",
    "s = Solution()\n",
    "s.commonChars(A)"
   ]
  },
  {
   "cell_type": "code",
   "execution_count": 41,
   "metadata": {},
   "outputs": [
    {
     "data": {
      "text/plain": [
       "{'a': array([5., 3.]), 'b': array([0., 2.])}"
      ]
     },
     "execution_count": 41,
     "metadata": {},
     "output_type": "execute_result"
    }
   ],
   "source": [
    "s.d_ret"
   ]
  },
  {
   "cell_type": "markdown",
   "metadata": {},
   "source": [
    "# Prob 2"
   ]
  },
  {
   "cell_type": "code",
   "execution_count": 118,
   "metadata": {},
   "outputs": [],
   "source": [
    "class Solution(object):\n",
    "    def isValid(self, S):\n",
    "        \"\"\"\n",
    "        :type S: str\n",
    "        :rtype: bool\n",
    "        \"\"\"\n",
    "        \n",
    "        v_str = 'abc'\n",
    "        s_split = S.split(v_str)\n",
    "        \n",
    "        changed = True\n",
    "        while changed:\n",
    "            s_split_2 = (''.join(s_split)).split(v_str)\n",
    "#             print(len(s_split), len(s_split_2))\n",
    "            print(s_split)\n",
    "            print(s_split_2)\n",
    "            print(len(s_split))\n",
    "            print(len(s_split_2))\n",
    "            print(len( ''.join(s_split)))\n",
    "            print(len( ''.join(s_split_2)))\n",
    "            changed = (len( ''.join(s_split)) !=  len(''.join(s_split_2)))\n",
    "            print('changed', changed)\n",
    "            s_split = s_split_2\n",
    "            \n",
    "        print(s_split)\n",
    "        return ''.join(s_split) == '' \n",
    "        "
   ]
  },
  {
   "cell_type": "code",
   "execution_count": 120,
   "metadata": {},
   "outputs": [
    {
     "name": "stdout",
     "output_type": "stream",
     "text": [
      "['a', 'bc']\n",
      "['', '']\n",
      "2\n",
      "2\n",
      "3\n",
      "0\n",
      "changed True\n",
      "['', '']\n",
      "['']\n",
      "2\n",
      "1\n",
      "0\n",
      "0\n",
      "changed False\n",
      "['']\n"
     ]
    },
    {
     "data": {
      "text/plain": [
       "True"
      ]
     },
     "execution_count": 120,
     "metadata": {},
     "output_type": "execute_result"
    }
   ],
   "source": [
    "S = \"aabcbc\"\n",
    "s = Solution()\n",
    "s.isValid(S)\n"
   ]
  },
  {
   "cell_type": "code",
   "execution_count": 121,
   "metadata": {},
   "outputs": [
    {
     "name": "stdout",
     "output_type": "stream",
     "text": [
      "['', '', 'ab', 'c']\n",
      "['', '']\n",
      "4\n",
      "2\n",
      "3\n",
      "0\n",
      "changed True\n",
      "['', '']\n",
      "['']\n",
      "2\n",
      "1\n",
      "0\n",
      "0\n",
      "changed False\n",
      "['']\n"
     ]
    },
    {
     "data": {
      "text/plain": [
       "True"
      ]
     },
     "execution_count": 121,
     "metadata": {},
     "output_type": "execute_result"
    }
   ],
   "source": [
    "S = \"abcabcababcc\"\n",
    "s = Solution()\n",
    "s.isValid(S)\n"
   ]
  },
  {
   "cell_type": "code",
   "execution_count": 122,
   "metadata": {},
   "outputs": [
    {
     "name": "stdout",
     "output_type": "stream",
     "text": [
      "['', 'cba']\n",
      "['cba']\n",
      "2\n",
      "1\n",
      "3\n",
      "3\n",
      "changed False\n",
      "['cba']\n"
     ]
    },
    {
     "data": {
      "text/plain": [
       "False"
      ]
     },
     "execution_count": 122,
     "metadata": {},
     "output_type": "execute_result"
    }
   ],
   "source": [
    "S = \"abccba\"\n",
    "s = Solution()\n",
    "s.isValid(S)\n"
   ]
  },
  {
   "cell_type": "code",
   "execution_count": 123,
   "metadata": {},
   "outputs": [
    {
     "name": "stdout",
     "output_type": "stream",
     "text": [
      "['cab', '']\n",
      "['cab']\n",
      "2\n",
      "1\n",
      "3\n",
      "3\n",
      "changed False\n",
      "['cab']\n"
     ]
    },
    {
     "data": {
      "text/plain": [
       "False"
      ]
     },
     "execution_count": 123,
     "metadata": {},
     "output_type": "execute_result"
    }
   ],
   "source": [
    "S = \"cababc\"\n",
    "s = Solution()\n",
    "s.isValid(S)\n"
   ]
  },
  {
   "cell_type": "code",
   "execution_count": 115,
   "metadata": {},
   "outputs": [
    {
     "name": "stdout",
     "output_type": "stream",
     "text": [
      "['a']\n",
      "['a']\n",
      "1\n",
      "1\n",
      "changed False\n",
      "['a']\n"
     ]
    },
    {
     "data": {
      "text/plain": [
       "False"
      ]
     },
     "execution_count": 115,
     "metadata": {},
     "output_type": "execute_result"
    }
   ],
   "source": [
    "S = \"a\"\n",
    "s = Solution()\n",
    "s.isValid(S)\n"
   ]
  },
  {
   "cell_type": "code",
   "execution_count": 119,
   "metadata": {},
   "outputs": [
    {
     "name": "stdout",
     "output_type": "stream",
     "text": [
      "['aa', 'bcbc']\n",
      "['a', 'bc']\n",
      "2\n",
      "2\n",
      "6\n",
      "3\n",
      "changed True\n",
      "['a', 'bc']\n",
      "['', '']\n",
      "2\n",
      "2\n",
      "3\n",
      "0\n",
      "changed True\n",
      "['', '']\n",
      "['']\n",
      "2\n",
      "1\n",
      "0\n",
      "0\n",
      "changed False\n",
      "['']\n"
     ]
    },
    {
     "data": {
      "text/plain": [
       "True"
      ]
     },
     "execution_count": 119,
     "metadata": {},
     "output_type": "execute_result"
    }
   ],
   "source": [
    "S = \"aaabcbcbc\" # True\n",
    "s = Solution()\n",
    "s.isValid(S)\n"
   ]
  },
  {
   "cell_type": "markdown",
   "metadata": {},
   "source": [
    "# Prob 3"
   ]
  },
  {
   "cell_type": "code",
   "execution_count": 124,
   "metadata": {},
   "outputs": [],
   "source": [
    "class Solution(object):\n",
    "    def longestOnes(self, A, K):\n",
    "        \"\"\"\n",
    "        :type A: List[int]\n",
    "        :type K: int\n",
    "        :rtype: int\n",
    "        \"\"\"\n",
    "        \n",
    "        \n",
    "        \n",
    "        \n",
    "        \n",
    "        "
   ]
  },
  {
   "cell_type": "code",
   "execution_count": 198,
   "metadata": {},
   "outputs": [],
   "source": [
    "A = [1,1,1,0,0,0,1,1,1,1,0]\n",
    "K = 2\n",
    "s = Solution()\n",
    "s.longestOnes(A, K)"
   ]
  },
  {
   "cell_type": "code",
   "execution_count": 176,
   "metadata": {},
   "outputs": [],
   "source": [
    "A = [0,0,1,1,0,0,1,1,1,0,1,1,0,0,0,1,1,1,1]\n",
    "K = 3\n",
    "s = Solution()\n",
    "s.longestOnes(A, K)"
   ]
  },
  {
   "cell_type": "code",
   "execution_count": 177,
   "metadata": {},
   "outputs": [
    {
     "data": {
      "text/plain": [
       "[0, 1, 1, 0, 0, 1, 1, 1, 0, 1, 1, 0, 0, 0, 1, 1, 1, 1]"
      ]
     },
     "execution_count": 177,
     "metadata": {},
     "output_type": "execute_result"
    }
   ],
   "source": [
    "A[1:]"
   ]
  },
  {
   "cell_type": "code",
   "execution_count": 211,
   "metadata": {},
   "outputs": [],
   "source": [
    "run_len = {}\n",
    "run_len_ = []\n",
    "group_id = 0\n",
    "prev = A[0]\n",
    "for i, a in enumerate(A[1:]):\n",
    "    key = str(group_id)\n",
    "    if a == prev:\n",
    "        if key in run_len:\n",
    "            run_len[key][1] += 1\n",
    "        else:\n",
    "            run_len[key] = [a, 2]\n",
    "    else:\n",
    "        group_id += 1 \n",
    "        key = str(group_id)\n",
    "        if key not in run_len:\n",
    "            run_len[key] = [a, 1]\n",
    "        run_len_.append(run_len[key])\n",
    "    prev = a"
   ]
  },
  {
   "cell_type": "code",
   "execution_count": 212,
   "metadata": {},
   "outputs": [
    {
     "data": {
      "text/plain": [
       "[[0, 3], [1, 4], [0, 1]]"
      ]
     },
     "execution_count": 212,
     "metadata": {},
     "output_type": "execute_result"
    }
   ],
   "source": [
    "run_len_"
   ]
  },
  {
   "cell_type": "code",
   "execution_count": 182,
   "metadata": {},
   "outputs": [
    {
     "data": {
      "text/plain": [
       "{'0': [0, 1],\n",
       " '1': [1, 1],\n",
       " '2': [0, 1],\n",
       " '3': [1, 2],\n",
       " '5': [1, 1],\n",
       " '6': [0, 2],\n",
       " '7': [1, 3]}"
      ]
     },
     "execution_count": 182,
     "metadata": {},
     "output_type": "execute_result"
    }
   ],
   "source": [
    "run_len"
   ]
  },
  {
   "cell_type": "code",
   "execution_count": 201,
   "metadata": {},
   "outputs": [
    {
     "name": "stdout",
     "output_type": "stream",
     "text": [
      "0\n",
      "start with  1\n",
      "breaking\n",
      "1\n",
      "start with  2\n",
      "breaking\n",
      "2\n"
     ]
    }
   ],
   "source": [
    "lens = []\n",
    "\n",
    "for i, group in enumerate(run_len_):\n",
    "    print(i)\n",
    "    length = 0\n",
    "    k_count = 0\n",
    "    for j, subgroup in enumerate(run_len_[i+1:]):\n",
    "        print('start with ', i+1)\n",
    "\n",
    "        if subgroup[0] == 0:\n",
    "            k_count += subgroup[0]\n",
    "        \n",
    "        length += subgroup[1]    \n",
    "        if k_count < K:\n",
    "            lens.append(length)\n",
    "            print('breaking')\n",
    "            break\n",
    "        "
   ]
  },
  {
   "cell_type": "code",
   "execution_count": 202,
   "metadata": {},
   "outputs": [
    {
     "data": {
      "text/plain": [
       "[2, 3]"
      ]
     },
     "execution_count": 202,
     "metadata": {},
     "output_type": "execute_result"
    }
   ],
   "source": [
    "lens"
   ]
  },
  {
   "cell_type": "code",
   "execution_count": 167,
   "metadata": {},
   "outputs": [
    {
     "data": {
      "text/plain": [
       "3"
      ]
     },
     "execution_count": 167,
     "metadata": {},
     "output_type": "execute_result"
    }
   ],
   "source": [
    "list(val.values())[0]"
   ]
  },
  {
   "cell_type": "code",
   "execution_count": null,
   "metadata": {},
   "outputs": [],
   "source": []
  },
  {
   "cell_type": "code",
   "execution_count": null,
   "metadata": {},
   "outputs": [],
   "source": []
  },
  {
   "cell_type": "code",
   "execution_count": null,
   "metadata": {},
   "outputs": [],
   "source": []
  },
  {
   "cell_type": "markdown",
   "metadata": {},
   "source": [
    "# Prob 4"
   ]
  },
  {
   "cell_type": "code",
   "execution_count": 251,
   "metadata": {},
   "outputs": [],
   "source": [
    "class Solution(object):\n",
    "    \n",
    "    n_merge = 0\n",
    "    def mergeStones(self, stones, K):\n",
    "        \"\"\"\n",
    "        :type stones: List[int]\n",
    "        :type K: int\n",
    "        :rtype: int\n",
    "        \"\"\"\n",
    "        \n",
    "        \n",
    "        def merge_recursive(stones, K):\n",
    "            if len(stones) == 1:\n",
    "                return self.n_merge\n",
    "            elif len(stones) < K:\n",
    "                return -1\n",
    "            \n",
    "            self.n_merge += 1\n",
    "            cost_stones = np.array([i for i in zip(*[np.array(stones[i:]) for i in range(K)])]).sum(axis=1)\n",
    "            min_cost = np.min(cost_stones)\n",
    "            i_min_cost = np.argmin(cost_stones)\n",
    "            print(i_min_cost)\n",
    "            new_stones = stones[:i_min_cost] + [min_cost] + stones[i_min_cost+K:]\n",
    "            print(new_stones)\n",
    "            merge_recursive(new_stones, K)\n",
    "        \n",
    "        \n",
    "        merge_recursive(stones, K)"
   ]
  },
  {
   "cell_type": "code",
   "execution_count": 252,
   "metadata": {},
   "outputs": [
    {
     "name": "stdout",
     "output_type": "stream",
     "text": [
      "0\n",
      "[5, 4, 1]\n",
      "1\n",
      "[5, 5]\n",
      "0\n",
      "[10]\n"
     ]
    }
   ],
   "source": [
    "stones = [3,2,4,1]\n",
    "K = 2\n",
    "s = Solution()\n",
    "s.mergeStones(stones, K)"
   ]
  },
  {
   "cell_type": "code",
   "execution_count": 228,
   "metadata": {},
   "outputs": [
    {
     "data": {
      "text/plain": [
       "[3, 2, 4, 1]"
      ]
     },
     "execution_count": 228,
     "metadata": {},
     "output_type": "execute_result"
    }
   ],
   "source": [
    "stones"
   ]
  },
  {
   "cell_type": "code",
   "execution_count": 236,
   "metadata": {},
   "outputs": [
    {
     "data": {
      "text/plain": [
       "array([5, 6, 5])"
      ]
     },
     "execution_count": 236,
     "metadata": {},
     "output_type": "execute_result"
    }
   ],
   "source": [
    "\n"
   ]
  },
  {
   "cell_type": "code",
   "execution_count": 225,
   "metadata": {},
   "outputs": [
    {
     "data": {
      "text/plain": [
       "array(<zip object at 0x1170eab88>, dtype=object)"
      ]
     },
     "execution_count": 225,
     "metadata": {},
     "output_type": "execute_result"
    }
   ],
   "source": [
    "reshape_stone = np.array(zip(*[(stones)[i:] for i in range(K)]))\n",
    "reshape_stone"
   ]
  },
  {
   "cell_type": "code",
   "execution_count": 221,
   "metadata": {},
   "outputs": [
    {
     "ename": "IndexError",
     "evalue": "index 1 is out of bounds for axis 0 with size 1",
     "output_type": "error",
     "traceback": [
      "\u001b[0;31m---------------------------------------------------------------------------\u001b[0m",
      "\u001b[0;31mIndexError\u001b[0m                                Traceback (most recent call last)",
      "\u001b[0;32m<ipython-input-221-c6d9cfe5f961>\u001b[0m in \u001b[0;36m<module>\u001b[0;34m\u001b[0m\n\u001b[0;32m----> 1\u001b[0;31m \u001b[0mreshape_stone\u001b[0m\u001b[0;34m[\u001b[0m\u001b[0;36m1\u001b[0m\u001b[0;34m]\u001b[0m\u001b[0;34m\u001b[0m\u001b[0;34m\u001b[0m\u001b[0m\n\u001b[0m",
      "\u001b[0;31mIndexError\u001b[0m: index 1 is out of bounds for axis 0 with size 1"
     ]
    }
   ],
   "source": [
    "reshape_stone[1]"
   ]
  },
  {
   "cell_type": "code",
   "execution_count": 227,
   "metadata": {},
   "outputs": [
    {
     "data": {
      "text/plain": [
       "array(<zip object at 0x1170eac88>, dtype=object)"
      ]
     },
     "execution_count": 227,
     "metadata": {},
     "output_type": "execute_result"
    }
   ],
   "source": [
    "A=np.array([1,2,3,4,5,6,7,8,9,10,11,12,13,14])\n",
    ">>> n=5\n",
    ">>> np.array(zip(*(A[i:] for i in range(n))))\n"
   ]
  },
  {
   "cell_type": "code",
   "execution_count": null,
   "metadata": {},
   "outputs": [],
   "source": []
  },
  {
   "cell_type": "code",
   "execution_count": null,
   "metadata": {},
   "outputs": [],
   "source": []
  }
 ],
 "metadata": {
  "kernelspec": {
   "display_name": "Python (py367)",
   "language": "python",
   "name": "py367"
  },
  "language_info": {
   "codemirror_mode": {
    "name": "ipython",
    "version": 3
   },
   "file_extension": ".py",
   "mimetype": "text/x-python",
   "name": "python",
   "nbconvert_exporter": "python",
   "pygments_lexer": "ipython3",
   "version": "3.6.7"
  }
 },
 "nbformat": 4,
 "nbformat_minor": 2
}
