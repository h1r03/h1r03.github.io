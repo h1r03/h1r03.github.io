{
 "cells": [
  {
   "cell_type": "markdown",
   "metadata": {},
   "source": [
    "# Goal\n",
    "This post aims to break down the module [`dtreeviz`](https://github.com/parrt/dtreeviz) module step by step to fully understand what is implemented. After fully understanding this, I would like to contribute to this module and submit a pull request. \n",
    "\n",
    "I really like this module and would like to see this works for other tree-based modules like XGBoost or Lightgbm. I found [the exact same issue (issues 15)](https://github.com/parrt/dtreeviz/issues/15) in github so I hope I could contribute to this issue.\n",
    "\n",
    "This post is the 4th part: breaking down `DTreeViz` class and `rtreeviz_univar` method. \n",
    "\n",
    "**Reference**\n",
    "* [Github dtreeviz](https://github.com/parrt/dtreeviz)\n",
    "* [Scikit-Learn - Tree](https://scikit-learn.org/stable/modules/tree.html)\n",
    "* [Step by Step Data Science - Split-Up: dtreeviz (Part 1)](https://h1ros.github.io/posts/split-up-dtreevis-part-1/)\n",
    "* [Step by Step Data Science - Split-Up: dtreeviz (Part 2)](https://h1ros.github.io/posts/split-up-dtreevis-part-2/)\n",
    "* [Step by Step Data Science - Split-Up: dtreeviz (Part 3)](https://h1ros.github.io/posts/split-up-dtreevis-part-3/)\n",
    " "
   ]
  },
  {
   "cell_type": "markdown",
   "metadata": {},
   "source": [
    "# `DTreeViz` class\n",
    "\n",
    "- L23: the beginning of `DTreeViz` class\n",
    "- L24-25: `__init__` method taking `dot` object as an input \n",
    "- L26-78: deal with save, view the visualization as svg file \n",
    "\n",
    "## rtreeviz_univar\n",
    "- L81: the beginning of `rtreeviz_univar` method\n",
    "- L94-102: initial setting for the range of X, y data and converting them into numpy array.\n",
    "- L104-105: create a scikit-learn decision tree\n",
    "- L121-122: plot the original X and y data points\n",
    "- L125-126: plot the vertical line for decision boundary (gray line)\n",
    "- L128-134: plot the horizontal line for mean line (red line by default)\n",
    "- L136: Change the appearance of ticks\n",
    "- L138-140: setting title\n",
    "- L142-143: setting x and y label based on `feature_name` and `target_name`"
   ]
  },
  {
   "cell_type": "code",
   "execution_count": 4,
   "metadata": {
    "ExecuteTime": {
     "end_time": "2019-07-20T21:07:29.127390Z",
     "start_time": "2019-07-20T21:07:29.098430Z"
    }
   },
   "outputs": [],
   "source": [
    "from pathlib import Path\n",
    "from graphviz.backend import run, view\n",
    "import matplotlib.pyplot as plt\n",
    "from dtreeviz.shadow import *\n",
    "from numbers import Number\n",
    "import matplotlib.patches as patches\n",
    "import tempfile\n",
    "import os\n",
    "from sys import platform as PLATFORM\n",
    "from colour import Color, rgb2hex\n",
    "from typing import Mapping, List\n",
    "from dtreeviz.utils import inline_svg_images, myround\n",
    "from dtreeviz.shadow import ShadowDecTree, ShadowDecTreeNode\n",
    "from dtreeviz.colors import adjust_colors\n",
    "from sklearn import tree\n",
    "import graphviz\n",
    "\n",
    "# How many bins should we have based upon number of classes\n",
    "NUM_BINS = [0, 0, 10, 9, 8, 6, 6, 6, 5, 5, 5]\n",
    "          # 0, 1, 2,  3, 4, 5, 6, 7, 8, 9, 10\n",
    "\n",
    "def rtreeviz_univar(ax,\n",
    "                    x_train: (pd.Series, np.ndarray),  # 1 vector of X data\n",
    "                    y_train: (pd.Series, np.ndarray),\n",
    "                    max_depth = 10,\n",
    "                    feature_name: str = None,\n",
    "                    target_name: str = None,\n",
    "                    min_samples_leaf = 1,\n",
    "                    fontsize: int = 14,\n",
    "                    show={'title','splits'},\n",
    "                    split_linewidth=.5,\n",
    "                    mean_linewidth = 2,\n",
    "                    markersize=None,\n",
    "                    colors=None):\n",
    "    if isinstance(x_train, pd.Series):\n",
    "        x_train = x_train.values\n",
    "    if isinstance(y_train, pd.Series):\n",
    "        y_train = y_train.values\n",
    "\n",
    "    colors = adjust_colors(colors)\n",
    "\n",
    "    y_range = (min(y_train), max(y_train))  # same y axis for all\n",
    "    overall_feature_range = (np.min(x_train), np.max(x_train))\n",
    "\n",
    "    t = tree.DecisionTreeRegressor(max_depth=max_depth, min_samples_leaf=min_samples_leaf)\n",
    "    t.fit(x_train.reshape(-1,1), y_train)\n",
    "\n",
    "    shadow_tree = ShadowDecTree(t, x_train.reshape(-1,1), y_train, feature_names=[feature_name])\n",
    "    splits = []\n",
    "    for node in shadow_tree.internal:\n",
    "        splits.append(node.split())\n",
    "    splits = sorted(splits)\n",
    "    bins = [overall_feature_range[0]] + splits + [overall_feature_range[1]]\n",
    "\n",
    "    means = []\n",
    "    for i in range(len(bins) - 1):\n",
    "        left = bins[i]\n",
    "        right = bins[i + 1]\n",
    "        inrange = y_train[(x_train >= left) & (x_train <= right)]\n",
    "        means.append(np.mean(inrange))\n",
    "\n",
    "    ax.scatter(x_train, y_train, marker='o', alpha=.4, c=colors['scatter_marker'], s=markersize,\n",
    "               edgecolor=colors['scatter_edge'], lw=.3)\n",
    "\n",
    "    if 'splits' in show:\n",
    "        for split in splits:\n",
    "            ax.plot([split, split], [*y_range], '--', color=colors['split_line'], linewidth=split_linewidth)\n",
    "\n",
    "        prevX = overall_feature_range[0]\n",
    "        for i, m in enumerate(means):\n",
    "            split = overall_feature_range[1]\n",
    "            if i < len(splits):\n",
    "                split = splits[i]\n",
    "            ax.plot([prevX, split], [m, m], '-', color=colors['mean_line'], linewidth=mean_linewidth)\n",
    "            prevX = split\n",
    "\n",
    "    ax.tick_params(axis='both', which='major', width=.3, labelcolor=colors['tick_label'], labelsize=fontsize)\n",
    "\n",
    "    if 'title' in show:\n",
    "        title = f\"Regression tree depth {max_depth}, samples per leaf {min_samples_leaf},\\nTraining $R^2$={t.score(x_train.reshape(-1,1),y_train):.3f}\"\n",
    "        plt.title(title, fontsize=fontsize, color=colors['title'])\n",
    "\n",
    "    plt.xlabel(feature_name, fontsize=fontsize, color=colors['axis_label'])\n",
    "    plt.ylabel(target_name, fontsize=fontsize, color=colors['axis_label'])"
   ]
  },
  {
   "cell_type": "markdown",
   "metadata": {},
   "source": [
    "## Create a toy sample "
   ]
  },
  {
   "cell_type": "code",
   "execution_count": 42,
   "metadata": {
    "ExecuteTime": {
     "end_time": "2019-07-20T21:23:13.049928Z",
     "start_time": "2019-07-20T21:23:12.824688Z"
    }
   },
   "outputs": [
    {
     "data": {
      "image/png": "[encoded data removed]",
      "text/plain": [
       "<Figure size 432x288 with 1 Axes>"
      ]
     },
     "metadata": {
      "needs_background": "light"
     },
     "output_type": "display_data"
    }
   ],
   "source": [
    "import numpy as np\n",
    "import graphviz \n",
    "from sklearn import tree\n",
    "\n",
    "X = np.array([0, 1, 0.5, 10, 11, 12, 20, 21, 22, 30, 30, 32]).reshape(-1, 1)\n",
    "Y = np.array([0., 0, 0, 50, 49, 50, 20, 21, 19, 90, 89, 91]).reshape(-1, 1)\n",
    "clf = tree.DecisionTreeRegressor(max_depth=3)\n",
    "clf = clf.fit(X, Y)\n",
    "\n",
    "plt.scatter(x=X, y=Y, s=5);\n",
    "plt.title('Sample Data for Univariate Regression');"
   ]
  },
  {
   "cell_type": "markdown",
   "metadata": {
    "ExecuteTime": {
     "end_time": "2019-07-20T21:18:51.577479Z",
     "start_time": "2019-07-20T21:18:51.573566Z"
    }
   },
   "source": [
    "## Visualize a tree using `rtreeviz_univar`"
   ]
  },
  {
   "cell_type": "code",
   "execution_count": 51,
   "metadata": {
    "ExecuteTime": {
     "end_time": "2019-07-20T21:32:13.201174Z",
     "start_time": "2019-07-20T21:32:12.906812Z"
    }
   },
   "outputs": [
    {
     "data": {
      "image/png": "[encoded data removed]",
      "text/plain": [
       "<Figure size 432x288 with 1 Axes>"
      ]
     },
     "metadata": {
      "needs_background": "light"
     },
     "output_type": "display_data"
    }
   ],
   "source": [
    "fig, ax = plt.subplots(1)\n",
    "rtreeviz_univar(ax, pd.Series(X.ravel()), pd.Series(Y.ravel()), \n",
    "                feature_name='X', \n",
    "                target_name='Y',\n",
    "                markersize=15)"
   ]
  }
 ],
 "metadata": {
  "kernelspec": {
   "display_name": "Python (py367)",
   "language": "python",
   "name": "py367"
  },
  "language_info": {
   "codemirror_mode": {
    "name": "ipython",
    "version": 3
   },
   "file_extension": ".py",
   "mimetype": "text/x-python",
   "name": "python",
   "nbconvert_exporter": "python",
   "pygments_lexer": "ipython3",
   "version": "3.6.7"
  },
  "nikola": {
   "category": "Machine Learning",
   "date": "2019-07-20 13:51:36 UTC-07:00",
   "description": "break down dtreevis module step by step (Part 4)",
   "link": "",
   "slug": "split-up-dtreevis-part-4",
   "tags": "Visualization, dtreevis, Ensemble, Decision Tree",
   "title": "Split Up: dtreevis (Part 4)",
   "type": "text"
  },
  "toc": {
   "base_numbering": 1,
   "nav_menu": {},
   "number_sections": true,
   "sideBar": true,
   "skip_h1_title": false,
   "title_cell": "Table of Contents",
   "title_sidebar": "Contents",
   "toc_cell": false,
   "toc_position": {},
   "toc_section_display": true,
   "toc_window_display": false
  }
 },
 "nbformat": 4,
 "nbformat_minor": 2
}
