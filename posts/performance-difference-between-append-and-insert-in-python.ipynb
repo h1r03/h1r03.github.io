{
 "cells": [
  {
   "cell_type": "markdown",
   "metadata": {},
   "source": [
    "# Goal\n",
    "This post aims to compare the performance between `append` and `insert` in Python. The performance comparison is simply done by the piece of code that counts a number, append it to a list, and then reverse it. \n",
    "\n",
    "We will see the significant difference between two codes: one using `append` is linear and another using `insert` is quadratic run time growth as below.\n",
    "\n",
    "<img src=https://user-images.githubusercontent.com/8764683/61996639-3b927300-b04b-11e9-8e16-0174faee2e83.png style='height: 300px'>\n",
    "\n",
    "**Reference**\n",
    "* [Python Algorithms: Mastering Basic Algorithms in the Python Language](https://www.amazon.com/Python-Algorithms-Mastering-Basic-Language/dp/148420056X/ref=pd_lpo_sbs_14_t_0?_encoding=UTF8&psc=1&refRID=4JW2REKWW17KPCWM5N7F)\n",
    "\n"
   ]
  },
  {
   "cell_type": "markdown",
   "metadata": {},
   "source": [
    "# Libraries"
   ]
  },
  {
   "cell_type": "code",
   "execution_count": 26,
   "metadata": {
    "ExecuteTime": {
     "end_time": "2019-07-26T15:10:11.209151Z",
     "start_time": "2019-07-26T15:10:11.200227Z"
    }
   },
   "outputs": [],
   "source": [
    "from timeit import Timer\n",
    "import pandas as pd\n",
    "%matplotlib inline"
   ]
  },
  {
   "cell_type": "markdown",
   "metadata": {},
   "source": [
    "# Append"
   ]
  },
  {
   "cell_type": "code",
   "execution_count": 6,
   "metadata": {
    "ExecuteTime": {
     "end_time": "2019-07-26T15:00:14.397239Z",
     "start_time": "2019-07-26T15:00:14.393947Z"
    }
   },
   "outputs": [],
   "source": [
    "count = 10**5"
   ]
  },
  {
   "cell_type": "code",
   "execution_count": 9,
   "metadata": {
    "ExecuteTime": {
     "end_time": "2019-07-26T15:01:37.741290Z",
     "start_time": "2019-07-26T15:01:37.723180Z"
    }
   },
   "outputs": [],
   "source": [
    "def count_by_append(count):\n",
    "    nums = []\n",
    "    for i in range(count):\n",
    "        nums.append(i)\n",
    "    nums.reverse()\n",
    "count_by_append(count)"
   ]
  },
  {
   "cell_type": "markdown",
   "metadata": {},
   "source": [
    "The execution time is 22ms\n",
    "\n",
    "# Insert"
   ]
  },
  {
   "cell_type": "code",
   "execution_count": 10,
   "metadata": {
    "ExecuteTime": {
     "end_time": "2019-07-26T15:02:05.957853Z",
     "start_time": "2019-07-26T15:02:02.564141Z"
    }
   },
   "outputs": [],
   "source": [
    "def count_by_insert(count):\n",
    "    nums = []\n",
    "    for i in range(count):\n",
    "        nums.insert(0, i)\n",
    "count_by_insert(count)      "
   ]
  },
  {
   "cell_type": "markdown",
   "metadata": {},
   "source": [
    "The execution time is 3.53s"
   ]
  },
  {
   "cell_type": "markdown",
   "metadata": {},
   "source": [
    "# Comparison"
   ]
  },
  {
   "cell_type": "code",
   "execution_count": 24,
   "metadata": {
    "ExecuteTime": {
     "end_time": "2019-07-26T15:09:55.207303Z",
     "start_time": "2019-07-26T15:09:54.760494Z"
    }
   },
   "outputs": [
    {
     "name": "stdout",
     "output_type": "stream",
     "text": [
      "Processing 1\n",
      "Processing 10\n",
      "Processing 100\n",
      "Processing 1000\n",
      "Processing 10000\n"
     ]
    },
    {
     "data": {
      "text/html": [
       "<div>\n",
       "<style scoped>\n",
       "    .dataframe tbody tr th:only-of-type {\n",
       "        vertical-align: middle;\n",
       "    }\n",
       "\n",
       "    .dataframe tbody tr th {\n",
       "        vertical-align: top;\n",
       "    }\n",
       "\n",
       "    .dataframe thead th {\n",
       "        text-align: right;\n",
       "    }\n",
       "</style>\n",
       "<table border=\"1\" class=\"dataframe\">\n",
       "  <thead>\n",
       "    <tr style=\"text-align: right;\">\n",
       "      <th></th>\n",
       "      <th>count</th>\n",
       "      <th>count_by_append</th>\n",
       "      <th>count_by_insert</th>\n",
       "    </tr>\n",
       "  </thead>\n",
       "  <tbody>\n",
       "    <tr>\n",
       "      <th>0</th>\n",
       "      <td>1</td>\n",
       "      <td>0.000013</td>\n",
       "      <td>0.000011</td>\n",
       "    </tr>\n",
       "    <tr>\n",
       "      <th>1</th>\n",
       "      <td>10</td>\n",
       "      <td>0.000019</td>\n",
       "      <td>0.000027</td>\n",
       "    </tr>\n",
       "    <tr>\n",
       "      <th>2</th>\n",
       "      <td>100</td>\n",
       "      <td>0.000107</td>\n",
       "      <td>0.000227</td>\n",
       "    </tr>\n",
       "    <tr>\n",
       "      <th>3</th>\n",
       "      <td>1000</td>\n",
       "      <td>0.000927</td>\n",
       "      <td>0.005318</td>\n",
       "    </tr>\n",
       "    <tr>\n",
       "      <th>4</th>\n",
       "      <td>10000</td>\n",
       "      <td>0.009438</td>\n",
       "      <td>0.379457</td>\n",
       "    </tr>\n",
       "  </tbody>\n",
       "</table>\n",
       "</div>"
      ],
      "text/plain": [
       "   count  count_by_append  count_by_insert\n",
       "0      1         0.000013         0.000011\n",
       "1     10         0.000019         0.000027\n",
       "2    100         0.000107         0.000227\n",
       "3   1000         0.000927         0.005318\n",
       "4  10000         0.009438         0.379457"
      ]
     },
     "execution_count": 24,
     "metadata": {},
     "output_type": "execute_result"
    }
   ],
   "source": [
    "counts = [10 ** i for i in range(5)]\n",
    "time_by_append = []\n",
    "time_by_insert = []\n",
    "\n",
    "for count in counts:\n",
    "    print(f'Processing {count}')\n",
    "    t = Timer(lambda: count_by_append(count))\n",
    "    time_by_append.append(t.timeit(number=10))\n",
    "    t = Timer(lambda: count_by_insert(count))\n",
    "    time_by_insert.append(t.timeit(number=10))\n",
    "\n",
    "df_performance = pd.DataFrame({'count': counts,\n",
    "                               'count_by_append': time_by_append,\n",
    "                               'count_by_insert': time_by_insert})\n",
    "df_performance"
   ]
  },
  {
   "cell_type": "code",
   "execution_count": 34,
   "metadata": {
    "ExecuteTime": {
     "end_time": "2019-07-26T15:11:58.201816Z",
     "start_time": "2019-07-26T15:11:57.915723Z"
    }
   },
   "outputs": [
    {
     "data": {
      "image/png": "[encoded data removed]",
      "text/plain": [
       "<Figure size 432x288 with 1 Axes>"
      ]
     },
     "metadata": {
      "needs_background": "light"
     },
     "output_type": "display_data"
    }
   ],
   "source": [
    "# Plot the performance difference\n",
    "df_performance.set_index('count').plot(title='Performance Comparison beteen Append and Insert');"
   ]
  }
 ],
 "metadata": {
  "kernelspec": {
   "display_name": "Python (py367)",
   "language": "python",
   "name": "py367"
  },
  "language_info": {
   "codemirror_mode": {
    "name": "ipython",
    "version": 3
   },
   "file_extension": ".py",
   "mimetype": "text/x-python",
   "name": "python",
   "nbconvert_exporter": "python",
   "pygments_lexer": "ipython3",
   "version": "3.6.7"
  },
  "nikola": {
   "category": "Data Structure and Algorithms",
   "date": "2019-07-27 07:55:14 UTC-07:00",
   "description": "compare the performance between append and insert in Python",
   "link": "",
   "slug": "performance-difference-between-append-and-insert-in-python",
   "tags": "Performance, Insert, Append",
   "title": "Performance difference between append and insert in Python",
   "type": "text"
  },
  "toc": {
   "base_numbering": 1,
   "nav_menu": {},
   "number_sections": true,
   "sideBar": true,
   "skip_h1_title": false,
   "title_cell": "Table of Contents",
   "title_sidebar": "Contents",
   "toc_cell": false,
   "toc_position": {},
   "toc_section_display": true,
   "toc_window_display": false
  }
 },
 "nbformat": 4,
 "nbformat_minor": 2
}
