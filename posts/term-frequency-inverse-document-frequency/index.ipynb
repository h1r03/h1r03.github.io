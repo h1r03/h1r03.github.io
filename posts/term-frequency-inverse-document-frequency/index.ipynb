{
 "cells": [
  {
   "cell_type": "markdown",
   "metadata": {},
   "source": [
    "# Goal \n",
    "\n",
    "This post aims to introduce **term frequency-inverse document frequency** as known as **TF-IDF**, which indicates the importance of the words in a document considering the frequency of them across multiple documents and used for feature creation. \n",
    "\n",
    "\n",
    "**Term Frequency (TF)**\n",
    "\n",
    "Term Frequency can be computed as the number of occurrence of the word $n_{word}$ divided by the total number of words in a document $N_{word}$.\n",
    "\n",
    "\\begin{equation*}\n",
    "TF = \\frac{n_{word}}{N_{word}}\n",
    "\\end{equation*}\n",
    "\n",
    "\n",
    "**Document Frequency (DF)**\n",
    "\n",
    "Document Frequency can be computed as the number of documents containing the word $n_{doc}$ divided by the number of documents $N_{doc}$.\n",
    "\n",
    "\\begin{equation*}\n",
    "DF = \\frac{n_{doc}}{N_{doc}}\n",
    "\\end{equation*}\n",
    "\n",
    "\n",
    "**Inverse Document Frequency (IDF)**\n",
    "\n",
    "The inverse document frequency is the inverse of DF. \n",
    "\n",
    "\n",
    "\\begin{equation*}\n",
    "IDF = \\frac{N_{doc}}{n_{doc}}\n",
    "\\end{equation*}\n",
    "\n",
    "Practically, to avoid the explosion of IDF and dividing by zero, IDF can be computed by log format with adding 1 to denominator as below.\n",
    "\n",
    "\n",
    "\\begin{equation*}\n",
    "IDF = log(\\frac{N_{doc}}{n_{doc}+1})\n",
    "\\end{equation*}\n",
    "\n",
    "\n",
    "\n",
    "**Reference**\n",
    "* [Wikipedia - tf-idf](https://en.wikipedia.org/wiki/Tf%E2%80%93idf)\n",
    "* [Towards Data Science - TF-IDF from scratch in python on real world dataset.](https://towardsdatascience.com/tf-idf-for-document-ranking-from-scratch-in-python-on-real-world-dataset-796d339a4089)\n",
    "* [Stevenloria.com - Tutorial: Finding Important Words in Text Using TF-IDF](https://stevenloria.com/tf-idf/)\n",
    "\n"
   ]
  },
  {
   "cell_type": "markdown",
   "metadata": {},
   "source": [
    "# Libraries"
   ]
  },
  {
   "cell_type": "code",
   "execution_count": 18,
   "metadata": {
    "ExecuteTime": {
     "end_time": "2019-05-27T05:51:04.290943Z",
     "start_time": "2019-05-27T05:51:04.287552Z"
    }
   },
   "outputs": [],
   "source": [
    "import pandas as pd\n",
    "from sklearn.feature_extraction.text import TfidfVectorizer"
   ]
  },
  {
   "cell_type": "markdown",
   "metadata": {},
   "source": [
    "# Create a document"
   ]
  },
  {
   "cell_type": "code",
   "execution_count": 36,
   "metadata": {
    "ExecuteTime": {
     "end_time": "2019-05-27T06:03:17.190783Z",
     "start_time": "2019-05-27T06:03:17.185522Z"
    }
   },
   "outputs": [
    {
     "data": {
      "text/plain": [
       "['this is a sample.',\n",
       " 'this is another example. \"this\" also appears in the second example.']"
      ]
     },
     "execution_count": 36,
     "metadata": {},
     "output_type": "execute_result"
    }
   ],
   "source": [
    "documents = ['this is a sample.', \n",
    "            'this is another example. \"this\" also appears in the second example.']\n",
    "\n",
    "documents"
   ]
  },
  {
   "cell_type": "markdown",
   "metadata": {},
   "source": [
    "# Apply TF-IDF vectorizer\n",
    "Now applying TF-IDF to each sentence, we will obtain the feature vector for each document accordingly."
   ]
  },
  {
   "cell_type": "code",
   "execution_count": 37,
   "metadata": {
    "ExecuteTime": {
     "end_time": "2019-05-27T06:03:18.323455Z",
     "start_time": "2019-05-27T06:03:18.303639Z"
    }
   },
   "outputs": [
    {
     "data": {
      "text/html": [
       "<div>\n",
       "<style scoped>\n",
       "    .dataframe tbody tr th:only-of-type {\n",
       "        vertical-align: middle;\n",
       "    }\n",
       "\n",
       "    .dataframe tbody tr th {\n",
       "        vertical-align: top;\n",
       "    }\n",
       "\n",
       "    .dataframe thead th {\n",
       "        text-align: right;\n",
       "    }\n",
       "</style>\n",
       "<table border=\"1\" class=\"dataframe\">\n",
       "  <thead>\n",
       "    <tr style=\"text-align: right;\">\n",
       "      <th></th>\n",
       "      <th>also</th>\n",
       "      <th>another</th>\n",
       "      <th>appears</th>\n",
       "      <th>example</th>\n",
       "      <th>in</th>\n",
       "      <th>is</th>\n",
       "      <th>sample</th>\n",
       "      <th>second</th>\n",
       "      <th>the</th>\n",
       "      <th>this</th>\n",
       "    </tr>\n",
       "  </thead>\n",
       "  <tbody>\n",
       "    <tr>\n",
       "      <th>0</th>\n",
       "      <td>0.00000</td>\n",
       "      <td>0.00000</td>\n",
       "      <td>0.00000</td>\n",
       "      <td>0.00000</td>\n",
       "      <td>0.00000</td>\n",
       "      <td>0.501549</td>\n",
       "      <td>0.704909</td>\n",
       "      <td>0.00000</td>\n",
       "      <td>0.00000</td>\n",
       "      <td>0.501549</td>\n",
       "    </tr>\n",
       "    <tr>\n",
       "      <th>1</th>\n",
       "      <td>0.28249</td>\n",
       "      <td>0.28249</td>\n",
       "      <td>0.28249</td>\n",
       "      <td>0.56498</td>\n",
       "      <td>0.28249</td>\n",
       "      <td>0.200994</td>\n",
       "      <td>0.000000</td>\n",
       "      <td>0.28249</td>\n",
       "      <td>0.28249</td>\n",
       "      <td>0.401988</td>\n",
       "    </tr>\n",
       "  </tbody>\n",
       "</table>\n",
       "</div>"
      ],
      "text/plain": [
       "      also  another  appears  example       in        is    sample   second  \\\n",
       "0  0.00000  0.00000  0.00000  0.00000  0.00000  0.501549  0.704909  0.00000   \n",
       "1  0.28249  0.28249  0.28249  0.56498  0.28249  0.200994  0.000000  0.28249   \n",
       "\n",
       "       the      this  \n",
       "0  0.00000  0.501549  \n",
       "1  0.28249  0.401988  "
      ]
     },
     "execution_count": 37,
     "metadata": {},
     "output_type": "execute_result"
    }
   ],
   "source": [
    "vectorizer = TfidfVectorizer()\n",
    "X = vectorizer.fit_transform(documents)\n",
    "df_tfidf = pd.DataFrame(X.todense(), columns=vectorizer.get_feature_names())\n",
    "df_tfidf"
   ]
  },
  {
   "cell_type": "code",
   "execution_count": 38,
   "metadata": {
    "ExecuteTime": {
     "end_time": "2019-05-27T06:03:20.645728Z",
     "start_time": "2019-05-27T06:03:20.638415Z"
    }
   },
   "outputs": [
    {
     "data": {
      "text/plain": [
       "0     sample\n",
       "1    example\n",
       "dtype: object"
      ]
     },
     "execution_count": 38,
     "metadata": {},
     "output_type": "execute_result"
    }
   ],
   "source": [
    "# The highest TF-IDF for each document\n",
    "df_tfidf.idxmax(axis=1)"
   ]
  },
  {
   "cell_type": "code",
   "execution_count": 39,
   "metadata": {
    "ExecuteTime": {
     "end_time": "2019-05-27T06:03:22.109328Z",
     "start_time": "2019-05-27T06:03:22.087226Z"
    }
   },
   "outputs": [
    {
     "data": {
      "text/html": [
       "<div>\n",
       "<style scoped>\n",
       "    .dataframe tbody tr th:only-of-type {\n",
       "        vertical-align: middle;\n",
       "    }\n",
       "\n",
       "    .dataframe tbody tr th {\n",
       "        vertical-align: top;\n",
       "    }\n",
       "\n",
       "    .dataframe thead th {\n",
       "        text-align: right;\n",
       "    }\n",
       "</style>\n",
       "<table border=\"1\" class=\"dataframe\">\n",
       "  <thead>\n",
       "    <tr style=\"text-align: right;\">\n",
       "      <th></th>\n",
       "      <th>also</th>\n",
       "      <th>another</th>\n",
       "      <th>appears</th>\n",
       "      <th>example</th>\n",
       "      <th>in</th>\n",
       "      <th>is</th>\n",
       "      <th>sample</th>\n",
       "      <th>second</th>\n",
       "      <th>the</th>\n",
       "      <th>this</th>\n",
       "    </tr>\n",
       "  </thead>\n",
       "  <tbody>\n",
       "    <tr>\n",
       "      <th>0</th>\n",
       "      <td>True</td>\n",
       "      <td>True</td>\n",
       "      <td>True</td>\n",
       "      <td>True</td>\n",
       "      <td>True</td>\n",
       "      <td>False</td>\n",
       "      <td>False</td>\n",
       "      <td>True</td>\n",
       "      <td>True</td>\n",
       "      <td>False</td>\n",
       "    </tr>\n",
       "    <tr>\n",
       "      <th>1</th>\n",
       "      <td>False</td>\n",
       "      <td>False</td>\n",
       "      <td>False</td>\n",
       "      <td>False</td>\n",
       "      <td>False</td>\n",
       "      <td>False</td>\n",
       "      <td>True</td>\n",
       "      <td>False</td>\n",
       "      <td>False</td>\n",
       "      <td>False</td>\n",
       "    </tr>\n",
       "  </tbody>\n",
       "</table>\n",
       "</div>"
      ],
      "text/plain": [
       "    also  another  appears  example     in     is  sample  second    the  \\\n",
       "0   True     True     True     True   True  False   False    True   True   \n",
       "1  False    False    False    False  False  False    True   False  False   \n",
       "\n",
       "    this  \n",
       "0  False  \n",
       "1  False  "
      ]
     },
     "execution_count": 39,
     "metadata": {},
     "output_type": "execute_result"
    }
   ],
   "source": [
    "# TF-IDF is zero if the word does not appear in a document\n",
    "df_tfidf==0"
   ]
  }
 ],
 "metadata": {
  "kernelspec": {
   "display_name": "Python (py367)",
   "language": "python",
   "name": "py367"
  },
  "language_info": {
   "codemirror_mode": {
    "name": "ipython",
    "version": 3
   },
   "file_extension": ".py",
   "mimetype": "text/x-python",
   "name": "python",
   "nbconvert_exporter": "python",
   "pygments_lexer": "ipython3",
   "version": "3.6.7"
  },
  "nikola": {
   "category": "Machine Learning",
   "date": "2019-05-26 22:15:17 UTC-07:00",
   "description": "introduce term frequency inverse document frequency",
   "link": "",
   "slug": "term-frequency-inverse-document-frequency",
   "tags": "Text Processing, TF-IDF, Feature Engineering",
   "title": "Term Frequency Inverse Document Frequency",
   "type": "text"
  },
  "toc": {
   "base_numbering": 1,
   "nav_menu": {},
   "number_sections": true,
   "sideBar": true,
   "skip_h1_title": false,
   "title_cell": "Table of Contents",
   "title_sidebar": "Contents",
   "toc_cell": false,
   "toc_position": {},
   "toc_section_display": true,
   "toc_window_display": false
  }
 },
 "nbformat": 4,
 "nbformat_minor": 2
}
