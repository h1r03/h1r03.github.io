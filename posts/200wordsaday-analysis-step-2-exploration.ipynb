{
 "cells": [
  {
   "cell_type": "markdown",
   "metadata": {
    "ExecuteTime": {
     "end_time": "2019-04-11T06:48:09.508191Z",
     "start_time": "2019-04-11T06:48:09.494180Z"
    }
   },
   "source": [
    "# Goal\n",
    "* Get the list of posts\n",
    "* Create data frame that contains posts for each row by date"
   ]
  },
  {
   "cell_type": "markdown",
   "metadata": {},
   "source": [
    "# Another way\n",
    "reference https://crossbrowsertesting.com/blog/test-automation/automate-login-with-selenium/\n"
   ]
  },
  {
   "cell_type": "code",
   "execution_count": 46,
   "metadata": {
    "ExecuteTime": {
     "end_time": "2019-04-11T07:30:58.345267Z",
     "start_time": "2019-04-11T07:30:55.627974Z"
    }
   },
   "outputs": [],
   "source": [
    "from selenium import webdriver\n",
    "# if chromedriver is not in your path, you’ll need to add it here\n",
    "driver = webdriver.Chrome()"
   ]
  },
  {
   "cell_type": "code",
   "execution_count": 47,
   "metadata": {
    "ExecuteTime": {
     "end_time": "2019-04-11T07:31:01.606410Z",
     "start_time": "2019-04-11T07:31:01.602631Z"
    }
   },
   "outputs": [],
   "source": [
    "# Configuration\n",
    "URL = \"https://200wordsaday.com/login\" \n",
    "username = 'info.hshioi@gmail.com'\n",
    "password = 'wordhiro401'"
   ]
  },
  {
   "cell_type": "code",
   "execution_count": 48,
   "metadata": {
    "ExecuteTime": {
     "end_time": "2019-04-11T07:31:05.541553Z",
     "start_time": "2019-04-11T07:31:02.883356Z"
    }
   },
   "outputs": [],
   "source": [
    "# def site_login():\n",
    "driver.get (f'{url_my_word}')\n",
    "driver.find_element_by_name('_username').send_keys(f'{username}')\n",
    "driver.find_element_by_name ('_password').send_keys(f'{password}')\n",
    "driver.find_element_by_tag_name('button').click()\n",
    "driver.find_element_by_id('published-tab').click()\n"
   ]
  },
  {
   "cell_type": "code",
   "execution_count": 50,
   "metadata": {
    "ExecuteTime": {
     "end_time": "2019-04-11T07:32:56.242148Z",
     "start_time": "2019-04-11T07:32:55.950518Z"
    }
   },
   "outputs": [],
   "source": [
    "soup = BeautifulSoup(driver.page_source, features=\"html.parser\")\n",
    "\n"
   ]
  },
  {
   "cell_type": "code",
   "execution_count": 60,
   "metadata": {
    "ExecuteTime": {
     "end_time": "2019-04-11T07:42:31.360504Z",
     "start_time": "2019-04-11T07:42:31.353737Z"
    }
   },
   "outputs": [
    {
     "data": {
      "text/plain": [
       "'Reinventing organizations by Frederic Laloux'"
      ]
     },
     "execution_count": 60,
     "metadata": {},
     "output_type": "execute_result"
    }
   ],
   "source": [
    "h3s[10].text"
   ]
  },
  {
   "cell_type": "code",
   "execution_count": 69,
   "metadata": {
    "ExecuteTime": {
     "end_time": "2019-04-11T07:44:54.883970Z",
     "start_time": "2019-04-11T07:44:54.877398Z"
    }
   },
   "outputs": [
    {
     "data": {
      "text/plain": [
       "'\\n\\n                        My draft\\n                    \\n'"
      ]
     },
     "execution_count": 69,
     "metadata": {},
     "output_type": "execute_result"
    }
   ],
   "source": [
    "h3s[0].text"
   ]
  },
  {
   "cell_type": "code",
   "execution_count": 66,
   "metadata": {
    "ExecuteTime": {
     "end_time": "2019-04-11T07:44:05.679992Z",
     "start_time": "2019-04-11T07:44:05.672955Z"
    }
   },
   "outputs": [
    {
     "data": {
      "text/plain": [
       "<h3>5 Things to Learn Better Writing in 2019</h3>"
      ]
     },
     "execution_count": 66,
     "metadata": {},
     "output_type": "execute_result"
    }
   ],
   "source": [
    "h3"
   ]
  },
  {
   "cell_type": "code",
   "execution_count": 71,
   "metadata": {
    "ExecuteTime": {
     "end_time": "2019-04-11T07:46:23.874925Z",
     "start_time": "2019-04-11T07:46:23.694935Z"
    }
   },
   "outputs": [
    {
     "data": {
      "text/html": [
       "<div>\n",
       "<style scoped>\n",
       "    .dataframe tbody tr th:only-of-type {\n",
       "        vertical-align: middle;\n",
       "    }\n",
       "\n",
       "    .dataframe tbody tr th {\n",
       "        vertical-align: top;\n",
       "    }\n",
       "\n",
       "    .dataframe thead th {\n",
       "        text-align: right;\n",
       "    }\n",
       "</style>\n",
       "<table border=\"1\" class=\"dataframe\">\n",
       "  <thead>\n",
       "    <tr style=\"text-align: right;\">\n",
       "      <th></th>\n",
       "      <th>title</th>\n",
       "      <th>text</th>\n",
       "      <th>date</th>\n",
       "    </tr>\n",
       "  </thead>\n",
       "  <tbody>\n",
       "    <tr>\n",
       "      <th>5</th>\n",
       "      <td>Recommendation of a standing desk</td>\n",
       "      <td>NaN</td>\n",
       "      <td>NaN</td>\n",
       "    </tr>\n",
       "    <tr>\n",
       "      <th>6</th>\n",
       "      <td>How to write a technical blog</td>\n",
       "      <td>NaN</td>\n",
       "      <td>NaN</td>\n",
       "    </tr>\n",
       "    <tr>\n",
       "      <th>7</th>\n",
       "      <td>Writing a technical book</td>\n",
       "      <td>NaN</td>\n",
       "      <td>NaN</td>\n",
       "    </tr>\n",
       "    <tr>\n",
       "      <th>8</th>\n",
       "      <td>Interesting Tax</td>\n",
       "      <td>NaN</td>\n",
       "      <td>NaN</td>\n",
       "    </tr>\n",
       "    <tr>\n",
       "      <th>9</th>\n",
       "      <td>Murphy's law</td>\n",
       "      <td>NaN</td>\n",
       "      <td>NaN</td>\n",
       "    </tr>\n",
       "  </tbody>\n",
       "</table>\n",
       "</div>"
      ],
      "text/plain": [
       "                               title text date\n",
       "5  Recommendation of a standing desk  NaN  NaN\n",
       "6      How to write a technical blog  NaN  NaN\n",
       "7           Writing a technical book  NaN  NaN\n",
       "8                    Interesting Tax  NaN  NaN\n",
       "9                       Murphy's law  NaN  NaN"
      ]
     },
     "execution_count": 71,
     "metadata": {},
     "output_type": "execute_result"
    }
   ],
   "source": [
    "import pandas as pd\n",
    "df_words = pd.DataFrame(columns=['title', 'text', 'date'])\n",
    "\n",
    "h3s = soup.find_all('h3')\n",
    "\n",
    "for i, h3 in enumerate(h3s):\n",
    "    if not h3.text.startswith('\\n'):\n",
    "        df_words.loc[i, 'title'] = h3.text\n",
    "        \n",
    "\n",
    "df_words.head()"
   ]
  },
  {
   "cell_type": "code",
   "execution_count": 117,
   "metadata": {
    "ExecuteTime": {
     "end_time": "2019-04-11T08:08:31.817405Z",
     "start_time": "2019-04-11T08:08:31.756784Z"
    }
   },
   "outputs": [],
   "source": [
    "ps = soup.find_all('p', {'class': 'text-content'})\n",
    "time_deltas = []\n",
    "nwords = []\n",
    "for p in ps:\n",
    "    for p_date in p.next_siblings:\n",
    "        if str(p_date).startswith('<p>published'):\n",
    "            delta, nword= p_date.text.replace('published ', '').split('|')\n",
    "            time_deltas.append(delta.strip())\n",
    "            nwords.append(nword)\n",
    "\n",
    "\n"
   ]
  },
  {
   "cell_type": "code",
   "execution_count": 118,
   "metadata": {
    "ExecuteTime": {
     "end_time": "2019-04-11T08:08:32.151447Z",
     "start_time": "2019-04-11T08:08:32.145288Z"
    }
   },
   "outputs": [],
   "source": [
    "if len(time_deltas) == df_words.shape[0]:\n",
    "    df_words['time_deltas'] = time_deltas\n",
    "    df_words['nwords'] = nwords\n"
   ]
  },
  {
   "cell_type": "code",
   "execution_count": 123,
   "metadata": {
    "ExecuteTime": {
     "end_time": "2019-04-11T08:12:55.627133Z",
     "start_time": "2019-04-11T08:12:55.578602Z"
    }
   },
   "outputs": [],
   "source": [
    "links = soup.find_all('a', {'class': 'text-header mr-2'})\n",
    "for link in links:\n",
    "    if str(link):\n",
    "        pass\n",
    "    break"
   ]
  },
  {
   "cell_type": "code",
   "execution_count": 125,
   "metadata": {
    "ExecuteTime": {
     "end_time": "2019-04-11T08:13:06.319707Z",
     "start_time": "2019-04-11T08:13:06.311061Z"
    }
   },
   "outputs": [
    {
     "data": {
      "text/plain": [
       "<a class=\"text-header mr-2\" href=\"/words/recommendation-of-a-standing-desk-144375cad82aeab6db\">\n",
       "<h3>Recommendation of a standing desk</h3>\n",
       "<p class=\"text-content\">\n",
       "        \n",
       "        Since I started to use a standing desk at work, it helped tremendously to mitigate headache and shoulder ache that I have been ann...</p>\n",
       "<p>published 15 hours ago | 277 words</p>\n",
       "<p class=\"mt-2 palatinate-blue\">\n",
       "<span class=\"mr-2\">#StandingDesk</span>\n",
       "<span class=\"mr-2\">#Health</span>\n",
       "<span class=\"mr-2\">#Furniture</span>\n",
       "<span class=\"mr-2\">#Productivity</span>\n",
       "</p>\n",
       "</a>"
      ]
     },
     "execution_count": 125,
     "metadata": {},
     "output_type": "execute_result"
    }
   ],
   "source": [
    "links[5]"
   ]
  },
  {
   "cell_type": "code",
   "execution_count": 126,
   "metadata": {
    "ExecuteTime": {
     "end_time": "2019-04-11T08:13:40.183885Z",
     "start_time": "2019-04-11T08:13:40.174565Z"
    }
   },
   "outputs": [
    {
     "data": {
      "text/plain": [
       "<a class=\"text-header mr-2\" href=\"/words/how-to-write-a-technical-blog-143525cac3502d84a8\">\n",
       "<h3>How to write a technical blog</h3>\n",
       "<p class=\"text-content\">\n",
       "        \n",
       "        This post is quite similar to what I wrote yesterday \"How to write a technical book\" but a book is different from a blog. So today...</p>\n",
       "<p>published 1 day ago | 354 words</p>\n",
       "<p class=\"mt-2 palatinate-blue\">\n",
       "<span class=\"mr-2\">#HowtoWrite</span>\n",
       "<span class=\"mr-2\">#WriteABlog</span>\n",
       "<span class=\"mr-2\">#Technical</span>\n",
       "<span class=\"mr-2\">#AbilityToFindItDifficult</span>\n",
       "<span class=\"mr-2\">#DoneIsBetterThanPerfect</span>\n",
       "</p>\n",
       "</a>"
      ]
     },
     "execution_count": 126,
     "metadata": {},
     "output_type": "execute_result"
    }
   ],
   "source": [
    "links[6]"
   ]
  },
  {
   "cell_type": "code",
   "execution_count": null,
   "metadata": {},
   "outputs": [],
   "source": []
  },
  {
   "cell_type": "markdown",
   "metadata": {},
   "source": [
    "# List of posts from github page"
   ]
  },
  {
   "cell_type": "code",
   "execution_count": 130,
   "metadata": {
    "ExecuteTime": {
     "end_time": "2019-04-13T18:56:26.851495Z",
     "start_time": "2019-04-13T18:56:21.826823Z"
    }
   },
   "outputs": [
    {
     "data": {
      "text/plain": [
       "<!DOCTYPE html>\n",
       "<html lang=\"en\" xmlns=\"http://www.w3.org/1999/xhtml\"><head>\n",
       "<meta charset=\"utf-8\"/>\n",
       "<meta content=\"Data Science &amp; Computer Science Step-by-step\" name=\"description\"/>\n",
       "<meta content=\"width=device-width, initial-scale=1\" name=\"viewport\"/>\n",
       "<title>Archive | Step-by-step Data Science &amp; Computer Science</title>\n",
       "<link href=\"assets/css/all-nocdn.css\" rel=\"stylesheet\" type=\"text/css\"/>\n",
       "<link href=\"assets/css/ipython.min.css\" rel=\"stylesheet\" type=\"text/css\"/>\n",
       "<link href=\"assets/css/nikola_ipython.css\" rel=\"stylesheet\" type=\"text/css\"/>\n",
       "<meta content=\"#FFFFFF\" name=\"theme-color\"/>\n",
       "<meta content=\"Nikola (getnikola.com)\" name=\"generator\"/>\n",
       "<link href=\"rss.xml\" hreflang=\"en\" rel=\"alternate\" title=\"RSS\" type=\"application/rss+xml\"/>\n",
       "<link href=\"https://h1ros.github.io/archive.html\" rel=\"canonical\"/>\n",
       "<link href=\"images/favicon.ico\" rel=\"icon\" sizes=\"16x16\"/>\n",
       "<link href=\"images/favicon_128x128.png\" rel=\"icon\" sizes=\"128x128\"/>\n",
       "<link href=\"images/favicon_400x400.png\" rel=\"icon\" sizes=\"400x400\"/>\n",
       "<!--[if lt IE 9]><script src=\"assets/js/html5.js\"></script><![endif]--><!-- Global site tag (gtag.js) - Google Analytics --><script async=\"\" src=\"https://www.google-analytics.com/analytics.js\" type=\"text/javascript\"></script><script id=\"twitter-wjs\" src=\"https://platform.twitter.com/widgets.js\"></script><script async=\"\" src=\"https://www.googletagmanager.com/gtag/js?id=UA-134273341-1\"></script><script>\n",
       "  window.dataLayer = window.dataLayer || [];\n",
       "  function gtag(){dataLayer.push(arguments);}\n",
       "  gtag('js', new Date());\n",
       "\n",
       "  gtag('config', 'UA-134273341-1');\n",
       "</script>\n",
       "<link href=\"https://checkout.stripe.com/v3/checkout/button-qpwW2WfkB0oGWVWIASjIOQ.css\" rel=\"stylesheet\" type=\"text/css\"/><script charset=\"utf-8\" src=\"https://platform.twitter.com/js/button.dd024c345fc26f7c7a8d9938b67e5d3d.js\"></script></head>\n",
       "<body>\n",
       "<a class=\"sr-only sr-only-focusable\" href=\"#content\">Skip to main content</a>\n",
       "<!-- Menubar -->\n",
       "<nav class=\"navbar navbar-inverse navbar-static-top\"><div class=\"container\">\n",
       "<!-- This keeps the margins nice -->\n",
       "<div class=\"navbar-header\">\n",
       "<button aria-controls=\"bs-navbar\" aria-expanded=\"false\" class=\"navbar-toggle collapsed\" data-target=\"#bs-navbar\" data-toggle=\"collapse\" type=\"button\">\n",
       "<span class=\"sr-only\">Toggle navigation</span>\n",
       "<span class=\"icon-bar\"></span>\n",
       "<span class=\"icon-bar\"></span>\n",
       "<span class=\"icon-bar\"></span>\n",
       "</button>\n",
       "<a class=\"navbar-brand\" href=\"https://h1ros.github.io/\">\n",
       "<span id=\"blog-title\">Step-by-step Data Science &amp; Computer Science</span>\n",
       "</a>\n",
       "</div>\n",
       "<!-- /.navbar-header -->\n",
       "<div aria-expanded=\"false\" class=\"collapse navbar-collapse\" id=\"bs-navbar\">\n",
       "<ul class=\"nav navbar-nav\">\n",
       "<li>\n",
       "<a href=\".\">Posts</a>\n",
       "</li>\n",
       "<li>\n",
       "<a href=\"pages/about\">About</a>\n",
       "</li>\n",
       "<li class=\"active\">\n",
       "<a href=\"#\">Archive <span class=\"sr-only\">(active)</span></a>\n",
       "</li>\n",
       "<li>\n",
       "<a href=\"categories/\">Tags</a>\n",
       "</li>\n",
       "<li>\n",
       "<a href=\"rss.xml\">RSS feed</a>\n",
       "</li>\n",
       "</ul>\n",
       "<ul class=\"nav navbar-nav navbar-right\"></ul>\n",
       "</div>\n",
       "<!-- /.navbar-collapse -->\n",
       "</div>\n",
       "<!-- /.container -->\n",
       "</nav><!-- End of Menubar --><div class=\"container\" id=\"content\" role=\"main\">\n",
       "<div class=\"body-content\">\n",
       "<!--Body content-->\n",
       "<div class=\"row\">\n",
       "<article class=\"listpage\"><header><h1>Archive</h1>\n",
       "</header><ul class=\"postlist\">\n",
       "<li>\n",
       "<time class=\"listdate\" datetime=\"2019-04-02T22:14:38-07:00\" title=\"Apr 2, 2019, 10:14:38 PM\">Apr 2, 2019, 10:14:38 PM</time><a class=\"listtitle\" href=\"posts/how-to-visualize-a-decision-tree-beyond-scikit-learn/\">How to visualize a decision tree beyond scikit-learn</a>\n",
       "</li>\n",
       "<li>\n",
       "<time class=\"listdate\" datetime=\"2019-04-01T23:32:13-07:00\" title=\"Apr 1, 2019, 11:32:13 PM\">Apr 1, 2019, 11:32:13 PM</time><a class=\"listtitle\" href=\"posts/1019-next-greater-node-in-linked-list/\">1019. Next Greater Node In Linked List</a>\n",
       "</li>\n",
       "<li>\n",
       "<time class=\"listdate\" datetime=\"2019-03-29T23:12:36-08:00\" title=\"Mar 29, 2019, 11:12:36 PM\">Mar 29, 2019, 11:12:36 PM</time><a class=\"listtitle\" href=\"posts/Data-Exploration-Tool-Lantern-Part-1/\">Data Exploration Tool - Lantern Part 1</a>\n",
       "</li>\n",
       "<li>\n",
       "<time class=\"listdate\" datetime=\"2019-03-02T20:52:36-08:00\" title=\"Mar 2, 2019, 8:52:36 PM\">Mar 2, 2019, 8:52:36 PM</time><a class=\"listtitle\" href=\"posts/1000-minimum-cost-to-merge-stones/\">1000. Minimum Cost to Merge Stones</a>\n",
       "</li>\n",
       "<li>\n",
       "<time class=\"listdate\" datetime=\"2019-03-02T20:52:36-08:00\" title=\"Mar 2, 2019, 8:52:36 PM\">Mar 2, 2019, 8:52:36 PM</time><a class=\"listtitle\" href=\"posts/1004-max-consecutive-ones-iii/\">1004. Max Consecutive Ones III</a>\n",
       "</li>\n",
       "<li>\n",
       "<time class=\"listdate\" datetime=\"2019-02-26T21:43:34-08:00\" title=\"Feb 26, 2019, 9:43:34 PM\">Feb 26, 2019, 9:43:34 PM</time><a class=\"listtitle\" href=\"posts/introduction-to-graphviz-in-jupyter-notebook/\">Introduction to Graphviz in Jupyter Notebook</a>\n",
       "</li>\n",
       "<li>\n",
       "<time class=\"listdate\" datetime=\"2019-02-26T09:11:59-08:00\" title=\"Feb 26, 2019, 9:11:59 AM\">Feb 26, 2019, 9:11:59 AM</time><a class=\"listtitle\" href=\"posts/617-merge-two-binary-trees/\">617. Merge Two Binary Trees</a>\n",
       "</li>\n",
       "<li>\n",
       "<time class=\"listdate\" datetime=\"2019-02-22T22:11:59-08:00\" title=\"Feb 22, 2019, 10:11:59 PM\">Feb 22, 2019, 10:11:59 PM</time><a class=\"listtitle\" href=\"posts/995-minimum-number-of-k-consecutive-bit-flips/\">995. Minimum Number of K Consecutive Bit Flips</a>\n",
       "</li>\n",
       "<li>\n",
       "<time class=\"listdate\" datetime=\"2019-02-11T22:13:04-08:00\" title=\"Feb 11, 2019, 10:13:04 PM\">Feb 11, 2019, 10:13:04 PM</time><a class=\"listtitle\" href=\"posts/990-satisfiability-of-equality-equations/\">990 Satisfiability of Equality Equations</a>\n",
       "</li>\n",
       "<li>\n",
       "<time class=\"listdate\" datetime=\"2019-02-03T22:43:19-08:00\" title=\"Feb 3, 2019, 10:43:19 PM\">Feb 3, 2019, 10:43:19 PM</time><a class=\"listtitle\" href=\"posts/\">998 Smallest String Starting From Leaf</a>\n",
       "</li>\n",
       "<li>\n",
       "<time class=\"listdate\" datetime=\"2019-02-03T22:41:18-08:00\" title=\"Feb 3, 2019, 10:41:18 PM\">Feb 3, 2019, 10:41:18 PM</time><a class=\"listtitle\" href=\"posts/us-census-in-2014/\">US Census in 2014</a>\n",
       "</li>\n",
       "</ul></article>\n",
       "</div>\n",
       "<!--End of body content-->\n",
       "<footer id=\"footer\">\n",
       "            Contents © 2019         <a href=\"mailto:data.h1ros@gmail.com\">h1ros</a> - Powered by         <a href=\"https://getnikola.com\" rel=\"nofollow\">Nikola</a>\n",
       "</footer>\n",
       "</div>\n",
       "</div>\n",
       "<script src=\"assets/js/all-nocdn.js\"></script><span class=\"pull-right\">\n",
       "<iframe allowtransparency=\"true\" class=\"twitter-follow-button twitter-follow-button-rendered\" data-screen-name=\"__h1r0__\" frameborder=\"0\" id=\"twitter-widget-0\" scrolling=\"no\" src=\"https://platform.twitter.com/widgets/follow_button.2e9f365dae390394eb8d923cba8c5b11.en.html#dnt=false&amp;id=twitter-widget-0&amp;lang=en&amp;screen_name=__h1r0__&amp;show_count=false&amp;show_screen_name=false&amp;size=m&amp;time=1555181785492\" style=\"position: static; visibility: visible; width: 65px; height: 20px;\" title=\"Twitter Follow Button\"></iframe>\n",
       "<span></span>\n",
       "<form action=\"your-server-side-code\" method=\"POST\">\n",
       "<script class=\"stripe-button active\" data-amount=\"999\" data-description=\"Thank you for your support\" data-image=\"https://stripe.com/img/documentation/checkout/marketplace.png\" data-key=\"pk_test_PEyX7cx0C86Yu80NmTJqcbq4\" data-locale=\"auto\" data-name=\"Buy me a coffee\" src=\"https://checkout.stripe.com/checkout.js\">\n",
       "</script><button class=\"stripe-button-el\" style=\"visibility: visible; display: none;\" type=\"submit\"><span style=\"display: block; min-height: 30px;\">Pay with Card</span></button><script>\n",
       "    // Hide default stripe button, be careful there if you\n",
       "    // have more than 1 button of that class\n",
       "    document.getElementsByClassName(\"stripe-button-el\")[0].style.display = 'none';\n",
       "  </script><button class=\"yourCustomClass\" type=\"submit\">Buy me a coffee</button>\n",
       "</form>\n",
       "</span>\n",
       "<!-- fancy dates -->\n",
       "<script>\n",
       "    moment.locale(\"en\");\n",
       "    fancydates(0, \"YYYY-MM-DD HH:mm\");\n",
       "    </script><!-- end fancy dates --><script>\n",
       "    baguetteBox.run('div#content', {\n",
       "        ignoreClass: 'islink',\n",
       "        captions: function(element) {\n",
       "            return element.getElementsByTagName('img')[0].alt;\n",
       "    }});\n",
       "    </script><div id=\"baguetteBox-overlay\" role=\"dialog\"><div id=\"baguetteBox-slider\"></div><button aria-label=\"Previous\" class=\"baguetteBox-button\" id=\"previous-button\" type=\"button\"><svg height=\"60\" width=\"44\" xmlns=\"http://www.w3.org/2000/svg\"><polyline fill=\"none\" points=\"30 10 10 30 30 50\" stroke=\"rgba(255,255,255,0.5)\" stroke-linecap=\"butt\" stroke-linejoin=\"round\" stroke-width=\"4\"></polyline></svg></button><button aria-label=\"Next\" class=\"baguetteBox-button\" id=\"next-button\" type=\"button\"><svg height=\"60\" width=\"44\" xmlns=\"http://www.w3.org/2000/svg\"><polyline fill=\"none\" points=\"14 10 34 30 14 50\" stroke=\"rgba(255,255,255,0.5)\" stroke-linecap=\"butt\" stroke-linejoin=\"round\" stroke-width=\"4\"></polyline></svg></button><button aria-label=\"Close\" class=\"baguetteBox-button\" id=\"close-button\" type=\"button\"><svg height=\"30\" width=\"30\" xmlns=\"http://www.w3.org/2000/svg\"><g stroke=\"rgb(160,160,160)\" stroke-width=\"4\"><line x1=\"5\" x2=\"25\" y1=\"5\" y2=\"25\"></line><line x1=\"5\" x2=\"25\" y1=\"25\" y2=\"5\"></line></g></svg></button></div><!-- GitHub Buttons --><script async=\"\" defer=\"\" src=\"https://buttons.github.io/buttons.js\"></script><!-- Twitter Widgets --><script>window.twttr = (function(d, s, id) {\n",
       "  var js, fjs = d.getElementsByTagName(s)[0],\n",
       "    t = window.twttr || {};\n",
       "  if (d.getElementById(id)) return t;\n",
       "  js = d.createElement(s);\n",
       "  js.id = id;\n",
       "  js.src = \"https://platform.twitter.com/widgets.js\";\n",
       "  fjs.parentNode.insertBefore(js, fjs);\n",
       "  t._e = [];\n",
       "  t.ready = function(f) {\n",
       "    t._e.push(f);\n",
       "  };\n",
       "  return t;\n",
       "}(document, \"script\", \"twitter-wjs\"));</script>\n",
       "<iframe allowtransparency=\"true\" class=\"stripe_checkout_app\" frameborder=\"0\" name=\"stripe_checkout_app\" src=\"https://checkout.stripe.com/m/v3/index-3f0dc197837628f45156bf4f7ed0f6ad.html?distinct_id=fd949507-3b18-9acb-d86b-9dbc5e73e7e2\" style=\"z-index: 2147483647; display: none; background: rgba(0, 0, 0, 0.004); border: 0px none transparent; overflow: hidden auto; visibility: visible; margin: 0px; padding: 0px; -webkit-tap-highlight-color: transparent; position: fixed; left: 0px; top: 0px; width: 100%; height: 100%;\"></iframe><iframe allowtransparency=\"true\" frameborder=\"0\" scrolling=\"no\" src=\"https://platform.twitter.com/widgets/widget_iframe.2e9f365dae390394eb8d923cba8c5b11.html?origin=https%3A%2F%2Fh1ros.github.io&amp;settingsEndpoint=https%3A%2F%2Fsyndication.twitter.com%2Fsettings\" style=\"display: none;\" title=\"Twitter settings iframe\"></iframe></body></html>"
      ]
     },
     "execution_count": 130,
     "metadata": {},
     "output_type": "execute_result"
    }
   ],
   "source": [
    "from selenium import webdriver\n",
    "# if chromedriver is not in your path, you’ll need to add it here\n",
    "d_driver = {}\n",
    "d_driver['github'] = webdriver.Chrome()\n",
    "url = 'https://h1ros.github.io/archive.html'\n",
    "d_driver['github'].get (f'{url}')\n",
    "d_driver['github'].find_element_by_class_name('postlist')\n",
    "soup = BeautifulSoup(d_driver['github'].page_source, features=\"html.parser\")\n",
    "soup\n"
   ]
  },
  {
   "cell_type": "code",
   "execution_count": null,
   "metadata": {},
   "outputs": [],
   "source": []
  },
  {
   "cell_type": "code",
   "execution_count": null,
   "metadata": {},
   "outputs": [],
   "source": []
  }
 ],
 "metadata": {
  "kernelspec": {
   "display_name": "Python (py367)",
   "language": "python",
   "name": "py367"
  },
  "language_info": {
   "codemirror_mode": {
    "name": "ipython",
    "version": 3
   },
   "file_extension": ".py",
   "mimetype": "text/x-python",
   "name": "python",
   "nbconvert_exporter": "python",
   "pygments_lexer": "ipython3",
   "version": "3.6.7"
  },
  "nikola": {
   "category": "",
   "date": "2019-04-09 23:44:55 UTC-07:00",
   "description": "",
   "link": "",
   "slug": "200wordsaday-analysis-step-2-exploration",
   "status": "draft",
   "tags": "",
   "title": "200Wordsaday Analysis Step 2 - Exploration",
   "type": "text"
  },
  "toc": {
   "base_numbering": 1,
   "nav_menu": {},
   "number_sections": true,
   "sideBar": true,
   "skip_h1_title": false,
   "title_cell": "Table of Contents",
   "title_sidebar": "Contents",
   "toc_cell": false,
   "toc_position": {},
   "toc_section_display": true,
   "toc_window_display": false
  }
 },
 "nbformat": 4,
 "nbformat_minor": 2
}
