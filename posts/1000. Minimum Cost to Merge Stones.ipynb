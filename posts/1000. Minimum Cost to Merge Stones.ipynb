{
 "cells": [
  {
   "cell_type": "markdown",
   "metadata": {},
   "source": [
    "# Problem Setting\n",
    "There are `N` piles of stones arranged in a row.  The i-th pile has stones[i] stones.\n",
    "\n",
    "A move consists of merging exactly `K` consecutive piles into one pile, and the cost of this move is equal to the total number of stones in these `K` piles.\n",
    "\n",
    "Find the minimum cost to merge all piles of stones into one pile.  If it is impossible, return -1.\n",
    "\n",
    "\n",
    "| Variable        | Type | Description           | \n",
    "| :------------- |:-------------:| :--- |\n",
    "| stones  | list |  an array of stones with the merging cost |\n",
    "| K | int| the maximum number of consecutive piles |\n",
    "\n"
   ]
  },
  {
   "cell_type": "markdown",
   "metadata": {},
   "source": [
    "## Interactive Python Execution\n",
    "[Pythontutor](http://pythontutor.com/) is an awesome website which allows us to execute the code and visualize the flow of the code and variables taking account into data structure and stored values. "
   ]
  },
  {
   "cell_type": "code",
   "execution_count": 1,
   "metadata": {},
   "outputs": [
    {
     "data": {
      "text/html": [
       "\n",
       "        <iframe\n",
       "            width=\"1000\"\n",
       "            height=\"500\"\n",
       "            src=\"https://goo.gl/Jjbj8Q\"\n",
       "            frameborder=\"0\"\n",
       "            allowfullscreen\n",
       "        ></iframe>\n",
       "        "
      ],
      "text/plain": [
       "<IPython.lib.display.IFrame at 0x10ec41358>"
      ]
     },
     "execution_count": 1,
     "metadata": {},
     "output_type": "execute_result"
    }
   ],
   "source": [
    "from IPython.display import IFrame\n",
    "IFrame(\"https://goo.gl/Jjbj8Q\", width=1000, height=500)"
   ]
  },
  {
   "cell_type": "markdown",
   "metadata": {},
   "source": [
    "## Example 1\n",
    "\n",
    "Input: stones = [3,2,4,1], K = 2\n",
    "\n",
    "Output: 20\n",
    "\n",
    "Explanation: \n",
    "\n",
    "We start with [3, 2, 4, 1].\n",
    "\n",
    "We merge [3, 2] for a cost of 5, and we are left with [5, 4, 1].\n",
    "\n",
    "We merge [4, 1] for a cost of 5, and we are left with [5, 5].\n",
    "\n",
    "We merge [5, 5] for a cost of 10, and we are left with [10].\n",
    "\n",
    "The total cost was 20, and this is the minimum possible.\n"
   ]
  },
  {
   "cell_type": "markdown",
   "metadata": {},
   "source": [
    "<!-- TEASER_END -->"
   ]
  },
  {
   "cell_type": "markdown",
   "metadata": {},
   "source": [
    "## Example 2\n",
    "\n",
    "Input: stones = [3,5,1,2,6], K = 3\n",
    "\n",
    "Output: 25\n",
    "\n",
    "Explanation: \n",
    "\n",
    "We start with [3, 5, 1, 2, 6].\n",
    "\n",
    "We merge [5, 1, 2] for a cost of 8, and we are left with [3, 8, 6].\n",
    "\n",
    "We merge [3, 8, 6] for a cost of 17, and we are left with [17].\n",
    "\n",
    "The total cost was 25, and this is the minimum possible."
   ]
  },
  {
   "cell_type": "markdown",
   "metadata": {},
   "source": [
    "Note: \n",
    "* 1 <= stones.length <= 30\n",
    "* 2 <= K <= 30\n",
    "* 1 <= stones[i] <= 100"
   ]
  },
  {
   "cell_type": "markdown",
   "metadata": {},
   "source": [
    "# Solution from [Lee215](https://leetcode.com/problems/minimum-cost-to-merge-stones/discuss/247567/Python-Top-Down-DP-52ms)"
   ]
  },
  {
   "cell_type": "code",
   "execution_count": 2,
   "metadata": {},
   "outputs": [],
   "source": [
    "# Solution from Lee215\n",
    "class Solution(object):\n",
    "    def mergeStones(self, A, K):\n",
    "        N = len(A)\n",
    "        if (N - 1) % (K - 1): return -1\n",
    "        INF = float('inf')\n",
    "        memo = {}\n",
    "        prefix = [0] # prefix sum\n",
    "        for x in A:\n",
    "            prefix.append(prefix[-1] + x)\n",
    "\n",
    "        def dp(i, j, m):\n",
    "            if (j - i + 1 - m) % (K - 1): return INF  # optimize\n",
    "            if (i, j, m) in memo:\n",
    "                return memo[i, j, m]\n",
    "            if i == j:\n",
    "                res = 0 if m == 1 else INF\n",
    "            else:\n",
    "                if m == 1:\n",
    "                    res = dp(i, j, K) + prefix[j + 1] - prefix[i]\n",
    "                else:\n",
    "                    res = INF\n",
    "                    for mid in range(i, j, K - 1):\n",
    "                        res = min(res, dp(i, mid, 1) + dp(mid + 1, j, m - 1))\n",
    "            memo[i, j, m] = res\n",
    "            return res\n",
    "        res = dp(0, N - 1, 1)\n",
    "        return res if res < INF else 0"
   ]
  },
  {
   "cell_type": "code",
   "execution_count": 3,
   "metadata": {},
   "outputs": [
    {
     "data": {
      "text/plain": [
       "20"
      ]
     },
     "execution_count": 3,
     "metadata": {},
     "output_type": "execute_result"
    }
   ],
   "source": [
    "# Example 1\n",
    "stones = [3,2,4,1] \n",
    "K = 2\n",
    "s = Solution()\n",
    "s.mergeStones(stones, K)"
   ]
  },
  {
   "cell_type": "code",
   "execution_count": 4,
   "metadata": {},
   "outputs": [
    {
     "data": {
      "text/plain": [
       "-1"
      ]
     },
     "execution_count": 4,
     "metadata": {},
     "output_type": "execute_result"
    }
   ],
   "source": [
    "# Example 2\n",
    "stones = [3,2,4,1]\n",
    "K = 3\n",
    "s = Solution()\n",
    "s.mergeStones(stones, K)"
   ]
  },
  {
   "cell_type": "code",
   "execution_count": 5,
   "metadata": {},
   "outputs": [
    {
     "data": {
      "text/plain": [
       "25"
      ]
     },
     "execution_count": 5,
     "metadata": {},
     "output_type": "execute_result"
    }
   ],
   "source": [
    "# Example 3\n",
    "stones = [3,5,1,2,6]\n",
    "K = 3\n",
    "s = Solution()\n",
    "s.mergeStones(stones, K)"
   ]
  },
  {
   "cell_type": "markdown",
   "metadata": {},
   "source": [
    "# Step-by-step understanding"
   ]
  },
  {
   "cell_type": "markdown",
   "metadata": {},
   "source": [
    "1. Initilization\n",
    "\n",
    "| Variable        | Description | \n",
    "| ------------- |:-------------| \n",
    "| N | the length of a given array `stones` |\n",
    "| INF |a float infinity |\n",
    "| memo| intermediate dictionary-based tables with input argument `i`, `j`, `m`|\n",
    "| prefix| a look-up list storing the cumulative sum for the given array |\n",
    "\n"
   ]
  },
  {
   "cell_type": "markdown",
   "metadata": {},
   "source": [
    "## Example of variables"
   ]
  },
  {
   "cell_type": "code",
   "execution_count": 6,
   "metadata": {},
   "outputs": [],
   "source": [
    "stones = [3,5,1,2,6]\n",
    "K = 3"
   ]
  },
  {
   "cell_type": "code",
   "execution_count": 7,
   "metadata": {},
   "outputs": [],
   "source": [
    "N = len(stones)\n",
    "INF = float('inf')\n",
    "memo = {}\n",
    "prefix = [0] # prefix sum\n",
    "for x in stones:\n",
    "    prefix.append(prefix[-1] + x)\n"
   ]
  },
  {
   "cell_type": "code",
   "execution_count": 8,
   "metadata": {},
   "outputs": [
    {
     "data": {
      "text/plain": [
       "5"
      ]
     },
     "execution_count": 8,
     "metadata": {},
     "output_type": "execute_result"
    }
   ],
   "source": [
    "N"
   ]
  },
  {
   "cell_type": "code",
   "execution_count": 9,
   "metadata": {},
   "outputs": [
    {
     "data": {
      "text/plain": [
       "[0, 3, 8, 9, 11, 17]"
      ]
     },
     "execution_count": 9,
     "metadata": {},
     "output_type": "execute_result"
    }
   ],
   "source": [
    "prefix"
   ]
  },
  {
   "cell_type": "markdown",
   "metadata": {},
   "source": [
    "<a ref=https://goo.gl/Je146G></a>"
   ]
  }
 ],
 "metadata": {
  "kernelspec": {
   "display_name": "Python (py367)",
   "language": "python",
   "name": "py367"
  },
  "language_info": {
   "codemirror_mode": {
    "name": "ipython",
    "version": 3
   },
   "file_extension": ".py",
   "mimetype": "text/x-python",
   "name": "python",
   "nbconvert_exporter": "python",
   "pygments_lexer": "ipython3",
   "version": "3.6.7"
  },
  "nikola": {
   "category": "Coding",
   "date": "2019-03-02 20:52:36 UTC-08:00",
   "description": "",
   "link": "",
   "slug": "1000-minimum-cost-to-merge-stones",
   "tags": "",
   "title": "1000. Minimum Cost to Merge Stones",
   "type": "text"
  }
 },
 "nbformat": 4,
 "nbformat_minor": 2
}
