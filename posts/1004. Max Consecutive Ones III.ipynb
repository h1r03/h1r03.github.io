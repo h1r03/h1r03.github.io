{
 "cells": [
  {
   "cell_type": "markdown",
   "metadata": {},
   "source": [
    "# Problem Setting\n",
    "Given an array `A` of 0s and 1s, we may change up to `K` values from 0 to 1.\n",
    "\n",
    "Return the length of the longest (contiguous) subarray that contains only 1s. \n",
    "\n",
    "\n",
    "| Variable        | Type | Description           | \n",
    "| :------------- |:-------------:| :--- |\n",
    "| A  | list |  an array of 0s and 1s e.g., 111000 |\n",
    "| K | int| the maximum number of changes fliping from 0 to 1 |\n"
   ]
  },
  {
   "cell_type": "markdown",
   "metadata": {},
   "source": [
    "## Example 1\n",
    "Input: A = [1,1,1,0,0,0,1,1,1,1,0], K = 2\n",
    "\n",
    "Output: 6\n",
    "\n",
    "Explanation: \n",
    "[1,1,1,0,0,__1\\*,1,1,1,1,1\\*__]\n",
    "\n",
    "Numbers with * (astarisk) were flipped from 0 to 1.  The longest subarray is indicated as a line of bold numers."
   ]
  },
  {
   "cell_type": "markdown",
   "metadata": {},
   "source": [
    "<!-- TEASER_END -->"
   ]
  },
  {
   "cell_type": "markdown",
   "metadata": {},
   "source": [
    "## Example 2\n",
    "Input: A = [0,0,1,1,0,0,1,1,1,0,1,1,0,0,0,1,1,1,1], K = 3\n",
    "\n",
    "Output: 10\n",
    "\n",
    "Explanation: \n",
    "[0,0,__1,1,1\\*,1\\*,1,1,1,1\\*,1,1__,0,0,0,1,1,1,1]\n",
    "\n",
    "Numbers with * (astarisk) were flipped from 0 to 1.  The longest subarray is indicated as a line of bold numers."
   ]
  },
  {
   "cell_type": "markdown",
   "metadata": {},
   "source": [
    "Note:\n",
    "\n",
    "1 <= A.length <= 20000\n",
    "\n",
    "0 <= K <= A.length\n",
    "\n",
    "A[i] is 0 or 1 \n",
    "\n"
   ]
  },
  {
   "cell_type": "markdown",
   "metadata": {},
   "source": [
    "# Solution from [abhi1027](https://leetcode.com/problems/max-consecutive-ones-iii/discuss/247611/O(n)-%3A-Python-Sliding-window)"
   ]
  },
  {
   "cell_type": "code",
   "execution_count": 1,
   "metadata": {},
   "outputs": [],
   "source": [
    "class Solution(object):\n",
    "    def longestOnes(self, A, K):\n",
    "        i=0;n=len(A);j=0\n",
    "        countk=K;res=float('-inf')\n",
    "        while j<n and i<n:\n",
    "            if A[j]==1:\n",
    "                pass\n",
    "            else:   \n",
    "                if countk>0:\n",
    "                    countk-=1\n",
    "                else:\n",
    "                    while countk<0 or A[i]==1:\n",
    "                        if A[i]==0:\n",
    "                            countk+=1\n",
    "                        i+=1\n",
    "                    i+=1\n",
    "            res=max(res,j-i+1)  \n",
    "            j+=1\n",
    "        return res "
   ]
  },
  {
   "cell_type": "code",
   "execution_count": 2,
   "metadata": {},
   "outputs": [
    {
     "data": {
      "text/plain": [
       "6"
      ]
     },
     "execution_count": 2,
     "metadata": {},
     "output_type": "execute_result"
    }
   ],
   "source": [
    "# Example 1\n",
    "A = [1,1,1,0,0,0,1,1,1,1,0]\n",
    "K = 2\n",
    "s = Solution()\n",
    "s.longestOnes(A, K)"
   ]
  },
  {
   "cell_type": "code",
   "execution_count": 3,
   "metadata": {},
   "outputs": [
    {
     "data": {
      "text/plain": [
       "10"
      ]
     },
     "execution_count": 3,
     "metadata": {},
     "output_type": "execute_result"
    }
   ],
   "source": [
    "# Example 2\n",
    "A = [0,0,1,1,0,0,1,1,1,0,1,1,0,0,0,1,1,1,1]\n",
    "K = 3\n",
    "s = Solution()\n",
    "s.longestOnes(A, K)"
   ]
  },
  {
   "cell_type": "markdown",
   "metadata": {},
   "source": [
    "# Step-by-step understanding"
   ]
  },
  {
   "cell_type": "markdown",
   "metadata": {},
   "source": [
    "1. Initialization\n",
    "\n",
    "| Variable        | Description           | \n",
    "| ------------- |-------------| \n",
    "| i   | the first counter to keep the pointer for the beggining of consecutive subarray of 1s | \n",
    "| j   | the first counter to keep the pointer for the end of consecutive subarray of 1s      |\n",
    "| n | the length of a given array `A` |\n",
    "|countK|the reverse counter to count down the number of flip |\n",
    "|res| the result integer starting from `negative infinity` |\n",
    "\n",
    "2. the first `while` loop\n",
    "    * `i` is set as a starting point\n",
    "        * `j`(end) is increased until the length of array or using the maximum number of changes\n",
    "        * if `j` is `1` then, skip to next\n",
    "        * if `j` is `0` then, subtract the number from `countK` \n",
    "        \n",
    "    Continue the above loop till `countK` becomes `0` \n",
    "    \n",
    "    \n",
    "3. When the `countK` becomse `0`, reset the process and move the position of `i` forward `+1`\n",
    "    * if the next position is `0` then revert the `countK` and add `+1`\n",
    "    * if the next position is `1` then simply move the index of `i` forward `+1` without changing `countK`\n",
    "    \n",
    "    \n",
    "\n",
    "\n",
    "\n"
   ]
  },
  {
   "cell_type": "code",
   "execution_count": 4,
   "metadata": {},
   "outputs": [
    {
     "name": "stdout",
     "output_type": "stream",
     "text": [
      "While loop start\n",
      "Found the consecutive sequence 1\n",
      "Leave the max value between -inf and 1 => leave 1\n",
      "\n",
      "While loop start\n",
      "Found the consecutive sequence 2\n",
      "Leave the max value between 1 and 2 => leave 2\n",
      "\n",
      "While loop start\n",
      "Found the consecutive sequence 3\n",
      "Leave the max value between 2 and 3 => leave 3\n",
      "\n",
      "While loop start\n",
      "Found the consecutive sequence 4\n",
      "Leave the max value between 3 and 4 => leave 4\n",
      "\n",
      "While loop start\n",
      "Found the consecutive sequence 5\n",
      "Leave the max value between 4 and 5 => leave 5\n",
      "\n",
      "While loop start\n",
      "Running out countK\n",
      "Revert the countK for the number of 1\n",
      "Move i position forward\n",
      "Revert the countK for the number of 1\n",
      "Move i position forward\n",
      "Revert the countK for the number of 1\n",
      "Move i position forward\n",
      "Move i position forward\n",
      "Found the consecutive sequence 2\n",
      "Leave the max value between 5 and 2 => leave 5\n",
      "\n",
      "While loop start\n",
      "Found the consecutive sequence 3\n",
      "Leave the max value between 5 and 3 => leave 5\n",
      "\n",
      "While loop start\n",
      "Found the consecutive sequence 4\n",
      "Leave the max value between 5 and 4 => leave 5\n",
      "\n",
      "While loop start\n",
      "Found the consecutive sequence 5\n",
      "Leave the max value between 5 and 5 => leave 5\n",
      "\n",
      "While loop start\n",
      "Found the consecutive sequence 6\n",
      "Leave the max value between 5 and 6 => leave 6\n",
      "\n",
      "While loop start\n",
      "Running out countK\n",
      "Move i position forward\n",
      "Found the consecutive sequence 6\n",
      "Leave the max value between 6 and 6 => leave 6\n",
      "\n",
      "========================================\n",
      "All exploration is finished\n",
      "Final result is 6\n"
     ]
    }
   ],
   "source": [
    "A = [1,1,1,0,0,0,1,1,1,1,0]\n",
    "K = 2\n",
    "i=0;n=len(A);j=0\n",
    "countk=K;res=float('-inf')\n",
    "while j<n and i<n:\n",
    "    print('While loop start')\n",
    "    if A[j]==1:\n",
    "        pass\n",
    "    else:   \n",
    "        if countk>0:\n",
    "            countk-=1\n",
    "        else:\n",
    "            print('Running out countK')\n",
    "            while countk<0 or A[i]==1:\n",
    "                print('Revert the countK for the number of 1')\n",
    "                if A[i]==0:\n",
    "                    countk+=1\n",
    "                    \n",
    "                print('Move i position forward')\n",
    "                i+=1\n",
    "            print('Move i position forward')\n",
    "            i+=1\n",
    "    print('Found the consecutive sequence %i' % int(j-i+1))\n",
    "    print('Leave the max value between %.f and %i => leave %.f' % (res, int(j-i+1), max(res,j-i+1)))\n",
    "    res=max(res,j-i+1)  \n",
    "    j+=1\n",
    "    print()\n",
    "\n",
    "print('='*40)\n",
    "print('All exploration is finished')\n",
    "print('Final result is %.f' % res)"
   ]
  }
 ],
 "metadata": {
  "kernelspec": {
   "display_name": "Python (py367)",
   "language": "python",
   "name": "py367"
  },
  "language_info": {
   "codemirror_mode": {
    "name": "ipython",
    "version": 3
   },
   "file_extension": ".py",
   "mimetype": "text/x-python",
   "name": "python",
   "nbconvert_exporter": "python",
   "pygments_lexer": "ipython3",
   "version": "3.6.7"
  },
  "nikola": {
   "category": "Coding",
   "date": "2019-03-02 20:52:36 UTC-08:00",
   "description": "",
   "link": "",
   "slug": "1004-max-consecutive-ones-iii",
   "tags": "",
   "title": "1004. Max Consecutive Ones III",
   "type": "text"
  }
 },
 "nbformat": 4,
 "nbformat_minor": 2
}
