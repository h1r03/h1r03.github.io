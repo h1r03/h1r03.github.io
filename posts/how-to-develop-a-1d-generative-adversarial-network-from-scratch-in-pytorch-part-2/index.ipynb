{
 "cells": [
  {
   "cell_type": "markdown",
   "metadata": {},
   "source": [
    "# Goal\n",
    "This post is the 2nd part of \"How to develop a 1d GAN from scratch in PyTorch\", inspired by the blog \"[Machine Learning Mastery -  How to Develop a 1D Generative Adversarial Network From Scratch in Keras](https://machinelearningmastery.com/how-to-develop-a-generative-adversarial-network-for-a-1-dimensional-function-from-scratch-in-keras/)\" written by Jason Brownlee, PhD. But to learn step-by-step, I will describe the same concept with PyTorch.\n",
    "\n",
    "\n",
    "This post will cover the followings: \n",
    "\n",
    "Part 2: \n",
    "* Train a Discriminator model\n",
    "\n",
    "\n",
    "\n",
    "**Reference**\n",
    "* [How to Develop a 1D Generative Adversarial Network From Scratch in Keras](https://machinelearningmastery.com/how-to-develop-a-generative-adversarial-network-for-a-1-dimensional-function-from-scratch-in-keras/)\n",
    "* [Wikipedia - Generative adversarial network (GAN)](https://en.wikipedia.org/wiki/Generative_adversarial_network)"
   ]
  },
  {
   "cell_type": "markdown",
   "metadata": {},
   "source": [
    "# Libraries"
   ]
  },
  {
   "cell_type": "code",
   "execution_count": 94,
   "metadata": {
    "ExecuteTime": {
     "end_time": "2019-07-04T15:09:42.117088Z",
     "start_time": "2019-07-04T15:09:42.082969Z"
    }
   },
   "outputs": [],
   "source": [
    "import pandas as pd\n",
    "import numpy as np\n",
    "import matplotlib.pyplot as plt\n",
    "%matplotlib inline\n",
    "\n",
    "# PyTorch\n",
    "import torch\n",
    "from torch import nn\n",
    "from torch.functional import F \n",
    "from torch import optim\n",
    "from torchviz import make_dot"
   ]
  },
  {
   "cell_type": "markdown",
   "metadata": {},
   "source": [
    "# Functions "
   ]
  },
  {
   "cell_type": "markdown",
   "metadata": {},
   "source": [
    "## Defined funcions in Part 1"
   ]
  },
  {
   "cell_type": "code",
   "execution_count": 91,
   "metadata": {
    "ExecuteTime": {
     "end_time": "2019-07-04T15:07:41.008330Z",
     "start_time": "2019-07-04T15:07:40.999129Z"
    }
   },
   "outputs": [],
   "source": [
    "# Target function\n",
    "def f(x):\n",
    "    return x **2\n",
    "\n",
    "# Create a discriminator model\n",
    "# Build a feed-forward network\n",
    "\n",
    "\n",
    "# define the standalone discriminator model\n",
    "def define_discriminator(n_inputs=2):\n",
    "    model = nn.Sequential(nn.Linear(2, 25),\n",
    "                          nn.ReLU(),\n",
    "                          nn.Linear(25,2),\n",
    "                         )\n",
    "    \n",
    "    # Loss\n",
    "    criterion = nn.BCELoss()\n",
    "    \n",
    "    \n",
    "\n",
    "    # Optimizer\n",
    "    optimizer = optim.Adam(model.parameters(), lr=0.001)\n",
    "    \n",
    "    return model, criterion, optimizer\n",
    "\n",
    "\n",
    "\n",
    "\n",
    "# Generate samples\n",
    "def generate_samples(size=100, label='real'):\n",
    "    \"\"\"Generate samples with real or fake label\n",
    "    \"\"\"\n",
    "    x = np.random.randn(size, 1)\n",
    "    x2 = f(x)\n",
    "    \n",
    "    y = np.ones((size, 1)) * (label == 'real')\n",
    "    return np.hstack([x, x2]), y\n",
    "    "
   ]
  },
  {
   "cell_type": "markdown",
   "metadata": {},
   "source": [
    "# Train a discriminator "
   ]
  },
  {
   "cell_type": "code",
   "execution_count": 92,
   "metadata": {
    "ExecuteTime": {
     "end_time": "2019-07-04T15:07:42.288766Z",
     "start_time": "2019-07-04T15:07:42.282222Z"
    }
   },
   "outputs": [
    {
     "data": {
      "text/plain": [
       "tensor([0, 1, 0, 1, 0, 1, 1, 1, 1, 1, 1, 1, 1, 1, 0, 1, 0, 1, 1, 0, 1, 1, 1, 1,\n",
       "        1, 1, 0, 1, 0, 1, 1, 0, 0, 1, 1, 1, 1, 0, 1, 1, 1, 1, 1, 1, 1, 0, 1, 0,\n",
       "        1, 1])"
      ]
     },
     "execution_count": 92,
     "metadata": {},
     "output_type": "execute_result"
    }
   ],
   "source": [
    "predicted"
   ]
  },
  {
   "cell_type": "code",
   "execution_count": 97,
   "metadata": {
    "ExecuteTime": {
     "end_time": "2019-07-04T15:10:34.365051Z",
     "start_time": "2019-07-04T15:10:34.356176Z"
    },
    "scrolled": true
   },
   "outputs": [
    {
     "data": {
      "text/plain": [
       "tensor([[0.3894, 0.5372],\n",
       "        [0.3957, 0.5342],\n",
       "        [0.3676, 0.5435],\n",
       "        [0.3657, 0.5557],\n",
       "        [0.4467, 0.5787],\n",
       "        [0.4409, 0.5637],\n",
       "        [0.3665, 0.5453],\n",
       "        [0.4364, 0.6085],\n",
       "        [0.3539, 0.5852],\n",
       "        [0.3881, 0.5252],\n",
       "        [0.4279, 0.5502],\n",
       "        [0.3708, 0.5621],\n",
       "        [0.4193, 0.5413],\n",
       "        [0.3652, 0.5547],\n",
       "        [0.3911, 0.5338],\n",
       "        [0.4207, 0.5430],\n",
       "        [0.4118, 0.5368],\n",
       "        [0.4456, 0.5914],\n",
       "        [0.4063, 0.5358],\n",
       "        [0.3798, 0.5349],\n",
       "        [0.4364, 0.5584],\n",
       "        [0.4035, 0.5353],\n",
       "        [0.3653, 0.5547],\n",
       "        [0.3659, 0.5461],\n",
       "        [0.3673, 0.5582],\n",
       "        [0.4308, 0.5530],\n",
       "        [0.4217, 0.5444],\n",
       "        [0.4018, 0.5350],\n",
       "        [0.4178, 0.6270],\n",
       "        [0.3862, 0.5342],\n",
       "        [0.4315, 0.5537],\n",
       "        [0.3670, 0.5444],\n",
       "        [0.3283, 0.3935],\n",
       "        [0.3949, 0.5342],\n",
       "        [0.3681, 0.5429],\n",
       "        [0.3679, 0.5590],\n",
       "        [0.4154, 0.6273],\n",
       "        [0.4467, 0.5785],\n",
       "        [0.3706, 0.5619],\n",
       "        [0.3683, 0.5595],\n",
       "        [0.4466, 0.5848],\n",
       "        [0.3655, 0.5468],\n",
       "        [0.3916, 0.5339],\n",
       "        [0.3809, 0.5348],\n",
       "        [0.3835, 0.5556],\n",
       "        [0.3752, 0.5633],\n",
       "        [0.4465, 0.5860],\n",
       "        [0.3710, 0.5622],\n",
       "        [0.4467, 0.5778],\n",
       "        [0.4253, 0.5479]], grad_fn=<SigmoidBackward>)"
      ]
     },
     "execution_count": 97,
     "metadata": {},
     "output_type": "execute_result"
    }
   ],
   "source": [
    "pred"
   ]
  },
  {
   "cell_type": "code",
   "execution_count": 101,
   "metadata": {
    "ExecuteTime": {
     "end_time": "2019-07-04T15:11:39.696939Z",
     "start_time": "2019-07-04T15:11:39.672948Z"
    }
   },
   "outputs": [
    {
     "name": "stdout",
     "output_type": "stream",
     "text": [
      "processing label: real\n"
     ]
    },
    {
     "ename": "RuntimeError",
     "evalue": "_thnn_binary_cross_entropy_forward is not implemented for type torch.LongTensor",
     "output_type": "error",
     "traceback": [
      "\u001b[0;31m---------------------------------------------------------------------------\u001b[0m",
      "\u001b[0;31mRuntimeError\u001b[0m                              Traceback (most recent call last)",
      "\u001b[0;32m<ipython-input-101-2e0f70b78835>\u001b[0m in \u001b[0;36m<module>\u001b[0;34m\u001b[0m\n\u001b[1;32m     26\u001b[0m \u001b[0;31m#         pred = torch.sigmoid(outputs)\u001b[0m\u001b[0;34m\u001b[0m\u001b[0;34m\u001b[0m\u001b[0;34m\u001b[0m\u001b[0m\n\u001b[1;32m     27\u001b[0m         \u001b[0m_\u001b[0m\u001b[0;34m,\u001b[0m \u001b[0mpred\u001b[0m \u001b[0;34m=\u001b[0m \u001b[0mtorch\u001b[0m\u001b[0;34m.\u001b[0m\u001b[0mmax\u001b[0m\u001b[0;34m(\u001b[0m\u001b[0moutputs\u001b[0m\u001b[0;34m,\u001b[0m \u001b[0;36m1\u001b[0m\u001b[0;34m)\u001b[0m\u001b[0;34m\u001b[0m\u001b[0;34m\u001b[0m\u001b[0m\n\u001b[0;32m---> 28\u001b[0;31m         \u001b[0mloss\u001b[0m \u001b[0;34m=\u001b[0m \u001b[0mF\u001b[0m\u001b[0;34m.\u001b[0m\u001b[0mbinary_cross_entropy\u001b[0m\u001b[0;34m(\u001b[0m\u001b[0mpred\u001b[0m\u001b[0;34m.\u001b[0m\u001b[0mview\u001b[0m\u001b[0;34m(\u001b[0m\u001b[0;34m-\u001b[0m\u001b[0;36m1\u001b[0m\u001b[0;34m,\u001b[0m \u001b[0;36m1\u001b[0m\u001b[0;34m)\u001b[0m\u001b[0;34m,\u001b[0m \u001b[0mtorch\u001b[0m\u001b[0;34m.\u001b[0m\u001b[0mTensor\u001b[0m\u001b[0;34m(\u001b[0m\u001b[0md_y\u001b[0m\u001b[0;34m[\u001b[0m\u001b[0mlabel\u001b[0m\u001b[0;34m]\u001b[0m\u001b[0;34m)\u001b[0m\u001b[0;34m)\u001b[0m\u001b[0;34m\u001b[0m\u001b[0;34m\u001b[0m\u001b[0m\n\u001b[0m\u001b[1;32m     29\u001b[0m \u001b[0;34m\u001b[0m\u001b[0m\n\u001b[1;32m     30\u001b[0m \u001b[0;31m#         loss = criterion(predicted.view(-1, 1).double(), torch.Tensor(d_y[label]).view(-1, 1).double())\u001b[0m\u001b[0;34m\u001b[0m\u001b[0;34m\u001b[0m\u001b[0;34m\u001b[0m\u001b[0m\n",
      "\u001b[0;32m~/anaconda3/envs/py367/lib/python3.6/site-packages/torch/nn/functional.py\u001b[0m in \u001b[0;36mbinary_cross_entropy\u001b[0;34m(input, target, weight, size_average, reduce, reduction)\u001b[0m\n\u001b[1;32m   2025\u001b[0m \u001b[0;34m\u001b[0m\u001b[0m\n\u001b[1;32m   2026\u001b[0m     return torch._C._nn.binary_cross_entropy(\n\u001b[0;32m-> 2027\u001b[0;31m         input, target, weight, reduction_enum)\n\u001b[0m\u001b[1;32m   2028\u001b[0m \u001b[0;34m\u001b[0m\u001b[0m\n\u001b[1;32m   2029\u001b[0m \u001b[0;34m\u001b[0m\u001b[0m\n",
      "\u001b[0;31mRuntimeError\u001b[0m: _thnn_binary_cross_entropy_forward is not implemented for type torch.LongTensor"
     ]
    }
   ],
   "source": [
    "# Parameters\n",
    "n_batch = 100\n",
    "epochs = 100\n",
    "\n",
    "half_batch = int(n_batch / 2)\n",
    "labels = ['real', 'fake']\n",
    "d_X = {}\n",
    "d_y = {}\n",
    "d_accuracy = {}\n",
    "model, criterion, optimizer = define_discriminator()\n",
    "# run epochs manually\n",
    "for i in range(epochs):\n",
    "    \n",
    "    for label in labels:\n",
    "        print(f'processing label: {label}')\n",
    "        # generate real examples\n",
    "        d_X[label], d_y[label] = generate_samples(half_batch, label=label)\n",
    "#         update model\n",
    "#         model.train_on_batch(d_data[label])\n",
    "        # zero the parameter gradients\n",
    "        optimizer.zero_grad()\n",
    "        # forward + backward + optimize\n",
    "        outputs = model(torch.Tensor(d_X[label]))\n",
    "        _, predicted = torch.max(outputs, 1)\n",
    "\n",
    "#         pred = torch.sigmoid(outputs)\n",
    "        _, pred = torch.max(outputs, 1)\n",
    "        loss = F.binary_cross_entropy(pred.view(-1, 1), torch.Tensor(d_y[label]))\n",
    "\n",
    "#         loss = criterion(predicted.view(-1, 1).double(), torch.Tensor(d_y[label]).view(-1, 1).double())\n",
    "        loss.backward()\n",
    "        optimizer.step()\n",
    "\n",
    "        # print statistics\n",
    "        running_loss += loss.item()\n",
    "        \n",
    "#         # generate fake examples\n",
    "#         X_fake, y_fake = generate_samples(half_batch, label='fake')\n",
    "#         # update model\n",
    "#         model.train_on_batch(X_fake, y_fake)\n",
    "#         # evaluate the model\n",
    "#         _, acc_real = model.evaluate(X_real, y_real, verbose=0)\n",
    "#         _, acc_fake = model.evaluate(X_fake, y_fake, verbose=0)\n",
    "#     print(i, acc_real, acc_fake)"
   ]
  },
  {
   "cell_type": "code",
   "execution_count": null,
   "metadata": {},
   "outputs": [],
   "source": []
  },
  {
   "cell_type": "code",
   "execution_count": null,
   "metadata": {},
   "outputs": [],
   "source": []
  },
  {
   "cell_type": "code",
   "execution_count": null,
   "metadata": {},
   "outputs": [],
   "source": []
  },
  {
   "cell_type": "code",
   "execution_count": null,
   "metadata": {},
   "outputs": [],
   "source": []
  }
 ],
 "metadata": {
  "kernelspec": {
   "display_name": "Python (py367)",
   "language": "python",
   "name": "py367"
  },
  "language_info": {
   "codemirror_mode": {
    "name": "ipython",
    "version": 3
   },
   "file_extension": ".py",
   "mimetype": "text/x-python",
   "name": "python",
   "nbconvert_exporter": "python",
   "pygments_lexer": "ipython3",
   "version": "3.6.7"
  },
  "nikola": {
   "category": "",
   "date": "2019-07-03 09:01:18 UTC-07:00",
   "description": "",
   "link": "",
   "slug": "how-to-develop-a-1d-generative-adversarial-network-from-scratch-in-pytorch-part-2",
   "tags": "",
   "title": "How to Develop a 1D Generative Adversarial Network From Scratch in PyTorch (Part 2)",
   "type": "text"
  },
  "toc": {
   "base_numbering": 1,
   "nav_menu": {},
   "number_sections": true,
   "sideBar": true,
   "skip_h1_title": false,
   "title_cell": "Table of Contents",
   "title_sidebar": "Contents",
   "toc_cell": false,
   "toc_position": {},
   "toc_section_display": true,
   "toc_window_display": false
  }
 },
 "nbformat": 4,
 "nbformat_minor": 2
}
