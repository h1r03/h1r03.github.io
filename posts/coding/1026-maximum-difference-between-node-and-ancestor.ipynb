{
 "cells": [
  {
   "cell_type": "markdown",
   "metadata": {},
   "source": [
    "# Problem Setting\n",
    "Given the `root` of a binary tree, find the maximum value `V` for which there exists different nodes `A` and `B` where `V = |A.val - B.val|` and `A` is an ancestor of `B`.\n",
    "\n",
    "(A node A is an ancestor of B if either: any child of A is equal to B, or any child of A is an ancestor of B.)\n",
    "\n",
    "\n",
    "\n",
    "**Note:**\n",
    "\n",
    "* The number of nodes in the tree is between 2 and 5000.\n",
    "* Each node will have value between 0 and 100000."
   ]
  },
  {
   "cell_type": "markdown",
   "metadata": {},
   "source": [
    "## Example 1\n",
    "Input: [8,3,10,1,6,null,14,null,null,4,7,13]\n",
    "\n",
    "<img src=\"https://user-images.githubusercontent.com/8764683/56340742-b3592380-6167-11e9-8704-0e9767e3707a.png\" alt=\"Example 1\" width=\"300\">\n",
    "\n",
    "\n",
    "Output: 7\n",
    "\n",
    "Explanation: \n",
    "\n",
    "We have various ancestor-node differences, some of which are given below :\n",
    "|8 - 3| = 5\n",
    "|3 - 7| = 4\n",
    "|8 - 1| = 7\n",
    "|10 - 13| = 3\n",
    "Among all possible differences, the maximum value of 7 is obtained by |8 - 1| = 7."
   ]
  },
  {
   "cell_type": "markdown",
   "metadata": {},
   "source": [
    "<!-- TEASER_END -->"
   ]
  },
  {
   "cell_type": "markdown",
   "metadata": {},
   "source": [
    "# Solution"
   ]
  },
  {
   "cell_type": "markdown",
   "metadata": {},
   "source": [
    "## Solution 1 from [superluminal](https://leetcode.com/superluminal/) \n"
   ]
  },
  {
   "cell_type": "code",
   "execution_count": 1,
   "metadata": {
    "ExecuteTime": {
     "end_time": "2019-04-18T05:52:33.869816Z",
     "start_time": "2019-04-18T05:52:33.859809Z"
    }
   },
   "outputs": [],
   "source": [
    "\n",
    "class Solution(object):\n",
    "    def maxAncestorDiff(self, root):\n",
    "        \"\"\"\n",
    "        :type root: TreeNode\n",
    "        :rtype: int\n",
    "        \"\"\"\n",
    "        r = [0]\n",
    "        def f(node, a, b):\n",
    "            if not node: return\n",
    "            r[0] = max(r[0], abs(node.val-a), abs(node.val-b))\n",
    "            a = min(a, node.val)\n",
    "            b = max(b, node.val)\n",
    "            f(node.left, a, b)\n",
    "            f(node.right, a, b)\n",
    "        f(root, root.val, root.val)\n",
    "        return r[0]"
   ]
  },
  {
   "cell_type": "markdown",
   "metadata": {},
   "source": [
    "### Step-by-step "
   ]
  },
  {
   "cell_type": "code",
   "execution_count": 3,
   "metadata": {
    "ExecuteTime": {
     "end_time": "2019-04-18T05:57:26.533524Z",
     "start_time": "2019-04-18T05:57:26.522371Z"
    }
   },
   "outputs": [],
   "source": [
    "# Definition for a binary tree node.\n",
    "class TreeNode(object):\n",
    "    def __init__(self, x):\n",
    "        self.val = x\n",
    "        self.left = None\n",
    "        self.right = None\n",
    "\n",
    "class Solution(object):\n",
    "    def maxAncestorDiff(self, root):\n",
    "        \"\"\"\n",
    "        :type root: TreeNode\n",
    "        :rtype: int\n",
    "        \"\"\"\n",
    "        r = [0]\n",
    "        def f(node, a, b):\n",
    "            if not node: return\n",
    "            r[0] = max(r[0], abs(node.val-a), abs(node.val-b))\n",
    "            a = min(a, node.val)\n",
    "            b = max(b, node.val)\n",
    "            f(node.left, a, b)\n",
    "            f(node.right, a, b)\n",
    "        f(root, root.val, root.val)\n",
    "        return r[0]"
   ]
  },
  {
   "cell_type": "markdown",
   "metadata": {},
   "source": [
    "### Execute the entire class"
   ]
  },
  {
   "cell_type": "code",
   "execution_count": 4,
   "metadata": {
    "ExecuteTime": {
     "end_time": "2019-04-18T05:57:26.703608Z",
     "start_time": "2019-04-18T05:57:26.687953Z"
    }
   },
   "outputs": [
    {
     "data": {
      "text/plain": [
       "4"
      ]
     },
     "execution_count": 4,
     "metadata": {},
     "output_type": "execute_result"
    }
   ],
   "source": [
    "# Execute the entire class\n",
    "root = TreeNode(1)\n",
    "root.left = TreeNode(3)\n",
    "root.left.left = TreeNode(5)\n",
    "root.right = TreeNode(2)\n",
    "\n",
    "s = Solution()\n",
    "s.maxAncestorDiff(root)\n"
   ]
  },
  {
   "cell_type": "markdown",
   "metadata": {},
   "source": [
    "### Execute recursive function `f`\n",
    "`a` and `b` stores the minimum and maximum value across  calculation. `r[0]` is the result value, which is compared with the absolute distance between the value at the current node and the minimum or maximum in the ancestor path. Then, recursively this function `f` is called and stores the maximum of absolute distance in the ancestor path. \n",
    "\n",
    "I noticed that `r[0]` is actually not necessarily to be a list. It can be just a value. "
   ]
  },
  {
   "cell_type": "code",
   "execution_count": 14,
   "metadata": {
    "ExecuteTime": {
     "end_time": "2019-04-18T06:05:15.955789Z",
     "start_time": "2019-04-18T06:05:15.946336Z"
    }
   },
   "outputs": [],
   "source": [
    "def f(node, a, b):\n",
    "    if not node: return\n",
    "    print('Processing at {}'.format(node.val))\n",
    "    print('Compare {}, {}, {}'.format(r[0], abs(node.val-a), abs(node.val-b)))\n",
    "    r[0] = max(r[0], abs(node.val-a), abs(node.val-b))\n",
    "    print('Updated the maximum distance to {}'.format(r[0]))\n",
    "    a = min(a, node.val)\n",
    "    b = max(b, node.val)\n",
    "    f(node.left, a, b)\n",
    "    f(node.right, a, b)"
   ]
  },
  {
   "cell_type": "markdown",
   "metadata": {},
   "source": [
    "The example of `f` execution as below returns 4 between the root for 1 and the left bottom node for 5.\n",
    "```\n",
    "(root)               \n",
    "          (1)                                                    \n",
    "         / \\                                                  \n",
    "        3   2                                            \n",
    "       /                                               \n",
    "      (5)   \n",
    "      \n",
    "      \n",
    "      ```"
   ]
  },
  {
   "cell_type": "code",
   "execution_count": 15,
   "metadata": {
    "ExecuteTime": {
     "end_time": "2019-04-18T06:05:16.993728Z",
     "start_time": "2019-04-18T06:05:16.988855Z"
    }
   },
   "outputs": [
    {
     "name": "stdout",
     "output_type": "stream",
     "text": [
      "Processing at 1\n",
      "Compare 0, 0, 0\n",
      "Updated the maximum distance to 0\n",
      "Processing at 3\n",
      "Compare 0, 2, 2\n",
      "Updated the maximum distance to 2\n",
      "Processing at 5\n",
      "Compare 2, 4, 2\n",
      "Updated the maximum distance to 4\n",
      "Processing at 2\n",
      "Compare 4, 1, 1\n",
      "Updated the maximum distance to 4\n"
     ]
    }
   ],
   "source": [
    "r = [0]\n",
    "f(root, root.val, root.val)"
   ]
  },
  {
   "cell_type": "code",
   "execution_count": 8,
   "metadata": {
    "ExecuteTime": {
     "end_time": "2019-04-18T06:00:41.215006Z",
     "start_time": "2019-04-18T06:00:41.208808Z"
    }
   },
   "outputs": [
    {
     "data": {
      "text/plain": [
       "[4]"
      ]
     },
     "execution_count": 8,
     "metadata": {},
     "output_type": "execute_result"
    }
   ],
   "source": [
    "# Result is 4 between node 1 and 5\n",
    "r "
   ]
  },
  {
   "cell_type": "markdown",
   "metadata": {},
   "source": [
    "## Solution 2 from [badgergo](https://leetcode.com/badgergo/)\n",
    "This is essentially the same as the above. The key is to create the recursive function for depth first search to keep minimum and maximum values across ancestor path. \n"
   ]
  },
  {
   "cell_type": "code",
   "execution_count": null,
   "metadata": {},
   "outputs": [],
   "source": [
    "# Definition for a binary tree node.\n",
    "# class TreeNode:\n",
    "#     def __init__(self, x):\n",
    "#         self.val = x\n",
    "#         self.left = None\n",
    "#         self.right = None\n",
    "\n",
    "class Solution:\n",
    "    def maxAncestorDiff(self, root: TreeNode) -> int:\n",
    "        def dfs(node, mn=math.inf, mx=-math.inf):\n",
    "            if node:\n",
    "                mn = min(mn, node.val)\n",
    "                mx = max(mx, node.val)\n",
    "                dfs(node.left, mn, mx)\n",
    "                dfs(node.right, mn, mx)\n",
    "            else:\n",
    "                self.ans = max(self.ans, mx - mn)\n",
    "        self.ans = 0\n",
    "        dfs(root)\n",
    "        return self.ans"
   ]
  }
 ],
 "metadata": {
  "kernelspec": {
   "display_name": "Python (py367)",
   "language": "python",
   "name": "py367"
  },
  "language_info": {
   "codemirror_mode": {
    "name": "ipython",
    "version": 3
   },
   "file_extension": ".py",
   "mimetype": "text/x-python",
   "name": "python",
   "nbconvert_exporter": "python",
   "pygments_lexer": "ipython3",
   "version": "3.6.7"
  },
  "nikola": {
   "category": "",
   "date": "2019-04-17 22:48:04 UTC-07:00",
   "description": "",
   "link": "",
   "slug": "1026-maximum-difference-between-node-and-ancestor",
   "tags": "",
   "title": "1026. Maximum Difference Between Node and Ancestor",
   "type": "text"
  },
  "toc": {
   "base_numbering": 1,
   "nav_menu": {},
   "number_sections": true,
   "sideBar": true,
   "skip_h1_title": false,
   "title_cell": "Table of Contents",
   "title_sidebar": "Contents",
   "toc_cell": false,
   "toc_position": {},
   "toc_section_display": true,
   "toc_window_display": false
  }
 },
 "nbformat": 4,
 "nbformat_minor": 2
}
