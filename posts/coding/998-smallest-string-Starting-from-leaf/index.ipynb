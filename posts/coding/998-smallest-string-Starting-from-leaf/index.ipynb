{
 "cells": [
  {
   "cell_type": "markdown",
   "metadata": {},
   "source": [
    "# Problem Setting\n",
    "\n",
    "The 2nd problem in Weekly Contest 122 is `Smallest String Starting From Leaf`  \n",
    "\n",
    "Given the root of a binary tree, each node has a value from 0 to 25 representing the letters 'a' to 'z': a value of 0 represents 'a', a value of 1 represents 'b', and so on.\n",
    "\n",
    "Find the lexicographically smallest string that starts at a leaf of this tree and ends at the root.\n",
    "\n",
    "(As a reminder, any shorter prefix of a string is lexicographically smaller: for example, \"ab\" is lexicographically smaller than \"aba\".  A leaf of a node is a node that has no children.)\n"
   ]
  },
  {
   "cell_type": "markdown",
   "metadata": {},
   "source": [
    "<!-- TEASER_END -->"
   ]
  },
  {
   "cell_type": "markdown",
   "metadata": {},
   "source": [
    "## Solution from Hey Shao"
   ]
  },
  {
   "cell_type": "markdown",
   "metadata": {},
   "source": [
    "reference: Hey Shao's solution: https://leetcode.com/hanshaohey/"
   ]
  },
  {
   "cell_type": "code",
   "execution_count": 10,
   "metadata": {
    "ExecuteTime": {
     "end_time": "2019-02-04T07:29:40.398617Z",
     "start_time": "2019-02-04T07:29:40.391818Z"
    }
   },
   "outputs": [],
   "source": [
    "\n",
    "# Definition for a binary tree node.\n",
    "class TreeNode(object):\n",
    "    def __init__(self, x):\n",
    "        self.val = x\n",
    "        self.left = None\n",
    "        self.right = None\n",
    "\n",
    "def smallestFromLeaf(root):\n",
    "    \"\"\"\n",
    "    :type root: TreeNode\n",
    "    :rtype: str\n",
    "    \"\"\"\n",
    "    maps={}\n",
    "    letters='abcdefghijklmnopqrstuvwxyz'\n",
    "    for i,l in enumerate(letters):\n",
    "        maps[i]=l\n",
    "    def helper(node):\n",
    "        if not node.left and not node.right:\n",
    "            return maps[node.val]\n",
    "        elif not node.left:\n",
    "            return helper(node.right)+maps[node.val]\n",
    "        elif not node.right:\n",
    "            return helper(node.left)+maps[node.val]\n",
    "        else:\n",
    "            l=helper(node.left)\n",
    "            r=helper(node.right)\n",
    "            ll=maps[node.val]\n",
    "            return min(l+ll,r+ll)\n",
    "    return helper(root)\n"
   ]
  },
  {
   "cell_type": "markdown",
   "metadata": {},
   "source": [
    "## Step-by-step solution\n",
    "Now I am going to break down the problem and solve it step-by-step. First of all, we are aiming to pass the easiest example as below.\n",
    "\n",
    "Example 1)\n",
    "* Input: [0,1,2,3,4,3,4]\n",
    "* Output: \"dba\""
   ]
  },
  {
   "cell_type": "markdown",
   "metadata": {},
   "source": [
    "### Create mapping from integer to alphabet\n",
    "this is used to convert the integer to alphabet. "
   ]
  },
  {
   "cell_type": "code",
   "execution_count": 6,
   "metadata": {
    "ExecuteTime": {
     "end_time": "2019-02-04T07:23:38.267738Z",
     "start_time": "2019-02-04T07:23:38.263760Z"
    }
   },
   "outputs": [],
   "source": [
    "# My solution\n",
    "import string\n",
    "d = {}\n",
    "for x, y in zip(range(0, 26), string.ascii_lowercase):\n",
    "    d[x] = y\n",
    "\n",
    "# Hao's solution\n",
    "maps={}\n",
    "letters='abcdefghijklmnopqrstuvwxyz'\n",
    "for i,l in enumerate(letters):\n",
    "    maps[i]=l"
   ]
  },
  {
   "cell_type": "code",
   "execution_count": 3,
   "metadata": {
    "ExecuteTime": {
     "end_time": "2019-02-04T07:14:17.435137Z",
     "start_time": "2019-02-04T07:14:17.424405Z"
    }
   },
   "outputs": [
    {
     "data": {
      "text/plain": [
       "'b'"
      ]
     },
     "execution_count": 3,
     "metadata": {},
     "output_type": "execute_result"
    }
   ],
   "source": [
    "maps[1]"
   ]
  },
  {
   "cell_type": "code",
   "execution_count": 4,
   "metadata": {
    "ExecuteTime": {
     "end_time": "2019-02-04T07:14:20.620154Z",
     "start_time": "2019-02-04T07:14:20.616365Z"
    }
   },
   "outputs": [
    {
     "data": {
      "text/plain": [
       "'z'"
      ]
     },
     "execution_count": 4,
     "metadata": {},
     "output_type": "execute_result"
    }
   ],
   "source": [
    "maps[25]"
   ]
  },
  {
   "cell_type": "markdown",
   "metadata": {},
   "source": [
    "### Recursive function \n",
    "Now we need to create the recursive function which returns the strings associated to the shortest path by given a node or tree. There are 4 cases for each node:\n",
    "\n",
    "1. both node is null\n",
    "2. left node is null\n",
    "3. right note is null\n",
    "4. both node has another tree\n",
    "\n",
    "For cases 1~3, it is obvious to determine what is the shortest path for the given node. For case 4, we need to see which is the shortest based on the returned string from both node, which requires calling the recursive function. \n"
   ]
  },
  {
   "cell_type": "markdown",
   "metadata": {},
   "source": [
    "## Learning - `min` with `string`\n",
    "We do not have to store the length and string at the same time. If we pass two strings to `min` function, the function returns the shorter one. For example, \n",
    "\n"
   ]
  },
  {
   "cell_type": "code",
   "execution_count": 7,
   "metadata": {
    "ExecuteTime": {
     "end_time": "2019-02-04T07:27:11.942161Z",
     "start_time": "2019-02-04T07:27:11.938327Z"
    }
   },
   "outputs": [
    {
     "data": {
      "text/plain": [
       "'abc'"
      ]
     },
     "execution_count": 7,
     "metadata": {},
     "output_type": "execute_result"
    }
   ],
   "source": [
    "min('abc', 'xyzxyz')"
   ]
  },
  {
   "cell_type": "markdown",
   "metadata": {},
   "source": [
    "## Execusion\n",
    "Input: [0,1,2,3,4,3,4]\n"
   ]
  },
  {
   "cell_type": "code",
   "execution_count": 8,
   "metadata": {
    "ExecuteTime": {
     "end_time": "2019-02-04T07:29:16.252602Z",
     "start_time": "2019-02-04T07:29:16.249012Z"
    }
   },
   "outputs": [],
   "source": [
    "root = TreeNode(0)\n",
    "root.left = TreeNode(1)\n",
    "root.right = TreeNode(2)\n",
    "root.left.left = TreeNode(3)\n",
    "root.left.right = TreeNode(4)\n",
    "root.right.left = TreeNode(3)\n",
    "root.right.right = TreeNode(4)"
   ]
  },
  {
   "cell_type": "code",
   "execution_count": 11,
   "metadata": {
    "ExecuteTime": {
     "end_time": "2019-02-04T07:29:42.672804Z",
     "start_time": "2019-02-04T07:29:42.668794Z"
    }
   },
   "outputs": [
    {
     "data": {
      "text/plain": [
       "'dba'"
      ]
     },
     "execution_count": 11,
     "metadata": {},
     "output_type": "execute_result"
    }
   ],
   "source": [
    "smallestFromLeaf(root)"
   ]
  },
  {
   "cell_type": "markdown",
   "metadata": {},
   "source": [
    "# Conclusion\n",
    "This is the problem we need to use\n",
    "* mapping dictionary from integer to alphabet\n",
    "* recursive function to return the strings matched with the shorted path\n",
    "* implement 4 possible cases for each node\n"
   ]
  }
 ],
 "metadata": {
  "kernelspec": {
   "display_name": "Python 3",
   "language": "python",
   "name": "python3"
  },
  "language_info": {
   "codemirror_mode": {
    "name": "ipython",
    "version": 3
   },
   "file_extension": ".py",
   "mimetype": "text/x-python",
   "name": "python",
   "nbconvert_exporter": "python",
   "pygments_lexer": "ipython3",
   "version": "3.6.7"
  },
  "nikola": {
   "category": "Coding",
   "date": "2019-02-03 22:43:19 UTC-08:00",
   "description": "",
   "link": "",
   "slug": "998-smallest-string-Starting-from-leaf",
   "tags": "Binary Tree",
   "title": "998 Smallest String Starting From Leaf",
   "type": "text"
  },
  "toc": {
   "base_numbering": 1,
   "nav_menu": {},
   "number_sections": true,
   "sideBar": true,
   "skip_h1_title": false,
   "title_cell": "Table of Contents",
   "title_sidebar": "Contents",
   "toc_cell": false,
   "toc_position": {},
   "toc_section_display": true,
   "toc_window_display": false
  },
  "varInspector": {
   "cols": {
    "lenName": 16,
    "lenType": 16,
    "lenVar": 40
   },
   "kernels_config": {
    "python": {
     "delete_cmd_postfix": "",
     "delete_cmd_prefix": "del ",
     "library": "var_list.py",
     "varRefreshCmd": "print(var_dic_list())"
    },
    "r": {
     "delete_cmd_postfix": ") ",
     "delete_cmd_prefix": "rm(",
     "library": "var_list.r",
     "varRefreshCmd": "cat(var_dic_list()) "
    }
   },
   "types_to_exclude": [
    "module",
    "function",
    "builtin_function_or_method",
    "instance",
    "_Feature"
   ],
   "window_display": false
  }
 },
 "nbformat": 4,
 "nbformat_minor": 2
}
