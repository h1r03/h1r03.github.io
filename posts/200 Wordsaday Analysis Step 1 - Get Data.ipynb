{
 "cells": [
  {
   "cell_type": "markdown",
   "metadata": {},
   "source": [
    "# Goal"
   ]
  },
  {
   "cell_type": "markdown",
   "metadata": {},
   "source": [
    "This post aims to achieve the first step of analysis for your writing in [200Wordsaday](https://200wordsaday.com)\n"
   ]
  },
  {
   "cell_type": "code",
   "execution_count": 3,
   "metadata": {
    "ExecuteTime": {
     "end_time": "2019-04-10T06:51:01.340811Z",
     "start_time": "2019-04-10T06:51:01.337032Z"
    }
   },
   "outputs": [],
   "source": [
    "# Get your post\n",
    "import requests\n",
    "from IPython.display import HTML\n",
    "# private_key = '{your private key}'\n"
   ]
  },
  {
   "cell_type": "markdown",
   "metadata": {},
   "source": [
    "# Get the latest post data "
   ]
  },
  {
   "cell_type": "code",
   "execution_count": 14,
   "metadata": {
    "ExecuteTime": {
     "end_time": "2019-04-10T06:54:30.695732Z",
     "start_time": "2019-04-10T06:54:30.235933Z"
    }
   },
   "outputs": [
    {
     "data": {
      "text/plain": [
       "<Response [200]>"
      ]
     },
     "execution_count": 14,
     "metadata": {},
     "output_type": "execute_result"
    }
   ],
   "source": [
    "r = requests.get(f'https://200wordsaday.com/api/texts?api_key={private_key}')\n",
    "r"
   ]
  },
  {
   "cell_type": "code",
   "execution_count": 15,
   "metadata": {
    "ExecuteTime": {
     "end_time": "2019-04-10T06:54:31.706448Z",
     "start_time": "2019-04-10T06:54:31.696175Z"
    },
    "scrolled": true
   },
   "outputs": [
    {
     "data": {
      "text/plain": [
       "'How to write a technical blog'"
      ]
     },
     "execution_count": 15,
     "metadata": {},
     "output_type": "execute_result"
    }
   ],
   "source": [
    "# Print your title\n",
    "r.json()[1]['title']"
   ]
  },
  {
   "cell_type": "code",
   "execution_count": 16,
   "metadata": {
    "ExecuteTime": {
     "end_time": "2019-04-10T06:54:33.538346Z",
     "start_time": "2019-04-10T06:54:33.529198Z"
    }
   },
   "outputs": [
    {
     "data": {
      "text/plain": [
       "'\\r\\n        \\r\\n        <p>This post is quite similar to what I wrote yesterday \"<a href=\"https://200wordsaday.com/words/writing-a-technical-book-143055cab60926c093\" target=\"_blank\" rel=\"noopener noreferrer\">How to write a technical book</a>\" but a book is different from a blog. So today I will summarize some articles related to the way of writing a technical blog.&nbsp;</p><p><br></p><h3>How to find a topic</h3><p>What to write? No topic to write... but you can write about<br></p><ul><li>what you were stuck in a job</li><li>what you helped others&nbsp;</li><li>pull request you made</li><li>lectures or conferences you attended</li><li>summarize what you did in a daily job</li><li>translate the foreign language into another language</li><li>read and break down an open source project or code</li><li>development methodology you are working on&nbsp;</li></ul><p>Whenever you find \"issues\", \"needs\", \"help\", they could be potential contents as long as we have the desire to share them with others. Or it is okay just for your note.</p><p><br></p><h3>Flor of writing a blog</h3><ol><li>Find a potential topic&nbsp;<br>If you cannot find by googling, it might be very <b>valuable</b>.&nbsp;</li><li>Determine the target audience<br>Is it for beginners or experts? What do you want the reader to do after reading?&nbsp;</li><li>Finish writing&nbsp;<br><i>\"Done is better than perfect\"</i></li><li>Create a title<br>Spend more time on the most exposed part, which is a <b><i>title</i></b>. Come up with 30 relevant words and try a different combination of them accounting for the audience.</li><li>Read and revise over and over<br>You can read it one-day later.&nbsp;</li><li>Post it</li><li>Share it</li></ol><h3>Mindset</h3><p></p><ul><li><i style=\"font-size: 18px;\">\"Not only smart people write a blog or book. It is equally important to write it from a beginners\\' perspective. It is also an ability to find it difficult\"</i></li></ul><p></p><p><br></p><p>***</p><p>To build a habit, I found it very powerful to have an appropriate mindset and the right strategy. That was an aha moment for me when I read and wrote about \"On Writing Well by William\". </p><p>I unconsciously thought the writing was not that hard but in reality, it was hard. This gap between my unconscious expectation and the reality generated the mental blocker. </p><p>In addition, once you know some tips to continue your training, it could become a much lower bar to pass and make it sustainable mentally and physically.&nbsp;&nbsp;</p><p><br></p><p><br></p>\\r\\n        \\r\\n    \\r\\n    \\r\\n    '"
      ]
     },
     "execution_count": 16,
     "metadata": {},
     "output_type": "execute_result"
    }
   ],
   "source": [
    "# \n",
    "r.json()[1]['content']"
   ]
  },
  {
   "cell_type": "code",
   "execution_count": 17,
   "metadata": {
    "ExecuteTime": {
     "end_time": "2019-04-10T06:54:40.079525Z",
     "start_time": "2019-04-10T06:54:40.072718Z"
    },
    "scrolled": true
   },
   "outputs": [
    {
     "data": {
      "text/html": [
       "\r\n",
       "        \r\n",
       "        <p>This post is quite similar to what I wrote yesterday \"<a href=\"https://200wordsaday.com/words/writing-a-technical-book-143055cab60926c093\" target=\"_blank\" rel=\"noopener noreferrer\">How to write a technical book</a>\" but a book is different from a blog. So today I will summarize some articles related to the way of writing a technical blog.&nbsp;</p><p><br></p><h3>How to find a topic</h3><p>What to write? No topic to write... but you can write about<br></p><ul><li>what you were stuck in a job</li><li>what you helped others&nbsp;</li><li>pull request you made</li><li>lectures or conferences you attended</li><li>summarize what you did in a daily job</li><li>translate the foreign language into another language</li><li>read and break down an open source project or code</li><li>development methodology you are working on&nbsp;</li></ul><p>Whenever you find \"issues\", \"needs\", \"help\", they could be potential contents as long as we have the desire to share them with others. Or it is okay just for your note.</p><p><br></p><h3>Flor of writing a blog</h3><ol><li>Find a potential topic&nbsp;<br>If you cannot find by googling, it might be very <b>valuable</b>.&nbsp;</li><li>Determine the target audience<br>Is it for beginners or experts? What do you want the reader to do after reading?&nbsp;</li><li>Finish writing&nbsp;<br><i>\"Done is better than perfect\"</i></li><li>Create a title<br>Spend more time on the most exposed part, which is a <b><i>title</i></b>. Come up with 30 relevant words and try a different combination of them accounting for the audience.</li><li>Read and revise over and over<br>You can read it one-day later.&nbsp;</li><li>Post it</li><li>Share it</li></ol><h3>Mindset</h3><p></p><ul><li><i style=\"font-size: 18px;\">\"Not only smart people write a blog or book. It is equally important to write it from a beginners' perspective. It is also an ability to find it difficult\"</i></li></ul><p></p><p><br></p><p>***</p><p>To build a habit, I found it very powerful to have an appropriate mindset and the right strategy. That was an aha moment for me when I read and wrote about \"On Writing Well by William\". </p><p>I unconsciously thought the writing was not that hard but in reality, it was hard. This gap between my unconscious expectation and the reality generated the mental blocker. </p><p>In addition, once you know some tips to continue your training, it could become a much lower bar to pass and make it sustainable mentally and physically.&nbsp;&nbsp;</p><p><br></p><p><br></p>\r\n",
       "        \r\n",
       "    \r\n",
       "    \r\n",
       "    "
      ],
      "text/plain": [
       "<IPython.core.display.HTML object>"
      ]
     },
     "execution_count": 17,
     "metadata": {},
     "output_type": "execute_result"
    }
   ],
   "source": [
    "# Display your content as HTML\n",
    "HTML(r.json()[1]['content'])"
   ]
  },
  {
   "cell_type": "markdown",
   "metadata": {},
   "source": [
    "# Get multiple posts"
   ]
  },
  {
   "cell_type": "code",
   "execution_count": 18,
   "metadata": {
    "ExecuteTime": {
     "end_time": "2019-04-10T06:54:47.200675Z",
     "start_time": "2019-04-10T06:54:47.197158Z"
    }
   },
   "outputs": [],
   "source": [
    "uuid = '141775ca97a9903416'"
   ]
  },
  {
   "cell_type": "code",
   "execution_count": 22,
   "metadata": {
    "ExecuteTime": {
     "end_time": "2019-04-10T06:57:12.582196Z",
     "start_time": "2019-04-10T06:57:12.285293Z"
    }
   },
   "outputs": [],
   "source": [
    "d_requests = {}\n",
    "\n",
    "d_requests[uuid] = requests.put(f'https://200wordsaday.com/api/texts/{uuid}?api_key={private_key}&categories=test')\n"
   ]
  },
  {
   "cell_type": "code",
   "execution_count": 23,
   "metadata": {
    "ExecuteTime": {
     "end_time": "2019-04-10T06:57:13.242791Z",
     "start_time": "2019-04-10T06:57:13.236835Z"
    }
   },
   "outputs": [
    {
     "data": {
      "text/plain": [
       "<Response [200]>"
      ]
     },
     "execution_count": 23,
     "metadata": {},
     "output_type": "execute_result"
    }
   ],
   "source": [
    "d_requests[uuid]"
   ]
  },
  {
   "cell_type": "code",
   "execution_count": 24,
   "metadata": {
    "ExecuteTime": {
     "end_time": "2019-04-10T06:57:14.515908Z",
     "start_time": "2019-04-10T06:57:14.510103Z"
    }
   },
   "outputs": [
    {
     "data": {
      "text/plain": [
       "'{\"uuid\":\"141775ca97a9903416\",\"status\":\"draft\",\"access_rights\":\"public\",\"slug\":\"murphy-s-law-141775ca97a9903416\",\"canonical_url\":null,\"datetime\":{\"date\":\"2019-04-06 21:20:40.000000\",\"timezone_type\":3,\"timezone\":\"America\\\\/Los_Angeles\"},\"published_datetime\":{\"date\":\"2019-04-06 21:44:45.000000\",\"timezone_type\":3,\"timezone\":\"America\\\\/Los_Angeles\"},\"title\":\"Murphy\\'s law\",\"content\":\"\\\\r\\\\n        \\\\r\\\\n        <p>My wife said to me today when she fed the milk in the afternoon, and I was cooking in the kitchen, it was 4:44. This happened twice yesterday and today. In addition, she said she felt like this happened a couple of time before.<\\\\/p><p>I said \\\\\"that is Murphy\\'s law.\\\\\"<\\\\/p><p>I knew Murphy\\'s law is one of&nbsp;cognitive bias phenomena where human being tend to make a mistake because of a sort of illusion but did not know more than that. So let me try to explain it.<\\\\/p><p>In my understanding, Murphy\\'s law is that ones tend to believe something happens more likely <b>only when something bad or unusual happens. <\\\\/b>This is because ones remember more vividly because of such a bad thing. Our brain is designed to store the memory which has more meanings, changes, surprises, not boring, not normal things to avoid storing meaningless information.<\\\\/p><p>Thanks to this law, there exists a lot of humors.&nbsp; One of the famous ones is&nbsp;<\\\\/p><blockquote>The chance of the bread falling with the buttered side down is directly proportional to the cost of the carpet.<\\\\/blockquote><p>Different variations related to our life are as follows:<\\\\/p><ul><li>The areas that I studied was not asked in the exam but only the area I did not study was asked.&nbsp;<\\\\/li><li>Only when I brought an umbrella, it did not rain.&nbsp;<\\\\/li><li>Only when I tried to use a printer, the printer is not working<\\\\/li><li>At the last moment when I thought my work was completed, I fouud an mistake.<\\\\/li><li>When I tried to prove it was not working, it started to work.&nbsp; &nbsp;&nbsp;<\\\\/li><\\\\/ul><p><br><\\\\/p><p>Do you have your version of Murphy\\'s law?<\\\\/p><p><br><\\\\/p><p>Hiro<\\\\/p><p><br><\\\\/p><p><br><\\\\/p><p><br><\\\\/p><p><br><\\\\/p><p>&nbsp;<\\\\/p><p><br><\\\\/p><p>&nbsp;<\\\\/p><p><br><\\\\/p><p>&nbsp;<\\\\/p><p><br><\\\\/p><p><br><\\\\/p><p><br><\\\\/p>\\\\r\\\\n    \\\\r\\\\n    \",\"word_count\":271,\"categories\":[{\"name\":\"#MurphysLaw\"},{\"name\":\"#CognitiveBias\"}],\"collections\":[],\"timezone\":\"America\\\\/Los_Angeles\",\"user\":{\"username\":\"hiro\"}}'"
      ]
     },
     "execution_count": 24,
     "metadata": {},
     "output_type": "execute_result"
    }
   ],
   "source": [
    "d_requests[uuid].text"
   ]
  },
  {
   "cell_type": "code",
   "execution_count": null,
   "metadata": {},
   "outputs": [],
   "source": []
  }
 ],
 "metadata": {
  "kernelspec": {
   "display_name": "Python (py367)",
   "language": "python",
   "name": "py367"
  },
  "language_info": {
   "codemirror_mode": {
    "name": "ipython",
    "version": 3
   },
   "file_extension": ".py",
   "mimetype": "text/x-python",
   "name": "python",
   "nbconvert_exporter": "python",
   "pygments_lexer": "ipython3",
   "version": "3.6.7"
  },
  "nikola": {
   "category": "",
   "date": "2019-04-08 23:55:58 UTC-07:00",
   "description": "",
   "link": "",
   "slug": "200-Wordsaday-Analysis-Step-1-GetData",
   "status": "draft",
   "tags": "",
   "title": "200 Wordsaday Analysis Step 1 - Get Data",
   "type": "text"
  },
  "toc": {
   "base_numbering": 1,
   "nav_menu": {},
   "number_sections": true,
   "sideBar": true,
   "skip_h1_title": false,
   "title_cell": "Table of Contents",
   "title_sidebar": "Contents",
   "toc_cell": false,
   "toc_position": {},
   "toc_section_display": true,
   "toc_window_display": false
  }
 },
 "nbformat": 4,
 "nbformat_minor": 2
}
