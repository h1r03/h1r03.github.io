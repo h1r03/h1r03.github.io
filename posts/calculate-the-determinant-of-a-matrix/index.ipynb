{
 "cells": [
  {
   "cell_type": "markdown",
   "metadata": {},
   "source": [
    "# Goal \n",
    "This post aims to show how to calculate the determinant of a matrix using numpy i.e., $|A|$\n",
    "\n",
    "For example, if we have \n",
    "\n",
    "$$A = \n",
    "\\begin{bmatrix} \n",
    "a & b \\\\\n",
    "c & d \n",
    "\\end{bmatrix}\n",
    "$$\n",
    "Then, $|A|$ is defined as\n",
    "\n",
    "$$|A| =  \\begin{vmatrix} \n",
    "a & b \\\\\n",
    "c & d \n",
    "\\end{vmatrix} = ab - bc\n",
    "$$\n",
    "\n",
    "Reference:\n",
    "* [Wiki - determinant](https://en.wikipedia.org/wiki/Determinant)\n",
    "* [numpy documentation - numpy.linalg.det](https://docs.scipy.org/doc/numpy/reference/generated/numpy.linalg.det.html)"
   ]
  },
  {
   "cell_type": "markdown",
   "metadata": {},
   "source": [
    "# Libraries"
   ]
  },
  {
   "cell_type": "code",
   "execution_count": 3,
   "metadata": {
    "ExecuteTime": {
     "end_time": "2019-05-22T05:20:48.692993Z",
     "start_time": "2019-05-22T05:20:48.689497Z"
    }
   },
   "outputs": [],
   "source": [
    "import numpy as np"
   ]
  },
  {
   "cell_type": "markdown",
   "metadata": {},
   "source": [
    "# Create a matrix"
   ]
  },
  {
   "cell_type": "code",
   "execution_count": 6,
   "metadata": {
    "ExecuteTime": {
     "end_time": "2019-05-22T05:21:03.767125Z",
     "start_time": "2019-05-22T05:21:03.752656Z"
    }
   },
   "outputs": [
    {
     "data": {
      "text/plain": [
       "array([[1, 2],\n",
       "       [3, 4]])"
      ]
     },
     "execution_count": 6,
     "metadata": {},
     "output_type": "execute_result"
    }
   ],
   "source": [
    "a = np.array([[1,2], [3,4]]) \n",
    "a"
   ]
  },
  {
   "cell_type": "markdown",
   "metadata": {},
   "source": [
    "# Calculate the determinant"
   ]
  },
  {
   "cell_type": "code",
   "execution_count": 7,
   "metadata": {
    "ExecuteTime": {
     "end_time": "2019-05-22T05:21:13.859349Z",
     "start_time": "2019-05-22T05:21:13.854709Z"
    }
   },
   "outputs": [
    {
     "name": "stdout",
     "output_type": "stream",
     "text": [
      "-2.0000000000000004\n"
     ]
    }
   ],
   "source": [
    "print(np.linalg.det(a))"
   ]
  },
  {
   "cell_type": "code",
   "execution_count": 8,
   "metadata": {
    "ExecuteTime": {
     "end_time": "2019-05-22T05:21:40.279674Z",
     "start_time": "2019-05-22T05:21:40.272309Z"
    }
   },
   "outputs": [
    {
     "data": {
      "text/plain": [
       "-2"
      ]
     },
     "execution_count": 8,
     "metadata": {},
     "output_type": "execute_result"
    }
   ],
   "source": [
    "a[0, 0] * a[1, 1] - a[0, 1] * a[1, 0]"
   ]
  }
 ],
 "metadata": {
  "kernelspec": {
   "display_name": "Python (py367)",
   "language": "python",
   "name": "py367"
  },
  "language_info": {
   "codemirror_mode": {
    "name": "ipython",
    "version": 3
   },
   "file_extension": ".py",
   "mimetype": "text/x-python",
   "name": "python",
   "nbconvert_exporter": "python",
   "pygments_lexer": "ipython3",
   "version": "3.6.7"
  },
  "nikola": {
   "category": "",
   "date": "2019-05-21 22:14:24 UTC-07:00",
   "description": "Machine Learning",
   "link": "",
   "slug": "calculate-the-determinant-of-a-matrix",
   "tags": "math, determinant",
   "title": "Calculate The Determinant Of A Matrix",
   "type": "text"
  },
  "toc": {
   "base_numbering": 1,
   "nav_menu": {},
   "number_sections": true,
   "sideBar": true,
   "skip_h1_title": false,
   "title_cell": "Table of Contents",
   "title_sidebar": "Contents",
   "toc_cell": false,
   "toc_position": {},
   "toc_section_display": true,
   "toc_window_display": false
  }
 },
 "nbformat": 4,
 "nbformat_minor": 2
}
