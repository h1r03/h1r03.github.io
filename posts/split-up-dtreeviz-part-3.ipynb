{
 "cells": [
  {
   "cell_type": "markdown",
   "metadata": {},
   "source": [
    "# Goal\n",
    "This post aims to break down the module [`dtreeviz`](https://github.com/parrt/dtreeviz) module step by step to fully understand what is implemented. After fully understanding this, I would like to contribute to this module and submit a pull request. \n",
    "\n",
    "I really like this module and would like to see this works for other tree-based modules like XGBoost or Lightgbm. I found [the exact same issue (issues 15)](https://github.com/parrt/dtreeviz/issues/15) in github so I hope I could contribute to this issue.\n",
    "\n",
    "This post is the 3rd part: breaking down `ShadowDecTree`. \n",
    "\n",
    "**Reference**\n",
    "* [Github dtreeviz](https://github.com/parrt/dtreeviz)\n",
    "* [Step by Step Data Science - Split-Up: dtreeviz (Part 1)](https://h1ros.github.io/posts/split-up-dtreeviz-part-1/)\n",
    "* [Step by Step Data Science - Split-Up: dtreeviz (Part 2)](https://h1ros.github.io/posts/split-up-dtreeviz-part-2/)\n",
    "* [Scikit-Learn - Tree](https://scikit-learn.org/stable/modules/tree.html)\n",
    " "
   ]
  },
  {
   "cell_type": "markdown",
   "metadata": {},
   "source": [
    "# `ShadowDecTreeNode` class"
   ]
  },
  {
   "cell_type": "markdown",
   "metadata": {},
   "source": [
    "## Source [github](https://github.com/parrt/dtreeviz/blob/master/dtreeviz/shadow.py)\n",
    "\n"
   ]
  },
  {
   "cell_type": "code",
   "execution_count": 2,
   "metadata": {
    "ExecuteTime": {
     "end_time": "2019-07-18T15:21:33.763080Z",
     "start_time": "2019-07-18T15:21:33.735661Z"
    }
   },
   "outputs": [],
   "source": [
    "import numpy as np\n",
    "import pandas as pd\n",
    "from collections import defaultdict, Sequence\n",
    "from typing import Mapping, List, Tuple\n",
    "from numbers import Number\n",
    "from sklearn.utils import compute_class_weight\n",
    "\n",
    "from dtreeviz.shadow import ShadowDecTree \n",
    "# skip ShadowDecTree Class\n",
    "#\n",
    "\n",
    "class ShadowDecTreeNode:\n",
    "    \"\"\"\n",
    "    A node in a shadow tree.  Each node has left and right\n",
    "    pointers to child nodes, if any.  As part of tree construction process, the\n",
    "    samples examined at each decision node or at each leaf node are\n",
    "    saved into field node_samples.\n",
    "    \"\"\"\n",
    "    def __init__(self, shadow_tree, id, left=None, right=None):\n",
    "        self.shadow_tree = shadow_tree\n",
    "        self.id = id\n",
    "        self.left = left\n",
    "        self.right = right\n",
    "\n",
    "    def split(self) -> (int,float):\n",
    "        return self.shadow_tree.tree_model.tree_.threshold[self.id]\n",
    "\n",
    "    def feature(self) -> int:\n",
    "        return self.shadow_tree.tree_model.tree_.feature[self.id]\n",
    "\n",
    "    def feature_name(self) -> (str,None):\n",
    "        if self.shadow_tree.feature_names is not None:\n",
    "            return self.shadow_tree.feature_names[ self.feature()]\n",
    "        return None\n",
    "\n",
    "    def samples(self) -> List[int]:\n",
    "        \"\"\"\n",
    "        Return a list of sample indexes associated with this node. If this is a\n",
    "        leaf node, it indicates the samples used to compute the predicted value\n",
    "        or class.  If this is an internal node, it is the number of samples used\n",
    "        to compute the split point.\n",
    "        \"\"\"\n",
    "        return self.shadow_tree.node_to_samples[self.id]\n",
    "\n",
    "    def nsamples(self) -> int:\n",
    "        \"\"\"\n",
    "        Return the number of samples associated with this node. If this is a\n",
    "        leaf node, it indicates the samples used to compute the predicted value\n",
    "        or class. If this is an internal node, it is the number of samples used\n",
    "        to compute the split point.\n",
    "        \"\"\"\n",
    "        return self.shadow_tree.tree_model.tree_.n_node_samples[self.id] # same as len(self.node_samples)\n",
    "\n",
    "    def split_samples(self) -> Tuple[np.ndarray, np.ndarray]:\n",
    "        \"\"\"\n",
    "        Return the list of indexes to the left and the right of the split value.\n",
    "        \"\"\"\n",
    "        samples = np.array(self.samples())\n",
    "        node_X_data = self.shadow_tree.X_train[samples, self.feature()]\n",
    "        split = self.split()\n",
    "        left = np.nonzero(node_X_data < split)[0]\n",
    "        right = np.nonzero(node_X_data >= split)[0]\n",
    "        return left, right\n",
    "\n",
    "    def isleaf(self) -> bool:\n",
    "        return self.left is None and self.right is None\n",
    "\n",
    "    def isclassifier(self):\n",
    "        return self.shadow_tree.tree_model.tree_.n_classes > 1\n",
    "\n",
    "    def prediction(self) -> (Number,None):\n",
    "        \"\"\"\n",
    "        If this is a leaf node, return the predicted continuous value, if this is a\n",
    "        regressor, or the class number, if this is a classifier.\n",
    "        \"\"\"\n",
    "        if not self.isleaf(): return None\n",
    "        if self.isclassifier():\n",
    "            counts = np.array(self.shadow_tree.tree_model.tree_.value[self.id][0])\n",
    "            predicted_class = np.argmax(counts)\n",
    "            return predicted_class\n",
    "        else:\n",
    "            return self.shadow_tree.tree_model.tree_.value[self.id][0][0]\n",
    "\n",
    "    def prediction_name(self) -> (str,None):\n",
    "        \"\"\"\n",
    "        If the tree model is a classifier and we know the class names,\n",
    "        return the class name associated with the prediction for this leaf node.\n",
    "        Return prediction class or value otherwise.\n",
    "        \"\"\"\n",
    "        if self.isclassifier():\n",
    "            if self.shadow_tree.class_names is not None:\n",
    "                return self.shadow_tree.class_names[self.prediction()]\n",
    "        return self.prediction()\n",
    "\n",
    "    def class_counts(self) -> (List[int],None):\n",
    "        \"\"\"\n",
    "        If this tree model is a classifier, return a list with the count\n",
    "        associated with each class.\n",
    "        \"\"\"\n",
    "        if self.isclassifier():\n",
    "            if self.shadow_tree.class_weight is None:\n",
    "                return np.array(np.round(self.shadow_tree.tree_model.tree_.value[self.id][0]), dtype=int)\n",
    "            else:\n",
    "                return np.round(self.shadow_tree.tree_model.tree_.value[self.id][0]/self.shadow_tree.class_weights).astype(int)\n",
    "        return None\n",
    "\n",
    "    def __str__(self):\n",
    "        if self.left is None and self.right is None:\n",
    "            return \"<pred={value},n={n}>\".format(value=round(self.prediction(),1), n=self.nsamples())\n",
    "        else:\n",
    "            return \"({f}@{s} {left} {right})\".format(f=self.feature_name(),\n",
    "                                                     s=round(self.split(),1),\n",
    "                                                     left=self.left if self.left is not None else '',\n",
    "                                                     right=self.right if self.right is not None else '')\n"
   ]
  },
  {
   "cell_type": "markdown",
   "metadata": {},
   "source": [
    "## Instantiate class objects"
   ]
  },
  {
   "cell_type": "markdown",
   "metadata": {},
   "source": [
    "### Create a tree model by scikit learn\n"
   ]
  },
  {
   "cell_type": "code",
   "execution_count": 3,
   "metadata": {
    "ExecuteTime": {
     "end_time": "2019-07-18T15:22:10.923150Z",
     "start_time": "2019-07-18T15:22:10.870545Z"
    }
   },
   "outputs": [
    {
     "data": {
      "image/svg+xml": [
       "<?xml version=\"1.0\" encoding=\"UTF-8\" standalone=\"no\"?>\n",
       "<!DOCTYPE svg PUBLIC \"-//W3C//DTD SVG 1.1//EN\"\n",
       " \"http://www.w3.org/Graphics/SVG/1.1/DTD/svg11.dtd\">\n",
       "<!-- Generated by graphviz version 2.40.1 (20161225.0304)\n",
       " -->\n",
       "<!-- Title: Tree Pages: 1 -->\n",
       "<svg width=\"220pt\" height=\"211pt\"\n",
       " viewBox=\"0.00 0.00 219.54 211.20\" xmlns=\"http://www.w3.org/2000/svg\" xmlns:xlink=\"http://www.w3.org/1999/xlink\">\n",
       "<g id=\"graph0\" class=\"graph\" transform=\"scale(1 1) rotate(0) translate(4 207.2)\">\n",
       "<title>Tree</title>\n",
       "<polygon fill=\"#ffffff\" stroke=\"transparent\" points=\"-4,4 -4,-207.2 215.5378,-207.2 215.5378,4 -4,4\"/>\n",
       "<!-- 0 -->\n",
       "<g id=\"node1\" class=\"node\">\n",
       "<title>0</title>\n",
       "<path fill=\"transparent\" stroke=\"#000000\" d=\"M141.3078,-203.2C141.3078,-203.2 69.23,-203.2 69.23,-203.2 63.23,-203.2 57.23,-197.2 57.23,-191.2 57.23,-191.2 57.23,-123.2 57.23,-123.2 57.23,-117.2 63.23,-111.2 69.23,-111.2 69.23,-111.2 141.3078,-111.2 141.3078,-111.2 147.3078,-111.2 153.3078,-117.2 153.3078,-123.2 153.3078,-123.2 153.3078,-191.2 153.3078,-191.2 153.3078,-197.2 147.3078,-203.2 141.3078,-203.2\"/>\n",
       "<text text-anchor=\"start\" x=\"82.7002\" y=\"-186.6\" font-family=\"Helvetica,sans-Serif\" font-size=\"14.00\" fill=\"#000000\">1 ≤ 0.5</text>\n",
       "<text text-anchor=\"start\" x=\"76.6739\" y=\"-169.8\" font-family=\"Helvetica,sans-Serif\" font-size=\"14.00\" fill=\"#000000\">gini = 0.5</text>\n",
       "<text text-anchor=\"start\" x=\"67.3422\" y=\"-153\" font-family=\"Helvetica,sans-Serif\" font-size=\"14.00\" fill=\"#000000\">samples = 2</text>\n",
       "<text text-anchor=\"start\" x=\"65\" y=\"-136.2\" font-family=\"Helvetica,sans-Serif\" font-size=\"14.00\" fill=\"#000000\">value = [1, 1]</text>\n",
       "<text text-anchor=\"start\" x=\"77.4551\" y=\"-119.4\" font-family=\"Helvetica,sans-Serif\" font-size=\"14.00\" fill=\"#000000\">class = 0</text>\n",
       "</g>\n",
       "<!-- 1 -->\n",
       "<g id=\"node2\" class=\"node\">\n",
       "<title>1</title>\n",
       "<path fill=\"#e58139\" stroke=\"#000000\" d=\"M84.3078,-75.3003C84.3078,-75.3003 12.23,-75.3003 12.23,-75.3003 6.23,-75.3003 .23,-69.3003 .23,-63.3003 .23,-63.3003 .23,-11.8997 .23,-11.8997 .23,-5.8997 6.23,.1003 12.23,.1003 12.23,.1003 84.3078,.1003 84.3078,.1003 90.3078,.1003 96.3078,-5.8997 96.3078,-11.8997 96.3078,-11.8997 96.3078,-63.3003 96.3078,-63.3003 96.3078,-69.3003 90.3078,-75.3003 84.3078,-75.3003\"/>\n",
       "<text text-anchor=\"start\" x=\"19.6739\" y=\"-58.6\" font-family=\"Helvetica,sans-Serif\" font-size=\"14.00\" fill=\"#000000\">gini = 0.0</text>\n",
       "<text text-anchor=\"start\" x=\"10.3422\" y=\"-41.8\" font-family=\"Helvetica,sans-Serif\" font-size=\"14.00\" fill=\"#000000\">samples = 1</text>\n",
       "<text text-anchor=\"start\" x=\"8\" y=\"-25\" font-family=\"Helvetica,sans-Serif\" font-size=\"14.00\" fill=\"#000000\">value = [1, 0]</text>\n",
       "<text text-anchor=\"start\" x=\"20.4551\" y=\"-8.2\" font-family=\"Helvetica,sans-Serif\" font-size=\"14.00\" fill=\"#000000\">class = 0</text>\n",
       "</g>\n",
       "<!-- 0&#45;&gt;1 -->\n",
       "<g id=\"edge1\" class=\"edge\">\n",
       "<title>0&#45;&gt;1</title>\n",
       "<path fill=\"none\" stroke=\"#000000\" d=\"M83.2312,-110.9595C79.0901,-102.2704 74.7568,-93.1781 70.6066,-84.47\"/>\n",
       "<polygon fill=\"#000000\" stroke=\"#000000\" points=\"73.6547,-82.7302 66.1928,-75.2088 67.3356,-85.7419 73.6547,-82.7302\"/>\n",
       "<text text-anchor=\"middle\" x=\"57.8402\" y=\"-94.5722\" font-family=\"Helvetica,sans-Serif\" font-size=\"14.00\" fill=\"#000000\">True</text>\n",
       "</g>\n",
       "<!-- 2 -->\n",
       "<g id=\"node3\" class=\"node\">\n",
       "<title>2</title>\n",
       "<path fill=\"#399de5\" stroke=\"#000000\" d=\"M199.3078,-75.3003C199.3078,-75.3003 127.23,-75.3003 127.23,-75.3003 121.23,-75.3003 115.23,-69.3003 115.23,-63.3003 115.23,-63.3003 115.23,-11.8997 115.23,-11.8997 115.23,-5.8997 121.23,.1003 127.23,.1003 127.23,.1003 199.3078,.1003 199.3078,.1003 205.3078,.1003 211.3078,-5.8997 211.3078,-11.8997 211.3078,-11.8997 211.3078,-63.3003 211.3078,-63.3003 211.3078,-69.3003 205.3078,-75.3003 199.3078,-75.3003\"/>\n",
       "<text text-anchor=\"start\" x=\"134.6739\" y=\"-58.6\" font-family=\"Helvetica,sans-Serif\" font-size=\"14.00\" fill=\"#000000\">gini = 0.0</text>\n",
       "<text text-anchor=\"start\" x=\"125.3422\" y=\"-41.8\" font-family=\"Helvetica,sans-Serif\" font-size=\"14.00\" fill=\"#000000\">samples = 1</text>\n",
       "<text text-anchor=\"start\" x=\"123\" y=\"-25\" font-family=\"Helvetica,sans-Serif\" font-size=\"14.00\" fill=\"#000000\">value = [0, 1]</text>\n",
       "<text text-anchor=\"start\" x=\"135.4551\" y=\"-8.2\" font-family=\"Helvetica,sans-Serif\" font-size=\"14.00\" fill=\"#000000\">class = 1</text>\n",
       "</g>\n",
       "<!-- 0&#45;&gt;2 -->\n",
       "<g id=\"edge2\" class=\"edge\">\n",
       "<title>0&#45;&gt;2</title>\n",
       "<path fill=\"none\" stroke=\"#000000\" d=\"M127.6932,-110.9595C131.907,-102.2704 136.3163,-93.1781 140.5393,-84.47\"/>\n",
       "<polygon fill=\"#000000\" stroke=\"#000000\" points=\"143.8162,-85.7339 145.0305,-75.2088 137.5178,-82.6794 143.8162,-85.7339\"/>\n",
       "<text text-anchor=\"middle\" x=\"153.2229\" y=\"-94.6284\" font-family=\"Helvetica,sans-Serif\" font-size=\"14.00\" fill=\"#000000\">False</text>\n",
       "</g>\n",
       "</g>\n",
       "</svg>\n"
      ],
      "text/plain": [
       "<graphviz.files.Source at 0x120e88ef0>"
      ]
     },
     "execution_count": 3,
     "metadata": {},
     "output_type": "execute_result"
    }
   ],
   "source": [
    "import numpy as np\n",
    "import graphviz \n",
    "from sklearn import tree\n",
    "\n",
    "X = np.array([[0, 0], [1, 1]])\n",
    "Y = np.array([0, 1])\n",
    "# Y = [0, 1]\n",
    "clf = tree.DecisionTreeClassifier()\n",
    "clf = clf.fit(X, Y)\n",
    "dot_data = tree.export_graphviz(clf, out_file=None, \n",
    "                     feature_names=[0, 1],  \n",
    "                     class_names=['0', '1'],  \n",
    "                     filled=True, rounded=True,  \n",
    "                     special_characters=True)  \n",
    "graph = graphviz.Source(dot_data)  \n",
    "graph \n"
   ]
  },
  {
   "cell_type": "markdown",
   "metadata": {},
   "source": [
    "## Create a `ShadowDecTreeNode`\n",
    "\n",
    "**ShadowDecTreeNode** `__init__`\n",
    "- L222-226: store input arguments as class members\n",
    "- L228-308: define the same functions in tree objects like `split`, `feature` etc. or utility functions\n",
    "\n"
   ]
  },
  {
   "cell_type": "code",
   "execution_count": 4,
   "metadata": {
    "ExecuteTime": {
     "end_time": "2019-07-18T15:27:00.340640Z",
     "start_time": "2019-07-18T15:27:00.330572Z"
    }
   },
   "outputs": [],
   "source": [
    "# instantiate ShadowDecTree\n",
    "shadow_tree = ShadowDecTree(tree_model=clf, X_train=X, y_train=Y, feature_names=[0, 1], class_names=[0, 1])"
   ]
  },
  {
   "cell_type": "code",
   "execution_count": 5,
   "metadata": {
    "ExecuteTime": {
     "end_time": "2019-07-18T15:27:46.862649Z",
     "start_time": "2019-07-18T15:27:46.856939Z"
    }
   },
   "outputs": [
    {
     "data": {
      "text/plain": [
       "<__main__.ShadowDecTreeNode at 0x120eda908>"
      ]
     },
     "execution_count": 5,
     "metadata": {},
     "output_type": "execute_result"
    }
   ],
   "source": [
    "# instantiate ShadowDecTreeNode\n",
    "shadow_tree_node0 = ShadowDecTreeNode(shadow_tree=shadow_tree, id=0)\n",
    "shadow_tree_node0"
   ]
  },
  {
   "cell_type": "markdown",
   "metadata": {},
   "source": [
    "## Methods under ``ShadowTreeDecNode"
   ]
  },
  {
   "cell_type": "code",
   "execution_count": 6,
   "metadata": {
    "ExecuteTime": {
     "end_time": "2019-07-18T15:28:32.509852Z",
     "start_time": "2019-07-18T15:28:32.504537Z"
    }
   },
   "outputs": [
    {
     "data": {
      "text/plain": [
       "0.5"
      ]
     },
     "execution_count": 6,
     "metadata": {},
     "output_type": "execute_result"
    }
   ],
   "source": [
    "# L228 split\n",
    "shadow_tree_node0.split()"
   ]
  },
  {
   "cell_type": "code",
   "execution_count": 7,
   "metadata": {
    "ExecuteTime": {
     "end_time": "2019-07-18T15:28:58.439284Z",
     "start_time": "2019-07-18T15:28:58.434319Z"
    }
   },
   "outputs": [
    {
     "data": {
      "text/plain": [
       "1"
      ]
     },
     "execution_count": 7,
     "metadata": {},
     "output_type": "execute_result"
    }
   ],
   "source": [
    "# L231 feature\n",
    "shadow_tree_node0.feature()"
   ]
  },
  {
   "cell_type": "code",
   "execution_count": 8,
   "metadata": {
    "ExecuteTime": {
     "end_time": "2019-07-18T15:29:12.062704Z",
     "start_time": "2019-07-18T15:29:12.056148Z"
    }
   },
   "outputs": [
    {
     "data": {
      "text/plain": [
       "[0, 1]"
      ]
     },
     "execution_count": 8,
     "metadata": {},
     "output_type": "execute_result"
    }
   ],
   "source": [
    "# L239 samples\n",
    "shadow_tree_node0.samples()"
   ]
  },
  {
   "cell_type": "code",
   "execution_count": 9,
   "metadata": {
    "ExecuteTime": {
     "end_time": "2019-07-18T15:29:24.141725Z",
     "start_time": "2019-07-18T15:29:24.136970Z"
    }
   },
   "outputs": [
    {
     "data": {
      "text/plain": [
       "2"
      ]
     },
     "execution_count": 9,
     "metadata": {},
     "output_type": "execute_result"
    }
   ],
   "source": [
    "# L248 nsamples\n",
    "shadow_tree_node0.nsamples()"
   ]
  },
  {
   "cell_type": "code",
   "execution_count": 10,
   "metadata": {
    "ExecuteTime": {
     "end_time": "2019-07-18T15:29:42.412434Z",
     "start_time": "2019-07-18T15:29:42.406711Z"
    }
   },
   "outputs": [
    {
     "data": {
      "text/plain": [
       "(array([0]), array([1]))"
      ]
     },
     "execution_count": 10,
     "metadata": {},
     "output_type": "execute_result"
    }
   ],
   "source": [
    "# L257 split_samples\n",
    "shadow_tree_node0.split_samples()"
   ]
  },
  {
   "cell_type": "code",
   "execution_count": 11,
   "metadata": {
    "ExecuteTime": {
     "end_time": "2019-07-18T15:29:57.683251Z",
     "start_time": "2019-07-18T15:29:57.678477Z"
    }
   },
   "outputs": [
    {
     "data": {
      "text/plain": [
       "True"
      ]
     },
     "execution_count": 11,
     "metadata": {},
     "output_type": "execute_result"
    }
   ],
   "source": [
    "# L268 isleaf\n",
    "shadow_tree_node0.isleaf()"
   ]
  },
  {
   "cell_type": "code",
   "execution_count": 12,
   "metadata": {
    "ExecuteTime": {
     "end_time": "2019-07-18T15:30:10.795494Z",
     "start_time": "2019-07-18T15:30:10.790510Z"
    }
   },
   "outputs": [
    {
     "data": {
      "text/plain": [
       "array([ True])"
      ]
     },
     "execution_count": 12,
     "metadata": {},
     "output_type": "execute_result"
    }
   ],
   "source": [
    "# L271 isclassifier\n",
    "shadow_tree_node0.isclassifier()"
   ]
  },
  {
   "cell_type": "code",
   "execution_count": 13,
   "metadata": {
    "ExecuteTime": {
     "end_time": "2019-07-18T15:30:29.164764Z",
     "start_time": "2019-07-18T15:30:29.159744Z"
    }
   },
   "outputs": [
    {
     "data": {
      "text/plain": [
       "0"
      ]
     },
     "execution_count": 13,
     "metadata": {},
     "output_type": "execute_result"
    }
   ],
   "source": [
    "# L287 prediction_name\n",
    "shadow_tree_node0.prediction_name()"
   ]
  },
  {
   "cell_type": "code",
   "execution_count": 14,
   "metadata": {
    "ExecuteTime": {
     "end_time": "2019-07-18T15:30:53.018993Z",
     "start_time": "2019-07-18T15:30:53.013528Z"
    }
   },
   "outputs": [
    {
     "data": {
      "text/plain": [
       "array([1, 1])"
      ]
     },
     "execution_count": 14,
     "metadata": {},
     "output_type": "execute_result"
    }
   ],
   "source": [
    "# L298 class_counts\n",
    "shadow_tree_node0.class_counts()"
   ]
  }
 ],
 "metadata": {
  "kernelspec": {
   "display_name": "Python (py367)",
   "language": "python",
   "name": "py367"
  },
  "language_info": {
   "codemirror_mode": {
    "name": "ipython",
    "version": 3
   },
   "file_extension": ".py",
   "mimetype": "text/x-python",
   "name": "python",
   "nbconvert_exporter": "python",
   "pygments_lexer": "ipython3",
   "version": "3.6.7"
  },
  "nikola": {
   "category": "Machine Learning",
   "date": "2019-07-18 08:17:01 UTC-07:00",
   "description": "break down dtreeviz module step by step (Part 3)",
   "link": "",
   "slug": "split-up-dtreeviz-part-3",
   "tags": "Visualization, dtreeviz, Ensemble, Decision Tree",
   "title": "Split Up: dtreeviz (Part 3)",
   "type": "text"
  },
  "toc": {
   "base_numbering": 1,
   "nav_menu": {},
   "number_sections": true,
   "sideBar": true,
   "skip_h1_title": false,
   "title_cell": "Table of Contents",
   "title_sidebar": "Contents",
   "toc_cell": false,
   "toc_position": {},
   "toc_section_display": true,
   "toc_window_display": false
  }
 },
 "nbformat": 4,
 "nbformat_minor": 2
}
