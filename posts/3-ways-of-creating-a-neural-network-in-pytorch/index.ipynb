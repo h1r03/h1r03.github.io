{
 "cells": [
  {
   "cell_type": "markdown",
   "metadata": {},
   "source": [
    "# Goal\n",
    "This post aims to introduce 3 ways of how to create a neural network using PyTorch:\n",
    "\n",
    "Three ways:\n",
    "* `nn.Module`\n",
    "* `nn.Sequential`\n",
    "* `nn.ModuleList`\n",
    "\n",
    "\n",
    "![image](https://user-images.githubusercontent.com/8764683/60729871-af76b980-9f7e-11e9-8b8b-39d17c2984b8.png)\n",
    "\n",
    "**Reference**\n",
    "* [Github - Pytorch: how and when to use Module, Sequential, ModuleList and ModuleDict](https://github.com/FrancescoSaverioZuppichini/Pytorch-how-and-when-to-use-Module-Sequential-ModuleList-and-ModuleDict)\n",
    "* [PyTorch Community - When should I use nn.ModuleList and when should I use nn.Sequential?](https://discuss.pytorch.org/t/when-should-i-use-nn-modulelist-and-when-should-i-use-nn-sequential/5463)"
   ]
  },
  {
   "cell_type": "markdown",
   "metadata": {},
   "source": [
    "<!-- TEASER_END -->"
   ]
  },
  {
   "cell_type": "markdown",
   "metadata": {},
   "source": [
    "# Libraries"
   ]
  },
  {
   "cell_type": "code",
   "execution_count": 11,
   "metadata": {
    "ExecuteTime": {
     "end_time": "2019-07-05T14:00:21.853804Z",
     "start_time": "2019-07-05T14:00:21.850386Z"
    }
   },
   "outputs": [],
   "source": [
    "import torch\n",
    "from torch import nn\n",
    "import torch.nn.functional as F"
   ]
  },
  {
   "cell_type": "markdown",
   "metadata": {},
   "source": [
    "# Using `nn.Module`\n",
    "This way inherits `nn.Module` when creating a neural network class and specify each layers in `__init__` and define the order of layers and process in `forward`.\n",
    "\n"
   ]
  },
  {
   "cell_type": "markdown",
   "metadata": {},
   "source": [
    "## Template \n",
    "\n",
    "    \n"
   ]
  },
  {
   "cell_type": "code",
   "execution_count": 12,
   "metadata": {
    "ExecuteTime": {
     "end_time": "2019-07-05T14:00:24.736923Z",
     "start_time": "2019-07-05T14:00:24.730422Z"
    }
   },
   "outputs": [],
   "source": [
    "class ABC(nn.Module):\n",
    "    def __init__(self, param1, param2, param3):\n",
    "        # execute super class's __init__()\n",
    "        super().__init__()\n",
    "        \n",
    "        # Instanciate nn.Module class and assign as a member\n",
    "        self.abc = nn.XYZ(param1, param2)\n",
    "        self.edf = nn.PQR(param3)\n",
    "        \n",
    "        \n",
    "    def forward(self, x):\n",
    "        # write the sequence of layers and processes\n",
    "        # x -> abc -> edf -> output\n",
    "        x = self.abc(x)\n",
    "        x = self.edf(x)\n",
    "        return x"
   ]
  },
  {
   "cell_type": "markdown",
   "metadata": {},
   "source": [
    "## Example "
   ]
  },
  {
   "cell_type": "code",
   "execution_count": 21,
   "metadata": {
    "ExecuteTime": {
     "end_time": "2019-07-05T14:05:35.498295Z",
     "start_time": "2019-07-05T14:05:35.490613Z"
    }
   },
   "outputs": [],
   "source": [
    "class NeuralNetwork(nn.Module):\n",
    "    def __init__(self, n_input, n_unit1, n_output):\n",
    "        super().__init__()\n",
    "        \n",
    "        # Inputs to 1st hidden layer linear transformation \n",
    "        self.hidden = nn.Linear(n_input, n_unit1)\n",
    "        \n",
    "        self.sigmoid = nn.Sigmoid()\n",
    "\n",
    "        # Output layer \n",
    "        self.output = nn.Linear(n_unit1, n_output)\n",
    "        self.softmax = nn.Softmax(dim=1)\n",
    "\n",
    "        \n",
    "    def forward(self, x):\n",
    "        x = self.hidden(x) \n",
    "        x = self.sigmoid(x)\n",
    "        x = self.output(x)\n",
    "        x = self.softmax(x)\n",
    "        \n",
    "        return x"
   ]
  },
  {
   "cell_type": "code",
   "execution_count": 22,
   "metadata": {
    "ExecuteTime": {
     "end_time": "2019-07-05T14:05:36.205392Z",
     "start_time": "2019-07-05T14:05:36.199212Z"
    }
   },
   "outputs": [
    {
     "data": {
      "text/plain": [
       "NeuralNetwork(\n",
       "  (hidden): Linear(in_features=10, out_features=30, bias=True)\n",
       "  (sigmoid): Sigmoid()\n",
       "  (output): Linear(in_features=30, out_features=2, bias=True)\n",
       "  (softmax): Softmax()\n",
       ")"
      ]
     },
     "execution_count": 22,
     "metadata": {},
     "output_type": "execute_result"
    }
   ],
   "source": [
    "model = NeuralNetwork(n_input=10, n_unit1=30, n_output=2)\n",
    "model"
   ]
  },
  {
   "cell_type": "markdown",
   "metadata": {},
   "source": [
    "# Using `nn.Sequential`"
   ]
  },
  {
   "cell_type": "markdown",
   "metadata": {},
   "source": [
    "## Template"
   ]
  },
  {
   "cell_type": "code",
   "execution_count": null,
   "metadata": {},
   "outputs": [],
   "source": [
    "model = nn.Sequential(\n",
    "    nn.ABC(n_inputs, param1),\n",
    "    nn.DEF(),\n",
    "    nn.GHI()\n",
    ")"
   ]
  },
  {
   "cell_type": "markdown",
   "metadata": {},
   "source": [
    "## Example"
   ]
  },
  {
   "cell_type": "code",
   "execution_count": 23,
   "metadata": {
    "ExecuteTime": {
     "end_time": "2019-07-05T14:08:54.250411Z",
     "start_time": "2019-07-05T14:08:54.243413Z"
    }
   },
   "outputs": [
    {
     "data": {
      "text/plain": [
       "Sequential(\n",
       "  (0): Linear(in_features=10, out_features=30, bias=True)\n",
       "  (1): Sigmoid()\n",
       "  (2): Linear(in_features=30, out_features=2, bias=True)\n",
       "  (3): Softmax()\n",
       ")"
      ]
     },
     "execution_count": 23,
     "metadata": {},
     "output_type": "execute_result"
    }
   ],
   "source": [
    "model = nn.Sequential(\n",
    "    nn.Linear(10, 30),\n",
    "    nn.Sigmoid(),\n",
    "    nn.Linear(30, 2),\n",
    "    nn.Softmax()\n",
    ")\n",
    "model"
   ]
  },
  {
   "cell_type": "markdown",
   "metadata": {},
   "source": [
    "# Using `nn.ModuleList`"
   ]
  },
  {
   "cell_type": "markdown",
   "metadata": {},
   "source": [
    "## Template "
   ]
  },
  {
   "cell_type": "code",
   "execution_count": 24,
   "metadata": {
    "ExecuteTime": {
     "end_time": "2019-07-05T14:10:42.923747Z",
     "start_time": "2019-07-05T14:10:42.917752Z"
    }
   },
   "outputs": [],
   "source": [
    "class ABC(nn.Module):\n",
    "    def __init__(self, param1, param2, param3):\n",
    "        # execute super class's __init__()\n",
    "        super().__init__()\n",
    "        \n",
    "        # Instanciate nn.Module class and assign as a member\n",
    "        abc = nn.XYZ(param1, param2)\n",
    "        edf = nn.PQR(param3)\n",
    "        l = [abc, edf]\n",
    "        self.module_list = nn.ModuleList(l)\n",
    "        \n",
    "    def forward(self, x):\n",
    "        # write the sequence of layers and processes\n",
    "        # x -> abc -> edf -> output\n",
    "        for f in self.module_list:\n",
    "            x = f(x)\n",
    "        return x"
   ]
  },
  {
   "cell_type": "markdown",
   "metadata": {},
   "source": [
    "## Example"
   ]
  },
  {
   "cell_type": "code",
   "execution_count": 32,
   "metadata": {
    "ExecuteTime": {
     "end_time": "2019-07-05T14:41:18.741287Z",
     "start_time": "2019-07-05T14:41:18.734826Z"
    }
   },
   "outputs": [],
   "source": [
    "class NeuralNetwork(nn.Module):\n",
    "    def __init__(self, n_inputs, n_hidden_unit, n_output):\n",
    "        super().__init__()\n",
    "        l1 = nn.Linear(n_inputs, n_hidden_unit)\n",
    "        a1 = nn.Sigmoid()\n",
    "        l2 = nn.Linear(n_hidden_unit, n_output)\n",
    "        s = nn.Softmax(dim=1)\n",
    "        \n",
    "        l = [l1, a1, l2, s]\n",
    "        self.module_list = nn.ModuleList(l)\n",
    "\n",
    "    def forward(self, x):\n",
    "        for f in self.module_list:\n",
    "            x = f(x)\n",
    "        return x"
   ]
  },
  {
   "cell_type": "code",
   "execution_count": 33,
   "metadata": {
    "ExecuteTime": {
     "end_time": "2019-07-05T14:41:19.248675Z",
     "start_time": "2019-07-05T14:41:19.241810Z"
    }
   },
   "outputs": [
    {
     "data": {
      "text/plain": [
       "NeuralNetwork(\n",
       "  (module_list): ModuleList(\n",
       "    (0): Linear(in_features=10, out_features=30, bias=True)\n",
       "    (1): Sigmoid()\n",
       "    (2): Linear(in_features=30, out_features=2, bias=True)\n",
       "    (3): Softmax()\n",
       "  )\n",
       ")"
      ]
     },
     "execution_count": 33,
     "metadata": {},
     "output_type": "execute_result"
    }
   ],
   "source": [
    "model = NeuralNetwork(n_inputs=10, n_hidden_unit=30, n_output=2)\n",
    "model"
   ]
  }
 ],
 "metadata": {
  "kernelspec": {
   "display_name": "Python (py367)",
   "language": "python",
   "name": "py367"
  },
  "language_info": {
   "codemirror_mode": {
    "name": "ipython",
    "version": 3
   },
   "file_extension": ".py",
   "mimetype": "text/x-python",
   "name": "python",
   "nbconvert_exporter": "python",
   "pygments_lexer": "ipython3",
   "version": "3.6.7"
  },
  "nikola": {
   "category": "Machine Learning",
   "date": "2019-07-05 06:34:35 UTC-07:00",
   "description": "introduce 3 ways of creating a neural network in PyTorch",
   "link": "",
   "slug": "3-ways-of-creating-a-neural-network-in-pytorch",
   "tags": "PyTorch, Deep Learning, Sequential, ModuleList",
   "title": "3 ways of creating a neural network in PyTorch",
   "type": "text"
  },
  "toc": {
   "base_numbering": 1,
   "nav_menu": {},
   "number_sections": true,
   "sideBar": true,
   "skip_h1_title": false,
   "title_cell": "Table of Contents",
   "title_sidebar": "Contents",
   "toc_cell": false,
   "toc_position": {},
   "toc_section_display": true,
   "toc_window_display": false
  }
 },
 "nbformat": 4,
 "nbformat_minor": 2
}
