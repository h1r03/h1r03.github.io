{
 "cells": [
  {
   "cell_type": "markdown",
   "metadata": {},
   "source": [
    "# Goal\n",
    "This post aims to introduce how to use `cProfile` to measure the running time for each statement and find the bottleneck of your program.  "
   ]
  },
  {
   "cell_type": "markdown",
   "metadata": {},
   "source": [
    "# Libraries"
   ]
  },
  {
   "cell_type": "code",
   "execution_count": 1,
   "metadata": {
    "ExecuteTime": {
     "end_time": "2019-08-11T18:20:49.307391Z",
     "start_time": "2019-08-11T18:20:49.304736Z"
    }
   },
   "outputs": [],
   "source": [
    "import cProfile"
   ]
  },
  {
   "cell_type": "markdown",
   "metadata": {},
   "source": [
    "# Define your function"
   ]
  },
  {
   "cell_type": "markdown",
   "metadata": {},
   "source": [
    "## define your sub functions"
   ]
  },
  {
   "cell_type": "code",
   "execution_count": 37,
   "metadata": {
    "ExecuteTime": {
     "end_time": "2019-08-11T18:33:34.616375Z",
     "start_time": "2019-08-11T18:33:34.610233Z"
    }
   },
   "outputs": [],
   "source": [
    "def linear_func(n):\n",
    "    for i in range(n):\n",
    "        pass\n",
    "    return\n",
    "\n",
    "def quad_func(n):\n",
    "    for i in range(n):\n",
    "        for i in range(n):\n",
    "            pass\n",
    "\n",
    "    return\n",
    "\n",
    "def exp_func(n):\n",
    "    if n <= 1:\n",
    "        return n\n",
    "    return exp_func(n-1) + exp_func(n-2)"
   ]
  },
  {
   "cell_type": "code",
   "execution_count": 38,
   "metadata": {
    "ExecuteTime": {
     "end_time": "2019-08-11T18:33:34.777010Z",
     "start_time": "2019-08-11T18:33:34.773812Z"
    }
   },
   "outputs": [],
   "source": [
    "def main_func(n):\n",
    "    linear_func(n)\n",
    "    quad_func(n)\n",
    "    exp_func(n)"
   ]
  },
  {
   "cell_type": "markdown",
   "metadata": {},
   "source": [
    "# Profile the main function"
   ]
  },
  {
   "cell_type": "code",
   "execution_count": 40,
   "metadata": {
    "ExecuteTime": {
     "end_time": "2019-08-11T18:34:17.848123Z",
     "start_time": "2019-08-11T18:34:17.829564Z"
    },
    "scrolled": false
   },
   "outputs": [
    {
     "name": "stdout",
     "output_type": "stream",
     "text": [
      "         21897 function calls (7 primitive calls) in 0.006 seconds\n",
      "\n",
      "   Ordered by: standard name\n",
      "\n",
      "   ncalls  tottime  percall  cumtime  percall filename:lineno(function)\n",
      "        1    0.000    0.000    0.000    0.000 <ipython-input-37-393400eb079b>:1(linear_func)\n",
      "  21891/1    0.006    0.000    0.006    0.006 <ipython-input-37-393400eb079b>:13(exp_func)\n",
      "        1    0.000    0.000    0.000    0.000 <ipython-input-37-393400eb079b>:6(quad_func)\n",
      "        1    0.000    0.000    0.006    0.006 <ipython-input-38-1333493d3326>:1(main_func)\n",
      "        1    0.000    0.000    0.006    0.006 <string>:1(<module>)\n",
      "        1    0.000    0.000    0.006    0.006 {built-in method builtins.exec}\n",
      "        1    0.000    0.000    0.000    0.000 {method 'disable' of '_lsprof.Profiler' objects}\n",
      "\n",
      "\n"
     ]
    }
   ],
   "source": [
    "cProfile.run('main_func(n=20)')"
   ]
  },
  {
   "cell_type": "markdown",
   "metadata": {},
   "source": [
    "# How to read the result\n",
    "\n",
    "* **ncalls** is the number of **calls**.\n",
    "* **tottime** is a **tot**al of the **time** spent.\n",
    "* **percall** is the average time for each call, i.e., tottime divided by ncalls\n",
    "* **cumtime** is the **cum**ulative **time** spent.\n",
    "* (2nd) **percall**  is the quotient of cumtime divided by primitive calls\n",
    "* **filename:lineno(function)** indicates the information about the function with the format \"{file name}:{line number}{function name}\""
   ]
  }
 ],
 "metadata": {
  "kernelspec": {
   "display_name": "Python (py367)",
   "language": "python",
   "name": "py367"
  },
  "language_info": {
   "codemirror_mode": {
    "name": "ipython",
    "version": 3
   },
   "file_extension": ".py",
   "mimetype": "text/x-python",
   "name": "python",
   "nbconvert_exporter": "python",
   "pygments_lexer": "ipython3",
   "version": "3.6.7"
  },
  "nikola": {
   "category": "Coding",
   "date": "2019-08-11 11:18:59 UTC-07:00",
   "description": "",
   "link": "",
   "slug": "cprofile-examples-in-python",
   "tags": "profling, cProfile",
   "title": "cProfile Examples in Python",
   "type": "text"
  },
  "toc": {
   "base_numbering": 1,
   "nav_menu": {},
   "number_sections": true,
   "sideBar": true,
   "skip_h1_title": false,
   "title_cell": "Table of Contents",
   "title_sidebar": "Contents",
   "toc_cell": false,
   "toc_position": {},
   "toc_section_display": true,
   "toc_window_display": false
  }
 },
 "nbformat": 4,
 "nbformat_minor": 2
}
