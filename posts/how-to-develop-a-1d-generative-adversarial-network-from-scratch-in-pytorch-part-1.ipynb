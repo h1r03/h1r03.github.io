{
 "cells": [
  {
   "cell_type": "markdown",
   "metadata": {},
   "source": [
    "# Goal\n",
    "This post is inspired by the blog \"[Machine Learning Mastery -  How to Develop a 1D Generative Adversarial Network From Scratch in Keras](https://machinelearningmastery.com/how-to-develop-a-generative-adversarial-network-for-a-1-dimensional-function-from-scratch-in-keras/)\" written by Jason Brownlee, PhD. But to learn step-by-step, I will describe the same concept with PyTorch.\n",
    "\n",
    "\n",
    "This post will cover the followings: \n",
    "\n",
    "Part 1: \n",
    "* Select a One-Dimensional Function\n",
    "* Define a Discriminator Model\n",
    "\n",
    "\n",
    "\n",
    "\n",
    "**Reference**\n",
    "* [How to Develop a 1D Generative Adversarial Network From Scratch in Keras](https://machinelearningmastery.com/how-to-develop-a-generative-adversarial-network-for-a-1-dimensional-function-from-scratch-in-keras/)\n",
    "* [Wikipedia - Generative adversarial network (GAN)](https://en.wikipedia.org/wiki/Generative_adversarial_network)"
   ]
  },
  {
   "cell_type": "markdown",
   "metadata": {},
   "source": [
    "# Libraries"
   ]
  },
  {
   "cell_type": "code",
   "execution_count": 33,
   "metadata": {
    "ExecuteTime": {
     "end_time": "2019-07-02T13:55:03.462181Z",
     "start_time": "2019-07-02T13:55:03.453970Z"
    }
   },
   "outputs": [],
   "source": [
    "import pandas as pd\n",
    "import numpy as np\n",
    "import matplotlib.pyplot as plt\n",
    "%matplotlib inline\n",
    "\n",
    "# PyTorch\n",
    "import torch\n",
    "from torch import nn\n",
    "from torch import optim\n",
    "from torchviz import make_dot"
   ]
  },
  {
   "cell_type": "markdown",
   "metadata": {},
   "source": [
    "# Create a target 1-D function"
   ]
  },
  {
   "cell_type": "code",
   "execution_count": 3,
   "metadata": {
    "ExecuteTime": {
     "end_time": "2019-07-02T13:36:57.205781Z",
     "start_time": "2019-07-02T13:36:57.202572Z"
    }
   },
   "outputs": [],
   "source": [
    "def f(x):\n",
    "    return x **2"
   ]
  },
  {
   "cell_type": "code",
   "execution_count": 17,
   "metadata": {
    "ExecuteTime": {
     "end_time": "2019-07-02T13:41:35.139280Z",
     "start_time": "2019-07-02T13:41:34.904003Z"
    }
   },
   "outputs": [
    {
     "data": {
      "image/png": "[encoded data removed]",
      "text/plain": [
       "<Figure size 432x288 with 1 Axes>"
      ]
     },
     "metadata": {
      "needs_background": "light"
     },
     "output_type": "display_data"
    }
   ],
   "source": [
    "n = 100\n",
    "sigma = 10\n",
    "x = sigma * (np.random.random(size=n) - 0.5)\n",
    "plt.plot(x, f(x), '.');\n",
    "plt.title('Target function $f(x)$');\n",
    "plt.xlabel('randomly sampled x');\n",
    "plt.ylabel('$f(x)$');"
   ]
  },
  {
   "cell_type": "markdown",
   "metadata": {},
   "source": [
    "# Define a **Discriminator Model**\n",
    "The definition of a **discriminator** model is that it will classify the input data into **real or fake**\n"
   ]
  },
  {
   "cell_type": "code",
   "execution_count": 35,
   "metadata": {
    "ExecuteTime": {
     "end_time": "2019-07-02T13:56:28.510856Z",
     "start_time": "2019-07-02T13:56:28.503450Z"
    }
   },
   "outputs": [],
   "source": [
    "# Build a feed-forward network\n",
    "model = nn.Sequential(nn.Linear(2, 25),\n",
    "                      nn.ReLU(),\n",
    "                      nn.Sigmoid()\n",
    "                     )\n",
    "\n",
    "# Loss\n",
    "criterion = nn.CrossEntropyLoss()\n",
    "\n",
    "# Optimizer\n",
    "optimizer = optim.Adam(model.parameters(), lr=0.001)"
   ]
  },
  {
   "cell_type": "code",
   "execution_count": 36,
   "metadata": {
    "ExecuteTime": {
     "end_time": "2019-07-02T13:56:29.940727Z",
     "start_time": "2019-07-02T13:56:29.920854Z"
    }
   },
   "outputs": [
    {
     "data": {
      "image/svg+xml": [
       "<?xml version=\"1.0\" encoding=\"UTF-8\" standalone=\"no\"?>\n",
       "<!DOCTYPE svg PUBLIC \"-//W3C//DTD SVG 1.1//EN\"\n",
       " \"http://www.w3.org/Graphics/SVG/1.1/DTD/svg11.dtd\">\n",
       "<!-- Generated by graphviz version 2.40.1 (20161225.0304)\n",
       " -->\n",
       "<!-- Title: %3 Pages: 1 -->\n",
       "<svg width=\"152pt\" height=\"292pt\"\n",
       " viewBox=\"0.00 0.00 151.99 292.00\" xmlns=\"http://www.w3.org/2000/svg\" xmlns:xlink=\"http://www.w3.org/1999/xlink\">\n",
       "<g id=\"graph0\" class=\"graph\" transform=\"scale(1 1) rotate(0) translate(4 288)\">\n",
       "<title>%3</title>\n",
       "<polygon fill=\"#ffffff\" stroke=\"transparent\" points=\"-4,4 -4,-288 147.9858,-288 147.9858,4 -4,4\"/>\n",
       "<!-- 4870964168 -->\n",
       "<g id=\"node1\" class=\"node\">\n",
       "<title>4870964168</title>\n",
       "<polygon fill=\"#caff70\" stroke=\"#000000\" points=\"119.8165,-22.6036 14.1835,-22.6036 14.1835,.2036 119.8165,.2036 119.8165,-22.6036\"/>\n",
       "<text text-anchor=\"middle\" x=\"67\" y=\"-7.6\" font-family=\"Times,serif\" font-size=\"12.00\" fill=\"#000000\">SigmoidBackward</text>\n",
       "</g>\n",
       "<!-- 4870966520 -->\n",
       "<g id=\"node2\" class=\"node\">\n",
       "<title>4870966520</title>\n",
       "<polygon fill=\"#d3d3d3\" stroke=\"#000000\" points=\"126.7952,-81.0036 7.2048,-81.0036 7.2048,-58.1964 126.7952,-58.1964 126.7952,-81.0036\"/>\n",
       "<text text-anchor=\"middle\" x=\"67\" y=\"-66\" font-family=\"Times,serif\" font-size=\"12.00\" fill=\"#000000\">ThresholdBackward0</text>\n",
       "</g>\n",
       "<!-- 4870966520&#45;&gt;4870964168 -->\n",
       "<g id=\"edge1\" class=\"edge\">\n",
       "<title>4870966520&#45;&gt;4870964168</title>\n",
       "<path fill=\"none\" stroke=\"#000000\" d=\"M67,-58.3399C67,-51.0687 67,-41.3743 67,-32.6681\"/>\n",
       "<polygon fill=\"#000000\" stroke=\"#000000\" points=\"70.5001,-32.4255 67,-22.4255 63.5001,-32.4256 70.5001,-32.4255\"/>\n",
       "</g>\n",
       "<!-- 4870966072 -->\n",
       "<g id=\"node3\" class=\"node\">\n",
       "<title>4870966072</title>\n",
       "<polygon fill=\"#d3d3d3\" stroke=\"#000000\" points=\"118.9732,-139.4036 15.0268,-139.4036 15.0268,-116.5964 118.9732,-116.5964 118.9732,-139.4036\"/>\n",
       "<text text-anchor=\"middle\" x=\"67\" y=\"-124.4\" font-family=\"Times,serif\" font-size=\"12.00\" fill=\"#000000\">AddmmBackward</text>\n",
       "</g>\n",
       "<!-- 4870966072&#45;&gt;4870966520 -->\n",
       "<g id=\"edge2\" class=\"edge\">\n",
       "<title>4870966072&#45;&gt;4870966520</title>\n",
       "<path fill=\"none\" stroke=\"#000000\" d=\"M67,-116.7399C67,-109.4687 67,-99.7743 67,-91.0681\"/>\n",
       "<polygon fill=\"#000000\" stroke=\"#000000\" points=\"70.5001,-90.8255 67,-80.8255 63.5001,-90.8256 70.5001,-90.8255\"/>\n",
       "</g>\n",
       "<!-- 4870966296 -->\n",
       "<g id=\"node4\" class=\"node\">\n",
       "<title>4870966296</title>\n",
       "<polygon fill=\"#add8e6\" stroke=\"#000000\" points=\"54,-211.8022 0,-211.8022 0,-174.9978 54,-174.9978 54,-211.8022\"/>\n",
       "<text text-anchor=\"middle\" x=\"27\" y=\"-182.8\" font-family=\"Times,serif\" font-size=\"12.00\" fill=\"#000000\"> (25)</text>\n",
       "</g>\n",
       "<!-- 4870966296&#45;&gt;4870966072 -->\n",
       "<g id=\"edge3\" class=\"edge\">\n",
       "<title>4870966296&#45;&gt;4870966072</title>\n",
       "<path fill=\"none\" stroke=\"#000000\" d=\"M38.1422,-175.1825C43.303,-166.7446 49.4498,-156.6945 54.7416,-148.0424\"/>\n",
       "<polygon fill=\"#000000\" stroke=\"#000000\" points=\"57.8292,-149.7022 60.0611,-139.3451 51.8576,-146.0498 57.8292,-149.7022\"/>\n",
       "</g>\n",
       "<!-- 4870966240 -->\n",
       "<g id=\"node5\" class=\"node\">\n",
       "<title>4870966240</title>\n",
       "<polygon fill=\"#d3d3d3\" stroke=\"#000000\" points=\"143.9716,-204.8036 72.0284,-204.8036 72.0284,-181.9964 143.9716,-181.9964 143.9716,-204.8036\"/>\n",
       "<text text-anchor=\"middle\" x=\"108\" y=\"-189.8\" font-family=\"Times,serif\" font-size=\"12.00\" fill=\"#000000\">TBackward</text>\n",
       "</g>\n",
       "<!-- 4870966240&#45;&gt;4870966072 -->\n",
       "<g id=\"edge4\" class=\"edge\">\n",
       "<title>4870966240&#45;&gt;4870966072</title>\n",
       "<path fill=\"none\" stroke=\"#000000\" d=\"M100.8583,-182.0082C94.9792,-172.6303 86.5038,-159.111 79.5036,-147.9448\"/>\n",
       "<polygon fill=\"#000000\" stroke=\"#000000\" points=\"82.3369,-145.8749 74.0598,-139.2613 76.406,-149.5931 82.3369,-145.8749\"/>\n",
       "</g>\n",
       "<!-- 4940643408 -->\n",
       "<g id=\"node6\" class=\"node\">\n",
       "<title>4940643408</title>\n",
       "<polygon fill=\"#add8e6\" stroke=\"#000000\" points=\"135,-284.2022 81,-284.2022 81,-247.3978 135,-247.3978 135,-284.2022\"/>\n",
       "<text text-anchor=\"middle\" x=\"108\" y=\"-255.2\" font-family=\"Times,serif\" font-size=\"12.00\" fill=\"#000000\"> (25, 2)</text>\n",
       "</g>\n",
       "<!-- 4940643408&#45;&gt;4870966240 -->\n",
       "<g id=\"edge5\" class=\"edge\">\n",
       "<title>4940643408&#45;&gt;4870966240</title>\n",
       "<path fill=\"none\" stroke=\"#000000\" d=\"M108,-247.5304C108,-237.6862 108,-225.4752 108,-215.1439\"/>\n",
       "<polygon fill=\"#000000\" stroke=\"#000000\" points=\"111.5001,-214.872 108,-204.872 104.5001,-214.872 111.5001,-214.872\"/>\n",
       "</g>\n",
       "</g>\n",
       "</svg>\n"
      ],
      "text/plain": [
       "<graphviz.dot.Digraph at 0x122550cc0>"
      ]
     },
     "execution_count": 36,
     "metadata": {},
     "output_type": "execute_result"
    }
   ],
   "source": [
    "# Visualize this neural network\n",
    "x = torch.zeros(0, 2, dtype=torch.float, requires_grad=False)\n",
    "out = model(x)\n",
    "make_dot(out)"
   ]
  },
  {
   "cell_type": "markdown",
   "metadata": {},
   "source": [
    "# Create real and fake samples\n",
    "\n"
   ]
  },
  {
   "cell_type": "code",
   "execution_count": 79,
   "metadata": {
    "ExecuteTime": {
     "end_time": "2019-07-02T14:08:05.192397Z",
     "start_time": "2019-07-02T14:08:05.187167Z"
    }
   },
   "outputs": [],
   "source": [
    "def generate_samples(size=100, label='real'):\n",
    "    \"\"\"Generate samples with real or fake label\n",
    "    \"\"\"\n",
    "    x = np.random.randn(100, 1)\n",
    "    x2 = f(x)\n",
    "    \n",
    "    y = np.ones((size, 1)) * (label == 'real')\n",
    "    return np.hstack([x, x2]), y\n",
    "    "
   ]
  },
  {
   "cell_type": "code",
   "execution_count": 80,
   "metadata": {
    "ExecuteTime": {
     "end_time": "2019-07-02T14:08:05.584673Z",
     "start_time": "2019-07-02T14:08:05.581100Z"
    }
   },
   "outputs": [],
   "source": [
    "X, y = generate_samples()"
   ]
  },
  {
   "cell_type": "code",
   "execution_count": 82,
   "metadata": {
    "ExecuteTime": {
     "end_time": "2019-07-02T14:08:48.437728Z",
     "start_time": "2019-07-02T14:08:48.432020Z"
    }
   },
   "outputs": [
    {
     "data": {
      "text/plain": [
       "array([[ 1.2483621 ,  1.55840793],\n",
       "       [ 0.57980381,  0.33617245],\n",
       "       [-0.06718955,  0.00451444],\n",
       "       [-1.95352245,  3.81624995],\n",
       "       [-1.14922801,  1.32072501]])"
      ]
     },
     "execution_count": 82,
     "metadata": {},
     "output_type": "execute_result"
    }
   ],
   "source": [
    "x[:5]"
   ]
  },
  {
   "cell_type": "code",
   "execution_count": 83,
   "metadata": {
    "ExecuteTime": {
     "end_time": "2019-07-02T14:08:50.069119Z",
     "start_time": "2019-07-02T14:08:50.063586Z"
    }
   },
   "outputs": [
    {
     "data": {
      "text/plain": [
       "array([[1.],\n",
       "       [1.],\n",
       "       [1.],\n",
       "       [1.],\n",
       "       [1.]])"
      ]
     },
     "execution_count": 83,
     "metadata": {},
     "output_type": "execute_result"
    }
   ],
   "source": [
    "y[:5]"
   ]
  }
 ],
 "metadata": {
  "kernelspec": {
   "display_name": "Python (py367)",
   "language": "python",
   "name": "py367"
  },
  "language_info": {
   "codemirror_mode": {
    "name": "ipython",
    "version": 3
   },
   "file_extension": ".py",
   "mimetype": "text/x-python",
   "name": "python",
   "nbconvert_exporter": "python",
   "pygments_lexer": "ipython3",
   "version": "3.6.7"
  },
  "nikola": {
   "category": "Machine Learning",
   "date": "2019-07-02 06:27:49 UTC-07:00",
   "description": "introduce how to develop a 1d generative adversarial network (GAN) in PyTorch",
   "link": "",
   "slug": "how-to-develop-a-1d-generative-adversarial-network-from-scratch-in-pytorch-part-1",
   "tags": "GAN, scratch, 1D, Deep Learning, PyTorch",
   "title": "How to Develop a 1D Generative Adversarial Network From Scratch in PyTorch (Part 1)",
   "type": "text"
  },
  "toc": {
   "base_numbering": 1,
   "nav_menu": {},
   "number_sections": true,
   "sideBar": true,
   "skip_h1_title": false,
   "title_cell": "Table of Contents",
   "title_sidebar": "Contents",
   "toc_cell": false,
   "toc_position": {},
   "toc_section_display": true,
   "toc_window_display": false
  }
 },
 "nbformat": 4,
 "nbformat_minor": 2
}
