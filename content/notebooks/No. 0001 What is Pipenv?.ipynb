{
 "cells": [
  {
   "cell_type": "markdown",
   "metadata": {},
   "source": [
    "# What is `Pipenv`?\n",
    "\n",
    "`Pipenv` is a package management tool for Python that has 2 important benefits:\n",
    "1. automatically creates and manages a virtualenv so that you do not have to manage virtualenv by yourself\n",
    "\n",
    "2. automatically add/delete packages from your `Pipfile` when you install/uninstall packages. \n",
    "\n"
   ]
  },
  {
   "cell_type": "markdown",
   "metadata": {},
   "source": [
    "## What is the practical benefits? \n",
    "\n",
    "1. No need to use `pip` and `virtualenv` seperately (what about `conda` ? see [Advanced Usage of Pipenv - pipenv and conda](https://docs.pipenv.org/advanced/#pipenv-and-conda))\n",
    "2. No need to manage `requirements.txt` for different development stages i.e., dev/production. `Pipenv` can manage the list of dependencies as `Pipfile` and finalized one as `Pipfile.lock`.\n",
    "\n",
    "\n"
   ]
  },
  {
   "cell_type": "markdown",
   "metadata": {},
   "source": [
    "# How to install?\n",
    "\n",
    "For MacOS, it was very straightforward, and it worked smoothly.\n",
    "\n",
    "`\n",
    "brew install pipenv\n",
    "`\n"
   ]
  },
  {
   "cell_type": "markdown",
   "metadata": {},
   "source": [
    "#  Reference\n",
    "\n",
    "* [Pipenv github](https://github.com/pypa/pipenv/)\n",
    "* [Pipenv documentation](https://docs.pipenv.org/)"
   ]
  }
 ],
 "metadata": {
  "kernelspec": {
   "display_name": "Python 3",
   "language": "python",
   "name": "python3"
  },
  "language_info": {
   "codemirror_mode": {
    "name": "ipython",
    "version": 3
   },
   "file_extension": ".py",
   "mimetype": "text/x-python",
   "name": "python",
   "nbconvert_exporter": "python",
   "pygments_lexer": "ipython3",
   "version": "3.6.3"
  }
 },
 "nbformat": 4,
 "nbformat_minor": 2
}
